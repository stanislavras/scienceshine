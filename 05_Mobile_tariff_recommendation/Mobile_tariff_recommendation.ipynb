{
  "cells": [
    {
      "cell_type": "markdown",
      "metadata": {
        "id": "DORdWQSjBBvE"
      },
      "source": [
        "# Рекомендация тарифов"
      ]
    },
    {
      "cell_type": "markdown",
      "metadata": {
        "id": "UIpMimkqBBvL"
      },
      "source": [
        "В нашем распоряжении данные о поведении клиентов, которые уже перешли на определенный тарифы. Нужно построить модель для задачи классификации, которая выберет подходящий тариф.\n",
        "\n",
        "Построим модель со значением *accuracy* по крайней мере 0.75."
      ]
    },
    {
      "cell_type": "markdown",
      "metadata": {
        "id": "4t6QXzKAJGfW"
      },
      "source": [
        "**Цели исследования:**\n",
        "Необходимо построить модель для задачи классификации, которая выберет подходящий тариф."
      ]
    },
    {
      "cell_type": "markdown",
      "metadata": {
        "id": "M8yBy9f_JRoY"
      },
      "source": [
        "**Описание данных:**\n",
        "Датасет с информацией о клиентах, уже перешедших на один из заданных тарифов: количество звонков, их суммарная длительность, израсходованный интернет-трафик и т.д."
      ]
    },
    {
      "cell_type": "markdown",
      "metadata": {
        "id": "OMpXQ1n3KHoQ"
      },
      "source": [
        "**План работы:**\n",
        "\n",
        "1 ***Откроем и изучим файл***\n",
        "\n",
        "1.1 Импортируем необходимые библиотеки, считаем данные из csv-файла в датафрейм, сохраним в переменную df и выведем ее на экран\n",
        "\n",
        "1.2 Выведем основную информацию о датафрейме\n",
        "\n",
        "2 ***Разбивка данных на выборки***\n",
        "\n",
        "3 ***Исследование моделей***\n",
        "\n",
        "3.1 Создадим переменные с признаками и целевым признаком для тренировочной и валидационной выборок\n",
        "\n",
        "3.2 Исследуем модель, обученную при помощи алгоритма Decision Tree\n",
        "\n",
        "3.3 Исследуем модель, обученную при помощи алгоритма Random Forest\n",
        "\n",
        "3.4 Исследуем модель, обученную при помощи алгоритма Logistic Regression\n",
        "\n",
        "4 ***Проверка модели на тестовой выборке***\n",
        "\n",
        "4.1 Создадим переменные с признаками и целевым признаком для тестовой выборки\n",
        "\n",
        "4.2 Проверим выбранную модель на тестовой выборке\n",
        "\n",
        "5 ***Общий вывод***"
      ]
    },
    {
      "cell_type": "markdown",
      "metadata": {
        "id": "YqGYvR7jBBvN"
      },
      "source": [
        "## Откроем и изучим файл"
      ]
    },
    {
      "cell_type": "markdown",
      "metadata": {
        "id": "xEk37ot9CmL0"
      },
      "source": [
        "**1.1 Импортируем необходимые библиотеки, считаем данные из csv-файла в датафрейм, сохраним в переменную df и выведем ее на экран**"
      ]
    },
    {
      "cell_type": "code",
      "execution_count": 1,
      "metadata": {
        "id": "-z920hUoBBvP"
      },
      "outputs": [],
      "source": [
        "import pandas as pd\n",
        "from sklearn.model_selection import train_test_split\n",
        "from sklearn.tree import DecisionTreeClassifier\n",
        "from sklearn.metrics import accuracy_score\n",
        "from sklearn.ensemble import RandomForestClassifier\n",
        "from sklearn.linear_model import LogisticRegression"
      ]
    },
    {
      "cell_type": "code",
      "execution_count": 2,
      "metadata": {
        "colab": {
          "base_uri": "https://localhost:8080/",
          "height": 206
        },
        "id": "GRyDPyfACWVv",
        "outputId": "cc0eb4fb-77fe-459d-ae0e-83bcf2dddaeb"
      },
      "outputs": [
        {
          "output_type": "execute_result",
          "data": {
            "text/plain": [
              "   calls  minutes  messages   mb_used  is_ultra\n",
              "0   40.0   311.90      83.0  19915.42         0\n",
              "1   85.0   516.75      56.0  22696.96         0\n",
              "2   77.0   467.66      86.0  21060.45         0\n",
              "3  106.0   745.53      81.0   8437.39         1\n",
              "4   66.0   418.74       1.0  14502.75         0"
            ],
            "text/html": [
              "\n",
              "  <div id=\"df-e2c4b0f1-04be-433e-adc7-3957b2dd9bdd\" class=\"colab-df-container\">\n",
              "    <div>\n",
              "<style scoped>\n",
              "    .dataframe tbody tr th:only-of-type {\n",
              "        vertical-align: middle;\n",
              "    }\n",
              "\n",
              "    .dataframe tbody tr th {\n",
              "        vertical-align: top;\n",
              "    }\n",
              "\n",
              "    .dataframe thead th {\n",
              "        text-align: right;\n",
              "    }\n",
              "</style>\n",
              "<table border=\"1\" class=\"dataframe\">\n",
              "  <thead>\n",
              "    <tr style=\"text-align: right;\">\n",
              "      <th></th>\n",
              "      <th>calls</th>\n",
              "      <th>minutes</th>\n",
              "      <th>messages</th>\n",
              "      <th>mb_used</th>\n",
              "      <th>is_ultra</th>\n",
              "    </tr>\n",
              "  </thead>\n",
              "  <tbody>\n",
              "    <tr>\n",
              "      <th>0</th>\n",
              "      <td>40.0</td>\n",
              "      <td>311.90</td>\n",
              "      <td>83.0</td>\n",
              "      <td>19915.42</td>\n",
              "      <td>0</td>\n",
              "    </tr>\n",
              "    <tr>\n",
              "      <th>1</th>\n",
              "      <td>85.0</td>\n",
              "      <td>516.75</td>\n",
              "      <td>56.0</td>\n",
              "      <td>22696.96</td>\n",
              "      <td>0</td>\n",
              "    </tr>\n",
              "    <tr>\n",
              "      <th>2</th>\n",
              "      <td>77.0</td>\n",
              "      <td>467.66</td>\n",
              "      <td>86.0</td>\n",
              "      <td>21060.45</td>\n",
              "      <td>0</td>\n",
              "    </tr>\n",
              "    <tr>\n",
              "      <th>3</th>\n",
              "      <td>106.0</td>\n",
              "      <td>745.53</td>\n",
              "      <td>81.0</td>\n",
              "      <td>8437.39</td>\n",
              "      <td>1</td>\n",
              "    </tr>\n",
              "    <tr>\n",
              "      <th>4</th>\n",
              "      <td>66.0</td>\n",
              "      <td>418.74</td>\n",
              "      <td>1.0</td>\n",
              "      <td>14502.75</td>\n",
              "      <td>0</td>\n",
              "    </tr>\n",
              "  </tbody>\n",
              "</table>\n",
              "</div>\n",
              "    <div class=\"colab-df-buttons\">\n",
              "\n",
              "  <div class=\"colab-df-container\">\n",
              "    <button class=\"colab-df-convert\" onclick=\"convertToInteractive('df-e2c4b0f1-04be-433e-adc7-3957b2dd9bdd')\"\n",
              "            title=\"Convert this dataframe to an interactive table.\"\n",
              "            style=\"display:none;\">\n",
              "\n",
              "  <svg xmlns=\"http://www.w3.org/2000/svg\" height=\"24px\" viewBox=\"0 -960 960 960\">\n",
              "    <path d=\"M120-120v-720h720v720H120Zm60-500h600v-160H180v160Zm220 220h160v-160H400v160Zm0 220h160v-160H400v160ZM180-400h160v-160H180v160Zm440 0h160v-160H620v160ZM180-180h160v-160H180v160Zm440 0h160v-160H620v160Z\"/>\n",
              "  </svg>\n",
              "    </button>\n",
              "\n",
              "  <style>\n",
              "    .colab-df-container {\n",
              "      display:flex;\n",
              "      gap: 12px;\n",
              "    }\n",
              "\n",
              "    .colab-df-convert {\n",
              "      background-color: #E8F0FE;\n",
              "      border: none;\n",
              "      border-radius: 50%;\n",
              "      cursor: pointer;\n",
              "      display: none;\n",
              "      fill: #1967D2;\n",
              "      height: 32px;\n",
              "      padding: 0 0 0 0;\n",
              "      width: 32px;\n",
              "    }\n",
              "\n",
              "    .colab-df-convert:hover {\n",
              "      background-color: #E2EBFA;\n",
              "      box-shadow: 0px 1px 2px rgba(60, 64, 67, 0.3), 0px 1px 3px 1px rgba(60, 64, 67, 0.15);\n",
              "      fill: #174EA6;\n",
              "    }\n",
              "\n",
              "    .colab-df-buttons div {\n",
              "      margin-bottom: 4px;\n",
              "    }\n",
              "\n",
              "    [theme=dark] .colab-df-convert {\n",
              "      background-color: #3B4455;\n",
              "      fill: #D2E3FC;\n",
              "    }\n",
              "\n",
              "    [theme=dark] .colab-df-convert:hover {\n",
              "      background-color: #434B5C;\n",
              "      box-shadow: 0px 1px 3px 1px rgba(0, 0, 0, 0.15);\n",
              "      filter: drop-shadow(0px 1px 2px rgba(0, 0, 0, 0.3));\n",
              "      fill: #FFFFFF;\n",
              "    }\n",
              "  </style>\n",
              "\n",
              "    <script>\n",
              "      const buttonEl =\n",
              "        document.querySelector('#df-e2c4b0f1-04be-433e-adc7-3957b2dd9bdd button.colab-df-convert');\n",
              "      buttonEl.style.display =\n",
              "        google.colab.kernel.accessAllowed ? 'block' : 'none';\n",
              "\n",
              "      async function convertToInteractive(key) {\n",
              "        const element = document.querySelector('#df-e2c4b0f1-04be-433e-adc7-3957b2dd9bdd');\n",
              "        const dataTable =\n",
              "          await google.colab.kernel.invokeFunction('convertToInteractive',\n",
              "                                                    [key], {});\n",
              "        if (!dataTable) return;\n",
              "\n",
              "        const docLinkHtml = 'Like what you see? Visit the ' +\n",
              "          '<a target=\"_blank\" href=https://colab.research.google.com/notebooks/data_table.ipynb>data table notebook</a>'\n",
              "          + ' to learn more about interactive tables.';\n",
              "        element.innerHTML = '';\n",
              "        dataTable['output_type'] = 'display_data';\n",
              "        await google.colab.output.renderOutput(dataTable, element);\n",
              "        const docLink = document.createElement('div');\n",
              "        docLink.innerHTML = docLinkHtml;\n",
              "        element.appendChild(docLink);\n",
              "      }\n",
              "    </script>\n",
              "  </div>\n",
              "\n",
              "\n",
              "<div id=\"df-1ad52d6f-2b21-4169-9a8e-cccbadd682ac\">\n",
              "  <button class=\"colab-df-quickchart\" onclick=\"quickchart('df-1ad52d6f-2b21-4169-9a8e-cccbadd682ac')\"\n",
              "            title=\"Suggest charts.\"\n",
              "            style=\"display:none;\">\n",
              "\n",
              "<svg xmlns=\"http://www.w3.org/2000/svg\" height=\"24px\"viewBox=\"0 0 24 24\"\n",
              "     width=\"24px\">\n",
              "    <g>\n",
              "        <path d=\"M19 3H5c-1.1 0-2 .9-2 2v14c0 1.1.9 2 2 2h14c1.1 0 2-.9 2-2V5c0-1.1-.9-2-2-2zM9 17H7v-7h2v7zm4 0h-2V7h2v10zm4 0h-2v-4h2v4z\"/>\n",
              "    </g>\n",
              "</svg>\n",
              "  </button>\n",
              "\n",
              "<style>\n",
              "  .colab-df-quickchart {\n",
              "      --bg-color: #E8F0FE;\n",
              "      --fill-color: #1967D2;\n",
              "      --hover-bg-color: #E2EBFA;\n",
              "      --hover-fill-color: #174EA6;\n",
              "      --disabled-fill-color: #AAA;\n",
              "      --disabled-bg-color: #DDD;\n",
              "  }\n",
              "\n",
              "  [theme=dark] .colab-df-quickchart {\n",
              "      --bg-color: #3B4455;\n",
              "      --fill-color: #D2E3FC;\n",
              "      --hover-bg-color: #434B5C;\n",
              "      --hover-fill-color: #FFFFFF;\n",
              "      --disabled-bg-color: #3B4455;\n",
              "      --disabled-fill-color: #666;\n",
              "  }\n",
              "\n",
              "  .colab-df-quickchart {\n",
              "    background-color: var(--bg-color);\n",
              "    border: none;\n",
              "    border-radius: 50%;\n",
              "    cursor: pointer;\n",
              "    display: none;\n",
              "    fill: var(--fill-color);\n",
              "    height: 32px;\n",
              "    padding: 0;\n",
              "    width: 32px;\n",
              "  }\n",
              "\n",
              "  .colab-df-quickchart:hover {\n",
              "    background-color: var(--hover-bg-color);\n",
              "    box-shadow: 0 1px 2px rgba(60, 64, 67, 0.3), 0 1px 3px 1px rgba(60, 64, 67, 0.15);\n",
              "    fill: var(--button-hover-fill-color);\n",
              "  }\n",
              "\n",
              "  .colab-df-quickchart-complete:disabled,\n",
              "  .colab-df-quickchart-complete:disabled:hover {\n",
              "    background-color: var(--disabled-bg-color);\n",
              "    fill: var(--disabled-fill-color);\n",
              "    box-shadow: none;\n",
              "  }\n",
              "\n",
              "  .colab-df-spinner {\n",
              "    border: 2px solid var(--fill-color);\n",
              "    border-color: transparent;\n",
              "    border-bottom-color: var(--fill-color);\n",
              "    animation:\n",
              "      spin 1s steps(1) infinite;\n",
              "  }\n",
              "\n",
              "  @keyframes spin {\n",
              "    0% {\n",
              "      border-color: transparent;\n",
              "      border-bottom-color: var(--fill-color);\n",
              "      border-left-color: var(--fill-color);\n",
              "    }\n",
              "    20% {\n",
              "      border-color: transparent;\n",
              "      border-left-color: var(--fill-color);\n",
              "      border-top-color: var(--fill-color);\n",
              "    }\n",
              "    30% {\n",
              "      border-color: transparent;\n",
              "      border-left-color: var(--fill-color);\n",
              "      border-top-color: var(--fill-color);\n",
              "      border-right-color: var(--fill-color);\n",
              "    }\n",
              "    40% {\n",
              "      border-color: transparent;\n",
              "      border-right-color: var(--fill-color);\n",
              "      border-top-color: var(--fill-color);\n",
              "    }\n",
              "    60% {\n",
              "      border-color: transparent;\n",
              "      border-right-color: var(--fill-color);\n",
              "    }\n",
              "    80% {\n",
              "      border-color: transparent;\n",
              "      border-right-color: var(--fill-color);\n",
              "      border-bottom-color: var(--fill-color);\n",
              "    }\n",
              "    90% {\n",
              "      border-color: transparent;\n",
              "      border-bottom-color: var(--fill-color);\n",
              "    }\n",
              "  }\n",
              "</style>\n",
              "\n",
              "  <script>\n",
              "    async function quickchart(key) {\n",
              "      const quickchartButtonEl =\n",
              "        document.querySelector('#' + key + ' button');\n",
              "      quickchartButtonEl.disabled = true;  // To prevent multiple clicks.\n",
              "      quickchartButtonEl.classList.add('colab-df-spinner');\n",
              "      try {\n",
              "        const charts = await google.colab.kernel.invokeFunction(\n",
              "            'suggestCharts', [key], {});\n",
              "      } catch (error) {\n",
              "        console.error('Error during call to suggestCharts:', error);\n",
              "      }\n",
              "      quickchartButtonEl.classList.remove('colab-df-spinner');\n",
              "      quickchartButtonEl.classList.add('colab-df-quickchart-complete');\n",
              "    }\n",
              "    (() => {\n",
              "      let quickchartButtonEl =\n",
              "        document.querySelector('#df-1ad52d6f-2b21-4169-9a8e-cccbadd682ac button');\n",
              "      quickchartButtonEl.style.display =\n",
              "        google.colab.kernel.accessAllowed ? 'block' : 'none';\n",
              "    })();\n",
              "  </script>\n",
              "</div>\n",
              "    </div>\n",
              "  </div>\n"
            ]
          },
          "metadata": {},
          "execution_count": 2
        }
      ],
      "source": [
        "df = pd.read_csv('https://code.s3.yandex.net/datasets/users_behavior.csv')\n",
        "\n",
        "df.head()"
      ]
    },
    {
      "cell_type": "markdown",
      "metadata": {
        "id": "miVMXP6CC1s4"
      },
      "source": [
        "**1.2 Выведем основную информацию о датафрейме**"
      ]
    },
    {
      "cell_type": "code",
      "execution_count": 3,
      "metadata": {
        "colab": {
          "base_uri": "https://localhost:8080/"
        },
        "id": "I1rQKgVMFy5H",
        "outputId": "7e21aa15-5a2a-4e64-a9be-944d9d9382c3"
      },
      "outputs": [
        {
          "output_type": "stream",
          "name": "stdout",
          "text": [
            "<class 'pandas.core.frame.DataFrame'>\n",
            "RangeIndex: 3214 entries, 0 to 3213\n",
            "Data columns (total 5 columns):\n",
            " #   Column    Non-Null Count  Dtype  \n",
            "---  ------    --------------  -----  \n",
            " 0   calls     3214 non-null   float64\n",
            " 1   minutes   3214 non-null   float64\n",
            " 2   messages  3214 non-null   float64\n",
            " 3   mb_used   3214 non-null   float64\n",
            " 4   is_ultra  3214 non-null   int64  \n",
            "dtypes: float64(4), int64(1)\n",
            "memory usage: 125.7 KB\n"
          ]
        }
      ],
      "source": [
        "df.info()"
      ]
    },
    {
      "cell_type": "markdown",
      "metadata": {
        "id": "UzFKbP9bBBvR"
      },
      "source": [
        "## Разбивка данных на выборки"
      ]
    },
    {
      "cell_type": "code",
      "execution_count": 4,
      "metadata": {
        "id": "jHWKZ3ZBBBvS"
      },
      "outputs": [],
      "source": [
        "# Разобьем датасет на выборку df_1 и тестовую выборку df_test:\n",
        "\n",
        "df_1, df_test = train_test_split(df, test_size=0.25, random_state=12345)"
      ]
    },
    {
      "cell_type": "code",
      "execution_count": 5,
      "metadata": {
        "id": "etNiiU5yWw4B"
      },
      "outputs": [],
      "source": [
        "# Разобьем df_1 на тренировочную и валидационную выборки:\n",
        "\n",
        "df_train, df_valid = train_test_split(df_1, test_size=0.25, random_state=12345)"
      ]
    },
    {
      "cell_type": "markdown",
      "metadata": {
        "id": "z6nJCcPoBBvS"
      },
      "source": [
        "## Исследование моделей"
      ]
    },
    {
      "cell_type": "markdown",
      "metadata": {
        "id": "TL62BdAkDAhm"
      },
      "source": [
        "**3.1 Создадим переменные с признаками и целевым признаком для тренировочной и валидационной выборок**"
      ]
    },
    {
      "cell_type": "code",
      "execution_count": 6,
      "metadata": {
        "id": "UQffPsyuBBvT"
      },
      "outputs": [],
      "source": [
        "features_train = df_train.drop(['is_ultra'], axis=1)\n",
        "target_train = df_train['is_ultra']\n",
        "features_valid = df_valid.drop(['is_ultra'], axis=1)\n",
        "target_valid = df_valid['is_ultra']"
      ]
    },
    {
      "cell_type": "markdown",
      "metadata": {
        "id": "cPQ3C8yEDuCR"
      },
      "source": [
        "**3.2 Исследуем модель, обученную при помощи алгоритма Decision Tree**"
      ]
    },
    {
      "cell_type": "code",
      "execution_count": 7,
      "metadata": {
        "colab": {
          "base_uri": "https://localhost:8080/"
        },
        "id": "2kKQhM7kcWR2",
        "outputId": "9397cfe1-26aa-4771-8188-9846b560fe12"
      },
      "outputs": [
        {
          "output_type": "stream",
          "name": "stdout",
          "text": [
            "max_depth = 1 : 0.7495854063018242\n",
            "max_depth = 2 : 0.7761194029850746\n",
            "max_depth = 3 : 0.7943615257048093\n",
            "max_depth = 4 : 0.7893864013266998\n",
            "max_depth = 5 : 0.7877280265339967\n"
          ]
        }
      ],
      "source": [
        "# Создадим цикл для перебора значения гиперпараметра max_depth от 1 до 5-ти:\n",
        "for depth in range(1, 6):\n",
        "\n",
        "# Обучим модель на тренировочной выборке:\n",
        "    model = DecisionTreeClassifier(random_state=12345, max_depth=depth)\n",
        "    model.fit(features_train, target_train)\n",
        "\n",
        "# Применим ее к валидационной выборке:\n",
        "    predictions_valid = model.predict(features_valid)\n",
        "\n",
        "# Выведем на экран оценку accuracy для каждого значения max_depth:\n",
        "    print(\"max_depth =\", depth, \": \", end='')\n",
        "    print(accuracy_score(target_valid, predictions_valid))"
      ]
    },
    {
      "cell_type": "markdown",
      "metadata": {
        "id": "xSutyKgeEUM3"
      },
      "source": [
        "**3.3 Исследуем модель, обученную при помощи алгоритма Random Forest**"
      ]
    },
    {
      "cell_type": "code",
      "execution_count": 8,
      "metadata": {
        "colab": {
          "base_uri": "https://localhost:8080/"
        },
        "id": "arkmBLWaexSu",
        "outputId": "9a05f742-7c95-476e-b9e3-9a3c3b8dc799"
      },
      "outputs": [
        {
          "output_type": "stream",
          "name": "stdout",
          "text": [
            "n_estimators = 1 : 0.736318407960199\n",
            "n_estimators = 2 : 0.7711442786069652\n",
            "n_estimators = 3 : 0.7661691542288557\n",
            "n_estimators = 4 : 0.7827529021558872\n",
            "n_estimators = 5 : 0.7810945273631841\n",
            "n_estimators = 6 : 0.7993366500829188\n",
            "n_estimators = 7 : 0.7976782752902156\n",
            "n_estimators = 8 : 0.7943615257048093\n",
            "n_estimators = 9 : 0.7943615257048093\n",
            "n_estimators = 10 : 0.7943615257048093\n"
          ]
        }
      ],
      "source": [
        "# Создадим цикл для перебора значения гиперпараметра est от 1 до 11-ти:\n",
        "for est in range(1, 11):\n",
        "\n",
        "    model = RandomForestClassifier(random_state=12345, n_estimators=est)\n",
        "    model.fit(features_train, target_train)\n",
        "\n",
        "    predictions_valid = model.predict(features_valid)\n",
        "\n",
        "# Выведем на экран оценку accuracy для каждого значения n_estimators:\n",
        "    print(\"n_estimators =\", est, \": \", end='')\n",
        "    print(accuracy_score(target_valid, predictions_valid))"
      ]
    },
    {
      "cell_type": "markdown",
      "metadata": {
        "id": "dvBoJMVCEdDA"
      },
      "source": [
        "**3.4 Исследуем модель, обученную при помощи алгоритма Logistic Regression**"
      ]
    },
    {
      "cell_type": "code",
      "execution_count": 9,
      "metadata": {
        "colab": {
          "base_uri": "https://localhost:8080/"
        },
        "id": "TSdrQGt50h7k",
        "outputId": "98a77283-54ba-4b8a-b9b7-2d2f47fea145"
      },
      "outputs": [
        {
          "output_type": "stream",
          "name": "stdout",
          "text": [
            "0.7943615257048093\n"
          ]
        }
      ],
      "source": [
        "model = LogisticRegression(random_state=12345, solver='lbfgs', max_iter=1000)\n",
        "model.fit(features_train, target_train)\n",
        "\n",
        "model.predict(features_valid)\n",
        "\n",
        "print(accuracy_score(target_valid, predictions_valid))"
      ]
    },
    {
      "cell_type": "markdown",
      "metadata": {
        "id": "NaPPiksv8Kfn"
      },
      "source": [
        "**Вывод:**\n",
        "\n",
        "К тренировочной выборке были применены следующие алгоритмы классификации:\n",
        "\n",
        "1) Решающее дерево - с перебором гиперпараметра depth от 1 до 5-ти;\n",
        "\n",
        "2) Случайный лес - с перебором гиперпараметра n_estimators от 1 до 10-ти;\n",
        "\n",
        "3) Логистическая регрессия.\n",
        "\n",
        "В результате проверки обученных моделей на валидационной выборке, наилучшим образом себя показал алгоритм Random Forest с n_estimators=6. При оценке по метрике качества значение accuracy составило 0.7993366500829188"
      ]
    },
    {
      "cell_type": "markdown",
      "metadata": {
        "id": "yKi7MZtOBBvU"
      },
      "source": [
        "## Проверка модели на тестовой выборке"
      ]
    },
    {
      "cell_type": "markdown",
      "metadata": {
        "id": "Lo1UD8reEq__"
      },
      "source": [
        "**4.1 Создадим переменные с признаками и целевым признаком для тестовой выборки**"
      ]
    },
    {
      "cell_type": "code",
      "execution_count": 10,
      "metadata": {
        "id": "y7d0k9Fa4a6n"
      },
      "outputs": [],
      "source": [
        "features_test = df_test.drop(['is_ultra'], axis=1)\n",
        "target_test = df_test['is_ultra']"
      ]
    },
    {
      "cell_type": "markdown",
      "metadata": {
        "id": "2hqkgszCEyQ8"
      },
      "source": [
        "**4.2 Проверим выбранную модель на тестовой выборке**"
      ]
    },
    {
      "cell_type": "code",
      "execution_count": 11,
      "metadata": {
        "colab": {
          "base_uri": "https://localhost:8080/"
        },
        "id": "UoCWYOKzBBvV",
        "outputId": "32824980-b841-46a4-b8b7-41d1960aa0e2"
      },
      "outputs": [
        {
          "output_type": "stream",
          "name": "stdout",
          "text": [
            "0.7736318407960199\n"
          ]
        }
      ],
      "source": [
        "model = RandomForestClassifier(random_state=12345, n_estimators=6)\n",
        "\n",
        "model.fit(features_train, target_train)\n",
        "\n",
        "predictions_test = model.predict(features_test)\n",
        "\n",
        "print(accuracy_score(target_test, predictions_test))"
      ]
    },
    {
      "cell_type": "markdown",
      "metadata": {
        "id": "bc_QqatEAt3N"
      },
      "source": [
        "## Общий вывод\n"
      ]
    },
    {
      "cell_type": "markdown",
      "metadata": {
        "id": "dpLvnQB3FMeO"
      },
      "source": [
        "Для задачи проекта лучше всего подойдет модель, обученная при помощи алгоритма Random Forest со значением гиперпараметра n_estimators=6. В результате проверки на тестовой выборке, значение accuracy составило 0.7736318407960199."
      ]
    }
  ],
  "metadata": {
    "colab": {
      "provenance": []
    },
    "kernelspec": {
      "display_name": "Python 3 (ipykernel)",
      "language": "python",
      "name": "python3"
    },
    "language_info": {
      "codemirror_mode": {
        "name": "ipython",
        "version": 3
      },
      "file_extension": ".py",
      "mimetype": "text/x-python",
      "name": "python",
      "nbconvert_exporter": "python",
      "pygments_lexer": "ipython3",
      "version": "3.9.5"
    },
    "toc": {
      "base_numbering": 1,
      "nav_menu": {},
      "number_sections": true,
      "sideBar": true,
      "skip_h1_title": true,
      "title_cell": "Table of Contents",
      "title_sidebar": "Contents",
      "toc_cell": false,
      "toc_position": {},
      "toc_section_display": true,
      "toc_window_display": false
    }
  },
  "nbformat": 4,
  "nbformat_minor": 0
}