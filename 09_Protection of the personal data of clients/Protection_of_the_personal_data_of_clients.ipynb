{
  "cells": [
    {
      "cell_type": "markdown",
      "metadata": {
        "id": "zpVmVdDvWhga",
        "toc": true
      },
      "source": [
        "<h1>Содержание<span class=\"tocSkip\"></span></h1>\n",
        "<div class=\"toc\"><ul class=\"toc-item\"><li><span><a href=\"#Загрузка-данных\" data-toc-modified-id=\"Загрузка-данных-1\"><span class=\"toc-item-num\">1&nbsp;&nbsp;</span>Загрузка данных</a></span></li><li><span><a href=\"#Умножение-матриц\" data-toc-modified-id=\"Умножение-матриц-2\"><span class=\"toc-item-num\">2&nbsp;&nbsp;</span>Умножение матриц</a></span></li><li><span><a href=\"#Алгоритм-преобразования\" data-toc-modified-id=\"Алгоритм-преобразования-3\"><span class=\"toc-item-num\">3&nbsp;&nbsp;</span>Алгоритм преобразования</a></span></li><li><span><a href=\"#Проверка-алгоритма\" data-toc-modified-id=\"Проверка-алгоритма-4\"><span class=\"toc-item-num\">4&nbsp;&nbsp;</span>Проверка алгоритма</a></span></li><li><span><a href=\"#Общий-вывод\" data-toc-modified-id=\"Общий-вывод-5\"><span class=\"toc-item-num\">5&nbsp;&nbsp;</span>Общий вывод</a></span></li></div>"
      ]
    },
    {
      "cell_type": "markdown",
      "metadata": {
        "id": "lbNWEI7TWhgb"
      },
      "source": [
        "# Защита персональных данных клиентов"
      ]
    },
    {
      "cell_type": "markdown",
      "metadata": {
        "id": "YD7tpZxTWhgb"
      },
      "source": [
        "Нужно защитить данные клиентов страховой компании «Хоть потоп». Разработаем такой метод преобразования данных, чтобы по ним было сложно восстановить персональную информацию. Обоснуем корректность его работы.\n",
        "\n",
        "Данные нужно защитить так, чтобы при преобразовании качество моделей машинного обучения не ухудшилось."
      ]
    },
    {
      "cell_type": "markdown",
      "metadata": {
        "id": "UBTkh7D_T0Or"
      },
      "source": [
        "**Цель проекта:** Необходимо преобразовать данные, чтобы по ним было сложно восстановить персональную информацию, и, при этом, сохранить качество моделей машинного обучения на прежнем уровне."
      ]
    },
    {
      "cell_type": "markdown",
      "metadata": {
        "id": "RojwenRUUmek"
      },
      "source": [
        "**Описание данных:** Датасет с данными клиентов страховой компании: пол, возраст, зарплата застрахованного, количество членов семьи и количество страховых выплат за последние пять лет."
      ]
    },
    {
      "cell_type": "markdown",
      "metadata": {
        "id": "v1eg9IWDWhgc"
      },
      "source": [
        "## Загрузка данных"
      ]
    },
    {
      "cell_type": "code",
      "execution_count": 1,
      "metadata": {
        "id": "x_VTLQ4AWhgc"
      },
      "outputs": [],
      "source": [
        "# Импортируем необходимые библиотеки:\n",
        "\n",
        "import numpy as np\n",
        "import pandas as pd\n",
        "import scipy\n",
        "from sklearn.metrics import r2_score"
      ]
    },
    {
      "cell_type": "code",
      "execution_count": 2,
      "metadata": {
        "colab": {
          "base_uri": "https://localhost:8080/",
          "height": 206
        },
        "id": "NCFyLbLjYui3",
        "outputId": "3cd97993-3ae8-433b-95d1-0e55c0e2b000"
      },
      "outputs": [
        {
          "output_type": "execute_result",
          "data": {
            "text/plain": [
              "   Пол  Возраст  Зарплата  Члены семьи  Страховые выплаты\n",
              "0    1     41.0   49600.0            1                  0\n",
              "1    0     46.0   38000.0            1                  1\n",
              "2    0     29.0   21000.0            0                  0\n",
              "3    0     21.0   41700.0            2                  0\n",
              "4    1     28.0   26100.0            0                  0"
            ],
            "text/html": [
              "\n",
              "  <div id=\"df-91771b68-a930-40d3-a1e2-0046e3188766\" class=\"colab-df-container\">\n",
              "    <div>\n",
              "<style scoped>\n",
              "    .dataframe tbody tr th:only-of-type {\n",
              "        vertical-align: middle;\n",
              "    }\n",
              "\n",
              "    .dataframe tbody tr th {\n",
              "        vertical-align: top;\n",
              "    }\n",
              "\n",
              "    .dataframe thead th {\n",
              "        text-align: right;\n",
              "    }\n",
              "</style>\n",
              "<table border=\"1\" class=\"dataframe\">\n",
              "  <thead>\n",
              "    <tr style=\"text-align: right;\">\n",
              "      <th></th>\n",
              "      <th>Пол</th>\n",
              "      <th>Возраст</th>\n",
              "      <th>Зарплата</th>\n",
              "      <th>Члены семьи</th>\n",
              "      <th>Страховые выплаты</th>\n",
              "    </tr>\n",
              "  </thead>\n",
              "  <tbody>\n",
              "    <tr>\n",
              "      <th>0</th>\n",
              "      <td>1</td>\n",
              "      <td>41.0</td>\n",
              "      <td>49600.0</td>\n",
              "      <td>1</td>\n",
              "      <td>0</td>\n",
              "    </tr>\n",
              "    <tr>\n",
              "      <th>1</th>\n",
              "      <td>0</td>\n",
              "      <td>46.0</td>\n",
              "      <td>38000.0</td>\n",
              "      <td>1</td>\n",
              "      <td>1</td>\n",
              "    </tr>\n",
              "    <tr>\n",
              "      <th>2</th>\n",
              "      <td>0</td>\n",
              "      <td>29.0</td>\n",
              "      <td>21000.0</td>\n",
              "      <td>0</td>\n",
              "      <td>0</td>\n",
              "    </tr>\n",
              "    <tr>\n",
              "      <th>3</th>\n",
              "      <td>0</td>\n",
              "      <td>21.0</td>\n",
              "      <td>41700.0</td>\n",
              "      <td>2</td>\n",
              "      <td>0</td>\n",
              "    </tr>\n",
              "    <tr>\n",
              "      <th>4</th>\n",
              "      <td>1</td>\n",
              "      <td>28.0</td>\n",
              "      <td>26100.0</td>\n",
              "      <td>0</td>\n",
              "      <td>0</td>\n",
              "    </tr>\n",
              "  </tbody>\n",
              "</table>\n",
              "</div>\n",
              "    <div class=\"colab-df-buttons\">\n",
              "\n",
              "  <div class=\"colab-df-container\">\n",
              "    <button class=\"colab-df-convert\" onclick=\"convertToInteractive('df-91771b68-a930-40d3-a1e2-0046e3188766')\"\n",
              "            title=\"Convert this dataframe to an interactive table.\"\n",
              "            style=\"display:none;\">\n",
              "\n",
              "  <svg xmlns=\"http://www.w3.org/2000/svg\" height=\"24px\" viewBox=\"0 -960 960 960\">\n",
              "    <path d=\"M120-120v-720h720v720H120Zm60-500h600v-160H180v160Zm220 220h160v-160H400v160Zm0 220h160v-160H400v160ZM180-400h160v-160H180v160Zm440 0h160v-160H620v160ZM180-180h160v-160H180v160Zm440 0h160v-160H620v160Z\"/>\n",
              "  </svg>\n",
              "    </button>\n",
              "\n",
              "  <style>\n",
              "    .colab-df-container {\n",
              "      display:flex;\n",
              "      gap: 12px;\n",
              "    }\n",
              "\n",
              "    .colab-df-convert {\n",
              "      background-color: #E8F0FE;\n",
              "      border: none;\n",
              "      border-radius: 50%;\n",
              "      cursor: pointer;\n",
              "      display: none;\n",
              "      fill: #1967D2;\n",
              "      height: 32px;\n",
              "      padding: 0 0 0 0;\n",
              "      width: 32px;\n",
              "    }\n",
              "\n",
              "    .colab-df-convert:hover {\n",
              "      background-color: #E2EBFA;\n",
              "      box-shadow: 0px 1px 2px rgba(60, 64, 67, 0.3), 0px 1px 3px 1px rgba(60, 64, 67, 0.15);\n",
              "      fill: #174EA6;\n",
              "    }\n",
              "\n",
              "    .colab-df-buttons div {\n",
              "      margin-bottom: 4px;\n",
              "    }\n",
              "\n",
              "    [theme=dark] .colab-df-convert {\n",
              "      background-color: #3B4455;\n",
              "      fill: #D2E3FC;\n",
              "    }\n",
              "\n",
              "    [theme=dark] .colab-df-convert:hover {\n",
              "      background-color: #434B5C;\n",
              "      box-shadow: 0px 1px 3px 1px rgba(0, 0, 0, 0.15);\n",
              "      filter: drop-shadow(0px 1px 2px rgba(0, 0, 0, 0.3));\n",
              "      fill: #FFFFFF;\n",
              "    }\n",
              "  </style>\n",
              "\n",
              "    <script>\n",
              "      const buttonEl =\n",
              "        document.querySelector('#df-91771b68-a930-40d3-a1e2-0046e3188766 button.colab-df-convert');\n",
              "      buttonEl.style.display =\n",
              "        google.colab.kernel.accessAllowed ? 'block' : 'none';\n",
              "\n",
              "      async function convertToInteractive(key) {\n",
              "        const element = document.querySelector('#df-91771b68-a930-40d3-a1e2-0046e3188766');\n",
              "        const dataTable =\n",
              "          await google.colab.kernel.invokeFunction('convertToInteractive',\n",
              "                                                    [key], {});\n",
              "        if (!dataTable) return;\n",
              "\n",
              "        const docLinkHtml = 'Like what you see? Visit the ' +\n",
              "          '<a target=\"_blank\" href=https://colab.research.google.com/notebooks/data_table.ipynb>data table notebook</a>'\n",
              "          + ' to learn more about interactive tables.';\n",
              "        element.innerHTML = '';\n",
              "        dataTable['output_type'] = 'display_data';\n",
              "        await google.colab.output.renderOutput(dataTable, element);\n",
              "        const docLink = document.createElement('div');\n",
              "        docLink.innerHTML = docLinkHtml;\n",
              "        element.appendChild(docLink);\n",
              "      }\n",
              "    </script>\n",
              "  </div>\n",
              "\n",
              "\n",
              "<div id=\"df-30ebbb51-5650-46ab-8e36-7aa06d4ced82\">\n",
              "  <button class=\"colab-df-quickchart\" onclick=\"quickchart('df-30ebbb51-5650-46ab-8e36-7aa06d4ced82')\"\n",
              "            title=\"Suggest charts.\"\n",
              "            style=\"display:none;\">\n",
              "\n",
              "<svg xmlns=\"http://www.w3.org/2000/svg\" height=\"24px\"viewBox=\"0 0 24 24\"\n",
              "     width=\"24px\">\n",
              "    <g>\n",
              "        <path d=\"M19 3H5c-1.1 0-2 .9-2 2v14c0 1.1.9 2 2 2h14c1.1 0 2-.9 2-2V5c0-1.1-.9-2-2-2zM9 17H7v-7h2v7zm4 0h-2V7h2v10zm4 0h-2v-4h2v4z\"/>\n",
              "    </g>\n",
              "</svg>\n",
              "  </button>\n",
              "\n",
              "<style>\n",
              "  .colab-df-quickchart {\n",
              "      --bg-color: #E8F0FE;\n",
              "      --fill-color: #1967D2;\n",
              "      --hover-bg-color: #E2EBFA;\n",
              "      --hover-fill-color: #174EA6;\n",
              "      --disabled-fill-color: #AAA;\n",
              "      --disabled-bg-color: #DDD;\n",
              "  }\n",
              "\n",
              "  [theme=dark] .colab-df-quickchart {\n",
              "      --bg-color: #3B4455;\n",
              "      --fill-color: #D2E3FC;\n",
              "      --hover-bg-color: #434B5C;\n",
              "      --hover-fill-color: #FFFFFF;\n",
              "      --disabled-bg-color: #3B4455;\n",
              "      --disabled-fill-color: #666;\n",
              "  }\n",
              "\n",
              "  .colab-df-quickchart {\n",
              "    background-color: var(--bg-color);\n",
              "    border: none;\n",
              "    border-radius: 50%;\n",
              "    cursor: pointer;\n",
              "    display: none;\n",
              "    fill: var(--fill-color);\n",
              "    height: 32px;\n",
              "    padding: 0;\n",
              "    width: 32px;\n",
              "  }\n",
              "\n",
              "  .colab-df-quickchart:hover {\n",
              "    background-color: var(--hover-bg-color);\n",
              "    box-shadow: 0 1px 2px rgba(60, 64, 67, 0.3), 0 1px 3px 1px rgba(60, 64, 67, 0.15);\n",
              "    fill: var(--button-hover-fill-color);\n",
              "  }\n",
              "\n",
              "  .colab-df-quickchart-complete:disabled,\n",
              "  .colab-df-quickchart-complete:disabled:hover {\n",
              "    background-color: var(--disabled-bg-color);\n",
              "    fill: var(--disabled-fill-color);\n",
              "    box-shadow: none;\n",
              "  }\n",
              "\n",
              "  .colab-df-spinner {\n",
              "    border: 2px solid var(--fill-color);\n",
              "    border-color: transparent;\n",
              "    border-bottom-color: var(--fill-color);\n",
              "    animation:\n",
              "      spin 1s steps(1) infinite;\n",
              "  }\n",
              "\n",
              "  @keyframes spin {\n",
              "    0% {\n",
              "      border-color: transparent;\n",
              "      border-bottom-color: var(--fill-color);\n",
              "      border-left-color: var(--fill-color);\n",
              "    }\n",
              "    20% {\n",
              "      border-color: transparent;\n",
              "      border-left-color: var(--fill-color);\n",
              "      border-top-color: var(--fill-color);\n",
              "    }\n",
              "    30% {\n",
              "      border-color: transparent;\n",
              "      border-left-color: var(--fill-color);\n",
              "      border-top-color: var(--fill-color);\n",
              "      border-right-color: var(--fill-color);\n",
              "    }\n",
              "    40% {\n",
              "      border-color: transparent;\n",
              "      border-right-color: var(--fill-color);\n",
              "      border-top-color: var(--fill-color);\n",
              "    }\n",
              "    60% {\n",
              "      border-color: transparent;\n",
              "      border-right-color: var(--fill-color);\n",
              "    }\n",
              "    80% {\n",
              "      border-color: transparent;\n",
              "      border-right-color: var(--fill-color);\n",
              "      border-bottom-color: var(--fill-color);\n",
              "    }\n",
              "    90% {\n",
              "      border-color: transparent;\n",
              "      border-bottom-color: var(--fill-color);\n",
              "    }\n",
              "  }\n",
              "</style>\n",
              "\n",
              "  <script>\n",
              "    async function quickchart(key) {\n",
              "      const quickchartButtonEl =\n",
              "        document.querySelector('#' + key + ' button');\n",
              "      quickchartButtonEl.disabled = true;  // To prevent multiple clicks.\n",
              "      quickchartButtonEl.classList.add('colab-df-spinner');\n",
              "      try {\n",
              "        const charts = await google.colab.kernel.invokeFunction(\n",
              "            'suggestCharts', [key], {});\n",
              "      } catch (error) {\n",
              "        console.error('Error during call to suggestCharts:', error);\n",
              "      }\n",
              "      quickchartButtonEl.classList.remove('colab-df-spinner');\n",
              "      quickchartButtonEl.classList.add('colab-df-quickchart-complete');\n",
              "    }\n",
              "    (() => {\n",
              "      let quickchartButtonEl =\n",
              "        document.querySelector('#df-30ebbb51-5650-46ab-8e36-7aa06d4ced82 button');\n",
              "      quickchartButtonEl.style.display =\n",
              "        google.colab.kernel.accessAllowed ? 'block' : 'none';\n",
              "    })();\n",
              "  </script>\n",
              "</div>\n",
              "    </div>\n",
              "  </div>\n"
            ]
          },
          "metadata": {},
          "execution_count": 2
        }
      ],
      "source": [
        "# Считаем данные из csv-файла в датафрейм, сохраним в переменную и выведем ее на экран:\n",
        "\n",
        "data = pd.read_csv('https://code.s3.yandex.net/datasets/insurance.csv')\n",
        "\n",
        "data.head()"
      ]
    },
    {
      "cell_type": "code",
      "execution_count": 3,
      "metadata": {
        "colab": {
          "base_uri": "https://localhost:8080/"
        },
        "id": "zg44aw9tZUTX",
        "outputId": "e9f5191f-df92-4742-81b8-0102348e5986"
      },
      "outputs": [
        {
          "output_type": "stream",
          "name": "stdout",
          "text": [
            "<class 'pandas.core.frame.DataFrame'>\n",
            "RangeIndex: 5000 entries, 0 to 4999\n",
            "Data columns (total 5 columns):\n",
            " #   Column             Non-Null Count  Dtype  \n",
            "---  ------             --------------  -----  \n",
            " 0   Пол                5000 non-null   int64  \n",
            " 1   Возраст            5000 non-null   float64\n",
            " 2   Зарплата           5000 non-null   float64\n",
            " 3   Члены семьи        5000 non-null   int64  \n",
            " 4   Страховые выплаты  5000 non-null   int64  \n",
            "dtypes: float64(2), int64(3)\n",
            "memory usage: 195.4 KB\n"
          ]
        }
      ],
      "source": [
        "# Изучим основную информацию о датафрейме:\n",
        "\n",
        "data.info()"
      ]
    },
    {
      "cell_type": "markdown",
      "metadata": {
        "id": "LzQCEmvgWhgc"
      },
      "source": [
        "## Умножение матриц"
      ]
    },
    {
      "cell_type": "markdown",
      "metadata": {
        "id": "FKqIScqMWhgc"
      },
      "source": [
        "Обозначения:\n",
        "\n",
        "- $X$ — матрица признаков (нулевой столбец состоит из единиц)\n",
        "\n",
        "- $y$ — вектор целевого признака\n",
        "\n",
        "- $P$ — матрица, на которую умножаются признаки\n",
        "\n",
        "- $w$ — вектор весов линейной регрессии (нулевой элемент равен сдвигу)"
      ]
    },
    {
      "cell_type": "markdown",
      "metadata": {
        "id": "-34Y00WsWhgc"
      },
      "source": [
        "Предсказания:\n",
        "\n",
        "$$\n",
        "a = Xw\n",
        "$$\n",
        "\n",
        "Задача обучения:\n",
        "\n",
        "$$\n",
        "w = \\arg\\min_w MSE(Xw, y)\n",
        "$$\n",
        "\n",
        "Формула обучения:\n",
        "\n",
        "$$\n",
        "w = (X^T X)^{-1} X^T y\n",
        "$$"
      ]
    },
    {
      "cell_type": "markdown",
      "metadata": {
        "id": "8__RAimNYbnc"
      },
      "source": [
        "**Обоснование:**\n",
        "\n",
        "Используемые свойства:\n",
        "$$\n",
        "(AB)^T=B^T A^T\n",
        "$$\n",
        "$$\n",
        "(AB)^{-1} = B^{-1} A^{-1}\n",
        "$$\n",
        "$$\n",
        "A A^{-1} = A^{-1} A = E\n",
        "$$\n",
        "$$\n",
        "AE = EA = A\n",
        "$$\n",
        "Доказательство:\n",
        "$$\n",
        "a = Xw = XEw = XPP^{-1}w = (XP)P^{-1}w = (XP)w'\n",
        "$$\n",
        "\\\n",
        "Требуется доказать, что предсказания не изменятся, имеем  $a =  Xw$,   $a' = X'w'$\n",
        "\\\n",
        "\\\n",
        "$$\n",
        "    w = (X^T X)^{-1} X^T y\n",
        "$$\n",
        "\\\n",
        "$$\n",
        "w' = ((XP)^T XP)^{-1} (XP)^T y\n",
        "$$\n",
        "$$\n",
        "w' = (P^T (X^T X) P)^{-1} (XP)^T y\n",
        "$$\n",
        "$$\n",
        "w' = (P^T (X^T X) P)^{-1} P^T X^T y\n",
        "$$\n",
        "$$\n",
        "w' = P^{-1} (X^T X)^{-1} (P^T)^{-1} P^T X^T y\n",
        "$$\n",
        "$$\n",
        "w' = P^{-1} (X^T X)^{-1} X^T y\n",
        "$$\n",
        "\\\n",
        "Тогда $w' = P^{-1} w$, следовательно:\n",
        "\\\n",
        "\\\n",
        "$$\n",
        "a' = (XP)w' = XPP^{-1}w = Xw = a\n",
        "$$\n",
        "чтд."
      ]
    },
    {
      "cell_type": "code",
      "execution_count": 4,
      "metadata": {
        "colab": {
          "base_uri": "https://localhost:8080/"
        },
        "id": "GUKY5BUmr_9y",
        "outputId": "439b6cc9-ad91-4503-b569-464876c893e1"
      },
      "outputs": [
        {
          "output_type": "execute_result",
          "data": {
            "text/plain": [
              "array([[-0.13130559, -0.41746164,  2.3502439 ,  0.15705539],\n",
              "       [ 0.55435138, -0.81452195,  0.10779294,  1.68618947],\n",
              "       [ 0.47191128,  0.33767746,  1.55967145, -1.43748666],\n",
              "       [ 0.13771695,  0.08060308, -1.23567805,  1.06837948]])"
            ]
          },
          "metadata": {},
          "execution_count": 4
        }
      ],
      "source": [
        "# Сгенерируем случайную матрицу, размер которой равен количеству\n",
        "# признаков исходного датасета, и выведем ее на экран:\n",
        "\n",
        "arr = np.random.normal(size = (4,4 ))\n",
        "arr"
      ]
    },
    {
      "cell_type": "code",
      "execution_count": 5,
      "metadata": {
        "colab": {
          "base_uri": "https://localhost:8080/"
        },
        "id": "L-HGQo3C6Rrr",
        "outputId": "d3cdd2fc-adb3-4535-a447-6509e4d0a318"
      },
      "outputs": [
        {
          "output_type": "execute_result",
          "data": {
            "text/plain": [
              "array([[-0.55616488,  0.73505103,  1.01642677,  0.28923553],\n",
              "       [ 0.93948481, -1.11634685,  0.78907386,  2.68547305],\n",
              "       [ 0.52097141, -0.14529138,  0.19463608,  0.4146038 ],\n",
              "       [ 0.60336323, -0.17857078,  0.03456314,  1.17563732]])"
            ]
          },
          "metadata": {},
          "execution_count": 5
        }
      ],
      "source": [
        "# Найдем обратную ей матрицу:\n",
        "\n",
        "arr_rev = np.linalg.inv(arr)\n",
        "arr_rev"
      ]
    },
    {
      "cell_type": "code",
      "execution_count": 6,
      "metadata": {
        "colab": {
          "base_uri": "https://localhost:8080/"
        },
        "id": "vL45SPuM64Ez",
        "outputId": "3f63ed51-0ece-4247-9ba3-54b36c43565b"
      },
      "outputs": [
        {
          "output_type": "stream",
          "name": "stdout",
          "text": [
            "[[ 1.00000000e+00  1.05008636e-16 -2.36784695e-17  4.70157477e-17]\n",
            " [ 4.18011834e-17  1.00000000e+00  6.34094176e-17 -2.75669776e-17]\n",
            " [ 5.60092079e-16 -3.60783696e-16  1.00000000e+00  7.85488927e-16]\n",
            " [-1.14669620e-16  2.84735669e-17 -5.74934806e-17  1.00000000e+00]]\n"
          ]
        }
      ],
      "source": [
        "# Проверим, что их скалярное произведение равно единичной матрице\n",
        "# (с учетом погрешности):\n",
        "\n",
        "print(arr @ arr_rev)"
      ]
    },
    {
      "cell_type": "markdown",
      "metadata": {
        "id": "yEF0ZK-QWhgd"
      },
      "source": [
        "**Ответ:** При перемножении признаков на обратимую матрицу, качество линейной регрессии не изменится.\n",
        "\n",
        "**Обоснование:** Предсказание модели вычисляется, как скалярное произведение матрицы признаков Х на вектор весов w, а длина вектора признаков, в свою очередь, определяется количеством признаков в матрице Х. Соответственно, при перемножении матрицы Х на обратимую матрицу, длина вектора будет зависить уже от полученной новой матрицы."
      ]
    },
    {
      "cell_type": "markdown",
      "metadata": {
        "id": "EA8WlQVXWhgd"
      },
      "source": [
        "## Алгоритм преобразования"
      ]
    },
    {
      "cell_type": "markdown",
      "metadata": {
        "id": "TVSjGaP2Whgd"
      },
      "source": [
        "**Алгоритм**\n",
        "\n",
        "1) Выделить из исходного датасета признаки и целевой признак.\n",
        "\n",
        "2) Запрограммировать линейную регрессию, обучить ее на основании исходных признаков и получить предсказания; определить значение R2\n",
        "\n",
        "3) Функцией numpy.random.normal() сгенерировать случайную матрицу, размер которой будет соответствовать количеству признаков исходного датасета.\n",
        "\n",
        "4) Найти обратную полученной матрицу, вызвав функцию numpy.linalg.inv()\n",
        "\n",
        "5) Преобразовать исходные признаки в матрицу и, получив ее произведение на обратимую, преобразовать обратно в датасет.\n",
        "\n",
        "6) Обучить линейную регрессию на основании новых признаков, получить предсказания и значение R2; сверить его с предыдущим."
      ]
    },
    {
      "cell_type": "markdown",
      "metadata": {
        "id": "F2qi5KpTWhgd"
      },
      "source": [
        "**Обоснование**\n",
        "\n",
        "Поскольку предсказание модели вычисляется, как скалярное произведение матрицы признаков Х на вектор весов w, а длина вектора признаков, в свою очередь, определяется количеством признаков в матрице Х, то при перемножении матрицы Х на обратимую матрицу, качество линейной регрессии будет таким же, так как длина вектора остается неизменной."
      ]
    },
    {
      "cell_type": "markdown",
      "metadata": {
        "id": "SvLWbZeDWhgd"
      },
      "source": [
        "## Проверка алгоритма"
      ]
    },
    {
      "cell_type": "code",
      "execution_count": 7,
      "metadata": {
        "id": "RMgeOJBnnpIi"
      },
      "outputs": [],
      "source": [
        "# Выделим из исходного датасета признаки и целевой признак:\n",
        "\n",
        "features = data.drop('Страховые выплаты', axis=1)\n",
        "target = data['Страховые выплаты']"
      ]
    },
    {
      "cell_type": "code",
      "execution_count": 8,
      "metadata": {
        "colab": {
          "base_uri": "https://localhost:8080/"
        },
        "id": "lPjWeZWCWhgd",
        "outputId": "e290f73c-3451-4873-9c13-7af46372b6f9"
      },
      "outputs": [
        {
          "output_type": "stream",
          "name": "stdout",
          "text": [
            "0.4249455028666801\n"
          ]
        }
      ],
      "source": [
        "# Запрограммируем модель линейной регрессии, обучим ее, получим предсказания и\n",
        "# значение метрики R2:\n",
        "\n",
        "class LinearRegression:\n",
        "    def fit(self, train_features, train_target):\n",
        "        X = np.concatenate((np.ones((train_features.shape[0], 1)), train_features), axis=1)\n",
        "        y = train_target\n",
        "        w = ((np.linalg.inv(X.T.dot(X))).dot(X.T)).dot(y)\n",
        "        self.w = w[1:]\n",
        "        self.w0 = w[0]\n",
        "\n",
        "    def predict(self, test_features):\n",
        "        return test_features.dot(self.w) + self.w0\n",
        "\n",
        "model = LinearRegression()\n",
        "model.fit(features, target)\n",
        "predictions = model.predict(features)\n",
        "print(r2_score(target, predictions))"
      ]
    },
    {
      "cell_type": "code",
      "execution_count": 9,
      "metadata": {
        "id": "-Un2uL6Q2Ipq"
      },
      "outputs": [],
      "source": [
        "# Создадим список с названиями признаков:\n",
        "\n",
        "features_columns = ['Пол', 'Возраст', 'Зарплата', 'Члены семьи']"
      ]
    },
    {
      "cell_type": "code",
      "execution_count": 10,
      "metadata": {
        "id": "5DR686f722Ri"
      },
      "outputs": [],
      "source": [
        "# Преобразуем датасет с признаками в матрицу, перемножим на обратимую матрицу и\n",
        "# вновь преобразуем полученный результат в датасет признаков:\n",
        "\n",
        "features_tf = pd.DataFrame(features.values @ arr_rev, columns=features_columns)"
      ]
    },
    {
      "cell_type": "code",
      "execution_count": 11,
      "metadata": {
        "colab": {
          "base_uri": "https://localhost:8080/"
        },
        "id": "eTi_L8zaz93h",
        "outputId": "bc79c059-eb48-4c0a-9d6e-0166464f5b53"
      },
      "outputs": [
        {
          "output_type": "stream",
          "name": "stdout",
          "text": [
            "            Пол      Возраст     Зарплата   Члены семьи\n",
            "0  25878.747822 -7251.666129  9687.352586  20675.917981\n",
            "1  19840.733100 -5572.602920  7432.503001  15879.651976\n",
            "2  10967.644589 -3083.493013  4110.240822   8784.558617\n",
            "3  21745.443545 -6082.450921  8132.964213  17347.724865\n",
            "4  13623.103111 -3822.627647  5103.112183  10896.641784\n"
          ]
        }
      ],
      "source": [
        "# Выведем преобразованные признаки на экран:\n",
        "\n",
        "print(features_tf.head())"
      ]
    },
    {
      "cell_type": "code",
      "execution_count": 12,
      "metadata": {
        "colab": {
          "base_uri": "https://localhost:8080/"
        },
        "id": "u6855H7P3sXq",
        "outputId": "b05f0446-ffd2-4e1f-a59a-c0fadd3e167d"
      },
      "outputs": [
        {
          "output_type": "stream",
          "name": "stdout",
          "text": [
            "0.42494550286667687\n"
          ]
        }
      ],
      "source": [
        "# Обучим модель на основании новых признаков, получим предсказания и значение R2:\n",
        "\n",
        "model.fit(features_tf, target)\n",
        "predictions = model.predict(features_tf)\n",
        "print(r2_score(target, predictions))"
      ]
    },
    {
      "cell_type": "markdown",
      "metadata": {
        "id": "wkAaepjNaYOq"
      },
      "source": [
        "**Вывод:** Значение метрики R2 как до, так и после преобразования, составило приблизительно 0,425."
      ]
    },
    {
      "cell_type": "markdown",
      "metadata": {
        "id": "0TL3QCZwWsrU"
      },
      "source": [
        "## Общий вывод"
      ]
    },
    {
      "cell_type": "markdown",
      "metadata": {
        "id": "LOWZArmzWxgE"
      },
      "source": [
        "В ходе работы над проектом была запрограммирована и обучена на основании признаков исходного датасета модель линейной регрессии. В результате, получены предсказания и определено значение метрики R2.\n",
        "\n",
        "Затем был написан алгоритм преобразования данных для решения задачи. В результате его применения:\n",
        "\n",
        " - сгенерирована случайная матрица;\n",
        "\n",
        " - найдена матрица, обратная полученной;\n",
        "\n",
        " - исходные признаки перемножены на обратимую матрицу;\n",
        "\n",
        " - произведено обучение модели линейной регрессии на основании новых признаков, получены предсказания и значение R2.\n",
        "\n",
        "Сформулирован следующий вывод: поскольку предсказание модели вычисляется, как скалярное произведение матрицы признаков Х на вектор весов w, а длина вектора признаков, в свою очередь, определяется количеством признаков в матрице Х, то при перемножении матрицы Х на обратимую матрицу, качество линейной регрессии будет таким же, так как длина вектора остается неизменной.\n",
        "\n",
        "В нашем случае, значение метрики R2 как до, так и после преобразования, составило приблизительно 0,425."
      ]
    }
  ],
  "metadata": {
    "ExecuteTimeLog": [
      {
        "duration": 1959,
        "start_time": "2023-04-30T10:38:04.331Z"
      },
      {
        "duration": 160,
        "start_time": "2023-04-30T10:38:06.292Z"
      },
      {
        "duration": 14,
        "start_time": "2023-04-30T10:38:06.453Z"
      },
      {
        "duration": 6,
        "start_time": "2023-04-30T10:38:06.469Z"
      },
      {
        "duration": 26,
        "start_time": "2023-04-30T10:38:06.476Z"
      },
      {
        "duration": 52,
        "start_time": "2023-04-30T10:38:06.504Z"
      },
      {
        "duration": 5,
        "start_time": "2023-04-30T10:38:06.558Z"
      },
      {
        "duration": 93,
        "start_time": "2023-04-30T10:38:06.565Z"
      },
      {
        "duration": 4,
        "start_time": "2023-04-30T10:38:06.659Z"
      },
      {
        "duration": 93,
        "start_time": "2023-04-30T10:38:06.665Z"
      },
      {
        "duration": 9,
        "start_time": "2023-04-30T10:38:06.760Z"
      },
      {
        "duration": 10,
        "start_time": "2023-04-30T10:38:06.771Z"
      }
    ],
    "colab": {
      "provenance": []
    },
    "kernelspec": {
      "display_name": "Python 3 (ipykernel)",
      "language": "python",
      "name": "python3"
    },
    "language_info": {
      "codemirror_mode": {
        "name": "ipython",
        "version": 3
      },
      "file_extension": ".py",
      "mimetype": "text/x-python",
      "name": "python",
      "nbconvert_exporter": "python",
      "pygments_lexer": "ipython3",
      "version": "3.9.5"
    },
    "toc": {
      "base_numbering": 1,
      "nav_menu": {},
      "number_sections": true,
      "sideBar": true,
      "skip_h1_title": true,
      "title_cell": "Содержание",
      "title_sidebar": "Contents",
      "toc_cell": true,
      "toc_position": {
        "height": "calc(100% - 180px)",
        "left": "10px",
        "top": "150px",
        "width": "165px"
      },
      "toc_section_display": true,
      "toc_window_display": false
    }
  },
  "nbformat": 4,
  "nbformat_minor": 0
}