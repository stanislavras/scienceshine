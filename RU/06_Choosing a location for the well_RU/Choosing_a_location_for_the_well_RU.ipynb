{
  "cells": [
    {
      "cell_type": "markdown",
      "metadata": {
        "id": "lcDD7BhAOgMS"
      },
      "source": [
        "# Выбор локации для скважины"
      ]
    },
    {
      "cell_type": "markdown",
      "metadata": {
        "id": "_kLft3RfOgMT"
      },
      "source": [
        "Нужно решить, где добывающей компании «ГлавРосГосНефть» бурить новую скважину.\n",
        "\n",
        "Нам предоставлены пробы нефти в трёх регионах: в каждом 10 000 месторождений, где измерили качество нефти и объём её запасов. Построим модель машинного обучения, которая поможет определить регион, где добыча принесёт наибольшую прибыль. Проанализируем возможную прибыль и риски.\n",
        "\n"
      ]
    },
    {
      "cell_type": "markdown",
      "metadata": {
        "id": "xkq3OxYb3Ozk"
      },
      "source": [
        "**Цели исследования:**\n",
        "Построение модели для определения региона, где добыча принесёт наибольшую прибыль."
      ]
    },
    {
      "cell_type": "markdown",
      "metadata": {
        "id": "nDLmSWde3dCM"
      },
      "source": [
        "**Описание данных:** Датасеты с информацией о геологоразведке трех регионов: три признака точек и объемы запасов в скважине."
      ]
    },
    {
      "cell_type": "markdown",
      "metadata": {
        "id": "ur-JARhZ4Mt8"
      },
      "source": [
        "**План работы:**\n",
        "\n",
        "1 ЗАГРУЗКА И ПОДГОТОВКА ДАННЫХ\n",
        "\n",
        "1.1 Импортируем необходимые библиотеки, считаем данные из csv-файлов в датафреймы, сохраним в переменные и выведем их и основную информацию о них на экран\n",
        "\n",
        "1.2 Проверим датасеты на наличие дубликатов\n",
        "\n",
        "1.3 Выделим признаки и целевые признаки\n",
        "\n",
        "2 ОБУЧЕНИЕ И ПРОВЕРКА МОДЕЛИ\n",
        "\n",
        "2.1 Обучение модели для первого региона\n",
        "\n",
        "2.2 Обучение модели для второго региона\n",
        "\n",
        "2.3 Обучение модели для третьего региона\n",
        "\n",
        "3 ПОДГОТОВКА К РАСЧЕТУ ПРИБЫЛИ\n",
        "\n",
        "3.1 Сохраним ключевые значения для расчетов в отдельных переменных\n",
        "\n",
        "3.2 Рассчитаем достаточный объем сырья для безубыточной разработки новой скважины\n",
        "\n",
        "4 РАСЧЕТ ПРИБЫЛИ ПО ВЫБРАННЫМ СКВАЖИНАМ И ПРЕДСКАЗАНИЯМ МОДЕЛИ\n",
        "\n",
        "4.1 Напишем функцию для расчета прибыли\n",
        "\n",
        "4.2 Рассчитаем прибыль для каждого региона\n",
        "\n",
        "5 РАСЧЕТ ПРИБЫЛИ И РИСКОВ\n",
        "\n",
        "6 ОБЩИЙ ВЫВОД"
      ]
    },
    {
      "cell_type": "markdown",
      "metadata": {
        "id": "y41Z13YFOgMT"
      },
      "source": [
        "## Загрузка и подготовка данных"
      ]
    },
    {
      "cell_type": "markdown",
      "metadata": {
        "id": "CjGWFuU8mOcW"
      },
      "source": [
        "**1.1 Импортируем необходимые библиотеки, считаем данные из csv-файлов в датафреймы, сохраним в переменные и выведем их и основную информацию о них на экран**"
      ]
    },
    {
      "cell_type": "code",
      "execution_count": 1,
      "metadata": {
        "id": "W-T40b3vOgMT"
      },
      "outputs": [],
      "source": [
        "import pandas as pd\n",
        "import numpy as np\n",
        "from sklearn.model_selection import train_test_split\n",
        "from sklearn.linear_model import LinearRegression\n",
        "from sklearn.metrics import mean_squared_error\n",
        "from scipy import stats as st"
      ]
    },
    {
      "cell_type": "code",
      "execution_count": 2,
      "metadata": {
        "id": "ff7JYFU1Pxty"
      },
      "outputs": [],
      "source": [
        "data_0 = pd.read_csv('https://code.s3.yandex.net/datasets/geo_data_0.csv')\n",
        "data_1 = pd.read_csv('https://code.s3.yandex.net/datasets/geo_data_1.csv')\n",
        "data_2 = pd.read_csv('https://code.s3.yandex.net/datasets/geo_data_2.csv')"
      ]
    },
    {
      "cell_type": "code",
      "execution_count": 3,
      "metadata": {
        "colab": {
          "base_uri": "https://localhost:8080/",
          "height": 206
        },
        "id": "W2DLsTdNQz9q",
        "outputId": "28bced14-7e5f-4276-ab1d-f5743a0a01d6"
      },
      "outputs": [
        {
          "output_type": "execute_result",
          "data": {
            "text/plain": [
              "      id        f0        f1        f2     product\n",
              "0  txEyH  0.705745 -0.497823  1.221170  105.280062\n",
              "1  2acmU  1.334711 -0.340164  4.365080   73.037750\n",
              "2  409Wp  1.022732  0.151990  1.419926   85.265647\n",
              "3  iJLyR -0.032172  0.139033  2.978566  168.620776\n",
              "4  Xdl7t  1.988431  0.155413  4.751769  154.036647"
            ],
            "text/html": [
              "\n",
              "  <div id=\"df-939e5b42-1026-4e34-a635-258a49a95f3b\" class=\"colab-df-container\">\n",
              "    <div>\n",
              "<style scoped>\n",
              "    .dataframe tbody tr th:only-of-type {\n",
              "        vertical-align: middle;\n",
              "    }\n",
              "\n",
              "    .dataframe tbody tr th {\n",
              "        vertical-align: top;\n",
              "    }\n",
              "\n",
              "    .dataframe thead th {\n",
              "        text-align: right;\n",
              "    }\n",
              "</style>\n",
              "<table border=\"1\" class=\"dataframe\">\n",
              "  <thead>\n",
              "    <tr style=\"text-align: right;\">\n",
              "      <th></th>\n",
              "      <th>id</th>\n",
              "      <th>f0</th>\n",
              "      <th>f1</th>\n",
              "      <th>f2</th>\n",
              "      <th>product</th>\n",
              "    </tr>\n",
              "  </thead>\n",
              "  <tbody>\n",
              "    <tr>\n",
              "      <th>0</th>\n",
              "      <td>txEyH</td>\n",
              "      <td>0.705745</td>\n",
              "      <td>-0.497823</td>\n",
              "      <td>1.221170</td>\n",
              "      <td>105.280062</td>\n",
              "    </tr>\n",
              "    <tr>\n",
              "      <th>1</th>\n",
              "      <td>2acmU</td>\n",
              "      <td>1.334711</td>\n",
              "      <td>-0.340164</td>\n",
              "      <td>4.365080</td>\n",
              "      <td>73.037750</td>\n",
              "    </tr>\n",
              "    <tr>\n",
              "      <th>2</th>\n",
              "      <td>409Wp</td>\n",
              "      <td>1.022732</td>\n",
              "      <td>0.151990</td>\n",
              "      <td>1.419926</td>\n",
              "      <td>85.265647</td>\n",
              "    </tr>\n",
              "    <tr>\n",
              "      <th>3</th>\n",
              "      <td>iJLyR</td>\n",
              "      <td>-0.032172</td>\n",
              "      <td>0.139033</td>\n",
              "      <td>2.978566</td>\n",
              "      <td>168.620776</td>\n",
              "    </tr>\n",
              "    <tr>\n",
              "      <th>4</th>\n",
              "      <td>Xdl7t</td>\n",
              "      <td>1.988431</td>\n",
              "      <td>0.155413</td>\n",
              "      <td>4.751769</td>\n",
              "      <td>154.036647</td>\n",
              "    </tr>\n",
              "  </tbody>\n",
              "</table>\n",
              "</div>\n",
              "    <div class=\"colab-df-buttons\">\n",
              "\n",
              "  <div class=\"colab-df-container\">\n",
              "    <button class=\"colab-df-convert\" onclick=\"convertToInteractive('df-939e5b42-1026-4e34-a635-258a49a95f3b')\"\n",
              "            title=\"Convert this dataframe to an interactive table.\"\n",
              "            style=\"display:none;\">\n",
              "\n",
              "  <svg xmlns=\"http://www.w3.org/2000/svg\" height=\"24px\" viewBox=\"0 -960 960 960\">\n",
              "    <path d=\"M120-120v-720h720v720H120Zm60-500h600v-160H180v160Zm220 220h160v-160H400v160Zm0 220h160v-160H400v160ZM180-400h160v-160H180v160Zm440 0h160v-160H620v160ZM180-180h160v-160H180v160Zm440 0h160v-160H620v160Z\"/>\n",
              "  </svg>\n",
              "    </button>\n",
              "\n",
              "  <style>\n",
              "    .colab-df-container {\n",
              "      display:flex;\n",
              "      gap: 12px;\n",
              "    }\n",
              "\n",
              "    .colab-df-convert {\n",
              "      background-color: #E8F0FE;\n",
              "      border: none;\n",
              "      border-radius: 50%;\n",
              "      cursor: pointer;\n",
              "      display: none;\n",
              "      fill: #1967D2;\n",
              "      height: 32px;\n",
              "      padding: 0 0 0 0;\n",
              "      width: 32px;\n",
              "    }\n",
              "\n",
              "    .colab-df-convert:hover {\n",
              "      background-color: #E2EBFA;\n",
              "      box-shadow: 0px 1px 2px rgba(60, 64, 67, 0.3), 0px 1px 3px 1px rgba(60, 64, 67, 0.15);\n",
              "      fill: #174EA6;\n",
              "    }\n",
              "\n",
              "    .colab-df-buttons div {\n",
              "      margin-bottom: 4px;\n",
              "    }\n",
              "\n",
              "    [theme=dark] .colab-df-convert {\n",
              "      background-color: #3B4455;\n",
              "      fill: #D2E3FC;\n",
              "    }\n",
              "\n",
              "    [theme=dark] .colab-df-convert:hover {\n",
              "      background-color: #434B5C;\n",
              "      box-shadow: 0px 1px 3px 1px rgba(0, 0, 0, 0.15);\n",
              "      filter: drop-shadow(0px 1px 2px rgba(0, 0, 0, 0.3));\n",
              "      fill: #FFFFFF;\n",
              "    }\n",
              "  </style>\n",
              "\n",
              "    <script>\n",
              "      const buttonEl =\n",
              "        document.querySelector('#df-939e5b42-1026-4e34-a635-258a49a95f3b button.colab-df-convert');\n",
              "      buttonEl.style.display =\n",
              "        google.colab.kernel.accessAllowed ? 'block' : 'none';\n",
              "\n",
              "      async function convertToInteractive(key) {\n",
              "        const element = document.querySelector('#df-939e5b42-1026-4e34-a635-258a49a95f3b');\n",
              "        const dataTable =\n",
              "          await google.colab.kernel.invokeFunction('convertToInteractive',\n",
              "                                                    [key], {});\n",
              "        if (!dataTable) return;\n",
              "\n",
              "        const docLinkHtml = 'Like what you see? Visit the ' +\n",
              "          '<a target=\"_blank\" href=https://colab.research.google.com/notebooks/data_table.ipynb>data table notebook</a>'\n",
              "          + ' to learn more about interactive tables.';\n",
              "        element.innerHTML = '';\n",
              "        dataTable['output_type'] = 'display_data';\n",
              "        await google.colab.output.renderOutput(dataTable, element);\n",
              "        const docLink = document.createElement('div');\n",
              "        docLink.innerHTML = docLinkHtml;\n",
              "        element.appendChild(docLink);\n",
              "      }\n",
              "    </script>\n",
              "  </div>\n",
              "\n",
              "\n",
              "<div id=\"df-36110de7-6ea7-421c-b40f-9eda27c1e5ff\">\n",
              "  <button class=\"colab-df-quickchart\" onclick=\"quickchart('df-36110de7-6ea7-421c-b40f-9eda27c1e5ff')\"\n",
              "            title=\"Suggest charts.\"\n",
              "            style=\"display:none;\">\n",
              "\n",
              "<svg xmlns=\"http://www.w3.org/2000/svg\" height=\"24px\"viewBox=\"0 0 24 24\"\n",
              "     width=\"24px\">\n",
              "    <g>\n",
              "        <path d=\"M19 3H5c-1.1 0-2 .9-2 2v14c0 1.1.9 2 2 2h14c1.1 0 2-.9 2-2V5c0-1.1-.9-2-2-2zM9 17H7v-7h2v7zm4 0h-2V7h2v10zm4 0h-2v-4h2v4z\"/>\n",
              "    </g>\n",
              "</svg>\n",
              "  </button>\n",
              "\n",
              "<style>\n",
              "  .colab-df-quickchart {\n",
              "      --bg-color: #E8F0FE;\n",
              "      --fill-color: #1967D2;\n",
              "      --hover-bg-color: #E2EBFA;\n",
              "      --hover-fill-color: #174EA6;\n",
              "      --disabled-fill-color: #AAA;\n",
              "      --disabled-bg-color: #DDD;\n",
              "  }\n",
              "\n",
              "  [theme=dark] .colab-df-quickchart {\n",
              "      --bg-color: #3B4455;\n",
              "      --fill-color: #D2E3FC;\n",
              "      --hover-bg-color: #434B5C;\n",
              "      --hover-fill-color: #FFFFFF;\n",
              "      --disabled-bg-color: #3B4455;\n",
              "      --disabled-fill-color: #666;\n",
              "  }\n",
              "\n",
              "  .colab-df-quickchart {\n",
              "    background-color: var(--bg-color);\n",
              "    border: none;\n",
              "    border-radius: 50%;\n",
              "    cursor: pointer;\n",
              "    display: none;\n",
              "    fill: var(--fill-color);\n",
              "    height: 32px;\n",
              "    padding: 0;\n",
              "    width: 32px;\n",
              "  }\n",
              "\n",
              "  .colab-df-quickchart:hover {\n",
              "    background-color: var(--hover-bg-color);\n",
              "    box-shadow: 0 1px 2px rgba(60, 64, 67, 0.3), 0 1px 3px 1px rgba(60, 64, 67, 0.15);\n",
              "    fill: var(--button-hover-fill-color);\n",
              "  }\n",
              "\n",
              "  .colab-df-quickchart-complete:disabled,\n",
              "  .colab-df-quickchart-complete:disabled:hover {\n",
              "    background-color: var(--disabled-bg-color);\n",
              "    fill: var(--disabled-fill-color);\n",
              "    box-shadow: none;\n",
              "  }\n",
              "\n",
              "  .colab-df-spinner {\n",
              "    border: 2px solid var(--fill-color);\n",
              "    border-color: transparent;\n",
              "    border-bottom-color: var(--fill-color);\n",
              "    animation:\n",
              "      spin 1s steps(1) infinite;\n",
              "  }\n",
              "\n",
              "  @keyframes spin {\n",
              "    0% {\n",
              "      border-color: transparent;\n",
              "      border-bottom-color: var(--fill-color);\n",
              "      border-left-color: var(--fill-color);\n",
              "    }\n",
              "    20% {\n",
              "      border-color: transparent;\n",
              "      border-left-color: var(--fill-color);\n",
              "      border-top-color: var(--fill-color);\n",
              "    }\n",
              "    30% {\n",
              "      border-color: transparent;\n",
              "      border-left-color: var(--fill-color);\n",
              "      border-top-color: var(--fill-color);\n",
              "      border-right-color: var(--fill-color);\n",
              "    }\n",
              "    40% {\n",
              "      border-color: transparent;\n",
              "      border-right-color: var(--fill-color);\n",
              "      border-top-color: var(--fill-color);\n",
              "    }\n",
              "    60% {\n",
              "      border-color: transparent;\n",
              "      border-right-color: var(--fill-color);\n",
              "    }\n",
              "    80% {\n",
              "      border-color: transparent;\n",
              "      border-right-color: var(--fill-color);\n",
              "      border-bottom-color: var(--fill-color);\n",
              "    }\n",
              "    90% {\n",
              "      border-color: transparent;\n",
              "      border-bottom-color: var(--fill-color);\n",
              "    }\n",
              "  }\n",
              "</style>\n",
              "\n",
              "  <script>\n",
              "    async function quickchart(key) {\n",
              "      const quickchartButtonEl =\n",
              "        document.querySelector('#' + key + ' button');\n",
              "      quickchartButtonEl.disabled = true;  // To prevent multiple clicks.\n",
              "      quickchartButtonEl.classList.add('colab-df-spinner');\n",
              "      try {\n",
              "        const charts = await google.colab.kernel.invokeFunction(\n",
              "            'suggestCharts', [key], {});\n",
              "      } catch (error) {\n",
              "        console.error('Error during call to suggestCharts:', error);\n",
              "      }\n",
              "      quickchartButtonEl.classList.remove('colab-df-spinner');\n",
              "      quickchartButtonEl.classList.add('colab-df-quickchart-complete');\n",
              "    }\n",
              "    (() => {\n",
              "      let quickchartButtonEl =\n",
              "        document.querySelector('#df-36110de7-6ea7-421c-b40f-9eda27c1e5ff button');\n",
              "      quickchartButtonEl.style.display =\n",
              "        google.colab.kernel.accessAllowed ? 'block' : 'none';\n",
              "    })();\n",
              "  </script>\n",
              "</div>\n",
              "    </div>\n",
              "  </div>\n"
            ]
          },
          "metadata": {},
          "execution_count": 3
        }
      ],
      "source": [
        "data_0.head()"
      ]
    },
    {
      "cell_type": "code",
      "execution_count": 4,
      "metadata": {
        "colab": {
          "base_uri": "https://localhost:8080/"
        },
        "id": "43UU0LfmQ7_J",
        "outputId": "c1b408f6-17c1-429f-c0de-724651f9b95c"
      },
      "outputs": [
        {
          "output_type": "stream",
          "name": "stdout",
          "text": [
            "<class 'pandas.core.frame.DataFrame'>\n",
            "RangeIndex: 100000 entries, 0 to 99999\n",
            "Data columns (total 5 columns):\n",
            " #   Column   Non-Null Count   Dtype  \n",
            "---  ------   --------------   -----  \n",
            " 0   id       100000 non-null  object \n",
            " 1   f0       100000 non-null  float64\n",
            " 2   f1       100000 non-null  float64\n",
            " 3   f2       100000 non-null  float64\n",
            " 4   product  100000 non-null  float64\n",
            "dtypes: float64(4), object(1)\n",
            "memory usage: 3.8+ MB\n"
          ]
        }
      ],
      "source": [
        "data_0.info()"
      ]
    },
    {
      "cell_type": "code",
      "execution_count": 5,
      "metadata": {
        "colab": {
          "base_uri": "https://localhost:8080/",
          "height": 206
        },
        "id": "Dr9QV4x1RAMR",
        "outputId": "18e2eaf0-960c-4004-8799-655aa2439c9c"
      },
      "outputs": [
        {
          "output_type": "execute_result",
          "data": {
            "text/plain": [
              "      id         f0         f1        f2     product\n",
              "0  kBEdx -15.001348  -8.276000 -0.005876    3.179103\n",
              "1  62mP7  14.272088  -3.475083  0.999183   26.953261\n",
              "2  vyE1P   6.263187  -5.948386  5.001160  134.766305\n",
              "3  KcrkZ -13.081196 -11.506057  4.999415  137.945408\n",
              "4  AHL4O  12.702195  -8.147433  5.004363  134.766305"
            ],
            "text/html": [
              "\n",
              "  <div id=\"df-34d1afe7-0432-45ae-985f-87bf7db599c0\" class=\"colab-df-container\">\n",
              "    <div>\n",
              "<style scoped>\n",
              "    .dataframe tbody tr th:only-of-type {\n",
              "        vertical-align: middle;\n",
              "    }\n",
              "\n",
              "    .dataframe tbody tr th {\n",
              "        vertical-align: top;\n",
              "    }\n",
              "\n",
              "    .dataframe thead th {\n",
              "        text-align: right;\n",
              "    }\n",
              "</style>\n",
              "<table border=\"1\" class=\"dataframe\">\n",
              "  <thead>\n",
              "    <tr style=\"text-align: right;\">\n",
              "      <th></th>\n",
              "      <th>id</th>\n",
              "      <th>f0</th>\n",
              "      <th>f1</th>\n",
              "      <th>f2</th>\n",
              "      <th>product</th>\n",
              "    </tr>\n",
              "  </thead>\n",
              "  <tbody>\n",
              "    <tr>\n",
              "      <th>0</th>\n",
              "      <td>kBEdx</td>\n",
              "      <td>-15.001348</td>\n",
              "      <td>-8.276000</td>\n",
              "      <td>-0.005876</td>\n",
              "      <td>3.179103</td>\n",
              "    </tr>\n",
              "    <tr>\n",
              "      <th>1</th>\n",
              "      <td>62mP7</td>\n",
              "      <td>14.272088</td>\n",
              "      <td>-3.475083</td>\n",
              "      <td>0.999183</td>\n",
              "      <td>26.953261</td>\n",
              "    </tr>\n",
              "    <tr>\n",
              "      <th>2</th>\n",
              "      <td>vyE1P</td>\n",
              "      <td>6.263187</td>\n",
              "      <td>-5.948386</td>\n",
              "      <td>5.001160</td>\n",
              "      <td>134.766305</td>\n",
              "    </tr>\n",
              "    <tr>\n",
              "      <th>3</th>\n",
              "      <td>KcrkZ</td>\n",
              "      <td>-13.081196</td>\n",
              "      <td>-11.506057</td>\n",
              "      <td>4.999415</td>\n",
              "      <td>137.945408</td>\n",
              "    </tr>\n",
              "    <tr>\n",
              "      <th>4</th>\n",
              "      <td>AHL4O</td>\n",
              "      <td>12.702195</td>\n",
              "      <td>-8.147433</td>\n",
              "      <td>5.004363</td>\n",
              "      <td>134.766305</td>\n",
              "    </tr>\n",
              "  </tbody>\n",
              "</table>\n",
              "</div>\n",
              "    <div class=\"colab-df-buttons\">\n",
              "\n",
              "  <div class=\"colab-df-container\">\n",
              "    <button class=\"colab-df-convert\" onclick=\"convertToInteractive('df-34d1afe7-0432-45ae-985f-87bf7db599c0')\"\n",
              "            title=\"Convert this dataframe to an interactive table.\"\n",
              "            style=\"display:none;\">\n",
              "\n",
              "  <svg xmlns=\"http://www.w3.org/2000/svg\" height=\"24px\" viewBox=\"0 -960 960 960\">\n",
              "    <path d=\"M120-120v-720h720v720H120Zm60-500h600v-160H180v160Zm220 220h160v-160H400v160Zm0 220h160v-160H400v160ZM180-400h160v-160H180v160Zm440 0h160v-160H620v160ZM180-180h160v-160H180v160Zm440 0h160v-160H620v160Z\"/>\n",
              "  </svg>\n",
              "    </button>\n",
              "\n",
              "  <style>\n",
              "    .colab-df-container {\n",
              "      display:flex;\n",
              "      gap: 12px;\n",
              "    }\n",
              "\n",
              "    .colab-df-convert {\n",
              "      background-color: #E8F0FE;\n",
              "      border: none;\n",
              "      border-radius: 50%;\n",
              "      cursor: pointer;\n",
              "      display: none;\n",
              "      fill: #1967D2;\n",
              "      height: 32px;\n",
              "      padding: 0 0 0 0;\n",
              "      width: 32px;\n",
              "    }\n",
              "\n",
              "    .colab-df-convert:hover {\n",
              "      background-color: #E2EBFA;\n",
              "      box-shadow: 0px 1px 2px rgba(60, 64, 67, 0.3), 0px 1px 3px 1px rgba(60, 64, 67, 0.15);\n",
              "      fill: #174EA6;\n",
              "    }\n",
              "\n",
              "    .colab-df-buttons div {\n",
              "      margin-bottom: 4px;\n",
              "    }\n",
              "\n",
              "    [theme=dark] .colab-df-convert {\n",
              "      background-color: #3B4455;\n",
              "      fill: #D2E3FC;\n",
              "    }\n",
              "\n",
              "    [theme=dark] .colab-df-convert:hover {\n",
              "      background-color: #434B5C;\n",
              "      box-shadow: 0px 1px 3px 1px rgba(0, 0, 0, 0.15);\n",
              "      filter: drop-shadow(0px 1px 2px rgba(0, 0, 0, 0.3));\n",
              "      fill: #FFFFFF;\n",
              "    }\n",
              "  </style>\n",
              "\n",
              "    <script>\n",
              "      const buttonEl =\n",
              "        document.querySelector('#df-34d1afe7-0432-45ae-985f-87bf7db599c0 button.colab-df-convert');\n",
              "      buttonEl.style.display =\n",
              "        google.colab.kernel.accessAllowed ? 'block' : 'none';\n",
              "\n",
              "      async function convertToInteractive(key) {\n",
              "        const element = document.querySelector('#df-34d1afe7-0432-45ae-985f-87bf7db599c0');\n",
              "        const dataTable =\n",
              "          await google.colab.kernel.invokeFunction('convertToInteractive',\n",
              "                                                    [key], {});\n",
              "        if (!dataTable) return;\n",
              "\n",
              "        const docLinkHtml = 'Like what you see? Visit the ' +\n",
              "          '<a target=\"_blank\" href=https://colab.research.google.com/notebooks/data_table.ipynb>data table notebook</a>'\n",
              "          + ' to learn more about interactive tables.';\n",
              "        element.innerHTML = '';\n",
              "        dataTable['output_type'] = 'display_data';\n",
              "        await google.colab.output.renderOutput(dataTable, element);\n",
              "        const docLink = document.createElement('div');\n",
              "        docLink.innerHTML = docLinkHtml;\n",
              "        element.appendChild(docLink);\n",
              "      }\n",
              "    </script>\n",
              "  </div>\n",
              "\n",
              "\n",
              "<div id=\"df-996f507f-5359-406d-a406-4e23b27da335\">\n",
              "  <button class=\"colab-df-quickchart\" onclick=\"quickchart('df-996f507f-5359-406d-a406-4e23b27da335')\"\n",
              "            title=\"Suggest charts.\"\n",
              "            style=\"display:none;\">\n",
              "\n",
              "<svg xmlns=\"http://www.w3.org/2000/svg\" height=\"24px\"viewBox=\"0 0 24 24\"\n",
              "     width=\"24px\">\n",
              "    <g>\n",
              "        <path d=\"M19 3H5c-1.1 0-2 .9-2 2v14c0 1.1.9 2 2 2h14c1.1 0 2-.9 2-2V5c0-1.1-.9-2-2-2zM9 17H7v-7h2v7zm4 0h-2V7h2v10zm4 0h-2v-4h2v4z\"/>\n",
              "    </g>\n",
              "</svg>\n",
              "  </button>\n",
              "\n",
              "<style>\n",
              "  .colab-df-quickchart {\n",
              "      --bg-color: #E8F0FE;\n",
              "      --fill-color: #1967D2;\n",
              "      --hover-bg-color: #E2EBFA;\n",
              "      --hover-fill-color: #174EA6;\n",
              "      --disabled-fill-color: #AAA;\n",
              "      --disabled-bg-color: #DDD;\n",
              "  }\n",
              "\n",
              "  [theme=dark] .colab-df-quickchart {\n",
              "      --bg-color: #3B4455;\n",
              "      --fill-color: #D2E3FC;\n",
              "      --hover-bg-color: #434B5C;\n",
              "      --hover-fill-color: #FFFFFF;\n",
              "      --disabled-bg-color: #3B4455;\n",
              "      --disabled-fill-color: #666;\n",
              "  }\n",
              "\n",
              "  .colab-df-quickchart {\n",
              "    background-color: var(--bg-color);\n",
              "    border: none;\n",
              "    border-radius: 50%;\n",
              "    cursor: pointer;\n",
              "    display: none;\n",
              "    fill: var(--fill-color);\n",
              "    height: 32px;\n",
              "    padding: 0;\n",
              "    width: 32px;\n",
              "  }\n",
              "\n",
              "  .colab-df-quickchart:hover {\n",
              "    background-color: var(--hover-bg-color);\n",
              "    box-shadow: 0 1px 2px rgba(60, 64, 67, 0.3), 0 1px 3px 1px rgba(60, 64, 67, 0.15);\n",
              "    fill: var(--button-hover-fill-color);\n",
              "  }\n",
              "\n",
              "  .colab-df-quickchart-complete:disabled,\n",
              "  .colab-df-quickchart-complete:disabled:hover {\n",
              "    background-color: var(--disabled-bg-color);\n",
              "    fill: var(--disabled-fill-color);\n",
              "    box-shadow: none;\n",
              "  }\n",
              "\n",
              "  .colab-df-spinner {\n",
              "    border: 2px solid var(--fill-color);\n",
              "    border-color: transparent;\n",
              "    border-bottom-color: var(--fill-color);\n",
              "    animation:\n",
              "      spin 1s steps(1) infinite;\n",
              "  }\n",
              "\n",
              "  @keyframes spin {\n",
              "    0% {\n",
              "      border-color: transparent;\n",
              "      border-bottom-color: var(--fill-color);\n",
              "      border-left-color: var(--fill-color);\n",
              "    }\n",
              "    20% {\n",
              "      border-color: transparent;\n",
              "      border-left-color: var(--fill-color);\n",
              "      border-top-color: var(--fill-color);\n",
              "    }\n",
              "    30% {\n",
              "      border-color: transparent;\n",
              "      border-left-color: var(--fill-color);\n",
              "      border-top-color: var(--fill-color);\n",
              "      border-right-color: var(--fill-color);\n",
              "    }\n",
              "    40% {\n",
              "      border-color: transparent;\n",
              "      border-right-color: var(--fill-color);\n",
              "      border-top-color: var(--fill-color);\n",
              "    }\n",
              "    60% {\n",
              "      border-color: transparent;\n",
              "      border-right-color: var(--fill-color);\n",
              "    }\n",
              "    80% {\n",
              "      border-color: transparent;\n",
              "      border-right-color: var(--fill-color);\n",
              "      border-bottom-color: var(--fill-color);\n",
              "    }\n",
              "    90% {\n",
              "      border-color: transparent;\n",
              "      border-bottom-color: var(--fill-color);\n",
              "    }\n",
              "  }\n",
              "</style>\n",
              "\n",
              "  <script>\n",
              "    async function quickchart(key) {\n",
              "      const quickchartButtonEl =\n",
              "        document.querySelector('#' + key + ' button');\n",
              "      quickchartButtonEl.disabled = true;  // To prevent multiple clicks.\n",
              "      quickchartButtonEl.classList.add('colab-df-spinner');\n",
              "      try {\n",
              "        const charts = await google.colab.kernel.invokeFunction(\n",
              "            'suggestCharts', [key], {});\n",
              "      } catch (error) {\n",
              "        console.error('Error during call to suggestCharts:', error);\n",
              "      }\n",
              "      quickchartButtonEl.classList.remove('colab-df-spinner');\n",
              "      quickchartButtonEl.classList.add('colab-df-quickchart-complete');\n",
              "    }\n",
              "    (() => {\n",
              "      let quickchartButtonEl =\n",
              "        document.querySelector('#df-996f507f-5359-406d-a406-4e23b27da335 button');\n",
              "      quickchartButtonEl.style.display =\n",
              "        google.colab.kernel.accessAllowed ? 'block' : 'none';\n",
              "    })();\n",
              "  </script>\n",
              "</div>\n",
              "    </div>\n",
              "  </div>\n"
            ]
          },
          "metadata": {},
          "execution_count": 5
        }
      ],
      "source": [
        "data_1.head()"
      ]
    },
    {
      "cell_type": "code",
      "execution_count": 6,
      "metadata": {
        "colab": {
          "base_uri": "https://localhost:8080/"
        },
        "id": "BTmhls_XRDii",
        "outputId": "2e359722-0fdb-45de-eda1-14e09169fa8d"
      },
      "outputs": [
        {
          "output_type": "stream",
          "name": "stdout",
          "text": [
            "<class 'pandas.core.frame.DataFrame'>\n",
            "RangeIndex: 100000 entries, 0 to 99999\n",
            "Data columns (total 5 columns):\n",
            " #   Column   Non-Null Count   Dtype  \n",
            "---  ------   --------------   -----  \n",
            " 0   id       100000 non-null  object \n",
            " 1   f0       100000 non-null  float64\n",
            " 2   f1       100000 non-null  float64\n",
            " 3   f2       100000 non-null  float64\n",
            " 4   product  100000 non-null  float64\n",
            "dtypes: float64(4), object(1)\n",
            "memory usage: 3.8+ MB\n"
          ]
        }
      ],
      "source": [
        "data_1.info()"
      ]
    },
    {
      "cell_type": "code",
      "execution_count": 7,
      "metadata": {
        "colab": {
          "base_uri": "https://localhost:8080/",
          "height": 206
        },
        "id": "ek8fOFxZRHM5",
        "outputId": "0b111a8d-32b6-4457-c8b8-44bc56c3b918"
      },
      "outputs": [
        {
          "output_type": "execute_result",
          "data": {
            "text/plain": [
              "      id        f0        f1        f2     product\n",
              "0  fwXo0 -1.146987  0.963328 -0.828965   27.758673\n",
              "1  WJtFt  0.262778  0.269839 -2.530187   56.069697\n",
              "2  ovLUW  0.194587  0.289035 -5.586433   62.871910\n",
              "3  q6cA6  2.236060 -0.553760  0.930038  114.572842\n",
              "4  WPMUX -0.515993  1.716266  5.899011  149.600746"
            ],
            "text/html": [
              "\n",
              "  <div id=\"df-0464803b-4610-404b-b8c5-8690e17f639e\" class=\"colab-df-container\">\n",
              "    <div>\n",
              "<style scoped>\n",
              "    .dataframe tbody tr th:only-of-type {\n",
              "        vertical-align: middle;\n",
              "    }\n",
              "\n",
              "    .dataframe tbody tr th {\n",
              "        vertical-align: top;\n",
              "    }\n",
              "\n",
              "    .dataframe thead th {\n",
              "        text-align: right;\n",
              "    }\n",
              "</style>\n",
              "<table border=\"1\" class=\"dataframe\">\n",
              "  <thead>\n",
              "    <tr style=\"text-align: right;\">\n",
              "      <th></th>\n",
              "      <th>id</th>\n",
              "      <th>f0</th>\n",
              "      <th>f1</th>\n",
              "      <th>f2</th>\n",
              "      <th>product</th>\n",
              "    </tr>\n",
              "  </thead>\n",
              "  <tbody>\n",
              "    <tr>\n",
              "      <th>0</th>\n",
              "      <td>fwXo0</td>\n",
              "      <td>-1.146987</td>\n",
              "      <td>0.963328</td>\n",
              "      <td>-0.828965</td>\n",
              "      <td>27.758673</td>\n",
              "    </tr>\n",
              "    <tr>\n",
              "      <th>1</th>\n",
              "      <td>WJtFt</td>\n",
              "      <td>0.262778</td>\n",
              "      <td>0.269839</td>\n",
              "      <td>-2.530187</td>\n",
              "      <td>56.069697</td>\n",
              "    </tr>\n",
              "    <tr>\n",
              "      <th>2</th>\n",
              "      <td>ovLUW</td>\n",
              "      <td>0.194587</td>\n",
              "      <td>0.289035</td>\n",
              "      <td>-5.586433</td>\n",
              "      <td>62.871910</td>\n",
              "    </tr>\n",
              "    <tr>\n",
              "      <th>3</th>\n",
              "      <td>q6cA6</td>\n",
              "      <td>2.236060</td>\n",
              "      <td>-0.553760</td>\n",
              "      <td>0.930038</td>\n",
              "      <td>114.572842</td>\n",
              "    </tr>\n",
              "    <tr>\n",
              "      <th>4</th>\n",
              "      <td>WPMUX</td>\n",
              "      <td>-0.515993</td>\n",
              "      <td>1.716266</td>\n",
              "      <td>5.899011</td>\n",
              "      <td>149.600746</td>\n",
              "    </tr>\n",
              "  </tbody>\n",
              "</table>\n",
              "</div>\n",
              "    <div class=\"colab-df-buttons\">\n",
              "\n",
              "  <div class=\"colab-df-container\">\n",
              "    <button class=\"colab-df-convert\" onclick=\"convertToInteractive('df-0464803b-4610-404b-b8c5-8690e17f639e')\"\n",
              "            title=\"Convert this dataframe to an interactive table.\"\n",
              "            style=\"display:none;\">\n",
              "\n",
              "  <svg xmlns=\"http://www.w3.org/2000/svg\" height=\"24px\" viewBox=\"0 -960 960 960\">\n",
              "    <path d=\"M120-120v-720h720v720H120Zm60-500h600v-160H180v160Zm220 220h160v-160H400v160Zm0 220h160v-160H400v160ZM180-400h160v-160H180v160Zm440 0h160v-160H620v160ZM180-180h160v-160H180v160Zm440 0h160v-160H620v160Z\"/>\n",
              "  </svg>\n",
              "    </button>\n",
              "\n",
              "  <style>\n",
              "    .colab-df-container {\n",
              "      display:flex;\n",
              "      gap: 12px;\n",
              "    }\n",
              "\n",
              "    .colab-df-convert {\n",
              "      background-color: #E8F0FE;\n",
              "      border: none;\n",
              "      border-radius: 50%;\n",
              "      cursor: pointer;\n",
              "      display: none;\n",
              "      fill: #1967D2;\n",
              "      height: 32px;\n",
              "      padding: 0 0 0 0;\n",
              "      width: 32px;\n",
              "    }\n",
              "\n",
              "    .colab-df-convert:hover {\n",
              "      background-color: #E2EBFA;\n",
              "      box-shadow: 0px 1px 2px rgba(60, 64, 67, 0.3), 0px 1px 3px 1px rgba(60, 64, 67, 0.15);\n",
              "      fill: #174EA6;\n",
              "    }\n",
              "\n",
              "    .colab-df-buttons div {\n",
              "      margin-bottom: 4px;\n",
              "    }\n",
              "\n",
              "    [theme=dark] .colab-df-convert {\n",
              "      background-color: #3B4455;\n",
              "      fill: #D2E3FC;\n",
              "    }\n",
              "\n",
              "    [theme=dark] .colab-df-convert:hover {\n",
              "      background-color: #434B5C;\n",
              "      box-shadow: 0px 1px 3px 1px rgba(0, 0, 0, 0.15);\n",
              "      filter: drop-shadow(0px 1px 2px rgba(0, 0, 0, 0.3));\n",
              "      fill: #FFFFFF;\n",
              "    }\n",
              "  </style>\n",
              "\n",
              "    <script>\n",
              "      const buttonEl =\n",
              "        document.querySelector('#df-0464803b-4610-404b-b8c5-8690e17f639e button.colab-df-convert');\n",
              "      buttonEl.style.display =\n",
              "        google.colab.kernel.accessAllowed ? 'block' : 'none';\n",
              "\n",
              "      async function convertToInteractive(key) {\n",
              "        const element = document.querySelector('#df-0464803b-4610-404b-b8c5-8690e17f639e');\n",
              "        const dataTable =\n",
              "          await google.colab.kernel.invokeFunction('convertToInteractive',\n",
              "                                                    [key], {});\n",
              "        if (!dataTable) return;\n",
              "\n",
              "        const docLinkHtml = 'Like what you see? Visit the ' +\n",
              "          '<a target=\"_blank\" href=https://colab.research.google.com/notebooks/data_table.ipynb>data table notebook</a>'\n",
              "          + ' to learn more about interactive tables.';\n",
              "        element.innerHTML = '';\n",
              "        dataTable['output_type'] = 'display_data';\n",
              "        await google.colab.output.renderOutput(dataTable, element);\n",
              "        const docLink = document.createElement('div');\n",
              "        docLink.innerHTML = docLinkHtml;\n",
              "        element.appendChild(docLink);\n",
              "      }\n",
              "    </script>\n",
              "  </div>\n",
              "\n",
              "\n",
              "<div id=\"df-f849b56b-d363-4894-a692-50158560618e\">\n",
              "  <button class=\"colab-df-quickchart\" onclick=\"quickchart('df-f849b56b-d363-4894-a692-50158560618e')\"\n",
              "            title=\"Suggest charts.\"\n",
              "            style=\"display:none;\">\n",
              "\n",
              "<svg xmlns=\"http://www.w3.org/2000/svg\" height=\"24px\"viewBox=\"0 0 24 24\"\n",
              "     width=\"24px\">\n",
              "    <g>\n",
              "        <path d=\"M19 3H5c-1.1 0-2 .9-2 2v14c0 1.1.9 2 2 2h14c1.1 0 2-.9 2-2V5c0-1.1-.9-2-2-2zM9 17H7v-7h2v7zm4 0h-2V7h2v10zm4 0h-2v-4h2v4z\"/>\n",
              "    </g>\n",
              "</svg>\n",
              "  </button>\n",
              "\n",
              "<style>\n",
              "  .colab-df-quickchart {\n",
              "      --bg-color: #E8F0FE;\n",
              "      --fill-color: #1967D2;\n",
              "      --hover-bg-color: #E2EBFA;\n",
              "      --hover-fill-color: #174EA6;\n",
              "      --disabled-fill-color: #AAA;\n",
              "      --disabled-bg-color: #DDD;\n",
              "  }\n",
              "\n",
              "  [theme=dark] .colab-df-quickchart {\n",
              "      --bg-color: #3B4455;\n",
              "      --fill-color: #D2E3FC;\n",
              "      --hover-bg-color: #434B5C;\n",
              "      --hover-fill-color: #FFFFFF;\n",
              "      --disabled-bg-color: #3B4455;\n",
              "      --disabled-fill-color: #666;\n",
              "  }\n",
              "\n",
              "  .colab-df-quickchart {\n",
              "    background-color: var(--bg-color);\n",
              "    border: none;\n",
              "    border-radius: 50%;\n",
              "    cursor: pointer;\n",
              "    display: none;\n",
              "    fill: var(--fill-color);\n",
              "    height: 32px;\n",
              "    padding: 0;\n",
              "    width: 32px;\n",
              "  }\n",
              "\n",
              "  .colab-df-quickchart:hover {\n",
              "    background-color: var(--hover-bg-color);\n",
              "    box-shadow: 0 1px 2px rgba(60, 64, 67, 0.3), 0 1px 3px 1px rgba(60, 64, 67, 0.15);\n",
              "    fill: var(--button-hover-fill-color);\n",
              "  }\n",
              "\n",
              "  .colab-df-quickchart-complete:disabled,\n",
              "  .colab-df-quickchart-complete:disabled:hover {\n",
              "    background-color: var(--disabled-bg-color);\n",
              "    fill: var(--disabled-fill-color);\n",
              "    box-shadow: none;\n",
              "  }\n",
              "\n",
              "  .colab-df-spinner {\n",
              "    border: 2px solid var(--fill-color);\n",
              "    border-color: transparent;\n",
              "    border-bottom-color: var(--fill-color);\n",
              "    animation:\n",
              "      spin 1s steps(1) infinite;\n",
              "  }\n",
              "\n",
              "  @keyframes spin {\n",
              "    0% {\n",
              "      border-color: transparent;\n",
              "      border-bottom-color: var(--fill-color);\n",
              "      border-left-color: var(--fill-color);\n",
              "    }\n",
              "    20% {\n",
              "      border-color: transparent;\n",
              "      border-left-color: var(--fill-color);\n",
              "      border-top-color: var(--fill-color);\n",
              "    }\n",
              "    30% {\n",
              "      border-color: transparent;\n",
              "      border-left-color: var(--fill-color);\n",
              "      border-top-color: var(--fill-color);\n",
              "      border-right-color: var(--fill-color);\n",
              "    }\n",
              "    40% {\n",
              "      border-color: transparent;\n",
              "      border-right-color: var(--fill-color);\n",
              "      border-top-color: var(--fill-color);\n",
              "    }\n",
              "    60% {\n",
              "      border-color: transparent;\n",
              "      border-right-color: var(--fill-color);\n",
              "    }\n",
              "    80% {\n",
              "      border-color: transparent;\n",
              "      border-right-color: var(--fill-color);\n",
              "      border-bottom-color: var(--fill-color);\n",
              "    }\n",
              "    90% {\n",
              "      border-color: transparent;\n",
              "      border-bottom-color: var(--fill-color);\n",
              "    }\n",
              "  }\n",
              "</style>\n",
              "\n",
              "  <script>\n",
              "    async function quickchart(key) {\n",
              "      const quickchartButtonEl =\n",
              "        document.querySelector('#' + key + ' button');\n",
              "      quickchartButtonEl.disabled = true;  // To prevent multiple clicks.\n",
              "      quickchartButtonEl.classList.add('colab-df-spinner');\n",
              "      try {\n",
              "        const charts = await google.colab.kernel.invokeFunction(\n",
              "            'suggestCharts', [key], {});\n",
              "      } catch (error) {\n",
              "        console.error('Error during call to suggestCharts:', error);\n",
              "      }\n",
              "      quickchartButtonEl.classList.remove('colab-df-spinner');\n",
              "      quickchartButtonEl.classList.add('colab-df-quickchart-complete');\n",
              "    }\n",
              "    (() => {\n",
              "      let quickchartButtonEl =\n",
              "        document.querySelector('#df-f849b56b-d363-4894-a692-50158560618e button');\n",
              "      quickchartButtonEl.style.display =\n",
              "        google.colab.kernel.accessAllowed ? 'block' : 'none';\n",
              "    })();\n",
              "  </script>\n",
              "</div>\n",
              "    </div>\n",
              "  </div>\n"
            ]
          },
          "metadata": {},
          "execution_count": 7
        }
      ],
      "source": [
        "data_2.head()"
      ]
    },
    {
      "cell_type": "code",
      "execution_count": 8,
      "metadata": {
        "colab": {
          "base_uri": "https://localhost:8080/"
        },
        "id": "qEZQ25NKRKZJ",
        "outputId": "96a25cfd-a8c8-4ce1-fcd2-43f42b437cac"
      },
      "outputs": [
        {
          "output_type": "stream",
          "name": "stdout",
          "text": [
            "<class 'pandas.core.frame.DataFrame'>\n",
            "RangeIndex: 100000 entries, 0 to 99999\n",
            "Data columns (total 5 columns):\n",
            " #   Column   Non-Null Count   Dtype  \n",
            "---  ------   --------------   -----  \n",
            " 0   id       100000 non-null  object \n",
            " 1   f0       100000 non-null  float64\n",
            " 2   f1       100000 non-null  float64\n",
            " 3   f2       100000 non-null  float64\n",
            " 4   product  100000 non-null  float64\n",
            "dtypes: float64(4), object(1)\n",
            "memory usage: 3.8+ MB\n"
          ]
        }
      ],
      "source": [
        "data_2.info()"
      ]
    },
    {
      "cell_type": "markdown",
      "metadata": {
        "id": "uIrCeTfGmyj8"
      },
      "source": [
        "**1.2 Проверим датасеты на наличие дубликатов**"
      ]
    },
    {
      "cell_type": "code",
      "execution_count": 9,
      "metadata": {
        "colab": {
          "base_uri": "https://localhost:8080/"
        },
        "id": "TC1oZg4DRoYC",
        "outputId": "1af4faa3-bbd0-4c18-895a-0153d4c5fb0c"
      },
      "outputs": [
        {
          "output_type": "execute_result",
          "data": {
            "text/plain": [
              "0"
            ]
          },
          "metadata": {},
          "execution_count": 9
        }
      ],
      "source": [
        "data_0.duplicated().sum()"
      ]
    },
    {
      "cell_type": "code",
      "execution_count": 10,
      "metadata": {
        "colab": {
          "base_uri": "https://localhost:8080/"
        },
        "id": "uibcIqtZRw6q",
        "outputId": "97142e7f-5ffa-4cec-e237-4d9041abe913"
      },
      "outputs": [
        {
          "output_type": "execute_result",
          "data": {
            "text/plain": [
              "0"
            ]
          },
          "metadata": {},
          "execution_count": 10
        }
      ],
      "source": [
        "data_1.duplicated().sum()"
      ]
    },
    {
      "cell_type": "code",
      "execution_count": 11,
      "metadata": {
        "colab": {
          "base_uri": "https://localhost:8080/"
        },
        "id": "kTann9foRzRy",
        "outputId": "76ce7334-bb5d-4405-821e-98ad4158f77d"
      },
      "outputs": [
        {
          "output_type": "execute_result",
          "data": {
            "text/plain": [
              "0"
            ]
          },
          "metadata": {},
          "execution_count": 11
        }
      ],
      "source": [
        "data_2.duplicated().sum()"
      ]
    },
    {
      "cell_type": "markdown",
      "metadata": {
        "id": "OHuekuVVm2h0"
      },
      "source": [
        "**1.3 Выделим признаки и целевые признаки**"
      ]
    },
    {
      "cell_type": "code",
      "execution_count": 12,
      "metadata": {
        "id": "Ivhkd7YFWe5C"
      },
      "outputs": [],
      "source": [
        "target_0 = data_0['product']\n",
        "\n",
        "# Также удалим ненужный столбец id:\n",
        "features_0 = data_0.drop(['id', 'product'], axis=1)"
      ]
    },
    {
      "cell_type": "code",
      "execution_count": 13,
      "metadata": {
        "id": "ooZoHVQRpLz7"
      },
      "outputs": [],
      "source": [
        "target_1 = data_1['product']\n",
        "features_1 = data_1.drop(['id', 'product'], axis=1)"
      ]
    },
    {
      "cell_type": "code",
      "execution_count": 14,
      "metadata": {
        "id": "64pYbTFFpMTi"
      },
      "outputs": [],
      "source": [
        "target_2 = data_2['product']\n",
        "features_2 = data_2.drop(['id', 'product'], axis=1)"
      ]
    },
    {
      "cell_type": "markdown",
      "metadata": {
        "id": "BxTxm7XMgOpV"
      },
      "source": [
        "**Вывод:** В ходе подготовки данных датасеты были проверены на наличие пропусков и дубликатов; удален столбец id; выделены признаки и целевой признак."
      ]
    },
    {
      "cell_type": "markdown",
      "metadata": {
        "id": "uVd_E1IuOgMU"
      },
      "source": [
        "## Обучение и проверка модели"
      ]
    },
    {
      "cell_type": "markdown",
      "metadata": {
        "id": "2vMG7BvfnMK0"
      },
      "source": [
        "**2.1 Обучение модели для первого региона**"
      ]
    },
    {
      "cell_type": "code",
      "execution_count": 15,
      "metadata": {
        "id": "NgARHvSTUgVa"
      },
      "outputs": [],
      "source": [
        "# Разделим датасет на обучающую и валидационную выборки:\n",
        "\n",
        "features_0_train, features_0_valid, target_0_train, target_0_valid = train_test_split(features_0, target_0, test_size=0.25, random_state=12345)"
      ]
    },
    {
      "cell_type": "code",
      "execution_count": 16,
      "metadata": {
        "id": "W9WywCopOgMU"
      },
      "outputs": [],
      "source": [
        "# Инициализируем модель LinearRegression:\n",
        "model = LinearRegression()\n",
        "\n",
        "# Обучим модель на тренировочной выборке:\n",
        "model.fit(features_0_train, target_0_train)\n",
        "\n",
        "# Получим предсказания модели на валидационной выборке:\n",
        "predictions_0_valid = model.predict(features_0_valid)"
      ]
    },
    {
      "cell_type": "code",
      "execution_count": 17,
      "metadata": {
        "colab": {
          "base_uri": "https://localhost:8080/"
        },
        "id": "kBQ_7eM4lxNr",
        "outputId": "c4509b10-36ea-44dd-ede6-1c478e6ba190"
      },
      "outputs": [
        {
          "output_type": "execute_result",
          "data": {
            "text/plain": [
              "0         95.894952\n",
              "1         77.572583\n",
              "2         77.892640\n",
              "3         90.175134\n",
              "4         70.510088\n",
              "            ...    \n",
              "24995    103.037104\n",
              "24996     85.403255\n",
              "24997     61.509833\n",
              "24998    118.180397\n",
              "24999    118.169392\n",
              "Length: 25000, dtype: float64"
            ]
          },
          "metadata": {},
          "execution_count": 17
        }
      ],
      "source": [
        "# Преобразуем полученные предсказания в Series:\n",
        "predictions_0_valid = pd.Series(predictions_0_valid)\n",
        "\n",
        "# И выведем на экран:\n",
        "predictions_0_valid"
      ]
    },
    {
      "cell_type": "code",
      "execution_count": 18,
      "metadata": {
        "colab": {
          "base_uri": "https://localhost:8080/"
        },
        "id": "DyayRfdVl6XU",
        "outputId": "43ff9604-6be2-4bf4-d2dd-ed0b2e97dfa1"
      },
      "outputs": [
        {
          "output_type": "execute_result",
          "data": {
            "text/plain": [
              "0         10.038645\n",
              "1        114.551489\n",
              "2        132.603635\n",
              "3        169.072125\n",
              "4        122.325180\n",
              "            ...    \n",
              "24995    170.116726\n",
              "24996     93.632175\n",
              "24997    127.352259\n",
              "24998     99.782700\n",
              "24999    177.821022\n",
              "Name: product, Length: 25000, dtype: float64"
            ]
          },
          "metadata": {},
          "execution_count": 18
        }
      ],
      "source": [
        "# Перенумеруем и выведем на экран правильные ответы на валидационной выборке:\n",
        "\n",
        "target_0_valid = target_0_valid.reset_index(drop=True)\n",
        "target_0_valid"
      ]
    },
    {
      "cell_type": "code",
      "execution_count": 19,
      "metadata": {
        "colab": {
          "base_uri": "https://localhost:8080/"
        },
        "id": "_fZuo7MWncvr",
        "outputId": "fa843e0f-84b7-4813-9b49-d87e84d10214"
      },
      "outputs": [
        {
          "output_type": "execute_result",
          "data": {
            "text/plain": [
              "92.59256778438035"
            ]
          },
          "metadata": {},
          "execution_count": 19
        }
      ],
      "source": [
        "# Определим средний запас предсказанного сырья:\n",
        "\n",
        "predictions_0_valid.mean()"
      ]
    },
    {
      "cell_type": "code",
      "execution_count": 20,
      "metadata": {
        "colab": {
          "base_uri": "https://localhost:8080/"
        },
        "id": "CerDKcLlltIs",
        "outputId": "e682a8e1-3f0a-431f-a183-a9c9cccfc6d9"
      },
      "outputs": [
        {
          "output_type": "stream",
          "name": "stdout",
          "text": [
            "RMSE модели линейной регрессии на валидационной выборке 0: 37.5794217150813\n"
          ]
        }
      ],
      "source": [
        "# Посчитаем значение метрики RMSE на валидационной выборке:\n",
        "\n",
        "print(\"RMSE модели линейной регрессии на валидационной выборке 0:\", mean_squared_error(target_0_valid, predictions_0_valid)**0.5)"
      ]
    },
    {
      "cell_type": "markdown",
      "metadata": {
        "id": "XcjlfR-SnaH9"
      },
      "source": [
        "**2.2 Обучение модели для второго региона**"
      ]
    },
    {
      "cell_type": "code",
      "execution_count": 21,
      "metadata": {
        "id": "NMQRlIQMpoHk"
      },
      "outputs": [],
      "source": [
        "features_1_train, features_1_valid, target_1_train, target_1_valid = train_test_split(features_1, target_1, test_size=0.25, random_state=12345)"
      ]
    },
    {
      "cell_type": "code",
      "execution_count": 22,
      "metadata": {
        "id": "sFp71WxSpreT"
      },
      "outputs": [],
      "source": [
        "model = LinearRegression()\n",
        "model.fit(features_1_train, target_1_train)\n",
        "predictions_1_valid = model.predict(features_1_valid)"
      ]
    },
    {
      "cell_type": "code",
      "execution_count": 23,
      "metadata": {
        "colab": {
          "base_uri": "https://localhost:8080/"
        },
        "id": "RF6Go78sp5VD",
        "outputId": "7243e6ae-3734-4b3e-e2f3-66856a3c620c"
      },
      "outputs": [
        {
          "output_type": "execute_result",
          "data": {
            "text/plain": [
              "0         82.663314\n",
              "1         54.431786\n",
              "2         29.748760\n",
              "3         53.552133\n",
              "4          1.243856\n",
              "            ...    \n",
              "24995    136.869211\n",
              "24996    110.693465\n",
              "24997    137.879341\n",
              "24998     83.761966\n",
              "24999     53.958466\n",
              "Length: 25000, dtype: float64"
            ]
          },
          "metadata": {},
          "execution_count": 23
        }
      ],
      "source": [
        "predictions_1_valid = pd.Series(predictions_1_valid)\n",
        "predictions_1_valid"
      ]
    },
    {
      "cell_type": "code",
      "execution_count": 24,
      "metadata": {
        "colab": {
          "base_uri": "https://localhost:8080/"
        },
        "id": "ajTqZVSOp8rT",
        "outputId": "5f14070b-ccb9-4a0d-e5dc-8c979d10910f"
      },
      "outputs": [
        {
          "output_type": "execute_result",
          "data": {
            "text/plain": [
              "0         80.859783\n",
              "1         53.906522\n",
              "2         30.132364\n",
              "3         53.906522\n",
              "4          0.000000\n",
              "            ...    \n",
              "24995    137.945408\n",
              "24996    110.992147\n",
              "24997    137.945408\n",
              "24998     84.038886\n",
              "24999     53.906522\n",
              "Name: product, Length: 25000, dtype: float64"
            ]
          },
          "metadata": {},
          "execution_count": 24
        }
      ],
      "source": [
        "target_1_valid = target_1_valid.reset_index(drop=True)\n",
        "target_1_valid"
      ]
    },
    {
      "cell_type": "code",
      "execution_count": 25,
      "metadata": {
        "colab": {
          "base_uri": "https://localhost:8080/"
        },
        "id": "3xUH1_69p_UT",
        "outputId": "302dceda-5797-4e0c-c0d2-6370104f59c7"
      },
      "outputs": [
        {
          "output_type": "execute_result",
          "data": {
            "text/plain": [
              "68.728546895446"
            ]
          },
          "metadata": {},
          "execution_count": 25
        }
      ],
      "source": [
        "predictions_1_valid.mean()"
      ]
    },
    {
      "cell_type": "code",
      "execution_count": 26,
      "metadata": {
        "colab": {
          "base_uri": "https://localhost:8080/"
        },
        "id": "Ygfipu8_qDAT",
        "outputId": "153c9609-29ca-4e61-cf4d-0f40180a3cd3"
      },
      "outputs": [
        {
          "output_type": "stream",
          "name": "stdout",
          "text": [
            "RMSE модели линейной регрессии на валидационной выборке 1: 0.893099286775617\n"
          ]
        }
      ],
      "source": [
        "print(\"RMSE модели линейной регрессии на валидационной выборке 1:\", mean_squared_error(target_1_valid, predictions_1_valid)**0.5)"
      ]
    },
    {
      "cell_type": "markdown",
      "metadata": {
        "id": "hRsCzJdong2s"
      },
      "source": [
        "**2.3 Обучение модели для третьего региона**"
      ]
    },
    {
      "cell_type": "code",
      "execution_count": 27,
      "metadata": {
        "id": "tyonRlIzpoqr"
      },
      "outputs": [],
      "source": [
        "features_2_train, features_2_valid, target_2_train, target_2_valid = train_test_split(features_2, target_2, test_size=0.25, random_state=12345)"
      ]
    },
    {
      "cell_type": "code",
      "execution_count": 28,
      "metadata": {
        "id": "0tx_wJYYpsDj"
      },
      "outputs": [],
      "source": [
        "model = LinearRegression()\n",
        "model.fit(features_2_train, target_2_train)\n",
        "predictions_2_valid = model.predict(features_2_valid)"
      ]
    },
    {
      "cell_type": "code",
      "execution_count": 29,
      "metadata": {
        "colab": {
          "base_uri": "https://localhost:8080/"
        },
        "id": "1pTbkAeIvKJT",
        "outputId": "b959fa3c-f6e3-4a79-ef2c-12eefa76b947"
      },
      "outputs": [
        {
          "output_type": "execute_result",
          "data": {
            "text/plain": [
              "array([ 93.59963303,  75.10515854,  90.06680936, ...,  99.40728116,\n",
              "        77.77991248, 129.03241718])"
            ]
          },
          "metadata": {},
          "execution_count": 29
        }
      ],
      "source": [
        "predictions_2_valid"
      ]
    },
    {
      "cell_type": "code",
      "execution_count": 30,
      "metadata": {
        "colab": {
          "base_uri": "https://localhost:8080/"
        },
        "id": "5G6uaTm-p6CD",
        "outputId": "5494e9a5-a366-4355-b7d0-db3697fedaa9"
      },
      "outputs": [
        {
          "output_type": "execute_result",
          "data": {
            "text/plain": [
              "0         93.599633\n",
              "1         75.105159\n",
              "2         90.066809\n",
              "3        105.162375\n",
              "4        115.303310\n",
              "            ...    \n",
              "24995     78.765887\n",
              "24996     95.603394\n",
              "24997     99.407281\n",
              "24998     77.779912\n",
              "24999    129.032417\n",
              "Length: 25000, dtype: float64"
            ]
          },
          "metadata": {},
          "execution_count": 30
        }
      ],
      "source": [
        "predictions_2_valid = pd.Series(predictions_2_valid)\n",
        "predictions_2_valid"
      ]
    },
    {
      "cell_type": "code",
      "execution_count": 31,
      "metadata": {
        "colab": {
          "base_uri": "https://localhost:8080/"
        },
        "id": "uEcFi-tMuIVK",
        "outputId": "7051ee31-0c40-4ed7-e768-038ad41d5d0c"
      },
      "outputs": [
        {
          "output_type": "execute_result",
          "data": {
            "text/plain": [
              "0         61.212375\n",
              "1         41.850118\n",
              "2         57.776581\n",
              "3        100.053761\n",
              "4        109.897122\n",
              "            ...    \n",
              "24995     28.492402\n",
              "24996     21.431303\n",
              "24997    125.487229\n",
              "24998     99.422903\n",
              "24999    127.445075\n",
              "Name: product, Length: 25000, dtype: float64"
            ]
          },
          "metadata": {},
          "execution_count": 31
        }
      ],
      "source": [
        "target_2_valid = target_2_valid.reset_index(drop=True)\n",
        "target_2_valid"
      ]
    },
    {
      "cell_type": "code",
      "execution_count": 32,
      "metadata": {
        "colab": {
          "base_uri": "https://localhost:8080/"
        },
        "id": "g2C-7GqIp_5D",
        "outputId": "2c48c9b4-90a1-415b-a82c-23c842d1ff26"
      },
      "outputs": [
        {
          "output_type": "execute_result",
          "data": {
            "text/plain": [
              "94.96504596800489"
            ]
          },
          "metadata": {},
          "execution_count": 32
        }
      ],
      "source": [
        "predictions_2_valid.mean()"
      ]
    },
    {
      "cell_type": "code",
      "execution_count": 33,
      "metadata": {
        "colab": {
          "base_uri": "https://localhost:8080/"
        },
        "id": "f1B3KKpTqDyD",
        "outputId": "901ef022-0b8e-4128-fee6-1c2e58ba2c96"
      },
      "outputs": [
        {
          "output_type": "stream",
          "name": "stdout",
          "text": [
            "RMSE модели линейной регрессии на валидационной выборке 2: 40.02970873393434\n"
          ]
        }
      ],
      "source": [
        "print(\"RMSE модели линейной регрессии на валидационной выборке 2:\", mean_squared_error(target_2_valid, predictions_2_valid)**0.5)"
      ]
    },
    {
      "cell_type": "markdown",
      "metadata": {
        "id": "VgtS8TtR8wQm"
      },
      "source": [
        "**Вывод:** В результате обучения модели на валидационной выборке, самый высокий средний запас предсказанного сырья демонстрирует третий регион. Его показатель составил 94,97 тысяч баррелей. Корень из средней квадратичной ошибки - примерно 40 тысяч баррелей. Немного отстает регион номер один: 92,59 тысяч. RMSE около 38-ми. При максимальном значении среднего запаса около 165-ти тысяч баррелей, это выглядит правдоподобно. Но второй регион с самым низким предсказанным сырьем 68,73 тысячи баррелей показывает корень из средней квадратичной ошибки всего 0,89. Возможно, стоит обратить на него внимание."
      ]
    },
    {
      "cell_type": "markdown",
      "metadata": {
        "id": "IY2314VMOgMU"
      },
      "source": [
        "## Подготовка к расчёту прибыли"
      ]
    },
    {
      "cell_type": "markdown",
      "metadata": {
        "id": "3IVkexnYnq8s"
      },
      "source": [
        "**3.1 Сохраним ключевые значения для расчетов в отдельных переменных**"
      ]
    },
    {
      "cell_type": "code",
      "execution_count": 34,
      "metadata": {
        "id": "egVymMdlAIMm"
      },
      "outputs": [],
      "source": [
        "BUDGET = 10000000000\n",
        "WELL_NUMBER = 200\n",
        "UNIT_PROFIT = 450000"
      ]
    },
    {
      "cell_type": "markdown",
      "metadata": {
        "id": "nhAWnSouoCWs"
      },
      "source": [
        "**3.2 Рассчитаем достаточный объем сырья для безубыточной разработки новой скважины**"
      ]
    },
    {
      "cell_type": "code",
      "execution_count": 35,
      "metadata": {
        "colab": {
          "base_uri": "https://localhost:8080/"
        },
        "id": "VWgLXvrAOgMU",
        "outputId": "c713b09c-8125-4df7-ccc0-2ff380714e92"
      },
      "outputs": [
        {
          "output_type": "execute_result",
          "data": {
            "text/plain": [
              "111.11111111111111"
            ]
          },
          "metadata": {},
          "execution_count": 35
        }
      ],
      "source": [
        " volume_min = (BUDGET / WELL_NUMBER) / UNIT_PROFIT\n",
        " volume_min"
      ]
    },
    {
      "cell_type": "code",
      "execution_count": 36,
      "metadata": {
        "colab": {
          "base_uri": "https://localhost:8080/"
        },
        "id": "KPkjXgcvzkcd",
        "outputId": "0b640a27-c7ca-4cb1-ad04-bb8263036f11"
      },
      "outputs": [
        {
          "output_type": "execute_result",
          "data": {
            "text/plain": [
              "92.50000000000001"
            ]
          },
          "metadata": {},
          "execution_count": 36
        }
      ],
      "source": [
        "# Определим средний запас сырья в каждом регионе:\n",
        "\n",
        "target_0.mean()"
      ]
    },
    {
      "cell_type": "code",
      "execution_count": 37,
      "metadata": {
        "colab": {
          "base_uri": "https://localhost:8080/"
        },
        "id": "sVr9ofDxzstc",
        "outputId": "6ea60698-4939-4684-a76f-964f0991b42e"
      },
      "outputs": [
        {
          "output_type": "execute_result",
          "data": {
            "text/plain": [
              "68.82500000000002"
            ]
          },
          "metadata": {},
          "execution_count": 37
        }
      ],
      "source": [
        "target_1.mean()"
      ]
    },
    {
      "cell_type": "code",
      "execution_count": 38,
      "metadata": {
        "colab": {
          "base_uri": "https://localhost:8080/"
        },
        "id": "butDhdtRzvws",
        "outputId": "2bf5c050-90b9-4d22-95a4-a7a6311b4532"
      },
      "outputs": [
        {
          "output_type": "execute_result",
          "data": {
            "text/plain": [
              "95.00000000000004"
            ]
          },
          "metadata": {},
          "execution_count": 38
        }
      ],
      "source": [
        "target_2.mean()"
      ]
    },
    {
      "cell_type": "markdown",
      "metadata": {
        "id": "ocq0IF6eBYvu"
      },
      "source": [
        "**Вывод:** Достаточный объем сырья для безубыточной разработки новой скважины составляет около 111 тысяч баррелей. Средние запасы каждого региона ниже этого показателя. Ближе всего к значению подходят первый (92,5 тысячи) и третий (95 тысяч) регионы."
      ]
    },
    {
      "cell_type": "markdown",
      "metadata": {
        "id": "_R38aLCrooZc"
      },
      "source": [
        "## Расчёт прибыли по выбранным скважинам и предсказаниям модели"
      ]
    },
    {
      "cell_type": "markdown",
      "metadata": {
        "id": "PHOk-8a6pCO0"
      },
      "source": [
        "**4.1 Напишем функцию для расчета прибыли**"
      ]
    },
    {
      "cell_type": "code",
      "execution_count": 39,
      "metadata": {
        "id": "CBmIClPbDCBd"
      },
      "outputs": [],
      "source": [
        "def profits(target, predictions, budget, unit_profit):\n",
        "  preds_sorted = predictions.sort_values(ascending=True)\n",
        "  selected = target[preds_sorted.index]\n",
        "  return (selected.tail(200).sum() * unit_profit - budget).round(1)"
      ]
    },
    {
      "cell_type": "markdown",
      "metadata": {
        "id": "_uUYmKJXpMTd"
      },
      "source": [
        "**4.2 Рассчитаем прибыль для каждого региона**"
      ]
    },
    {
      "cell_type": "code",
      "execution_count": 40,
      "metadata": {
        "colab": {
          "base_uri": "https://localhost:8080/"
        },
        "id": "rHiAEt4cUKnG",
        "outputId": "fba37d1e-343a-4e9b-99bf-cf590cb594d5"
      },
      "outputs": [
        {
          "output_type": "execute_result",
          "data": {
            "text/plain": [
              "3320826043.1"
            ]
          },
          "metadata": {},
          "execution_count": 40
        }
      ],
      "source": [
        "profits(target_0_valid, predictions_0_valid, BUDGET, UNIT_PROFIT)"
      ]
    },
    {
      "cell_type": "code",
      "execution_count": 41,
      "metadata": {
        "colab": {
          "base_uri": "https://localhost:8080/"
        },
        "id": "074_U9S3Uxdn",
        "outputId": "f61806d5-8ec7-4ff0-f4a2-2ad5b3472471"
      },
      "outputs": [
        {
          "output_type": "execute_result",
          "data": {
            "text/plain": [
              "2415086696.7"
            ]
          },
          "metadata": {},
          "execution_count": 41
        }
      ],
      "source": [
        "profits(target_1_valid, predictions_1_valid, BUDGET, UNIT_PROFIT)"
      ]
    },
    {
      "cell_type": "code",
      "execution_count": 42,
      "metadata": {
        "colab": {
          "base_uri": "https://localhost:8080/"
        },
        "id": "aIFqtmzgU0Cf",
        "outputId": "4576f983-9ac5-43ac-aabf-a258cbbe86a9"
      },
      "outputs": [
        {
          "output_type": "execute_result",
          "data": {
            "text/plain": [
              "2710349963.6"
            ]
          },
          "metadata": {},
          "execution_count": 42
        }
      ],
      "source": [
        "profits(target_2_valid, predictions_2_valid, BUDGET, UNIT_PROFIT)"
      ]
    },
    {
      "cell_type": "markdown",
      "metadata": {
        "id": "4px7vIvLkQ0V"
      },
      "source": [
        "**Вывод:** Создана функция для расчета прибыли по выбранным скважинам и предсказаниям модели. Произведен расчет для всех регионов. Наибольшую расчетную прибыль в размере примерно 3,3 миллиарда рублей показывает первый регион. Регион номер три на втором месте (2,7 миллиарда). У региона номер два только 2,4 миллиарда."
      ]
    },
    {
      "cell_type": "markdown",
      "metadata": {
        "id": "GvduE6OwOgMU"
      },
      "source": [
        "## Расчёт прибыли и рисков"
      ]
    },
    {
      "cell_type": "code",
      "execution_count": 43,
      "metadata": {
        "colab": {
          "base_uri": "https://localhost:8080/"
        },
        "id": "0rmJtYlhcC_X",
        "outputId": "52dacb72-d3ea-44d5-f8da-c94da9427d3f"
      },
      "outputs": [
        {
          "output_type": "stream",
          "name": "stdout",
          "text": [
            "Средняя прибыль: 425938526.9103001\n",
            "2,5%-квантиль: 947976353.3924999\n",
            "2,5%-квантиль: -102090094.8225\n",
            "Риск убытков: 0.06\n"
          ]
        }
      ],
      "source": [
        "state = np.random.RandomState(12345)\n",
        "\n",
        "# Создадим пустой список для искомого значения:\n",
        "values = []\n",
        "\n",
        "# Создадим цикл для тысячи выборок:\n",
        "for i in range(1000):\n",
        "    # Разделим целевой признак и предсказания на подвыборки:\n",
        "    target_subsample = target_0_valid.sample(n=500, replace=True, random_state=state)\n",
        "    preds_subsample = predictions_0_valid[target_subsample.index]\n",
        "    # Рассчитаем значения прибыли и добавим в список:\n",
        "    values.append(profits(target_subsample, preds_subsample, BUDGET, UNIT_PROFIT))\n",
        "\n",
        "# Преобразуем их в Series:\n",
        "values = pd.Series(values)\n",
        "\n",
        "# Рассчитаем верхний и нижний квантили:\n",
        "lower = values.quantile(0.025)\n",
        "upper = values.quantile(0.975)\n",
        "\n",
        "# Найдем среднюю прибыль:\n",
        "mean = values.mean()\n",
        "\n",
        "# Определим риск убытков:\n",
        "risk = (values<0).mean()\n",
        "\n",
        "# Выведем полученные значения на экран:\n",
        "print(\"Средняя прибыль:\", mean)\n",
        "print(\"2,5%-квантиль:\", upper)\n",
        "print(\"2,5%-квантиль:\", lower)\n",
        "print(\"Риск убытков:\", risk)"
      ]
    },
    {
      "cell_type": "code",
      "execution_count": 44,
      "metadata": {
        "colab": {
          "base_uri": "https://localhost:8080/"
        },
        "id": "2xLxoU2RuA_v",
        "outputId": "349a3d05-9fa1-4e0e-f861-2f816e6ea78a"
      },
      "outputs": [
        {
          "output_type": "stream",
          "name": "stdout",
          "text": [
            "Средняя прибыль: 518259493.6952\n",
            "2,5%-квантиль: 953612982.1025\n",
            "2,5%-квантиль: 128123231.4\n",
            "Риск убытков: 0.003\n"
          ]
        }
      ],
      "source": [
        "values = []\n",
        "\n",
        "for i in range(1000):\n",
        "    target_subsample = target_1_valid.sample(n=500, replace=True, random_state=state)\n",
        "    preds_subsample = predictions_1_valid[target_subsample.index]\n",
        "    values.append(profits(target_subsample, preds_subsample, BUDGET, UNIT_PROFIT))\n",
        "\n",
        "values = pd.Series(values)\n",
        "lower = values.quantile(0.025)\n",
        "upper = values.quantile(0.975)\n",
        "\n",
        "mean = values.mean()\n",
        "risk = (values<0).mean()\n",
        "\n",
        "print(\"Средняя прибыль:\", mean)\n",
        "print(\"2,5%-квантиль:\", upper)\n",
        "print(\"2,5%-квантиль:\", lower)\n",
        "print(\"Риск убытков:\", risk)"
      ]
    },
    {
      "cell_type": "code",
      "execution_count": 45,
      "metadata": {
        "colab": {
          "base_uri": "https://localhost:8080/"
        },
        "id": "JvrV8wlfuB2f",
        "outputId": "e8275448-8f0e-426f-f10c-b1fc7391048e"
      },
      "outputs": [
        {
          "output_type": "stream",
          "name": "stdout",
          "text": [
            "Средняя прибыль: 420194005.3432\n",
            "2,5%-квантиль: 989629939.8475\n",
            "2,5%-квантиль: -115852609.11749999\n",
            "Риск убытков: 0.062\n"
          ]
        }
      ],
      "source": [
        "values = []\n",
        "\n",
        "for i in range(1000):\n",
        "    target_subsample = target_2_valid.sample(n=500, replace=True, random_state=state)\n",
        "    preds_subsample = predictions_2_valid[target_subsample.index]\n",
        "    values.append(profits(target_subsample, preds_subsample, BUDGET, UNIT_PROFIT))\n",
        "\n",
        "values = pd.Series(values)\n",
        "lower = values.quantile(0.025)\n",
        "upper = values.quantile(0.975)\n",
        "\n",
        "mean = values.mean()\n",
        "risk = (values<0).mean()\n",
        "\n",
        "print(\"Средняя прибыль:\", mean)\n",
        "print(\"2,5%-квантиль:\", upper)\n",
        "print(\"2,5%-квантиль:\", lower)\n",
        "print(\"Риск убытков:\", risk)"
      ]
    },
    {
      "cell_type": "markdown",
      "metadata": {
        "id": "5L6E4-XF5zAU"
      },
      "source": [
        "## Общий вывод"
      ]
    },
    {
      "cell_type": "markdown",
      "metadata": {
        "id": "r_TDXodVFddO"
      },
      "source": [
        "В результате применения техники Bootstrap к обученной модели,\n",
        "риск убытков менее 2,5% демонстрирует только второй регион.\n",
        "Таким образом, несмотря на самый низкий расчетный показатель прибыли и предсказанный объем сырья, для последующей разработки скважин стоит рекомендовать именно его.\n",
        ""
      ]
    }
  ],
  "metadata": {
    "ExecuteTimeLog": [
      {
        "duration": 1767,
        "start_time": "2023-03-31T17:59:18.347Z"
      },
      {
        "duration": 967,
        "start_time": "2023-03-31T17:59:20.116Z"
      },
      {
        "duration": 19,
        "start_time": "2023-03-31T17:59:21.085Z"
      },
      {
        "duration": 18,
        "start_time": "2023-03-31T17:59:21.106Z"
      },
      {
        "duration": 10,
        "start_time": "2023-03-31T17:59:21.142Z"
      },
      {
        "duration": 21,
        "start_time": "2023-03-31T17:59:21.154Z"
      },
      {
        "duration": 9,
        "start_time": "2023-03-31T17:59:21.177Z"
      },
      {
        "duration": 21,
        "start_time": "2023-03-31T17:59:21.188Z"
      },
      {
        "duration": 80,
        "start_time": "2023-03-31T17:59:21.210Z"
      },
      {
        "duration": 76,
        "start_time": "2023-03-31T17:59:21.292Z"
      },
      {
        "duration": 58,
        "start_time": "2023-03-31T17:59:21.370Z"
      },
      {
        "duration": 5,
        "start_time": "2023-03-31T17:59:21.442Z"
      },
      {
        "duration": 16,
        "start_time": "2023-03-31T17:59:21.448Z"
      },
      {
        "duration": 7,
        "start_time": "2023-03-31T17:59:21.467Z"
      },
      {
        "duration": 23,
        "start_time": "2023-03-31T17:59:21.476Z"
      },
      {
        "duration": 48,
        "start_time": "2023-03-31T17:59:21.501Z"
      },
      {
        "duration": 97,
        "start_time": "2023-03-31T17:59:21.551Z"
      },
      {
        "duration": 10,
        "start_time": "2023-03-31T17:59:21.650Z"
      },
      {
        "duration": 8,
        "start_time": "2023-03-31T17:59:21.661Z"
      },
      {
        "duration": 10,
        "start_time": "2023-03-31T17:59:21.670Z"
      },
      {
        "duration": 18,
        "start_time": "2023-03-31T17:59:21.681Z"
      },
      {
        "duration": 40,
        "start_time": "2023-03-31T17:59:21.701Z"
      },
      {
        "duration": 97,
        "start_time": "2023-03-31T17:59:21.743Z"
      },
      {
        "duration": 10,
        "start_time": "2023-03-31T17:59:21.842Z"
      },
      {
        "duration": 12,
        "start_time": "2023-03-31T17:59:21.854Z"
      },
      {
        "duration": 8,
        "start_time": "2023-03-31T17:59:21.867Z"
      },
      {
        "duration": 17,
        "start_time": "2023-03-31T17:59:21.877Z"
      },
      {
        "duration": 46,
        "start_time": "2023-03-31T17:59:21.896Z"
      },
      {
        "duration": 6,
        "start_time": "2023-03-31T17:59:21.944Z"
      },
      {
        "duration": 106,
        "start_time": "2023-03-31T17:59:21.952Z"
      },
      {
        "duration": 14,
        "start_time": "2023-03-31T17:59:22.059Z"
      },
      {
        "duration": 30,
        "start_time": "2023-03-31T17:59:22.075Z"
      },
      {
        "duration": 13,
        "start_time": "2023-03-31T17:59:22.106Z"
      },
      {
        "duration": 24,
        "start_time": "2023-03-31T17:59:22.121Z"
      },
      {
        "duration": 22,
        "start_time": "2023-03-31T17:59:22.147Z"
      },
      {
        "duration": 8,
        "start_time": "2023-03-31T17:59:22.170Z"
      },
      {
        "duration": 6,
        "start_time": "2023-03-31T17:59:22.179Z"
      },
      {
        "duration": 19,
        "start_time": "2023-03-31T17:59:22.186Z"
      },
      {
        "duration": 24,
        "start_time": "2023-03-31T17:59:22.207Z"
      },
      {
        "duration": 30,
        "start_time": "2023-03-31T17:59:22.233Z"
      },
      {
        "duration": 21,
        "start_time": "2023-03-31T17:59:22.267Z"
      },
      {
        "duration": 11,
        "start_time": "2023-03-31T17:59:22.290Z"
      },
      {
        "duration": 9,
        "start_time": "2023-03-31T17:59:22.303Z"
      },
      {
        "duration": 11,
        "start_time": "2023-03-31T17:59:22.314Z"
      },
      {
        "duration": 261,
        "start_time": "2023-03-31T17:59:22.327Z"
      },
      {
        "duration": 256,
        "start_time": "2023-03-31T17:59:22.590Z"
      },
      {
        "duration": 251,
        "start_time": "2023-03-31T17:59:22.848Z"
      }
    ],
    "colab": {
      "provenance": []
    },
    "kernelspec": {
      "display_name": "Python 3 (ipykernel)",
      "language": "python",
      "name": "python3"
    },
    "language_info": {
      "codemirror_mode": {
        "name": "ipython",
        "version": 3
      },
      "file_extension": ".py",
      "mimetype": "text/x-python",
      "name": "python",
      "nbconvert_exporter": "python",
      "pygments_lexer": "ipython3",
      "version": "3.9.5"
    },
    "toc": {
      "base_numbering": 1,
      "nav_menu": {},
      "number_sections": true,
      "sideBar": true,
      "skip_h1_title": true,
      "title_cell": "Table of Contents",
      "title_sidebar": "Contents",
      "toc_cell": false,
      "toc_position": {},
      "toc_section_display": true,
      "toc_window_display": false
    }
  },
  "nbformat": 4,
  "nbformat_minor": 0
}