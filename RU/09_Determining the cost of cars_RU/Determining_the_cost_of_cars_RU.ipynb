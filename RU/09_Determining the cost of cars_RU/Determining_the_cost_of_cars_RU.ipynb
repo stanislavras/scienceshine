{
  "cells": [
    {
      "cell_type": "markdown",
      "metadata": {
        "id": "9XoQOu7bJbfw"
      },
      "source": [
        "# Определение стоимости автомобилей"
      ]
    },
    {
      "cell_type": "markdown",
      "metadata": {
        "id": "ILvvaaCYJbfw"
      },
      "source": [
        "Сервис по продаже автомобилей с пробегом «Не бит, не крашен» разрабатывает приложение для привлечения новых клиентов. В нём можно быстро узнать рыночную стоимость своего автомобиля. В нашем распоряжении исторические данные: технические характеристики, комплектации и цены автомобилей. Нужно построить модель для определения стоимости.\n",
        "\n",
        "Заказчику важны:\n",
        "\n",
        "- качество предсказания;\n",
        "- скорость предсказания;\n",
        "- время обучения."
      ]
    },
    {
      "cell_type": "markdown",
      "metadata": {
        "id": "PGT_i0VSEI1h"
      },
      "source": [
        "**Цель проекта:** Построить модель для определения рыночной стоимости автомобиля."
      ]
    },
    {
      "cell_type": "markdown",
      "metadata": {
        "id": "p1OA6jg7EYak"
      },
      "source": [
        "**Описание данных:** Датасет с историческими данными о продаже автомобилей: техническии характеристики, комплектации, цены и т.д."
      ]
    },
    {
      "cell_type": "markdown",
      "metadata": {
        "id": "zg6tQaGSJbfx"
      },
      "source": [
        "## Подготовка данных"
      ]
    },
    {
      "cell_type": "markdown",
      "metadata": {
        "id": "LP-L_GCzzwjt"
      },
      "source": [
        "#### Импортируем необходимые библиотеки, считаем данные из csv-файла в датафрейм, сохраним в переменную и выведем ее и основную информацию о ней на экран"
      ]
    },
    {
      "cell_type": "code",
      "execution_count": 1,
      "metadata": {
        "id": "M5pWgvbFJbfx"
      },
      "outputs": [],
      "source": [
        "import pandas as pd\n",
        "\n",
        "import sklearn\n",
        "from sklearn.model_selection import train_test_split\n",
        "from sklearn.metrics import mean_squared_error\n",
        "from sklearn.tree import DecisionTreeRegressor\n",
        "from sklearn.ensemble import RandomForestRegressor\n",
        "from sklearn.preprocessing import OneHotEncoder\n",
        "from sklearn.compose import make_column_transformer\n",
        "from sklearn.preprocessing import StandardScaler\n",
        "from sklearn.preprocessing import OrdinalEncoder\n",
        "\n",
        "import lightgbm as lgb\n",
        "from lightgbm import LGBMRegressor\n",
        "\n",
        "import matplotlib.pyplot as plt\n",
        "import seaborn as sns"
      ]
    },
    {
      "cell_type": "code",
      "execution_count": 2,
      "metadata": {
        "colab": {
          "base_uri": "https://localhost:8080/",
          "height": 400
        },
        "id": "ZJDEIn0kKhKd",
        "outputId": "9010568f-c1dc-4927-857b-b9eece782677"
      },
      "outputs": [
        {
          "output_type": "execute_result",
          "data": {
            "text/plain": [
              "           DateCrawled  Price VehicleType  RegistrationYear Gearbox  Power  \\\n",
              "0  2016-03-24 11:52:17    480         NaN              1993  manual      0   \n",
              "1  2016-03-24 10:58:45  18300       coupe              2011  manual    190   \n",
              "2  2016-03-14 12:52:21   9800         suv              2004    auto    163   \n",
              "3  2016-03-17 16:54:04   1500       small              2001  manual     75   \n",
              "4  2016-03-31 17:25:20   3600       small              2008  manual     69   \n",
              "\n",
              "   Model  Kilometer  RegistrationMonth  FuelType       Brand Repaired  \\\n",
              "0   golf     150000                  0    petrol  volkswagen      NaN   \n",
              "1    NaN     125000                  5  gasoline        audi      yes   \n",
              "2  grand     125000                  8  gasoline        jeep      NaN   \n",
              "3   golf     150000                  6    petrol  volkswagen       no   \n",
              "4  fabia      90000                  7  gasoline       skoda       no   \n",
              "\n",
              "           DateCreated  NumberOfPictures  PostalCode             LastSeen  \n",
              "0  2016-03-24 00:00:00                 0       70435  2016-04-07 03:16:57  \n",
              "1  2016-03-24 00:00:00                 0       66954  2016-04-07 01:46:50  \n",
              "2  2016-03-14 00:00:00                 0       90480  2016-04-05 12:47:46  \n",
              "3  2016-03-17 00:00:00                 0       91074  2016-03-17 17:40:17  \n",
              "4  2016-03-31 00:00:00                 0       60437  2016-04-06 10:17:21  "
            ],
            "text/html": [
              "\n",
              "  <div id=\"df-d88aadce-14cc-44c8-bc50-cd09c19bff0a\" class=\"colab-df-container\">\n",
              "    <div>\n",
              "<style scoped>\n",
              "    .dataframe tbody tr th:only-of-type {\n",
              "        vertical-align: middle;\n",
              "    }\n",
              "\n",
              "    .dataframe tbody tr th {\n",
              "        vertical-align: top;\n",
              "    }\n",
              "\n",
              "    .dataframe thead th {\n",
              "        text-align: right;\n",
              "    }\n",
              "</style>\n",
              "<table border=\"1\" class=\"dataframe\">\n",
              "  <thead>\n",
              "    <tr style=\"text-align: right;\">\n",
              "      <th></th>\n",
              "      <th>DateCrawled</th>\n",
              "      <th>Price</th>\n",
              "      <th>VehicleType</th>\n",
              "      <th>RegistrationYear</th>\n",
              "      <th>Gearbox</th>\n",
              "      <th>Power</th>\n",
              "      <th>Model</th>\n",
              "      <th>Kilometer</th>\n",
              "      <th>RegistrationMonth</th>\n",
              "      <th>FuelType</th>\n",
              "      <th>Brand</th>\n",
              "      <th>Repaired</th>\n",
              "      <th>DateCreated</th>\n",
              "      <th>NumberOfPictures</th>\n",
              "      <th>PostalCode</th>\n",
              "      <th>LastSeen</th>\n",
              "    </tr>\n",
              "  </thead>\n",
              "  <tbody>\n",
              "    <tr>\n",
              "      <th>0</th>\n",
              "      <td>2016-03-24 11:52:17</td>\n",
              "      <td>480</td>\n",
              "      <td>NaN</td>\n",
              "      <td>1993</td>\n",
              "      <td>manual</td>\n",
              "      <td>0</td>\n",
              "      <td>golf</td>\n",
              "      <td>150000</td>\n",
              "      <td>0</td>\n",
              "      <td>petrol</td>\n",
              "      <td>volkswagen</td>\n",
              "      <td>NaN</td>\n",
              "      <td>2016-03-24 00:00:00</td>\n",
              "      <td>0</td>\n",
              "      <td>70435</td>\n",
              "      <td>2016-04-07 03:16:57</td>\n",
              "    </tr>\n",
              "    <tr>\n",
              "      <th>1</th>\n",
              "      <td>2016-03-24 10:58:45</td>\n",
              "      <td>18300</td>\n",
              "      <td>coupe</td>\n",
              "      <td>2011</td>\n",
              "      <td>manual</td>\n",
              "      <td>190</td>\n",
              "      <td>NaN</td>\n",
              "      <td>125000</td>\n",
              "      <td>5</td>\n",
              "      <td>gasoline</td>\n",
              "      <td>audi</td>\n",
              "      <td>yes</td>\n",
              "      <td>2016-03-24 00:00:00</td>\n",
              "      <td>0</td>\n",
              "      <td>66954</td>\n",
              "      <td>2016-04-07 01:46:50</td>\n",
              "    </tr>\n",
              "    <tr>\n",
              "      <th>2</th>\n",
              "      <td>2016-03-14 12:52:21</td>\n",
              "      <td>9800</td>\n",
              "      <td>suv</td>\n",
              "      <td>2004</td>\n",
              "      <td>auto</td>\n",
              "      <td>163</td>\n",
              "      <td>grand</td>\n",
              "      <td>125000</td>\n",
              "      <td>8</td>\n",
              "      <td>gasoline</td>\n",
              "      <td>jeep</td>\n",
              "      <td>NaN</td>\n",
              "      <td>2016-03-14 00:00:00</td>\n",
              "      <td>0</td>\n",
              "      <td>90480</td>\n",
              "      <td>2016-04-05 12:47:46</td>\n",
              "    </tr>\n",
              "    <tr>\n",
              "      <th>3</th>\n",
              "      <td>2016-03-17 16:54:04</td>\n",
              "      <td>1500</td>\n",
              "      <td>small</td>\n",
              "      <td>2001</td>\n",
              "      <td>manual</td>\n",
              "      <td>75</td>\n",
              "      <td>golf</td>\n",
              "      <td>150000</td>\n",
              "      <td>6</td>\n",
              "      <td>petrol</td>\n",
              "      <td>volkswagen</td>\n",
              "      <td>no</td>\n",
              "      <td>2016-03-17 00:00:00</td>\n",
              "      <td>0</td>\n",
              "      <td>91074</td>\n",
              "      <td>2016-03-17 17:40:17</td>\n",
              "    </tr>\n",
              "    <tr>\n",
              "      <th>4</th>\n",
              "      <td>2016-03-31 17:25:20</td>\n",
              "      <td>3600</td>\n",
              "      <td>small</td>\n",
              "      <td>2008</td>\n",
              "      <td>manual</td>\n",
              "      <td>69</td>\n",
              "      <td>fabia</td>\n",
              "      <td>90000</td>\n",
              "      <td>7</td>\n",
              "      <td>gasoline</td>\n",
              "      <td>skoda</td>\n",
              "      <td>no</td>\n",
              "      <td>2016-03-31 00:00:00</td>\n",
              "      <td>0</td>\n",
              "      <td>60437</td>\n",
              "      <td>2016-04-06 10:17:21</td>\n",
              "    </tr>\n",
              "  </tbody>\n",
              "</table>\n",
              "</div>\n",
              "    <div class=\"colab-df-buttons\">\n",
              "\n",
              "  <div class=\"colab-df-container\">\n",
              "    <button class=\"colab-df-convert\" onclick=\"convertToInteractive('df-d88aadce-14cc-44c8-bc50-cd09c19bff0a')\"\n",
              "            title=\"Convert this dataframe to an interactive table.\"\n",
              "            style=\"display:none;\">\n",
              "\n",
              "  <svg xmlns=\"http://www.w3.org/2000/svg\" height=\"24px\" viewBox=\"0 -960 960 960\">\n",
              "    <path d=\"M120-120v-720h720v720H120Zm60-500h600v-160H180v160Zm220 220h160v-160H400v160Zm0 220h160v-160H400v160ZM180-400h160v-160H180v160Zm440 0h160v-160H620v160ZM180-180h160v-160H180v160Zm440 0h160v-160H620v160Z\"/>\n",
              "  </svg>\n",
              "    </button>\n",
              "\n",
              "  <style>\n",
              "    .colab-df-container {\n",
              "      display:flex;\n",
              "      gap: 12px;\n",
              "    }\n",
              "\n",
              "    .colab-df-convert {\n",
              "      background-color: #E8F0FE;\n",
              "      border: none;\n",
              "      border-radius: 50%;\n",
              "      cursor: pointer;\n",
              "      display: none;\n",
              "      fill: #1967D2;\n",
              "      height: 32px;\n",
              "      padding: 0 0 0 0;\n",
              "      width: 32px;\n",
              "    }\n",
              "\n",
              "    .colab-df-convert:hover {\n",
              "      background-color: #E2EBFA;\n",
              "      box-shadow: 0px 1px 2px rgba(60, 64, 67, 0.3), 0px 1px 3px 1px rgba(60, 64, 67, 0.15);\n",
              "      fill: #174EA6;\n",
              "    }\n",
              "\n",
              "    .colab-df-buttons div {\n",
              "      margin-bottom: 4px;\n",
              "    }\n",
              "\n",
              "    [theme=dark] .colab-df-convert {\n",
              "      background-color: #3B4455;\n",
              "      fill: #D2E3FC;\n",
              "    }\n",
              "\n",
              "    [theme=dark] .colab-df-convert:hover {\n",
              "      background-color: #434B5C;\n",
              "      box-shadow: 0px 1px 3px 1px rgba(0, 0, 0, 0.15);\n",
              "      filter: drop-shadow(0px 1px 2px rgba(0, 0, 0, 0.3));\n",
              "      fill: #FFFFFF;\n",
              "    }\n",
              "  </style>\n",
              "\n",
              "    <script>\n",
              "      const buttonEl =\n",
              "        document.querySelector('#df-d88aadce-14cc-44c8-bc50-cd09c19bff0a button.colab-df-convert');\n",
              "      buttonEl.style.display =\n",
              "        google.colab.kernel.accessAllowed ? 'block' : 'none';\n",
              "\n",
              "      async function convertToInteractive(key) {\n",
              "        const element = document.querySelector('#df-d88aadce-14cc-44c8-bc50-cd09c19bff0a');\n",
              "        const dataTable =\n",
              "          await google.colab.kernel.invokeFunction('convertToInteractive',\n",
              "                                                    [key], {});\n",
              "        if (!dataTable) return;\n",
              "\n",
              "        const docLinkHtml = 'Like what you see? Visit the ' +\n",
              "          '<a target=\"_blank\" href=https://colab.research.google.com/notebooks/data_table.ipynb>data table notebook</a>'\n",
              "          + ' to learn more about interactive tables.';\n",
              "        element.innerHTML = '';\n",
              "        dataTable['output_type'] = 'display_data';\n",
              "        await google.colab.output.renderOutput(dataTable, element);\n",
              "        const docLink = document.createElement('div');\n",
              "        docLink.innerHTML = docLinkHtml;\n",
              "        element.appendChild(docLink);\n",
              "      }\n",
              "    </script>\n",
              "  </div>\n",
              "\n",
              "\n",
              "<div id=\"df-1f5caef4-ef57-4b55-9175-94458c7368a3\">\n",
              "  <button class=\"colab-df-quickchart\" onclick=\"quickchart('df-1f5caef4-ef57-4b55-9175-94458c7368a3')\"\n",
              "            title=\"Suggest charts.\"\n",
              "            style=\"display:none;\">\n",
              "\n",
              "<svg xmlns=\"http://www.w3.org/2000/svg\" height=\"24px\"viewBox=\"0 0 24 24\"\n",
              "     width=\"24px\">\n",
              "    <g>\n",
              "        <path d=\"M19 3H5c-1.1 0-2 .9-2 2v14c0 1.1.9 2 2 2h14c1.1 0 2-.9 2-2V5c0-1.1-.9-2-2-2zM9 17H7v-7h2v7zm4 0h-2V7h2v10zm4 0h-2v-4h2v4z\"/>\n",
              "    </g>\n",
              "</svg>\n",
              "  </button>\n",
              "\n",
              "<style>\n",
              "  .colab-df-quickchart {\n",
              "      --bg-color: #E8F0FE;\n",
              "      --fill-color: #1967D2;\n",
              "      --hover-bg-color: #E2EBFA;\n",
              "      --hover-fill-color: #174EA6;\n",
              "      --disabled-fill-color: #AAA;\n",
              "      --disabled-bg-color: #DDD;\n",
              "  }\n",
              "\n",
              "  [theme=dark] .colab-df-quickchart {\n",
              "      --bg-color: #3B4455;\n",
              "      --fill-color: #D2E3FC;\n",
              "      --hover-bg-color: #434B5C;\n",
              "      --hover-fill-color: #FFFFFF;\n",
              "      --disabled-bg-color: #3B4455;\n",
              "      --disabled-fill-color: #666;\n",
              "  }\n",
              "\n",
              "  .colab-df-quickchart {\n",
              "    background-color: var(--bg-color);\n",
              "    border: none;\n",
              "    border-radius: 50%;\n",
              "    cursor: pointer;\n",
              "    display: none;\n",
              "    fill: var(--fill-color);\n",
              "    height: 32px;\n",
              "    padding: 0;\n",
              "    width: 32px;\n",
              "  }\n",
              "\n",
              "  .colab-df-quickchart:hover {\n",
              "    background-color: var(--hover-bg-color);\n",
              "    box-shadow: 0 1px 2px rgba(60, 64, 67, 0.3), 0 1px 3px 1px rgba(60, 64, 67, 0.15);\n",
              "    fill: var(--button-hover-fill-color);\n",
              "  }\n",
              "\n",
              "  .colab-df-quickchart-complete:disabled,\n",
              "  .colab-df-quickchart-complete:disabled:hover {\n",
              "    background-color: var(--disabled-bg-color);\n",
              "    fill: var(--disabled-fill-color);\n",
              "    box-shadow: none;\n",
              "  }\n",
              "\n",
              "  .colab-df-spinner {\n",
              "    border: 2px solid var(--fill-color);\n",
              "    border-color: transparent;\n",
              "    border-bottom-color: var(--fill-color);\n",
              "    animation:\n",
              "      spin 1s steps(1) infinite;\n",
              "  }\n",
              "\n",
              "  @keyframes spin {\n",
              "    0% {\n",
              "      border-color: transparent;\n",
              "      border-bottom-color: var(--fill-color);\n",
              "      border-left-color: var(--fill-color);\n",
              "    }\n",
              "    20% {\n",
              "      border-color: transparent;\n",
              "      border-left-color: var(--fill-color);\n",
              "      border-top-color: var(--fill-color);\n",
              "    }\n",
              "    30% {\n",
              "      border-color: transparent;\n",
              "      border-left-color: var(--fill-color);\n",
              "      border-top-color: var(--fill-color);\n",
              "      border-right-color: var(--fill-color);\n",
              "    }\n",
              "    40% {\n",
              "      border-color: transparent;\n",
              "      border-right-color: var(--fill-color);\n",
              "      border-top-color: var(--fill-color);\n",
              "    }\n",
              "    60% {\n",
              "      border-color: transparent;\n",
              "      border-right-color: var(--fill-color);\n",
              "    }\n",
              "    80% {\n",
              "      border-color: transparent;\n",
              "      border-right-color: var(--fill-color);\n",
              "      border-bottom-color: var(--fill-color);\n",
              "    }\n",
              "    90% {\n",
              "      border-color: transparent;\n",
              "      border-bottom-color: var(--fill-color);\n",
              "    }\n",
              "  }\n",
              "</style>\n",
              "\n",
              "  <script>\n",
              "    async function quickchart(key) {\n",
              "      const quickchartButtonEl =\n",
              "        document.querySelector('#' + key + ' button');\n",
              "      quickchartButtonEl.disabled = true;  // To prevent multiple clicks.\n",
              "      quickchartButtonEl.classList.add('colab-df-spinner');\n",
              "      try {\n",
              "        const charts = await google.colab.kernel.invokeFunction(\n",
              "            'suggestCharts', [key], {});\n",
              "      } catch (error) {\n",
              "        console.error('Error during call to suggestCharts:', error);\n",
              "      }\n",
              "      quickchartButtonEl.classList.remove('colab-df-spinner');\n",
              "      quickchartButtonEl.classList.add('colab-df-quickchart-complete');\n",
              "    }\n",
              "    (() => {\n",
              "      let quickchartButtonEl =\n",
              "        document.querySelector('#df-1f5caef4-ef57-4b55-9175-94458c7368a3 button');\n",
              "      quickchartButtonEl.style.display =\n",
              "        google.colab.kernel.accessAllowed ? 'block' : 'none';\n",
              "    })();\n",
              "  </script>\n",
              "</div>\n",
              "    </div>\n",
              "  </div>\n"
            ]
          },
          "metadata": {},
          "execution_count": 2
        }
      ],
      "source": [
        "data = pd.read_csv('https://code.s3.yandex.net/datasets/autos.csv')\n",
        "\n",
        "data.head()"
      ]
    },
    {
      "cell_type": "code",
      "execution_count": 3,
      "metadata": {
        "colab": {
          "base_uri": "https://localhost:8080/"
        },
        "id": "Xs2kZYTAK-yt",
        "outputId": "16034fa2-e433-4dc1-dbfb-937e1ed45d38"
      },
      "outputs": [
        {
          "output_type": "stream",
          "name": "stdout",
          "text": [
            "<class 'pandas.core.frame.DataFrame'>\n",
            "RangeIndex: 354369 entries, 0 to 354368\n",
            "Data columns (total 16 columns):\n",
            " #   Column             Non-Null Count   Dtype \n",
            "---  ------             --------------   ----- \n",
            " 0   DateCrawled        354369 non-null  object\n",
            " 1   Price              354369 non-null  int64 \n",
            " 2   VehicleType        316879 non-null  object\n",
            " 3   RegistrationYear   354369 non-null  int64 \n",
            " 4   Gearbox            334536 non-null  object\n",
            " 5   Power              354369 non-null  int64 \n",
            " 6   Model              334664 non-null  object\n",
            " 7   Kilometer          354369 non-null  int64 \n",
            " 8   RegistrationMonth  354369 non-null  int64 \n",
            " 9   FuelType           321474 non-null  object\n",
            " 10  Brand              354369 non-null  object\n",
            " 11  Repaired           283215 non-null  object\n",
            " 12  DateCreated        354369 non-null  object\n",
            " 13  NumberOfPictures   354369 non-null  int64 \n",
            " 14  PostalCode         354369 non-null  int64 \n",
            " 15  LastSeen           354369 non-null  object\n",
            "dtypes: int64(7), object(9)\n",
            "memory usage: 43.3+ MB\n"
          ]
        }
      ],
      "source": [
        "data.info()"
      ]
    },
    {
      "cell_type": "markdown",
      "metadata": {
        "id": "He4h2uRq06k0"
      },
      "source": [
        "#### Предобработка данных"
      ]
    },
    {
      "cell_type": "markdown",
      "metadata": {
        "id": "Xr-0qSxW2f2V"
      },
      "source": [
        "##### Избавимся от дубликатов"
      ]
    },
    {
      "cell_type": "code",
      "execution_count": 4,
      "metadata": {
        "colab": {
          "base_uri": "https://localhost:8080/"
        },
        "id": "N_QLBMxaQYT5",
        "outputId": "dd7bd71b-48a0-4bb5-fc83-d5d57e4aff32"
      },
      "outputs": [
        {
          "output_type": "execute_result",
          "data": {
            "text/plain": [
              "4"
            ]
          },
          "metadata": {},
          "execution_count": 4
        }
      ],
      "source": [
        "data.duplicated().sum()"
      ]
    },
    {
      "cell_type": "code",
      "execution_count": 5,
      "metadata": {
        "id": "rcK377jzd6Fh"
      },
      "outputs": [],
      "source": [
        "# Удалим дубликаты:\n",
        "\n",
        "data = data.drop_duplicates()"
      ]
    },
    {
      "cell_type": "markdown",
      "metadata": {
        "id": "bGhjbRCH1TtM"
      },
      "source": [
        "##### Найдем и изучим пропущенные значения в столбцах"
      ]
    },
    {
      "cell_type": "code",
      "execution_count": 6,
      "metadata": {
        "colab": {
          "base_uri": "https://localhost:8080/"
        },
        "id": "xGrjewmUNRX9",
        "outputId": "07657676-0754-4087-f4f9-88f3be04a900"
      },
      "outputs": [
        {
          "output_type": "execute_result",
          "data": {
            "text/plain": [
              "array([nan, 'coupe', 'suv', 'small', 'sedan', 'convertible', 'bus',\n",
              "       'wagon', 'other'], dtype=object)"
            ]
          },
          "metadata": {},
          "execution_count": 6
        }
      ],
      "source": [
        "data['VehicleType'].unique()"
      ]
    },
    {
      "cell_type": "code",
      "execution_count": 7,
      "metadata": {
        "colab": {
          "base_uri": "https://localhost:8080/"
        },
        "id": "7s6mUFdhNct1",
        "outputId": "55bc5d35-fce3-4191-c1e0-c02d7997fb6b"
      },
      "outputs": [
        {
          "output_type": "execute_result",
          "data": {
            "text/plain": [
              "sedan          91457\n",
              "small          79830\n",
              "wagon          65165\n",
              "bus            28775\n",
              "convertible    20203\n",
              "coupe          16161\n",
              "suv            11996\n",
              "other           3288\n",
              "Name: VehicleType, dtype: int64"
            ]
          },
          "metadata": {},
          "execution_count": 7
        }
      ],
      "source": [
        "data['VehicleType'].value_counts()"
      ]
    },
    {
      "cell_type": "markdown",
      "metadata": {
        "id": "79Nzm0FvMNVG"
      },
      "source": [
        "Можно предположить, что там, где тип кузова не указан, должен быть \"седан\", как наиболее распространенный."
      ]
    },
    {
      "cell_type": "code",
      "execution_count": 8,
      "metadata": {
        "id": "T9RD_dRYR77H"
      },
      "outputs": [],
      "source": [
        "# Заменим пропущенные значения в столбце VehicleType на 'sedan':\n",
        "\n",
        "data['VehicleType'] = data['VehicleType'].fillna('sedan')"
      ]
    },
    {
      "cell_type": "code",
      "execution_count": 9,
      "metadata": {
        "colab": {
          "base_uri": "https://localhost:8080/"
        },
        "id": "zC5g4AGyN9w-",
        "outputId": "2ab3d58f-5e82-4a1a-d931-33b66bb20141"
      },
      "outputs": [
        {
          "output_type": "execute_result",
          "data": {
            "text/plain": [
              "manual    268249\n",
              "auto       66283\n",
              "Name: Gearbox, dtype: int64"
            ]
          },
          "metadata": {},
          "execution_count": 9
        }
      ],
      "source": [
        "data['Gearbox'].value_counts()"
      ]
    },
    {
      "cell_type": "markdown",
      "metadata": {
        "id": "L6OO3scxMoCF"
      },
      "source": [
        "Аналогичным образом, сейчас уже с большей вероятностью значением \"по умолчанию\" стоит считать автоматическую коробку передач."
      ]
    },
    {
      "cell_type": "code",
      "execution_count": 10,
      "metadata": {
        "id": "GQZjCXXzOPQN"
      },
      "outputs": [],
      "source": [
        "# Заменим пропущенные значения в столбце Gearbox на 'auto':\n",
        "\n",
        "data['Gearbox'] = data['Gearbox'].fillna('auto')"
      ]
    },
    {
      "cell_type": "code",
      "execution_count": 11,
      "metadata": {
        "colab": {
          "base_uri": "https://localhost:8080/"
        },
        "id": "thJ-mqQbOqn-",
        "outputId": "d2d955a0-1d48-46b6-d99b-ac620b0cc49c"
      },
      "outputs": [
        {
          "output_type": "execute_result",
          "data": {
            "text/plain": [
              "golf                  29232\n",
              "other                 24420\n",
              "3er                   19761\n",
              "polo                  13066\n",
              "corsa                 12570\n",
              "                      ...  \n",
              "i3                        8\n",
              "serie_3                   4\n",
              "rangerover                4\n",
              "range_rover_evoque        2\n",
              "serie_1                   2\n",
              "Name: Model, Length: 250, dtype: int64"
            ]
          },
          "metadata": {},
          "execution_count": 11
        }
      ],
      "source": [
        "data['Model'].value_counts()"
      ]
    },
    {
      "cell_type": "code",
      "execution_count": 12,
      "metadata": {
        "id": "Ru52AqESQftf"
      },
      "outputs": [],
      "source": [
        "# Удалим строки с пропущенными значениями столбца Model:\n",
        "\n",
        "data = data.dropna(subset=['Model'])"
      ]
    },
    {
      "cell_type": "code",
      "execution_count": 13,
      "metadata": {
        "colab": {
          "base_uri": "https://localhost:8080/"
        },
        "id": "QWCByK3rPTEW",
        "outputId": "c4440f87-3a16-4d8b-e5e6-b2b7f5d35fec"
      },
      "outputs": [
        {
          "output_type": "execute_result",
          "data": {
            "text/plain": [
              "petrol      207159\n",
              "gasoline     95856\n",
              "lpg           4962\n",
              "cng            544\n",
              "hybrid         208\n",
              "other          133\n",
              "electric        66\n",
              "Name: FuelType, dtype: int64"
            ]
          },
          "metadata": {},
          "execution_count": 13
        }
      ],
      "source": [
        "data['FuelType'].value_counts()"
      ]
    },
    {
      "cell_type": "markdown",
      "metadata": {
        "id": "Qb1stDBINFB2"
      },
      "source": [
        "Скорее всего, в пропусках типа топлива должен быть бензин, как наиболее часто встречающийся."
      ]
    },
    {
      "cell_type": "code",
      "execution_count": 14,
      "metadata": {
        "id": "g2ixGETlPZ6m"
      },
      "outputs": [],
      "source": [
        "# Заменим пропущенные значения в столбце FuelType на 'petrol':\n",
        "\n",
        "data['FuelType'] = data['FuelType'].fillna('petrol')"
      ]
    },
    {
      "cell_type": "code",
      "execution_count": 15,
      "metadata": {
        "colab": {
          "base_uri": "https://localhost:8080/"
        },
        "id": "uiOLV5VWPnIW",
        "outputId": "2a7d3fcf-4059-4ab4-91a1-3c015d695e3e"
      },
      "outputs": [
        {
          "output_type": "execute_result",
          "data": {
            "text/plain": [
              "no     238852\n",
              "yes     33708\n",
              "Name: Repaired, dtype: int64"
            ]
          },
          "metadata": {},
          "execution_count": 15
        }
      ],
      "source": [
        "data['Repaired'].value_counts()"
      ]
    },
    {
      "cell_type": "markdown",
      "metadata": {
        "id": "D0kQRdgNNX0-"
      },
      "source": [
        "Так же и с наличием ремонта: пропуски - это, вероятно, его отсутствие."
      ]
    },
    {
      "cell_type": "code",
      "execution_count": 16,
      "metadata": {
        "id": "q-Mc3A3xPy7m"
      },
      "outputs": [],
      "source": [
        "# Заменим пропущенные значения в столбце Repaired на 'no':\n",
        "\n",
        "data['Repaired'] = data['Repaired'].fillna('no')"
      ]
    },
    {
      "cell_type": "markdown",
      "metadata": {
        "id": "g1PTrvHX1rpc"
      },
      "source": [
        "##### Найдем и устраним редкие и выбивающиеся значения"
      ]
    },
    {
      "cell_type": "code",
      "execution_count": 17,
      "metadata": {
        "colab": {
          "base_uri": "https://localhost:8080/"
        },
        "id": "By_EB3OecVcx",
        "outputId": "1bb54c1b-b9bc-4b8c-88ca-93f4735eca46"
      },
      "outputs": [
        {
          "output_type": "execute_result",
          "data": {
            "text/plain": [
              "61207     2014-03-10 00:00:00\n",
              "4001      2015-03-20 00:00:00\n",
              "342275    2015-06-18 00:00:00\n",
              "86601     2015-08-07 00:00:00\n",
              "175103    2015-08-10 00:00:00\n",
              "                 ...         \n",
              "216128    2016-04-07 00:00:00\n",
              "285200    2016-04-07 00:00:00\n",
              "292174    2016-04-07 00:00:00\n",
              "206571    2016-04-07 00:00:00\n",
              "124250    2016-04-07 00:00:00\n",
              "Name: DateCreated, Length: 334660, dtype: object"
            ]
          },
          "metadata": {},
          "execution_count": 17
        }
      ],
      "source": [
        "# Отсортируем значения столбца по возрастанию:\n",
        "\n",
        "data['DateCreated'].sort_values()"
      ]
    },
    {
      "cell_type": "code",
      "execution_count": 18,
      "metadata": {
        "colab": {
          "base_uri": "https://localhost:8080/"
        },
        "id": "KwM1vwiYhKNY",
        "outputId": "274ae738-f2d1-4bc9-d267-bafc14e3ef63"
      },
      "outputs": [
        {
          "output_type": "execute_result",
          "data": {
            "text/plain": [
              "329497    2016-03-05 14:06:22\n",
              "220583    2016-03-05 14:06:23\n",
              "324763    2016-03-05 14:06:24\n",
              "176823    2016-03-05 14:06:24\n",
              "220604    2016-03-05 14:06:25\n",
              "                 ...         \n",
              "204218    2016-04-07 14:36:53\n",
              "53739     2016-04-07 14:36:54\n",
              "301030    2016-04-07 14:36:55\n",
              "339649    2016-04-07 14:36:56\n",
              "90713     2016-04-07 14:36:58\n",
              "Name: DateCrawled, Length: 334660, dtype: object"
            ]
          },
          "metadata": {},
          "execution_count": 18
        }
      ],
      "source": [
        "data['DateCrawled'].sort_values()"
      ]
    },
    {
      "cell_type": "code",
      "execution_count": 19,
      "metadata": {
        "colab": {
          "base_uri": "https://localhost:8080/"
        },
        "id": "GdduQnjqhW2R",
        "outputId": "49fdbfc2-6355-4959-b569-574f1b218a01"
      },
      "outputs": [
        {
          "output_type": "execute_result",
          "data": {
            "text/plain": [
              "296785    2016-03-05 14:15:08\n",
              "262341    2016-03-05 14:15:16\n",
              "130462    2016-03-05 14:15:39\n",
              "285695    2016-03-05 14:18:30\n",
              "169065    2016-03-05 14:25:59\n",
              "                 ...         \n",
              "290312    2016-04-07 14:58:50\n",
              "219959    2016-04-07 14:58:50\n",
              "54852     2016-04-07 14:58:50\n",
              "215705    2016-04-07 14:58:50\n",
              "327303    2016-04-07 14:58:51\n",
              "Name: LastSeen, Length: 334660, dtype: object"
            ]
          },
          "metadata": {},
          "execution_count": 19
        }
      ],
      "source": [
        "data['LastSeen'].sort_values()"
      ]
    },
    {
      "cell_type": "code",
      "execution_count": 20,
      "metadata": {
        "colab": {
          "base_uri": "https://localhost:8080/",
          "height": 330
        },
        "id": "2mMgZnWXj1I5",
        "outputId": "0c1ad571-ca0a-4e22-bb7a-3bbb831911a2"
      },
      "outputs": [
        {
          "output_type": "display_data",
          "data": {
            "text/plain": [
              "<Figure size 1500x300 with 1 Axes>"
            ],
            "image/png": "[encoded data removed]"
          },
          "metadata": {}
        }
      ],
      "source": [
        "# Построим гистограммы для необходимых столбцов датафрейма:\n",
        "\n",
        "plt.figure(figsize=(15,3))\n",
        "sns.histplot(data['RegistrationYear']).set(title='RegistrationYear')\n",
        "\n",
        "plt.xlim(1950, 2025)\n",
        "plt.xlabel('год регистрации')\n",
        "plt.ylabel('количество объявлений')\n",
        "plt.show()"
      ]
    },
    {
      "cell_type": "code",
      "execution_count": 21,
      "metadata": {
        "id": "rFXHpKFYjLY7"
      },
      "outputs": [],
      "source": [
        "data = data[(data['RegistrationYear'] >= 1960) & (data['RegistrationYear'] <= 2016)]"
      ]
    },
    {
      "cell_type": "code",
      "execution_count": 22,
      "metadata": {
        "colab": {
          "base_uri": "https://localhost:8080/",
          "height": 330
        },
        "id": "aiI0tbxBJL1V",
        "outputId": "a27be795-e82e-4338-e398-eb1881473867"
      },
      "outputs": [
        {
          "output_type": "display_data",
          "data": {
            "text/plain": [
              "<Figure size 1500x300 with 1 Axes>"
            ],
            "image/png": "[encoded data removed]"
          },
          "metadata": {}
        }
      ],
      "source": [
        "plt.figure(figsize=(15,3))\n",
        "sns.histplot(data['RegistrationYear']).set(title='RegistrationYear')\n",
        "\n",
        "plt.xlim(1950, 2025)\n",
        "plt.xlabel('год регистрации')\n",
        "plt.ylabel('количество объявлений')\n",
        "plt.show()"
      ]
    },
    {
      "cell_type": "code",
      "execution_count": 23,
      "metadata": {
        "colab": {
          "base_uri": "https://localhost:8080/",
          "height": 327
        },
        "id": "HTNDLloSp147",
        "outputId": "4e511679-d823-4f6c-f403-8412f0350cbc"
      },
      "outputs": [
        {
          "output_type": "display_data",
          "data": {
            "text/plain": [
              "<Figure size 1500x300 with 1 Axes>"
            ],
            "image/png": "[encoded data removed]"
          },
          "metadata": {}
        }
      ],
      "source": [
        "plt.figure(figsize=(15,3))\n",
        "sns.histplot(data['Power']).set(title='Power')\n",
        "\n",
        "plt.xlim(0, 200)\n",
        "plt.xlabel('мощность')\n",
        "plt.ylabel('количество объявлений')\n",
        "plt.show()"
      ]
    },
    {
      "cell_type": "code",
      "execution_count": 24,
      "metadata": {
        "id": "SGIOu-xoOE6Y"
      },
      "outputs": [],
      "source": [
        "data['Power'] = data['Power'].replace(to_replace=0, method='ffill')"
      ]
    },
    {
      "cell_type": "code",
      "execution_count": 25,
      "metadata": {
        "colab": {
          "base_uri": "https://localhost:8080/",
          "height": 327
        },
        "id": "uYiMF9ATKbix",
        "outputId": "5dbff501-67a6-47e8-a50c-4839f6ee96c1"
      },
      "outputs": [
        {
          "output_type": "display_data",
          "data": {
            "text/plain": [
              "<Figure size 1500x300 with 1 Axes>"
            ],
            "image/png": "[encoded data removed]"
          },
          "metadata": {}
        }
      ],
      "source": [
        "plt.figure(figsize=(15,3))\n",
        "sns.histplot(data['Power']).set(title='Power')\n",
        "\n",
        "plt.xlim(0, 200)\n",
        "plt.xlabel('мощность')\n",
        "plt.ylabel('количество объявлений')\n",
        "plt.show()"
      ]
    },
    {
      "cell_type": "code",
      "execution_count": 26,
      "metadata": {
        "colab": {
          "base_uri": "https://localhost:8080/",
          "height": 328
        },
        "id": "dIcwSOPI8hQY",
        "outputId": "0480042a-3ba3-4c0c-fa1f-2e293122dfd9"
      },
      "outputs": [
        {
          "output_type": "display_data",
          "data": {
            "text/plain": [
              "<Figure size 1500x300 with 1 Axes>"
            ],
            "image/png": "[encoded data removed]"
          },
          "metadata": {}
        }
      ],
      "source": [
        "plt.figure(figsize=(15,3))\n",
        "sns.histplot(data['Kilometer']).set(title='Kilometer')\n",
        "\n",
        "plt.xlabel('пробег')\n",
        "plt.ylabel('количество объявлений')\n",
        "plt.show()"
      ]
    },
    {
      "cell_type": "code",
      "execution_count": 27,
      "metadata": {
        "colab": {
          "base_uri": "https://localhost:8080/"
        },
        "id": "jwAYiTkYbKzY",
        "outputId": "ba4e4e2a-6108-4087-f51f-544b75936986"
      },
      "outputs": [
        {
          "output_type": "execute_result",
          "data": {
            "text/plain": [
              "array(['volkswagen', 'jeep', 'skoda', 'bmw', 'peugeot', 'ford', 'mazda',\n",
              "       'nissan', 'renault', 'mercedes_benz', 'seat', 'honda', 'fiat',\n",
              "       'opel', 'mini', 'smart', 'hyundai', 'audi', 'alfa_romeo', 'subaru',\n",
              "       'volvo', 'mitsubishi', 'kia', 'suzuki', 'lancia', 'citroen',\n",
              "       'toyota', 'chevrolet', 'dacia', 'daihatsu', 'chrysler', 'jaguar',\n",
              "       'daewoo', 'porsche', 'rover', 'saab', 'land_rover', 'trabant',\n",
              "       'lada'], dtype=object)"
            ]
          },
          "metadata": {},
          "execution_count": 27
        }
      ],
      "source": [
        "# Изучим список уникальных значений столбца:\n",
        "\n",
        "data['Brand'].unique()"
      ]
    },
    {
      "cell_type": "code",
      "execution_count": 28,
      "metadata": {
        "colab": {
          "base_uri": "https://localhost:8080/"
        },
        "id": "SP0hSpDncc9p",
        "outputId": "f561ee4a-c87b-480c-ccc4-9420c36c9d7f"
      },
      "outputs": [
        {
          "output_type": "execute_result",
          "data": {
            "text/plain": [
              "array([0])"
            ]
          },
          "metadata": {},
          "execution_count": 28
        }
      ],
      "source": [
        "data['NumberOfPictures'].unique()"
      ]
    },
    {
      "cell_type": "markdown",
      "metadata": {
        "id": "fiZGhE1H2HEt"
      },
      "source": [
        "##### Удалим столбцы, которые не понадобятся в дальнейшем"
      ]
    },
    {
      "cell_type": "markdown",
      "metadata": {
        "id": "sXZ4i36BOHVm"
      },
      "source": [
        "В столбце NumberOfPictures сплошь нулевые значения - он не поможет при обучении модели. Столбцы с датами и почтовым индексом владельца тоже вряд ли влияют на ценообразование."
      ]
    },
    {
      "cell_type": "code",
      "execution_count": 29,
      "metadata": {
        "id": "TO8hrBayMFhl"
      },
      "outputs": [],
      "source": [
        "data = data.drop(['DateCrawled', 'DateCreated', 'PostalCode', 'LastSeen', 'NumberOfPictures'], axis=1)"
      ]
    },
    {
      "cell_type": "code",
      "execution_count": 30,
      "metadata": {
        "colab": {
          "base_uri": "https://localhost:8080/"
        },
        "id": "0JHJYHBAd7wy",
        "outputId": "d706c01c-c1f2-4ecb-b367-be4c65449cd6"
      },
      "outputs": [
        {
          "output_type": "stream",
          "name": "stdout",
          "text": [
            "<class 'pandas.core.frame.DataFrame'>\n",
            "Int64Index: 321950 entries, 0 to 354368\n",
            "Data columns (total 11 columns):\n",
            " #   Column             Non-Null Count   Dtype \n",
            "---  ------             --------------   ----- \n",
            " 0   Price              321950 non-null  int64 \n",
            " 1   VehicleType        321950 non-null  object\n",
            " 2   RegistrationYear   321950 non-null  int64 \n",
            " 3   Gearbox            321950 non-null  object\n",
            " 4   Power              321950 non-null  int64 \n",
            " 5   Model              321950 non-null  object\n",
            " 6   Kilometer          321950 non-null  int64 \n",
            " 7   RegistrationMonth  321950 non-null  int64 \n",
            " 8   FuelType           321950 non-null  object\n",
            " 9   Brand              321950 non-null  object\n",
            " 10  Repaired           321950 non-null  object\n",
            "dtypes: int64(5), object(6)\n",
            "memory usage: 29.5+ MB\n"
          ]
        }
      ],
      "source": [
        "# Выведем информацию об обновленном датафрейме:\n",
        "\n",
        "data.info()"
      ]
    },
    {
      "cell_type": "code",
      "execution_count": 31,
      "metadata": {
        "colab": {
          "base_uri": "https://localhost:8080/",
          "height": 206
        },
        "id": "Me77tG5hcthy",
        "outputId": "8e9fa2de-c97d-4584-8f2f-2cd13a840712"
      },
      "outputs": [
        {
          "output_type": "execute_result",
          "data": {
            "text/plain": [
              "   Price VehicleType  RegistrationYear Gearbox  Power  Model  Kilometer  \\\n",
              "0    480       sedan              1993  manual      0   golf     150000   \n",
              "2   9800         suv              2004    auto    163  grand     125000   \n",
              "3   1500       small              2001  manual     75   golf     150000   \n",
              "4   3600       small              2008  manual     69  fabia      90000   \n",
              "5    650       sedan              1995  manual    102    3er     150000   \n",
              "\n",
              "   RegistrationMonth  FuelType       Brand Repaired  \n",
              "0                  0    petrol  volkswagen       no  \n",
              "2                  8  gasoline        jeep       no  \n",
              "3                  6    petrol  volkswagen       no  \n",
              "4                  7  gasoline       skoda       no  \n",
              "5                 10    petrol         bmw      yes  "
            ],
            "text/html": [
              "\n",
              "  <div id=\"df-08b2399e-97ff-4df1-b944-996147c51ac1\" class=\"colab-df-container\">\n",
              "    <div>\n",
              "<style scoped>\n",
              "    .dataframe tbody tr th:only-of-type {\n",
              "        vertical-align: middle;\n",
              "    }\n",
              "\n",
              "    .dataframe tbody tr th {\n",
              "        vertical-align: top;\n",
              "    }\n",
              "\n",
              "    .dataframe thead th {\n",
              "        text-align: right;\n",
              "    }\n",
              "</style>\n",
              "<table border=\"1\" class=\"dataframe\">\n",
              "  <thead>\n",
              "    <tr style=\"text-align: right;\">\n",
              "      <th></th>\n",
              "      <th>Price</th>\n",
              "      <th>VehicleType</th>\n",
              "      <th>RegistrationYear</th>\n",
              "      <th>Gearbox</th>\n",
              "      <th>Power</th>\n",
              "      <th>Model</th>\n",
              "      <th>Kilometer</th>\n",
              "      <th>RegistrationMonth</th>\n",
              "      <th>FuelType</th>\n",
              "      <th>Brand</th>\n",
              "      <th>Repaired</th>\n",
              "    </tr>\n",
              "  </thead>\n",
              "  <tbody>\n",
              "    <tr>\n",
              "      <th>0</th>\n",
              "      <td>480</td>\n",
              "      <td>sedan</td>\n",
              "      <td>1993</td>\n",
              "      <td>manual</td>\n",
              "      <td>0</td>\n",
              "      <td>golf</td>\n",
              "      <td>150000</td>\n",
              "      <td>0</td>\n",
              "      <td>petrol</td>\n",
              "      <td>volkswagen</td>\n",
              "      <td>no</td>\n",
              "    </tr>\n",
              "    <tr>\n",
              "      <th>2</th>\n",
              "      <td>9800</td>\n",
              "      <td>suv</td>\n",
              "      <td>2004</td>\n",
              "      <td>auto</td>\n",
              "      <td>163</td>\n",
              "      <td>grand</td>\n",
              "      <td>125000</td>\n",
              "      <td>8</td>\n",
              "      <td>gasoline</td>\n",
              "      <td>jeep</td>\n",
              "      <td>no</td>\n",
              "    </tr>\n",
              "    <tr>\n",
              "      <th>3</th>\n",
              "      <td>1500</td>\n",
              "      <td>small</td>\n",
              "      <td>2001</td>\n",
              "      <td>manual</td>\n",
              "      <td>75</td>\n",
              "      <td>golf</td>\n",
              "      <td>150000</td>\n",
              "      <td>6</td>\n",
              "      <td>petrol</td>\n",
              "      <td>volkswagen</td>\n",
              "      <td>no</td>\n",
              "    </tr>\n",
              "    <tr>\n",
              "      <th>4</th>\n",
              "      <td>3600</td>\n",
              "      <td>small</td>\n",
              "      <td>2008</td>\n",
              "      <td>manual</td>\n",
              "      <td>69</td>\n",
              "      <td>fabia</td>\n",
              "      <td>90000</td>\n",
              "      <td>7</td>\n",
              "      <td>gasoline</td>\n",
              "      <td>skoda</td>\n",
              "      <td>no</td>\n",
              "    </tr>\n",
              "    <tr>\n",
              "      <th>5</th>\n",
              "      <td>650</td>\n",
              "      <td>sedan</td>\n",
              "      <td>1995</td>\n",
              "      <td>manual</td>\n",
              "      <td>102</td>\n",
              "      <td>3er</td>\n",
              "      <td>150000</td>\n",
              "      <td>10</td>\n",
              "      <td>petrol</td>\n",
              "      <td>bmw</td>\n",
              "      <td>yes</td>\n",
              "    </tr>\n",
              "  </tbody>\n",
              "</table>\n",
              "</div>\n",
              "    <div class=\"colab-df-buttons\">\n",
              "\n",
              "  <div class=\"colab-df-container\">\n",
              "    <button class=\"colab-df-convert\" onclick=\"convertToInteractive('df-08b2399e-97ff-4df1-b944-996147c51ac1')\"\n",
              "            title=\"Convert this dataframe to an interactive table.\"\n",
              "            style=\"display:none;\">\n",
              "\n",
              "  <svg xmlns=\"http://www.w3.org/2000/svg\" height=\"24px\" viewBox=\"0 -960 960 960\">\n",
              "    <path d=\"M120-120v-720h720v720H120Zm60-500h600v-160H180v160Zm220 220h160v-160H400v160Zm0 220h160v-160H400v160ZM180-400h160v-160H180v160Zm440 0h160v-160H620v160ZM180-180h160v-160H180v160Zm440 0h160v-160H620v160Z\"/>\n",
              "  </svg>\n",
              "    </button>\n",
              "\n",
              "  <style>\n",
              "    .colab-df-container {\n",
              "      display:flex;\n",
              "      gap: 12px;\n",
              "    }\n",
              "\n",
              "    .colab-df-convert {\n",
              "      background-color: #E8F0FE;\n",
              "      border: none;\n",
              "      border-radius: 50%;\n",
              "      cursor: pointer;\n",
              "      display: none;\n",
              "      fill: #1967D2;\n",
              "      height: 32px;\n",
              "      padding: 0 0 0 0;\n",
              "      width: 32px;\n",
              "    }\n",
              "\n",
              "    .colab-df-convert:hover {\n",
              "      background-color: #E2EBFA;\n",
              "      box-shadow: 0px 1px 2px rgba(60, 64, 67, 0.3), 0px 1px 3px 1px rgba(60, 64, 67, 0.15);\n",
              "      fill: #174EA6;\n",
              "    }\n",
              "\n",
              "    .colab-df-buttons div {\n",
              "      margin-bottom: 4px;\n",
              "    }\n",
              "\n",
              "    [theme=dark] .colab-df-convert {\n",
              "      background-color: #3B4455;\n",
              "      fill: #D2E3FC;\n",
              "    }\n",
              "\n",
              "    [theme=dark] .colab-df-convert:hover {\n",
              "      background-color: #434B5C;\n",
              "      box-shadow: 0px 1px 3px 1px rgba(0, 0, 0, 0.15);\n",
              "      filter: drop-shadow(0px 1px 2px rgba(0, 0, 0, 0.3));\n",
              "      fill: #FFFFFF;\n",
              "    }\n",
              "  </style>\n",
              "\n",
              "    <script>\n",
              "      const buttonEl =\n",
              "        document.querySelector('#df-08b2399e-97ff-4df1-b944-996147c51ac1 button.colab-df-convert');\n",
              "      buttonEl.style.display =\n",
              "        google.colab.kernel.accessAllowed ? 'block' : 'none';\n",
              "\n",
              "      async function convertToInteractive(key) {\n",
              "        const element = document.querySelector('#df-08b2399e-97ff-4df1-b944-996147c51ac1');\n",
              "        const dataTable =\n",
              "          await google.colab.kernel.invokeFunction('convertToInteractive',\n",
              "                                                    [key], {});\n",
              "        if (!dataTable) return;\n",
              "\n",
              "        const docLinkHtml = 'Like what you see? Visit the ' +\n",
              "          '<a target=\"_blank\" href=https://colab.research.google.com/notebooks/data_table.ipynb>data table notebook</a>'\n",
              "          + ' to learn more about interactive tables.';\n",
              "        element.innerHTML = '';\n",
              "        dataTable['output_type'] = 'display_data';\n",
              "        await google.colab.output.renderOutput(dataTable, element);\n",
              "        const docLink = document.createElement('div');\n",
              "        docLink.innerHTML = docLinkHtml;\n",
              "        element.appendChild(docLink);\n",
              "      }\n",
              "    </script>\n",
              "  </div>\n",
              "\n",
              "\n",
              "<div id=\"df-c2112a50-15fc-4de3-a059-d17af7c8a695\">\n",
              "  <button class=\"colab-df-quickchart\" onclick=\"quickchart('df-c2112a50-15fc-4de3-a059-d17af7c8a695')\"\n",
              "            title=\"Suggest charts.\"\n",
              "            style=\"display:none;\">\n",
              "\n",
              "<svg xmlns=\"http://www.w3.org/2000/svg\" height=\"24px\"viewBox=\"0 0 24 24\"\n",
              "     width=\"24px\">\n",
              "    <g>\n",
              "        <path d=\"M19 3H5c-1.1 0-2 .9-2 2v14c0 1.1.9 2 2 2h14c1.1 0 2-.9 2-2V5c0-1.1-.9-2-2-2zM9 17H7v-7h2v7zm4 0h-2V7h2v10zm4 0h-2v-4h2v4z\"/>\n",
              "    </g>\n",
              "</svg>\n",
              "  </button>\n",
              "\n",
              "<style>\n",
              "  .colab-df-quickchart {\n",
              "      --bg-color: #E8F0FE;\n",
              "      --fill-color: #1967D2;\n",
              "      --hover-bg-color: #E2EBFA;\n",
              "      --hover-fill-color: #174EA6;\n",
              "      --disabled-fill-color: #AAA;\n",
              "      --disabled-bg-color: #DDD;\n",
              "  }\n",
              "\n",
              "  [theme=dark] .colab-df-quickchart {\n",
              "      --bg-color: #3B4455;\n",
              "      --fill-color: #D2E3FC;\n",
              "      --hover-bg-color: #434B5C;\n",
              "      --hover-fill-color: #FFFFFF;\n",
              "      --disabled-bg-color: #3B4455;\n",
              "      --disabled-fill-color: #666;\n",
              "  }\n",
              "\n",
              "  .colab-df-quickchart {\n",
              "    background-color: var(--bg-color);\n",
              "    border: none;\n",
              "    border-radius: 50%;\n",
              "    cursor: pointer;\n",
              "    display: none;\n",
              "    fill: var(--fill-color);\n",
              "    height: 32px;\n",
              "    padding: 0;\n",
              "    width: 32px;\n",
              "  }\n",
              "\n",
              "  .colab-df-quickchart:hover {\n",
              "    background-color: var(--hover-bg-color);\n",
              "    box-shadow: 0 1px 2px rgba(60, 64, 67, 0.3), 0 1px 3px 1px rgba(60, 64, 67, 0.15);\n",
              "    fill: var(--button-hover-fill-color);\n",
              "  }\n",
              "\n",
              "  .colab-df-quickchart-complete:disabled,\n",
              "  .colab-df-quickchart-complete:disabled:hover {\n",
              "    background-color: var(--disabled-bg-color);\n",
              "    fill: var(--disabled-fill-color);\n",
              "    box-shadow: none;\n",
              "  }\n",
              "\n",
              "  .colab-df-spinner {\n",
              "    border: 2px solid var(--fill-color);\n",
              "    border-color: transparent;\n",
              "    border-bottom-color: var(--fill-color);\n",
              "    animation:\n",
              "      spin 1s steps(1) infinite;\n",
              "  }\n",
              "\n",
              "  @keyframes spin {\n",
              "    0% {\n",
              "      border-color: transparent;\n",
              "      border-bottom-color: var(--fill-color);\n",
              "      border-left-color: var(--fill-color);\n",
              "    }\n",
              "    20% {\n",
              "      border-color: transparent;\n",
              "      border-left-color: var(--fill-color);\n",
              "      border-top-color: var(--fill-color);\n",
              "    }\n",
              "    30% {\n",
              "      border-color: transparent;\n",
              "      border-left-color: var(--fill-color);\n",
              "      border-top-color: var(--fill-color);\n",
              "      border-right-color: var(--fill-color);\n",
              "    }\n",
              "    40% {\n",
              "      border-color: transparent;\n",
              "      border-right-color: var(--fill-color);\n",
              "      border-top-color: var(--fill-color);\n",
              "    }\n",
              "    60% {\n",
              "      border-color: transparent;\n",
              "      border-right-color: var(--fill-color);\n",
              "    }\n",
              "    80% {\n",
              "      border-color: transparent;\n",
              "      border-right-color: var(--fill-color);\n",
              "      border-bottom-color: var(--fill-color);\n",
              "    }\n",
              "    90% {\n",
              "      border-color: transparent;\n",
              "      border-bottom-color: var(--fill-color);\n",
              "    }\n",
              "  }\n",
              "</style>\n",
              "\n",
              "  <script>\n",
              "    async function quickchart(key) {\n",
              "      const quickchartButtonEl =\n",
              "        document.querySelector('#' + key + ' button');\n",
              "      quickchartButtonEl.disabled = true;  // To prevent multiple clicks.\n",
              "      quickchartButtonEl.classList.add('colab-df-spinner');\n",
              "      try {\n",
              "        const charts = await google.colab.kernel.invokeFunction(\n",
              "            'suggestCharts', [key], {});\n",
              "      } catch (error) {\n",
              "        console.error('Error during call to suggestCharts:', error);\n",
              "      }\n",
              "      quickchartButtonEl.classList.remove('colab-df-spinner');\n",
              "      quickchartButtonEl.classList.add('colab-df-quickchart-complete');\n",
              "    }\n",
              "    (() => {\n",
              "      let quickchartButtonEl =\n",
              "        document.querySelector('#df-c2112a50-15fc-4de3-a059-d17af7c8a695 button');\n",
              "      quickchartButtonEl.style.display =\n",
              "        google.colab.kernel.accessAllowed ? 'block' : 'none';\n",
              "    })();\n",
              "  </script>\n",
              "</div>\n",
              "    </div>\n",
              "  </div>\n"
            ]
          },
          "metadata": {},
          "execution_count": 31
        }
      ],
      "source": [
        "data.head()"
      ]
    },
    {
      "cell_type": "markdown",
      "metadata": {
        "id": "VPqNtIcE2y2F"
      },
      "source": [
        "#### Подготовим выборки для обучения моделей"
      ]
    },
    {
      "cell_type": "code",
      "execution_count": 32,
      "metadata": {
        "id": "4YtnDW2_YqEp"
      },
      "outputs": [],
      "source": [
        "# Выделим из признаков и целевого признака тестовые:\n",
        "\n",
        "data_1, data_test = train_test_split(data, test_size=0.2, random_state=12345)"
      ]
    },
    {
      "cell_type": "code",
      "execution_count": 33,
      "metadata": {
        "id": "A0c7uXhgYubA"
      },
      "outputs": [],
      "source": [
        "# Разделим оставшиеся признаки и целевой признак на обучающие и валидационные:\n",
        "\n",
        "data_train, data_valid = train_test_split(data_1, test_size=0.25, random_state=12345)"
      ]
    },
    {
      "cell_type": "markdown",
      "metadata": {
        "id": "l-kM_3Gq181I"
      },
      "source": [
        "Проведем кодировку категориальных признаков датасета:"
      ]
    },
    {
      "cell_type": "code",
      "execution_count": 34,
      "metadata": {
        "colab": {
          "base_uri": "https://localhost:8080/"
        },
        "id": "Pxf4ofnyGG2_",
        "outputId": "f7c3562c-85c4-4388-ef40-19896e68366d"
      },
      "outputs": [
        {
          "output_type": "stream",
          "name": "stdout",
          "text": [
            "   VehicleType  Gearbox  Model  FuelType  Brand  Repaired    Price  \\\n",
            "0          7.0      1.0   42.0       6.0   24.0       1.0    300.0   \n",
            "1          5.0      1.0  166.0       6.0   33.0       0.0   3850.0   \n",
            "2          4.0      0.0   49.0       6.0   37.0       0.0  19999.0   \n",
            "3          7.0      1.0   95.0       4.0   20.0       1.0   1800.0   \n",
            "4          0.0      0.0  223.0       6.0   37.0       1.0    450.0   \n",
            "\n",
            "   RegistrationYear  Power  Kilometer  RegistrationMonth  \n",
            "0            1999.0   75.0   150000.0                0.0  \n",
            "1            2004.0   94.0    50000.0                7.0  \n",
            "2            2015.0  105.0     5000.0               10.0  \n",
            "3            1999.0  136.0   150000.0                3.0  \n",
            "4            2000.0  116.0   150000.0                0.0  \n"
          ]
        }
      ],
      "source": [
        "transformer = make_column_transformer(\n",
        "    (OrdinalEncoder(handle_unknown='use_encoded_value', unknown_value=-1), ['VehicleType', 'Gearbox', 'Model', 'FuelType', 'Brand', 'Repaired']),\n",
        "    remainder='passthrough')\n",
        "\n",
        "transformer.fit(data_train)\n",
        "data_train = pd.DataFrame(transformer.transform(data_train), columns=['VehicleType', 'Gearbox', 'Model',\n",
        "                                                  'FuelType', 'Brand', 'Repaired', 'Price', 'RegistrationYear', 'Power', 'Kilometer', 'RegistrationMonth'])\n",
        "print(data_train.head())"
      ]
    },
    {
      "cell_type": "code",
      "execution_count": 35,
      "metadata": {
        "colab": {
          "base_uri": "https://localhost:8080/"
        },
        "id": "J6UueoXSHKyH",
        "outputId": "c3851981-986d-4e97-b934-22f70d209af1"
      },
      "outputs": [
        {
          "output_type": "stream",
          "name": "stdout",
          "text": [
            "   VehicleType  Gearbox  Model  FuelType  Brand  Repaired    Price  \\\n",
            "0          7.0      1.0   11.0       2.0    2.0       0.0  12700.0   \n",
            "1          4.0      1.0  116.0       6.0   37.0       0.0  13250.0   \n",
            "2          0.0      1.0  161.0       6.0   23.0       0.0   4490.0   \n",
            "3          4.0      1.0   11.0       6.0    2.0       1.0   2000.0   \n",
            "4          5.0      1.0  244.0       2.0   35.0       0.0   4200.0   \n",
            "\n",
            "   RegistrationYear  Power  Kilometer  RegistrationMonth  \n",
            "0            2010.0  143.0   100000.0               11.0  \n",
            "1            2014.0  105.0    20000.0                8.0  \n",
            "2            2008.0   88.0   125000.0                4.0  \n",
            "3            2001.0  116.0   150000.0               11.0  \n",
            "4            2007.0   90.0   150000.0                6.0  \n"
          ]
        }
      ],
      "source": [
        "data_valid = pd.DataFrame(transformer.transform(data_valid), columns=['VehicleType', 'Gearbox', 'Model',\n",
        "                                                  'FuelType', 'Brand', 'Repaired', 'Price', 'RegistrationYear', 'Power', 'Kilometer', 'RegistrationMonth'])\n",
        "print(data_valid.head())"
      ]
    },
    {
      "cell_type": "code",
      "execution_count": 36,
      "metadata": {
        "colab": {
          "base_uri": "https://localhost:8080/"
        },
        "id": "nD_PlOu7JH73",
        "outputId": "482f9a55-833a-4aa6-9977-3803a0cf0b81"
      },
      "outputs": [
        {
          "output_type": "stream",
          "name": "stdout",
          "text": [
            "   VehicleType  Gearbox  Model  FuelType  Brand  Repaired   Price  \\\n",
            "0          5.0      0.0  244.0       6.0   35.0       0.0  7000.0   \n",
            "1          1.0      1.0   29.0       6.0    1.0       0.0  7999.0   \n",
            "2          4.0      1.0  166.0       6.0   10.0       0.0  3600.0   \n",
            "3          1.0      1.0   42.0       6.0   24.0       0.0     1.0   \n",
            "4          4.0      1.0  149.0       2.0   27.0       0.0  4400.0   \n",
            "\n",
            "   RegistrationYear  Power  Kilometer  RegistrationMonth  \n",
            "0            2008.0   87.0    70000.0                6.0  \n",
            "1            2004.0  163.0   150000.0                6.0  \n",
            "2            1968.0   58.0   125000.0                5.0  \n",
            "3            2002.0  150.0   150000.0                6.0  \n",
            "4            2004.0  120.0    50000.0                6.0  \n"
          ]
        }
      ],
      "source": [
        "data_test = pd.DataFrame(transformer.transform(data_test), columns=['VehicleType', 'Gearbox', 'Model',\n",
        "                                                  'FuelType', 'Brand', 'Repaired', 'Price', 'RegistrationYear', 'Power', 'Kilometer', 'RegistrationMonth'])\n",
        "print(data_test.head())"
      ]
    },
    {
      "cell_type": "code",
      "execution_count": 37,
      "metadata": {
        "id": "1rwuWAoLYdyX"
      },
      "outputs": [],
      "source": [
        "# Выделим из датасета признаки и целевой признак:\n",
        "\n",
        "target_train = data_train['Price']\n",
        "features_train = data_train.drop(['Price'], axis=1)"
      ]
    },
    {
      "cell_type": "code",
      "execution_count": 38,
      "metadata": {
        "id": "JZwuvq2KQbJR"
      },
      "outputs": [],
      "source": [
        "target_valid = data_valid['Price']\n",
        "features_valid = data_valid.drop(['Price'], axis=1)"
      ]
    },
    {
      "cell_type": "code",
      "execution_count": 39,
      "metadata": {
        "id": "RDrUgoXfQpaZ"
      },
      "outputs": [],
      "source": [
        "target_test = data_test['Price']\n",
        "features_test = data_test.drop(['Price'], axis=1)"
      ]
    },
    {
      "cell_type": "markdown",
      "metadata": {
        "id": "ZmX0diaN2jEw"
      },
      "source": [
        "Проведем масштабирование численных признаков:"
      ]
    },
    {
      "cell_type": "code",
      "execution_count": 40,
      "metadata": {
        "colab": {
          "base_uri": "https://localhost:8080/"
        },
        "id": "lj-MmZzG6Ntq",
        "outputId": "8259ce06-4552-4c7e-a180-007a09c7200e"
      },
      "outputs": [
        {
          "output_type": "stream",
          "name": "stdout",
          "text": [
            "   VehicleType  Gearbox  Model  FuelType  Brand  Repaired  RegistrationYear  \\\n",
            "0          7.0      1.0   42.0       6.0   24.0       1.0         -0.564243   \n",
            "1          5.0      1.0  166.0       6.0   33.0       0.0          0.200533   \n",
            "2          4.0      0.0   49.0       6.0   37.0       0.0          1.883042   \n",
            "3          7.0      1.0   95.0       4.0   20.0       1.0         -0.564243   \n",
            "4          0.0      0.0  223.0       6.0   37.0       1.0         -0.411288   \n",
            "\n",
            "      Power  Kilometer  RegistrationMonth  \n",
            "0 -0.253688   0.579655          -1.590972  \n",
            "1 -0.156718  -2.105718           0.316052  \n",
            "2 -0.100577  -3.314136           1.133348  \n",
            "3  0.057637   0.579655          -0.773676  \n",
            "4 -0.044437   0.579655          -1.590972  \n"
          ]
        }
      ],
      "source": [
        "numeric = ['RegistrationYear', 'Power', 'Kilometer', 'RegistrationMonth']\n",
        "\n",
        "pd.options.mode.chained_assignment = None\n",
        "\n",
        "scaler = StandardScaler()\n",
        "scaler.fit(features_train[numeric])\n",
        "features_train[numeric] = scaler.transform(features_train[numeric])\n",
        "features_valid[numeric] = scaler.transform(features_valid[numeric])\n",
        "features_test[numeric] = scaler.transform(features_test[numeric])\n",
        "\n",
        "print(features_train.head())"
      ]
    },
    {
      "cell_type": "markdown",
      "metadata": {
        "id": "6n0-z-_B_mm3"
      },
      "source": [
        "**Вывод:** Пропущенные значения в столбце VehicleType заменены на 'sedan'; в столбце Gearbox - на 'auto'; в столбце FuelType - на 'petrol'; в столбце Repaired - на 'no'. Удалены строки с пропущенными значениями в столбце Model. Нулевые значения в столбце Power заменены предыдущими ненулевыми. Из столбца RegistrationYear удалены значения ранее 1960-го и позднее 2016-го года.\n",
        "\n",
        "Столбцы DateCreated, DateCrawled, PostalCode, LastSeen и NumberOfPictures удалены за ненадобностью. Также, из датасета удалены дубликаты. Общая потеря данных составила 9%.\n",
        "\n",
        "Произведено кодирование категориальных и масштабирование численных признаков. Датасет разделен на тестовую, обучающую и валидационную выборки. Выделены признаки и целевой признак."
      ]
    },
    {
      "cell_type": "markdown",
      "metadata": {
        "id": "McfjLBWZJbfx"
      },
      "source": [
        "## Обучение и анализ моделей"
      ]
    },
    {
      "cell_type": "code",
      "execution_count": 41,
      "metadata": {
        "colab": {
          "base_uri": "https://localhost:8080/"
        },
        "id": "omMTupfr1mou",
        "outputId": "d4574d40-40df-451c-a411-f5e13d4f861b"
      },
      "outputs": [
        {
          "output_type": "stream",
          "name": "stdout",
          "text": [
            "RMSE лучшей модели: 2115.9119137628572 Глубина дерева: 12\n"
          ]
        }
      ],
      "source": [
        "# Создадим цикл и определим глубину дерева для модели DecisionTreeRegressor при\n",
        "# наилучшем значении RMSE:\n",
        "\n",
        "best_model = None\n",
        "best_result = 10000\n",
        "best_depth = 0\n",
        "\n",
        "for depth in range(1, 100):\n",
        "    model = DecisionTreeRegressor(random_state=12345, max_depth=depth)\n",
        "    model.fit(features_train, target_train)\n",
        "    predictions_valid = model.predict(features_valid)\n",
        "    result = mean_squared_error(target_valid, predictions_valid) ** 0.5\n",
        "\n",
        "    if result < best_result:\n",
        "        best_model = model\n",
        "        best_result = result\n",
        "        best_depth = depth\n",
        "\n",
        "print(\"RMSE лучшей модели:\", best_result, \"Глубина дерева:\", best_depth)"
      ]
    },
    {
      "cell_type": "markdown",
      "metadata": {
        "id": "C-rCxX4xFPk0"
      },
      "source": [
        "Определим время обучения лучшей модели:"
      ]
    },
    {
      "cell_type": "code",
      "execution_count": 42,
      "metadata": {
        "colab": {
          "base_uri": "https://localhost:8080/",
          "height": 109
        },
        "id": "WWAdxzhD-uyk",
        "outputId": "60ffcbcc-e5d1-4023-d8c2-de5a1b36b255"
      },
      "outputs": [
        {
          "output_type": "stream",
          "name": "stdout",
          "text": [
            "CPU times: user 543 ms, sys: 2.03 ms, total: 545 ms\n",
            "Wall time: 545 ms\n"
          ]
        },
        {
          "output_type": "execute_result",
          "data": {
            "text/plain": [
              "DecisionTreeRegressor(max_depth=12, random_state=12345)"
            ],
            "text/html": [
              "<style>#sk-container-id-1 {color: black;background-color: white;}#sk-container-id-1 pre{padding: 0;}#sk-container-id-1 div.sk-toggleable {background-color: white;}#sk-container-id-1 label.sk-toggleable__label {cursor: pointer;display: block;width: 100%;margin-bottom: 0;padding: 0.3em;box-sizing: border-box;text-align: center;}#sk-container-id-1 label.sk-toggleable__label-arrow:before {content: \"▸\";float: left;margin-right: 0.25em;color: #696969;}#sk-container-id-1 label.sk-toggleable__label-arrow:hover:before {color: black;}#sk-container-id-1 div.sk-estimator:hover label.sk-toggleable__label-arrow:before {color: black;}#sk-container-id-1 div.sk-toggleable__content {max-height: 0;max-width: 0;overflow: hidden;text-align: left;background-color: #f0f8ff;}#sk-container-id-1 div.sk-toggleable__content pre {margin: 0.2em;color: black;border-radius: 0.25em;background-color: #f0f8ff;}#sk-container-id-1 input.sk-toggleable__control:checked~div.sk-toggleable__content {max-height: 200px;max-width: 100%;overflow: auto;}#sk-container-id-1 input.sk-toggleable__control:checked~label.sk-toggleable__label-arrow:before {content: \"▾\";}#sk-container-id-1 div.sk-estimator input.sk-toggleable__control:checked~label.sk-toggleable__label {background-color: #d4ebff;}#sk-container-id-1 div.sk-label input.sk-toggleable__control:checked~label.sk-toggleable__label {background-color: #d4ebff;}#sk-container-id-1 input.sk-hidden--visually {border: 0;clip: rect(1px 1px 1px 1px);clip: rect(1px, 1px, 1px, 1px);height: 1px;margin: -1px;overflow: hidden;padding: 0;position: absolute;width: 1px;}#sk-container-id-1 div.sk-estimator {font-family: monospace;background-color: #f0f8ff;border: 1px dotted black;border-radius: 0.25em;box-sizing: border-box;margin-bottom: 0.5em;}#sk-container-id-1 div.sk-estimator:hover {background-color: #d4ebff;}#sk-container-id-1 div.sk-parallel-item::after {content: \"\";width: 100%;border-bottom: 1px solid gray;flex-grow: 1;}#sk-container-id-1 div.sk-label:hover label.sk-toggleable__label {background-color: #d4ebff;}#sk-container-id-1 div.sk-serial::before {content: \"\";position: absolute;border-left: 1px solid gray;box-sizing: border-box;top: 0;bottom: 0;left: 50%;z-index: 0;}#sk-container-id-1 div.sk-serial {display: flex;flex-direction: column;align-items: center;background-color: white;padding-right: 0.2em;padding-left: 0.2em;position: relative;}#sk-container-id-1 div.sk-item {position: relative;z-index: 1;}#sk-container-id-1 div.sk-parallel {display: flex;align-items: stretch;justify-content: center;background-color: white;position: relative;}#sk-container-id-1 div.sk-item::before, #sk-container-id-1 div.sk-parallel-item::before {content: \"\";position: absolute;border-left: 1px solid gray;box-sizing: border-box;top: 0;bottom: 0;left: 50%;z-index: -1;}#sk-container-id-1 div.sk-parallel-item {display: flex;flex-direction: column;z-index: 1;position: relative;background-color: white;}#sk-container-id-1 div.sk-parallel-item:first-child::after {align-self: flex-end;width: 50%;}#sk-container-id-1 div.sk-parallel-item:last-child::after {align-self: flex-start;width: 50%;}#sk-container-id-1 div.sk-parallel-item:only-child::after {width: 0;}#sk-container-id-1 div.sk-dashed-wrapped {border: 1px dashed gray;margin: 0 0.4em 0.5em 0.4em;box-sizing: border-box;padding-bottom: 0.4em;background-color: white;}#sk-container-id-1 div.sk-label label {font-family: monospace;font-weight: bold;display: inline-block;line-height: 1.2em;}#sk-container-id-1 div.sk-label-container {text-align: center;}#sk-container-id-1 div.sk-container {/* jupyter's `normalize.less` sets `[hidden] { display: none; }` but bootstrap.min.css set `[hidden] { display: none !important; }` so we also need the `!important` here to be able to override the default hidden behavior on the sphinx rendered scikit-learn.org. See: https://github.com/scikit-learn/scikit-learn/issues/21755 */display: inline-block !important;position: relative;}#sk-container-id-1 div.sk-text-repr-fallback {display: none;}</style><div id=\"sk-container-id-1\" class=\"sk-top-container\"><div class=\"sk-text-repr-fallback\"><pre>DecisionTreeRegressor(max_depth=12, random_state=12345)</pre><b>In a Jupyter environment, please rerun this cell to show the HTML representation or trust the notebook. <br />On GitHub, the HTML representation is unable to render, please try loading this page with nbviewer.org.</b></div><div class=\"sk-container\" hidden><div class=\"sk-item\"><div class=\"sk-estimator sk-toggleable\"><input class=\"sk-toggleable__control sk-hidden--visually\" id=\"sk-estimator-id-1\" type=\"checkbox\" checked><label for=\"sk-estimator-id-1\" class=\"sk-toggleable__label sk-toggleable__label-arrow\">DecisionTreeRegressor</label><div class=\"sk-toggleable__content\"><pre>DecisionTreeRegressor(max_depth=12, random_state=12345)</pre></div></div></div></div></div>"
            ]
          },
          "metadata": {},
          "execution_count": 42
        }
      ],
      "source": [
        "%%time\n",
        "\n",
        "model = DecisionTreeRegressor(random_state=12345, max_depth=12)\n",
        "model.fit(features_train, target_train)"
      ]
    },
    {
      "cell_type": "markdown",
      "metadata": {
        "id": "f_9X5OxDFoHc"
      },
      "source": [
        "И время предсказания:"
      ]
    },
    {
      "cell_type": "code",
      "execution_count": 43,
      "metadata": {
        "colab": {
          "base_uri": "https://localhost:8080/"
        },
        "id": "1SiYa263_zG_",
        "outputId": "8b48070a-cb0a-4a55-a998-895de6a113ea"
      },
      "outputs": [
        {
          "output_type": "stream",
          "name": "stdout",
          "text": [
            "RMSE = 2115.9119137628572\n",
            "CPU times: user 14.1 ms, sys: 0 ns, total: 14.1 ms\n",
            "Wall time: 15.4 ms\n"
          ]
        }
      ],
      "source": [
        "%%time\n",
        "\n",
        "predictions_valid = model.predict(features_valid)\n",
        "print(\"RMSE =\", mean_squared_error(target_valid, predictions_valid) ** 0.5)"
      ]
    },
    {
      "cell_type": "code",
      "execution_count": 44,
      "metadata": {
        "colab": {
          "base_uri": "https://localhost:8080/"
        },
        "id": "azIhSKcIjcRL",
        "outputId": "6addbd64-a232-47e8-dbad-0ef5e2f69da4"
      },
      "outputs": [
        {
          "output_type": "stream",
          "name": "stderr",
          "text": [
            "/usr/local/lib/python3.10/dist-packages/lightgbm/engine.py:172: UserWarning: Found `num_iterations` in params. Will use it instead of argument\n",
            "  _log_warning(f\"Found `{alias}` in params. Will use it instead of argument\")\n",
            "/usr/local/lib/python3.10/dist-packages/lightgbm/engine.py:172: UserWarning: Found `num_iterations` in params. Will use it instead of argument\n",
            "  _log_warning(f\"Found `{alias}` in params. Will use it instead of argument\")\n",
            "/usr/local/lib/python3.10/dist-packages/lightgbm/engine.py:172: UserWarning: Found `num_iterations` in params. Will use it instead of argument\n",
            "  _log_warning(f\"Found `{alias}` in params. Will use it instead of argument\")\n",
            "/usr/local/lib/python3.10/dist-packages/lightgbm/engine.py:172: UserWarning: Found `num_iterations` in params. Will use it instead of argument\n",
            "  _log_warning(f\"Found `{alias}` in params. Will use it instead of argument\")\n",
            "/usr/local/lib/python3.10/dist-packages/lightgbm/engine.py:172: UserWarning: Found `num_iterations` in params. Will use it instead of argument\n",
            "  _log_warning(f\"Found `{alias}` in params. Will use it instead of argument\")\n",
            "/usr/local/lib/python3.10/dist-packages/lightgbm/engine.py:172: UserWarning: Found `num_iterations` in params. Will use it instead of argument\n",
            "  _log_warning(f\"Found `{alias}` in params. Will use it instead of argument\")\n",
            "/usr/local/lib/python3.10/dist-packages/lightgbm/engine.py:172: UserWarning: Found `num_iterations` in params. Will use it instead of argument\n",
            "  _log_warning(f\"Found `{alias}` in params. Will use it instead of argument\")\n",
            "/usr/local/lib/python3.10/dist-packages/lightgbm/engine.py:172: UserWarning: Found `num_iterations` in params. Will use it instead of argument\n",
            "  _log_warning(f\"Found `{alias}` in params. Will use it instead of argument\")\n",
            "/usr/local/lib/python3.10/dist-packages/lightgbm/engine.py:172: UserWarning: Found `num_iterations` in params. Will use it instead of argument\n",
            "  _log_warning(f\"Found `{alias}` in params. Will use it instead of argument\")\n",
            "/usr/local/lib/python3.10/dist-packages/lightgbm/engine.py:172: UserWarning: Found `num_iterations` in params. Will use it instead of argument\n",
            "  _log_warning(f\"Found `{alias}` in params. Will use it instead of argument\")\n",
            "/usr/local/lib/python3.10/dist-packages/lightgbm/engine.py:172: UserWarning: Found `num_iterations` in params. Will use it instead of argument\n",
            "  _log_warning(f\"Found `{alias}` in params. Will use it instead of argument\")\n",
            "/usr/local/lib/python3.10/dist-packages/lightgbm/engine.py:172: UserWarning: Found `num_iterations` in params. Will use it instead of argument\n",
            "  _log_warning(f\"Found `{alias}` in params. Will use it instead of argument\")\n",
            "/usr/local/lib/python3.10/dist-packages/lightgbm/engine.py:172: UserWarning: Found `num_iterations` in params. Will use it instead of argument\n",
            "  _log_warning(f\"Found `{alias}` in params. Will use it instead of argument\")\n",
            "/usr/local/lib/python3.10/dist-packages/lightgbm/engine.py:172: UserWarning: Found `num_iterations` in params. Will use it instead of argument\n",
            "  _log_warning(f\"Found `{alias}` in params. Will use it instead of argument\")\n",
            "/usr/local/lib/python3.10/dist-packages/lightgbm/engine.py:172: UserWarning: Found `num_iterations` in params. Will use it instead of argument\n",
            "  _log_warning(f\"Found `{alias}` in params. Will use it instead of argument\")\n",
            "/usr/local/lib/python3.10/dist-packages/lightgbm/engine.py:172: UserWarning: Found `num_iterations` in params. Will use it instead of argument\n",
            "  _log_warning(f\"Found `{alias}` in params. Will use it instead of argument\")\n",
            "/usr/local/lib/python3.10/dist-packages/lightgbm/engine.py:172: UserWarning: Found `num_iterations` in params. Will use it instead of argument\n",
            "  _log_warning(f\"Found `{alias}` in params. Will use it instead of argument\")\n",
            "/usr/local/lib/python3.10/dist-packages/lightgbm/engine.py:172: UserWarning: Found `num_iterations` in params. Will use it instead of argument\n",
            "  _log_warning(f\"Found `{alias}` in params. Will use it instead of argument\")\n",
            "/usr/local/lib/python3.10/dist-packages/lightgbm/engine.py:172: UserWarning: Found `num_iterations` in params. Will use it instead of argument\n",
            "  _log_warning(f\"Found `{alias}` in params. Will use it instead of argument\")\n",
            "/usr/local/lib/python3.10/dist-packages/lightgbm/engine.py:172: UserWarning: Found `num_iterations` in params. Will use it instead of argument\n",
            "  _log_warning(f\"Found `{alias}` in params. Will use it instead of argument\")\n",
            "/usr/local/lib/python3.10/dist-packages/lightgbm/engine.py:172: UserWarning: Found `num_iterations` in params. Will use it instead of argument\n",
            "  _log_warning(f\"Found `{alias}` in params. Will use it instead of argument\")\n",
            "/usr/local/lib/python3.10/dist-packages/lightgbm/engine.py:172: UserWarning: Found `num_iterations` in params. Will use it instead of argument\n",
            "  _log_warning(f\"Found `{alias}` in params. Will use it instead of argument\")\n",
            "/usr/local/lib/python3.10/dist-packages/lightgbm/engine.py:172: UserWarning: Found `num_iterations` in params. Will use it instead of argument\n",
            "  _log_warning(f\"Found `{alias}` in params. Will use it instead of argument\")\n",
            "/usr/local/lib/python3.10/dist-packages/lightgbm/engine.py:172: UserWarning: Found `num_iterations` in params. Will use it instead of argument\n",
            "  _log_warning(f\"Found `{alias}` in params. Will use it instead of argument\")\n",
            "/usr/local/lib/python3.10/dist-packages/lightgbm/engine.py:172: UserWarning: Found `num_iterations` in params. Will use it instead of argument\n",
            "  _log_warning(f\"Found `{alias}` in params. Will use it instead of argument\")\n",
            "/usr/local/lib/python3.10/dist-packages/lightgbm/engine.py:172: UserWarning: Found `num_iterations` in params. Will use it instead of argument\n",
            "  _log_warning(f\"Found `{alias}` in params. Will use it instead of argument\")\n",
            "/usr/local/lib/python3.10/dist-packages/lightgbm/engine.py:172: UserWarning: Found `num_iterations` in params. Will use it instead of argument\n",
            "  _log_warning(f\"Found `{alias}` in params. Will use it instead of argument\")\n",
            "/usr/local/lib/python3.10/dist-packages/lightgbm/engine.py:172: UserWarning: Found `num_iterations` in params. Will use it instead of argument\n",
            "  _log_warning(f\"Found `{alias}` in params. Will use it instead of argument\")\n",
            "/usr/local/lib/python3.10/dist-packages/lightgbm/engine.py:172: UserWarning: Found `num_iterations` in params. Will use it instead of argument\n",
            "  _log_warning(f\"Found `{alias}` in params. Will use it instead of argument\")\n",
            "/usr/local/lib/python3.10/dist-packages/lightgbm/engine.py:172: UserWarning: Found `num_iterations` in params. Will use it instead of argument\n",
            "  _log_warning(f\"Found `{alias}` in params. Will use it instead of argument\")\n",
            "/usr/local/lib/python3.10/dist-packages/lightgbm/engine.py:172: UserWarning: Found `num_iterations` in params. Will use it instead of argument\n",
            "  _log_warning(f\"Found `{alias}` in params. Will use it instead of argument\")\n",
            "/usr/local/lib/python3.10/dist-packages/lightgbm/engine.py:172: UserWarning: Found `num_iterations` in params. Will use it instead of argument\n",
            "  _log_warning(f\"Found `{alias}` in params. Will use it instead of argument\")\n",
            "/usr/local/lib/python3.10/dist-packages/lightgbm/engine.py:172: UserWarning: Found `num_iterations` in params. Will use it instead of argument\n",
            "  _log_warning(f\"Found `{alias}` in params. Will use it instead of argument\")\n",
            "/usr/local/lib/python3.10/dist-packages/lightgbm/engine.py:172: UserWarning: Found `num_iterations` in params. Will use it instead of argument\n",
            "  _log_warning(f\"Found `{alias}` in params. Will use it instead of argument\")\n",
            "/usr/local/lib/python3.10/dist-packages/lightgbm/engine.py:172: UserWarning: Found `num_iterations` in params. Will use it instead of argument\n",
            "  _log_warning(f\"Found `{alias}` in params. Will use it instead of argument\")\n",
            "/usr/local/lib/python3.10/dist-packages/lightgbm/engine.py:172: UserWarning: Found `num_iterations` in params. Will use it instead of argument\n",
            "  _log_warning(f\"Found `{alias}` in params. Will use it instead of argument\")\n",
            "/usr/local/lib/python3.10/dist-packages/lightgbm/engine.py:172: UserWarning: Found `num_iterations` in params. Will use it instead of argument\n",
            "  _log_warning(f\"Found `{alias}` in params. Will use it instead of argument\")\n",
            "/usr/local/lib/python3.10/dist-packages/lightgbm/engine.py:172: UserWarning: Found `num_iterations` in params. Will use it instead of argument\n",
            "  _log_warning(f\"Found `{alias}` in params. Will use it instead of argument\")\n",
            "/usr/local/lib/python3.10/dist-packages/lightgbm/engine.py:172: UserWarning: Found `num_iterations` in params. Will use it instead of argument\n",
            "  _log_warning(f\"Found `{alias}` in params. Will use it instead of argument\")\n",
            "/usr/local/lib/python3.10/dist-packages/lightgbm/engine.py:172: UserWarning: Found `num_iterations` in params. Will use it instead of argument\n",
            "  _log_warning(f\"Found `{alias}` in params. Will use it instead of argument\")\n",
            "/usr/local/lib/python3.10/dist-packages/lightgbm/engine.py:172: UserWarning: Found `num_iterations` in params. Will use it instead of argument\n",
            "  _log_warning(f\"Found `{alias}` in params. Will use it instead of argument\")\n",
            "/usr/local/lib/python3.10/dist-packages/lightgbm/engine.py:172: UserWarning: Found `num_iterations` in params. Will use it instead of argument\n",
            "  _log_warning(f\"Found `{alias}` in params. Will use it instead of argument\")\n",
            "/usr/local/lib/python3.10/dist-packages/lightgbm/engine.py:172: UserWarning: Found `num_iterations` in params. Will use it instead of argument\n",
            "  _log_warning(f\"Found `{alias}` in params. Will use it instead of argument\")\n",
            "/usr/local/lib/python3.10/dist-packages/lightgbm/engine.py:172: UserWarning: Found `num_iterations` in params. Will use it instead of argument\n",
            "  _log_warning(f\"Found `{alias}` in params. Will use it instead of argument\")\n",
            "/usr/local/lib/python3.10/dist-packages/lightgbm/engine.py:172: UserWarning: Found `num_iterations` in params. Will use it instead of argument\n",
            "  _log_warning(f\"Found `{alias}` in params. Will use it instead of argument\")\n",
            "/usr/local/lib/python3.10/dist-packages/lightgbm/engine.py:172: UserWarning: Found `num_iterations` in params. Will use it instead of argument\n",
            "  _log_warning(f\"Found `{alias}` in params. Will use it instead of argument\")\n",
            "/usr/local/lib/python3.10/dist-packages/lightgbm/engine.py:172: UserWarning: Found `num_iterations` in params. Will use it instead of argument\n",
            "  _log_warning(f\"Found `{alias}` in params. Will use it instead of argument\")\n",
            "/usr/local/lib/python3.10/dist-packages/lightgbm/engine.py:172: UserWarning: Found `num_iterations` in params. Will use it instead of argument\n",
            "  _log_warning(f\"Found `{alias}` in params. Will use it instead of argument\")\n",
            "/usr/local/lib/python3.10/dist-packages/lightgbm/engine.py:172: UserWarning: Found `num_iterations` in params. Will use it instead of argument\n",
            "  _log_warning(f\"Found `{alias}` in params. Will use it instead of argument\")\n",
            "/usr/local/lib/python3.10/dist-packages/lightgbm/engine.py:172: UserWarning: Found `num_iterations` in params. Will use it instead of argument\n",
            "  _log_warning(f\"Found `{alias}` in params. Will use it instead of argument\")\n",
            "/usr/local/lib/python3.10/dist-packages/lightgbm/engine.py:172: UserWarning: Found `num_iterations` in params. Will use it instead of argument\n",
            "  _log_warning(f\"Found `{alias}` in params. Will use it instead of argument\")\n",
            "/usr/local/lib/python3.10/dist-packages/lightgbm/engine.py:172: UserWarning: Found `num_iterations` in params. Will use it instead of argument\n",
            "  _log_warning(f\"Found `{alias}` in params. Will use it instead of argument\")\n",
            "/usr/local/lib/python3.10/dist-packages/lightgbm/engine.py:172: UserWarning: Found `num_iterations` in params. Will use it instead of argument\n",
            "  _log_warning(f\"Found `{alias}` in params. Will use it instead of argument\")\n",
            "/usr/local/lib/python3.10/dist-packages/lightgbm/engine.py:172: UserWarning: Found `num_iterations` in params. Will use it instead of argument\n",
            "  _log_warning(f\"Found `{alias}` in params. Will use it instead of argument\")\n",
            "/usr/local/lib/python3.10/dist-packages/lightgbm/engine.py:172: UserWarning: Found `num_iterations` in params. Will use it instead of argument\n",
            "  _log_warning(f\"Found `{alias}` in params. Will use it instead of argument\")\n",
            "/usr/local/lib/python3.10/dist-packages/lightgbm/engine.py:172: UserWarning: Found `num_iterations` in params. Will use it instead of argument\n",
            "  _log_warning(f\"Found `{alias}` in params. Will use it instead of argument\")\n",
            "/usr/local/lib/python3.10/dist-packages/lightgbm/engine.py:172: UserWarning: Found `num_iterations` in params. Will use it instead of argument\n",
            "  _log_warning(f\"Found `{alias}` in params. Will use it instead of argument\")\n",
            "/usr/local/lib/python3.10/dist-packages/lightgbm/engine.py:172: UserWarning: Found `num_iterations` in params. Will use it instead of argument\n",
            "  _log_warning(f\"Found `{alias}` in params. Will use it instead of argument\")\n",
            "/usr/local/lib/python3.10/dist-packages/lightgbm/engine.py:172: UserWarning: Found `num_iterations` in params. Will use it instead of argument\n",
            "  _log_warning(f\"Found `{alias}` in params. Will use it instead of argument\")\n",
            "/usr/local/lib/python3.10/dist-packages/lightgbm/engine.py:172: UserWarning: Found `num_iterations` in params. Will use it instead of argument\n",
            "  _log_warning(f\"Found `{alias}` in params. Will use it instead of argument\")\n",
            "/usr/local/lib/python3.10/dist-packages/lightgbm/engine.py:172: UserWarning: Found `num_iterations` in params. Will use it instead of argument\n",
            "  _log_warning(f\"Found `{alias}` in params. Will use it instead of argument\")\n",
            "/usr/local/lib/python3.10/dist-packages/lightgbm/engine.py:172: UserWarning: Found `num_iterations` in params. Will use it instead of argument\n",
            "  _log_warning(f\"Found `{alias}` in params. Will use it instead of argument\")\n",
            "/usr/local/lib/python3.10/dist-packages/lightgbm/engine.py:172: UserWarning: Found `num_iterations` in params. Will use it instead of argument\n",
            "  _log_warning(f\"Found `{alias}` in params. Will use it instead of argument\")\n",
            "/usr/local/lib/python3.10/dist-packages/lightgbm/engine.py:172: UserWarning: Found `num_iterations` in params. Will use it instead of argument\n",
            "  _log_warning(f\"Found `{alias}` in params. Will use it instead of argument\")\n",
            "/usr/local/lib/python3.10/dist-packages/lightgbm/engine.py:172: UserWarning: Found `num_iterations` in params. Will use it instead of argument\n",
            "  _log_warning(f\"Found `{alias}` in params. Will use it instead of argument\")\n",
            "/usr/local/lib/python3.10/dist-packages/lightgbm/engine.py:172: UserWarning: Found `num_iterations` in params. Will use it instead of argument\n",
            "  _log_warning(f\"Found `{alias}` in params. Will use it instead of argument\")\n",
            "/usr/local/lib/python3.10/dist-packages/lightgbm/engine.py:172: UserWarning: Found `num_iterations` in params. Will use it instead of argument\n",
            "  _log_warning(f\"Found `{alias}` in params. Will use it instead of argument\")\n",
            "/usr/local/lib/python3.10/dist-packages/lightgbm/engine.py:172: UserWarning: Found `num_iterations` in params. Will use it instead of argument\n",
            "  _log_warning(f\"Found `{alias}` in params. Will use it instead of argument\")\n",
            "/usr/local/lib/python3.10/dist-packages/lightgbm/engine.py:172: UserWarning: Found `num_iterations` in params. Will use it instead of argument\n",
            "  _log_warning(f\"Found `{alias}` in params. Will use it instead of argument\")\n",
            "/usr/local/lib/python3.10/dist-packages/lightgbm/engine.py:172: UserWarning: Found `num_iterations` in params. Will use it instead of argument\n",
            "  _log_warning(f\"Found `{alias}` in params. Will use it instead of argument\")\n",
            "/usr/local/lib/python3.10/dist-packages/lightgbm/engine.py:172: UserWarning: Found `num_iterations` in params. Will use it instead of argument\n",
            "  _log_warning(f\"Found `{alias}` in params. Will use it instead of argument\")\n",
            "/usr/local/lib/python3.10/dist-packages/lightgbm/engine.py:172: UserWarning: Found `num_iterations` in params. Will use it instead of argument\n",
            "  _log_warning(f\"Found `{alias}` in params. Will use it instead of argument\")\n",
            "/usr/local/lib/python3.10/dist-packages/lightgbm/engine.py:172: UserWarning: Found `num_iterations` in params. Will use it instead of argument\n",
            "  _log_warning(f\"Found `{alias}` in params. Will use it instead of argument\")\n",
            "/usr/local/lib/python3.10/dist-packages/lightgbm/engine.py:172: UserWarning: Found `num_iterations` in params. Will use it instead of argument\n",
            "  _log_warning(f\"Found `{alias}` in params. Will use it instead of argument\")\n",
            "/usr/local/lib/python3.10/dist-packages/lightgbm/engine.py:172: UserWarning: Found `num_iterations` in params. Will use it instead of argument\n",
            "  _log_warning(f\"Found `{alias}` in params. Will use it instead of argument\")\n",
            "/usr/local/lib/python3.10/dist-packages/lightgbm/engine.py:172: UserWarning: Found `num_iterations` in params. Will use it instead of argument\n",
            "  _log_warning(f\"Found `{alias}` in params. Will use it instead of argument\")\n",
            "/usr/local/lib/python3.10/dist-packages/lightgbm/engine.py:172: UserWarning: Found `num_iterations` in params. Will use it instead of argument\n",
            "  _log_warning(f\"Found `{alias}` in params. Will use it instead of argument\")\n",
            "/usr/local/lib/python3.10/dist-packages/lightgbm/engine.py:172: UserWarning: Found `num_iterations` in params. Will use it instead of argument\n",
            "  _log_warning(f\"Found `{alias}` in params. Will use it instead of argument\")\n",
            "/usr/local/lib/python3.10/dist-packages/lightgbm/engine.py:172: UserWarning: Found `num_iterations` in params. Will use it instead of argument\n",
            "  _log_warning(f\"Found `{alias}` in params. Will use it instead of argument\")\n",
            "/usr/local/lib/python3.10/dist-packages/lightgbm/engine.py:172: UserWarning: Found `num_iterations` in params. Will use it instead of argument\n",
            "  _log_warning(f\"Found `{alias}` in params. Will use it instead of argument\")\n",
            "/usr/local/lib/python3.10/dist-packages/lightgbm/engine.py:172: UserWarning: Found `num_iterations` in params. Will use it instead of argument\n",
            "  _log_warning(f\"Found `{alias}` in params. Will use it instead of argument\")\n",
            "/usr/local/lib/python3.10/dist-packages/lightgbm/engine.py:172: UserWarning: Found `num_iterations` in params. Will use it instead of argument\n",
            "  _log_warning(f\"Found `{alias}` in params. Will use it instead of argument\")\n",
            "/usr/local/lib/python3.10/dist-packages/lightgbm/engine.py:172: UserWarning: Found `num_iterations` in params. Will use it instead of argument\n",
            "  _log_warning(f\"Found `{alias}` in params. Will use it instead of argument\")\n",
            "/usr/local/lib/python3.10/dist-packages/lightgbm/engine.py:172: UserWarning: Found `num_iterations` in params. Will use it instead of argument\n",
            "  _log_warning(f\"Found `{alias}` in params. Will use it instead of argument\")\n",
            "/usr/local/lib/python3.10/dist-packages/lightgbm/engine.py:172: UserWarning: Found `num_iterations` in params. Will use it instead of argument\n",
            "  _log_warning(f\"Found `{alias}` in params. Will use it instead of argument\")\n",
            "/usr/local/lib/python3.10/dist-packages/lightgbm/engine.py:172: UserWarning: Found `num_iterations` in params. Will use it instead of argument\n",
            "  _log_warning(f\"Found `{alias}` in params. Will use it instead of argument\")\n",
            "/usr/local/lib/python3.10/dist-packages/lightgbm/engine.py:172: UserWarning: Found `num_iterations` in params. Will use it instead of argument\n",
            "  _log_warning(f\"Found `{alias}` in params. Will use it instead of argument\")\n",
            "/usr/local/lib/python3.10/dist-packages/lightgbm/engine.py:172: UserWarning: Found `num_iterations` in params. Will use it instead of argument\n",
            "  _log_warning(f\"Found `{alias}` in params. Will use it instead of argument\")\n",
            "/usr/local/lib/python3.10/dist-packages/lightgbm/engine.py:172: UserWarning: Found `num_iterations` in params. Will use it instead of argument\n",
            "  _log_warning(f\"Found `{alias}` in params. Will use it instead of argument\")\n",
            "/usr/local/lib/python3.10/dist-packages/lightgbm/engine.py:172: UserWarning: Found `num_iterations` in params. Will use it instead of argument\n",
            "  _log_warning(f\"Found `{alias}` in params. Will use it instead of argument\")\n",
            "/usr/local/lib/python3.10/dist-packages/lightgbm/engine.py:172: UserWarning: Found `num_iterations` in params. Will use it instead of argument\n",
            "  _log_warning(f\"Found `{alias}` in params. Will use it instead of argument\")\n",
            "/usr/local/lib/python3.10/dist-packages/lightgbm/engine.py:172: UserWarning: Found `num_iterations` in params. Will use it instead of argument\n",
            "  _log_warning(f\"Found `{alias}` in params. Will use it instead of argument\")\n",
            "/usr/local/lib/python3.10/dist-packages/lightgbm/engine.py:172: UserWarning: Found `num_iterations` in params. Will use it instead of argument\n",
            "  _log_warning(f\"Found `{alias}` in params. Will use it instead of argument\")\n",
            "/usr/local/lib/python3.10/dist-packages/lightgbm/engine.py:172: UserWarning: Found `num_iterations` in params. Will use it instead of argument\n",
            "  _log_warning(f\"Found `{alias}` in params. Will use it instead of argument\")\n",
            "/usr/local/lib/python3.10/dist-packages/lightgbm/engine.py:172: UserWarning: Found `num_iterations` in params. Will use it instead of argument\n",
            "  _log_warning(f\"Found `{alias}` in params. Will use it instead of argument\")\n",
            "/usr/local/lib/python3.10/dist-packages/lightgbm/engine.py:172: UserWarning: Found `num_iterations` in params. Will use it instead of argument\n",
            "  _log_warning(f\"Found `{alias}` in params. Will use it instead of argument\")\n",
            "/usr/local/lib/python3.10/dist-packages/lightgbm/engine.py:172: UserWarning: Found `num_iterations` in params. Will use it instead of argument\n",
            "  _log_warning(f\"Found `{alias}` in params. Will use it instead of argument\")\n",
            "/usr/local/lib/python3.10/dist-packages/lightgbm/engine.py:172: UserWarning: Found `num_iterations` in params. Will use it instead of argument\n",
            "  _log_warning(f\"Found `{alias}` in params. Will use it instead of argument\")\n",
            "/usr/local/lib/python3.10/dist-packages/lightgbm/engine.py:172: UserWarning: Found `num_iterations` in params. Will use it instead of argument\n",
            "  _log_warning(f\"Found `{alias}` in params. Will use it instead of argument\")\n",
            "/usr/local/lib/python3.10/dist-packages/lightgbm/engine.py:172: UserWarning: Found `num_iterations` in params. Will use it instead of argument\n",
            "  _log_warning(f\"Found `{alias}` in params. Will use it instead of argument\")\n",
            "/usr/local/lib/python3.10/dist-packages/lightgbm/engine.py:172: UserWarning: Found `num_iterations` in params. Will use it instead of argument\n",
            "  _log_warning(f\"Found `{alias}` in params. Will use it instead of argument\")\n",
            "/usr/local/lib/python3.10/dist-packages/lightgbm/engine.py:172: UserWarning: Found `num_iterations` in params. Will use it instead of argument\n",
            "  _log_warning(f\"Found `{alias}` in params. Will use it instead of argument\")\n",
            "/usr/local/lib/python3.10/dist-packages/lightgbm/engine.py:172: UserWarning: Found `num_iterations` in params. Will use it instead of argument\n",
            "  _log_warning(f\"Found `{alias}` in params. Will use it instead of argument\")\n",
            "/usr/local/lib/python3.10/dist-packages/lightgbm/engine.py:172: UserWarning: Found `num_iterations` in params. Will use it instead of argument\n",
            "  _log_warning(f\"Found `{alias}` in params. Will use it instead of argument\")\n",
            "/usr/local/lib/python3.10/dist-packages/lightgbm/engine.py:172: UserWarning: Found `num_iterations` in params. Will use it instead of argument\n",
            "  _log_warning(f\"Found `{alias}` in params. Will use it instead of argument\")\n",
            "/usr/local/lib/python3.10/dist-packages/lightgbm/engine.py:172: UserWarning: Found `num_iterations` in params. Will use it instead of argument\n",
            "  _log_warning(f\"Found `{alias}` in params. Will use it instead of argument\")\n",
            "/usr/local/lib/python3.10/dist-packages/lightgbm/engine.py:172: UserWarning: Found `num_iterations` in params. Will use it instead of argument\n",
            "  _log_warning(f\"Found `{alias}` in params. Will use it instead of argument\")\n",
            "/usr/local/lib/python3.10/dist-packages/lightgbm/engine.py:172: UserWarning: Found `num_iterations` in params. Will use it instead of argument\n",
            "  _log_warning(f\"Found `{alias}` in params. Will use it instead of argument\")\n",
            "/usr/local/lib/python3.10/dist-packages/lightgbm/engine.py:172: UserWarning: Found `num_iterations` in params. Will use it instead of argument\n",
            "  _log_warning(f\"Found `{alias}` in params. Will use it instead of argument\")\n",
            "/usr/local/lib/python3.10/dist-packages/lightgbm/engine.py:172: UserWarning: Found `num_iterations` in params. Will use it instead of argument\n",
            "  _log_warning(f\"Found `{alias}` in params. Will use it instead of argument\")\n",
            "/usr/local/lib/python3.10/dist-packages/lightgbm/engine.py:172: UserWarning: Found `num_iterations` in params. Will use it instead of argument\n",
            "  _log_warning(f\"Found `{alias}` in params. Will use it instead of argument\")\n",
            "/usr/local/lib/python3.10/dist-packages/lightgbm/engine.py:172: UserWarning: Found `num_iterations` in params. Will use it instead of argument\n",
            "  _log_warning(f\"Found `{alias}` in params. Will use it instead of argument\")\n",
            "/usr/local/lib/python3.10/dist-packages/lightgbm/engine.py:172: UserWarning: Found `num_iterations` in params. Will use it instead of argument\n",
            "  _log_warning(f\"Found `{alias}` in params. Will use it instead of argument\")\n",
            "/usr/local/lib/python3.10/dist-packages/lightgbm/engine.py:172: UserWarning: Found `num_iterations` in params. Will use it instead of argument\n",
            "  _log_warning(f\"Found `{alias}` in params. Will use it instead of argument\")\n",
            "/usr/local/lib/python3.10/dist-packages/lightgbm/engine.py:172: UserWarning: Found `num_iterations` in params. Will use it instead of argument\n",
            "  _log_warning(f\"Found `{alias}` in params. Will use it instead of argument\")\n",
            "/usr/local/lib/python3.10/dist-packages/lightgbm/engine.py:172: UserWarning: Found `num_iterations` in params. Will use it instead of argument\n",
            "  _log_warning(f\"Found `{alias}` in params. Will use it instead of argument\")\n",
            "/usr/local/lib/python3.10/dist-packages/lightgbm/engine.py:172: UserWarning: Found `num_iterations` in params. Will use it instead of argument\n",
            "  _log_warning(f\"Found `{alias}` in params. Will use it instead of argument\")\n",
            "/usr/local/lib/python3.10/dist-packages/lightgbm/engine.py:172: UserWarning: Found `num_iterations` in params. Will use it instead of argument\n",
            "  _log_warning(f\"Found `{alias}` in params. Will use it instead of argument\")\n",
            "/usr/local/lib/python3.10/dist-packages/lightgbm/engine.py:172: UserWarning: Found `num_iterations` in params. Will use it instead of argument\n",
            "  _log_warning(f\"Found `{alias}` in params. Will use it instead of argument\")\n",
            "/usr/local/lib/python3.10/dist-packages/lightgbm/engine.py:172: UserWarning: Found `num_iterations` in params. Will use it instead of argument\n",
            "  _log_warning(f\"Found `{alias}` in params. Will use it instead of argument\")\n",
            "/usr/local/lib/python3.10/dist-packages/lightgbm/engine.py:172: UserWarning: Found `num_iterations` in params. Will use it instead of argument\n",
            "  _log_warning(f\"Found `{alias}` in params. Will use it instead of argument\")\n",
            "/usr/local/lib/python3.10/dist-packages/lightgbm/engine.py:172: UserWarning: Found `num_iterations` in params. Will use it instead of argument\n",
            "  _log_warning(f\"Found `{alias}` in params. Will use it instead of argument\")\n",
            "/usr/local/lib/python3.10/dist-packages/lightgbm/engine.py:172: UserWarning: Found `num_iterations` in params. Will use it instead of argument\n",
            "  _log_warning(f\"Found `{alias}` in params. Will use it instead of argument\")\n",
            "/usr/local/lib/python3.10/dist-packages/lightgbm/engine.py:172: UserWarning: Found `num_iterations` in params. Will use it instead of argument\n",
            "  _log_warning(f\"Found `{alias}` in params. Will use it instead of argument\")\n",
            "/usr/local/lib/python3.10/dist-packages/lightgbm/engine.py:172: UserWarning: Found `num_iterations` in params. Will use it instead of argument\n",
            "  _log_warning(f\"Found `{alias}` in params. Will use it instead of argument\")\n",
            "/usr/local/lib/python3.10/dist-packages/lightgbm/engine.py:172: UserWarning: Found `num_iterations` in params. Will use it instead of argument\n",
            "  _log_warning(f\"Found `{alias}` in params. Will use it instead of argument\")\n",
            "/usr/local/lib/python3.10/dist-packages/lightgbm/engine.py:172: UserWarning: Found `num_iterations` in params. Will use it instead of argument\n",
            "  _log_warning(f\"Found `{alias}` in params. Will use it instead of argument\")\n",
            "/usr/local/lib/python3.10/dist-packages/lightgbm/engine.py:172: UserWarning: Found `num_iterations` in params. Will use it instead of argument\n",
            "  _log_warning(f\"Found `{alias}` in params. Will use it instead of argument\")\n",
            "/usr/local/lib/python3.10/dist-packages/lightgbm/engine.py:172: UserWarning: Found `num_iterations` in params. Will use it instead of argument\n",
            "  _log_warning(f\"Found `{alias}` in params. Will use it instead of argument\")\n",
            "/usr/local/lib/python3.10/dist-packages/lightgbm/engine.py:172: UserWarning: Found `num_iterations` in params. Will use it instead of argument\n",
            "  _log_warning(f\"Found `{alias}` in params. Will use it instead of argument\")\n",
            "/usr/local/lib/python3.10/dist-packages/lightgbm/engine.py:172: UserWarning: Found `num_iterations` in params. Will use it instead of argument\n",
            "  _log_warning(f\"Found `{alias}` in params. Will use it instead of argument\")\n",
            "/usr/local/lib/python3.10/dist-packages/lightgbm/engine.py:172: UserWarning: Found `num_iterations` in params. Will use it instead of argument\n",
            "  _log_warning(f\"Found `{alias}` in params. Will use it instead of argument\")\n",
            "/usr/local/lib/python3.10/dist-packages/lightgbm/engine.py:172: UserWarning: Found `num_iterations` in params. Will use it instead of argument\n",
            "  _log_warning(f\"Found `{alias}` in params. Will use it instead of argument\")\n",
            "/usr/local/lib/python3.10/dist-packages/lightgbm/engine.py:172: UserWarning: Found `num_iterations` in params. Will use it instead of argument\n",
            "  _log_warning(f\"Found `{alias}` in params. Will use it instead of argument\")\n",
            "/usr/local/lib/python3.10/dist-packages/lightgbm/engine.py:172: UserWarning: Found `num_iterations` in params. Will use it instead of argument\n",
            "  _log_warning(f\"Found `{alias}` in params. Will use it instead of argument\")\n",
            "/usr/local/lib/python3.10/dist-packages/lightgbm/engine.py:172: UserWarning: Found `num_iterations` in params. Will use it instead of argument\n",
            "  _log_warning(f\"Found `{alias}` in params. Will use it instead of argument\")\n",
            "/usr/local/lib/python3.10/dist-packages/lightgbm/engine.py:172: UserWarning: Found `num_iterations` in params. Will use it instead of argument\n",
            "  _log_warning(f\"Found `{alias}` in params. Will use it instead of argument\")\n",
            "/usr/local/lib/python3.10/dist-packages/lightgbm/engine.py:172: UserWarning: Found `num_iterations` in params. Will use it instead of argument\n",
            "  _log_warning(f\"Found `{alias}` in params. Will use it instead of argument\")\n",
            "/usr/local/lib/python3.10/dist-packages/lightgbm/engine.py:172: UserWarning: Found `num_iterations` in params. Will use it instead of argument\n",
            "  _log_warning(f\"Found `{alias}` in params. Will use it instead of argument\")\n",
            "/usr/local/lib/python3.10/dist-packages/lightgbm/engine.py:172: UserWarning: Found `num_iterations` in params. Will use it instead of argument\n",
            "  _log_warning(f\"Found `{alias}` in params. Will use it instead of argument\")\n",
            "/usr/local/lib/python3.10/dist-packages/lightgbm/engine.py:172: UserWarning: Found `num_iterations` in params. Will use it instead of argument\n",
            "  _log_warning(f\"Found `{alias}` in params. Will use it instead of argument\")\n",
            "/usr/local/lib/python3.10/dist-packages/lightgbm/engine.py:172: UserWarning: Found `num_iterations` in params. Will use it instead of argument\n",
            "  _log_warning(f\"Found `{alias}` in params. Will use it instead of argument\")\n",
            "/usr/local/lib/python3.10/dist-packages/lightgbm/engine.py:172: UserWarning: Found `num_iterations` in params. Will use it instead of argument\n",
            "  _log_warning(f\"Found `{alias}` in params. Will use it instead of argument\")\n",
            "/usr/local/lib/python3.10/dist-packages/lightgbm/engine.py:172: UserWarning: Found `num_iterations` in params. Will use it instead of argument\n",
            "  _log_warning(f\"Found `{alias}` in params. Will use it instead of argument\")\n",
            "/usr/local/lib/python3.10/dist-packages/lightgbm/engine.py:172: UserWarning: Found `num_iterations` in params. Will use it instead of argument\n",
            "  _log_warning(f\"Found `{alias}` in params. Will use it instead of argument\")\n",
            "/usr/local/lib/python3.10/dist-packages/lightgbm/engine.py:172: UserWarning: Found `num_iterations` in params. Will use it instead of argument\n",
            "  _log_warning(f\"Found `{alias}` in params. Will use it instead of argument\")\n",
            "/usr/local/lib/python3.10/dist-packages/lightgbm/engine.py:172: UserWarning: Found `num_iterations` in params. Will use it instead of argument\n",
            "  _log_warning(f\"Found `{alias}` in params. Will use it instead of argument\")\n",
            "/usr/local/lib/python3.10/dist-packages/lightgbm/engine.py:172: UserWarning: Found `num_iterations` in params. Will use it instead of argument\n",
            "  _log_warning(f\"Found `{alias}` in params. Will use it instead of argument\")\n",
            "/usr/local/lib/python3.10/dist-packages/lightgbm/engine.py:172: UserWarning: Found `num_iterations` in params. Will use it instead of argument\n",
            "  _log_warning(f\"Found `{alias}` in params. Will use it instead of argument\")\n",
            "/usr/local/lib/python3.10/dist-packages/lightgbm/engine.py:172: UserWarning: Found `num_iterations` in params. Will use it instead of argument\n",
            "  _log_warning(f\"Found `{alias}` in params. Will use it instead of argument\")\n",
            "/usr/local/lib/python3.10/dist-packages/lightgbm/engine.py:172: UserWarning: Found `num_iterations` in params. Will use it instead of argument\n",
            "  _log_warning(f\"Found `{alias}` in params. Will use it instead of argument\")\n",
            "/usr/local/lib/python3.10/dist-packages/lightgbm/engine.py:172: UserWarning: Found `num_iterations` in params. Will use it instead of argument\n",
            "  _log_warning(f\"Found `{alias}` in params. Will use it instead of argument\")\n",
            "/usr/local/lib/python3.10/dist-packages/lightgbm/engine.py:172: UserWarning: Found `num_iterations` in params. Will use it instead of argument\n",
            "  _log_warning(f\"Found `{alias}` in params. Will use it instead of argument\")\n",
            "/usr/local/lib/python3.10/dist-packages/lightgbm/engine.py:172: UserWarning: Found `num_iterations` in params. Will use it instead of argument\n",
            "  _log_warning(f\"Found `{alias}` in params. Will use it instead of argument\")\n",
            "/usr/local/lib/python3.10/dist-packages/lightgbm/engine.py:172: UserWarning: Found `num_iterations` in params. Will use it instead of argument\n",
            "  _log_warning(f\"Found `{alias}` in params. Will use it instead of argument\")\n",
            "/usr/local/lib/python3.10/dist-packages/lightgbm/engine.py:172: UserWarning: Found `num_iterations` in params. Will use it instead of argument\n",
            "  _log_warning(f\"Found `{alias}` in params. Will use it instead of argument\")\n",
            "/usr/local/lib/python3.10/dist-packages/lightgbm/engine.py:172: UserWarning: Found `num_iterations` in params. Will use it instead of argument\n",
            "  _log_warning(f\"Found `{alias}` in params. Will use it instead of argument\")\n",
            "/usr/local/lib/python3.10/dist-packages/lightgbm/engine.py:172: UserWarning: Found `num_iterations` in params. Will use it instead of argument\n",
            "  _log_warning(f\"Found `{alias}` in params. Will use it instead of argument\")\n",
            "/usr/local/lib/python3.10/dist-packages/lightgbm/engine.py:172: UserWarning: Found `num_iterations` in params. Will use it instead of argument\n",
            "  _log_warning(f\"Found `{alias}` in params. Will use it instead of argument\")\n",
            "/usr/local/lib/python3.10/dist-packages/lightgbm/engine.py:172: UserWarning: Found `num_iterations` in params. Will use it instead of argument\n",
            "  _log_warning(f\"Found `{alias}` in params. Will use it instead of argument\")\n",
            "/usr/local/lib/python3.10/dist-packages/lightgbm/engine.py:172: UserWarning: Found `num_iterations` in params. Will use it instead of argument\n",
            "  _log_warning(f\"Found `{alias}` in params. Will use it instead of argument\")\n",
            "/usr/local/lib/python3.10/dist-packages/lightgbm/engine.py:172: UserWarning: Found `num_iterations` in params. Will use it instead of argument\n",
            "  _log_warning(f\"Found `{alias}` in params. Will use it instead of argument\")\n",
            "/usr/local/lib/python3.10/dist-packages/lightgbm/engine.py:172: UserWarning: Found `num_iterations` in params. Will use it instead of argument\n",
            "  _log_warning(f\"Found `{alias}` in params. Will use it instead of argument\")\n",
            "/usr/local/lib/python3.10/dist-packages/lightgbm/engine.py:172: UserWarning: Found `num_iterations` in params. Will use it instead of argument\n",
            "  _log_warning(f\"Found `{alias}` in params. Will use it instead of argument\")\n",
            "/usr/local/lib/python3.10/dist-packages/lightgbm/engine.py:172: UserWarning: Found `num_iterations` in params. Will use it instead of argument\n",
            "  _log_warning(f\"Found `{alias}` in params. Will use it instead of argument\")\n",
            "/usr/local/lib/python3.10/dist-packages/lightgbm/engine.py:172: UserWarning: Found `num_iterations` in params. Will use it instead of argument\n",
            "  _log_warning(f\"Found `{alias}` in params. Will use it instead of argument\")\n",
            "/usr/local/lib/python3.10/dist-packages/lightgbm/engine.py:172: UserWarning: Found `num_iterations` in params. Will use it instead of argument\n",
            "  _log_warning(f\"Found `{alias}` in params. Will use it instead of argument\")\n",
            "/usr/local/lib/python3.10/dist-packages/lightgbm/engine.py:172: UserWarning: Found `num_iterations` in params. Will use it instead of argument\n",
            "  _log_warning(f\"Found `{alias}` in params. Will use it instead of argument\")\n",
            "/usr/local/lib/python3.10/dist-packages/lightgbm/engine.py:172: UserWarning: Found `num_iterations` in params. Will use it instead of argument\n",
            "  _log_warning(f\"Found `{alias}` in params. Will use it instead of argument\")\n",
            "/usr/local/lib/python3.10/dist-packages/lightgbm/engine.py:172: UserWarning: Found `num_iterations` in params. Will use it instead of argument\n",
            "  _log_warning(f\"Found `{alias}` in params. Will use it instead of argument\")\n",
            "/usr/local/lib/python3.10/dist-packages/lightgbm/engine.py:172: UserWarning: Found `num_iterations` in params. Will use it instead of argument\n",
            "  _log_warning(f\"Found `{alias}` in params. Will use it instead of argument\")\n",
            "/usr/local/lib/python3.10/dist-packages/lightgbm/engine.py:172: UserWarning: Found `num_iterations` in params. Will use it instead of argument\n",
            "  _log_warning(f\"Found `{alias}` in params. Will use it instead of argument\")\n",
            "/usr/local/lib/python3.10/dist-packages/lightgbm/engine.py:172: UserWarning: Found `num_iterations` in params. Will use it instead of argument\n",
            "  _log_warning(f\"Found `{alias}` in params. Will use it instead of argument\")\n",
            "/usr/local/lib/python3.10/dist-packages/lightgbm/engine.py:172: UserWarning: Found `num_iterations` in params. Will use it instead of argument\n",
            "  _log_warning(f\"Found `{alias}` in params. Will use it instead of argument\")\n",
            "/usr/local/lib/python3.10/dist-packages/lightgbm/engine.py:172: UserWarning: Found `num_iterations` in params. Will use it instead of argument\n",
            "  _log_warning(f\"Found `{alias}` in params. Will use it instead of argument\")\n",
            "/usr/local/lib/python3.10/dist-packages/lightgbm/engine.py:172: UserWarning: Found `num_iterations` in params. Will use it instead of argument\n",
            "  _log_warning(f\"Found `{alias}` in params. Will use it instead of argument\")\n",
            "/usr/local/lib/python3.10/dist-packages/lightgbm/engine.py:172: UserWarning: Found `num_iterations` in params. Will use it instead of argument\n",
            "  _log_warning(f\"Found `{alias}` in params. Will use it instead of argument\")\n",
            "/usr/local/lib/python3.10/dist-packages/lightgbm/engine.py:172: UserWarning: Found `num_iterations` in params. Will use it instead of argument\n",
            "  _log_warning(f\"Found `{alias}` in params. Will use it instead of argument\")\n",
            "/usr/local/lib/python3.10/dist-packages/lightgbm/engine.py:172: UserWarning: Found `num_iterations` in params. Will use it instead of argument\n",
            "  _log_warning(f\"Found `{alias}` in params. Will use it instead of argument\")\n",
            "/usr/local/lib/python3.10/dist-packages/lightgbm/engine.py:172: UserWarning: Found `num_iterations` in params. Will use it instead of argument\n",
            "  _log_warning(f\"Found `{alias}` in params. Will use it instead of argument\")\n",
            "/usr/local/lib/python3.10/dist-packages/lightgbm/engine.py:172: UserWarning: Found `num_iterations` in params. Will use it instead of argument\n",
            "  _log_warning(f\"Found `{alias}` in params. Will use it instead of argument\")\n",
            "/usr/local/lib/python3.10/dist-packages/lightgbm/engine.py:172: UserWarning: Found `num_iterations` in params. Will use it instead of argument\n",
            "  _log_warning(f\"Found `{alias}` in params. Will use it instead of argument\")\n",
            "/usr/local/lib/python3.10/dist-packages/lightgbm/engine.py:172: UserWarning: Found `num_iterations` in params. Will use it instead of argument\n",
            "  _log_warning(f\"Found `{alias}` in params. Will use it instead of argument\")\n",
            "/usr/local/lib/python3.10/dist-packages/lightgbm/engine.py:172: UserWarning: Found `num_iterations` in params. Will use it instead of argument\n",
            "  _log_warning(f\"Found `{alias}` in params. Will use it instead of argument\")\n",
            "/usr/local/lib/python3.10/dist-packages/lightgbm/engine.py:172: UserWarning: Found `num_iterations` in params. Will use it instead of argument\n",
            "  _log_warning(f\"Found `{alias}` in params. Will use it instead of argument\")\n",
            "/usr/local/lib/python3.10/dist-packages/lightgbm/engine.py:172: UserWarning: Found `num_iterations` in params. Will use it instead of argument\n",
            "  _log_warning(f\"Found `{alias}` in params. Will use it instead of argument\")\n",
            "/usr/local/lib/python3.10/dist-packages/lightgbm/engine.py:172: UserWarning: Found `num_iterations` in params. Will use it instead of argument\n",
            "  _log_warning(f\"Found `{alias}` in params. Will use it instead of argument\")\n",
            "/usr/local/lib/python3.10/dist-packages/lightgbm/engine.py:172: UserWarning: Found `num_iterations` in params. Will use it instead of argument\n",
            "  _log_warning(f\"Found `{alias}` in params. Will use it instead of argument\")\n",
            "/usr/local/lib/python3.10/dist-packages/lightgbm/engine.py:172: UserWarning: Found `num_iterations` in params. Will use it instead of argument\n",
            "  _log_warning(f\"Found `{alias}` in params. Will use it instead of argument\")\n",
            "/usr/local/lib/python3.10/dist-packages/lightgbm/engine.py:172: UserWarning: Found `num_iterations` in params. Will use it instead of argument\n",
            "  _log_warning(f\"Found `{alias}` in params. Will use it instead of argument\")\n",
            "/usr/local/lib/python3.10/dist-packages/lightgbm/engine.py:172: UserWarning: Found `num_iterations` in params. Will use it instead of argument\n",
            "  _log_warning(f\"Found `{alias}` in params. Will use it instead of argument\")\n",
            "/usr/local/lib/python3.10/dist-packages/lightgbm/engine.py:172: UserWarning: Found `num_iterations` in params. Will use it instead of argument\n",
            "  _log_warning(f\"Found `{alias}` in params. Will use it instead of argument\")\n",
            "/usr/local/lib/python3.10/dist-packages/lightgbm/engine.py:172: UserWarning: Found `num_iterations` in params. Will use it instead of argument\n",
            "  _log_warning(f\"Found `{alias}` in params. Will use it instead of argument\")\n",
            "/usr/local/lib/python3.10/dist-packages/lightgbm/engine.py:172: UserWarning: Found `num_iterations` in params. Will use it instead of argument\n",
            "  _log_warning(f\"Found `{alias}` in params. Will use it instead of argument\")\n",
            "/usr/local/lib/python3.10/dist-packages/lightgbm/engine.py:172: UserWarning: Found `num_iterations` in params. Will use it instead of argument\n",
            "  _log_warning(f\"Found `{alias}` in params. Will use it instead of argument\")\n",
            "/usr/local/lib/python3.10/dist-packages/lightgbm/engine.py:172: UserWarning: Found `num_iterations` in params. Will use it instead of argument\n",
            "  _log_warning(f\"Found `{alias}` in params. Will use it instead of argument\")\n",
            "/usr/local/lib/python3.10/dist-packages/lightgbm/engine.py:172: UserWarning: Found `num_iterations` in params. Will use it instead of argument\n",
            "  _log_warning(f\"Found `{alias}` in params. Will use it instead of argument\")\n",
            "/usr/local/lib/python3.10/dist-packages/lightgbm/engine.py:172: UserWarning: Found `num_iterations` in params. Will use it instead of argument\n",
            "  _log_warning(f\"Found `{alias}` in params. Will use it instead of argument\")\n",
            "/usr/local/lib/python3.10/dist-packages/lightgbm/engine.py:172: UserWarning: Found `num_iterations` in params. Will use it instead of argument\n",
            "  _log_warning(f\"Found `{alias}` in params. Will use it instead of argument\")\n",
            "/usr/local/lib/python3.10/dist-packages/lightgbm/engine.py:172: UserWarning: Found `num_iterations` in params. Will use it instead of argument\n",
            "  _log_warning(f\"Found `{alias}` in params. Will use it instead of argument\")\n"
          ]
        },
        {
          "output_type": "stream",
          "name": "stdout",
          "text": [
            "RMSE лучшей модели: 1858.3478512436945 Число деревьев в ансамбле: 90 Минимальное количество семплов: 14\n"
          ]
        }
      ],
      "source": [
        "# Создадим вложенный цикл и определим число деревьев в ансамбле и минимальное количество семплов\n",
        "# для LGBMRegressor при наилучшем значении RMSE:\n",
        "\n",
        "best_model = None\n",
        "best_result = 0\n",
        "best_iterations = 0\n",
        "best_leaf = 0\n",
        "\n",
        "for itr in range(90, 110):\n",
        "    for leaf in range(10, 20):\n",
        "        model = LGBMRegressor(num_iterations=itr, min_data_in_leaf=leaf, verbose=-1)\n",
        "\n",
        "        features_train.columns = [\"\".join (c if c.isalnum() else \"_\" for c in str(x)) for x in features_train.columns]\n",
        "        model.fit(features_train, target_train)\n",
        "        predictions_valid = model.predict(features_valid)\n",
        "        result = mean_squared_error(target_valid, predictions_valid) ** 0.5\n",
        "\n",
        "        if result > best_result:\n",
        "            best_model = model\n",
        "            best_result = result\n",
        "            best_iterations = itr\n",
        "            best_leaf = leaf\n",
        "\n",
        "print(\"RMSE лучшей модели:\", best_result, \"Число деревьев в ансамбле:\", best_iterations, \"Минимальное количество семплов:\", best_leaf)"
      ]
    },
    {
      "cell_type": "markdown",
      "metadata": {
        "id": "YW7SnwzoKhQt"
      },
      "source": [
        "Обучим и определим затраченное на это время для модели LGBMRegressor:"
      ]
    },
    {
      "cell_type": "code",
      "execution_count": 45,
      "metadata": {
        "colab": {
          "base_uri": "https://localhost:8080/",
          "height": 283
        },
        "id": "FXTmXuNiJbfx",
        "outputId": "7b97e0a9-9aa7-49b4-a09a-34fd077f49f7"
      },
      "outputs": [
        {
          "output_type": "stream",
          "name": "stdout",
          "text": [
            "[LightGBM] [Warning] min_data_in_leaf is set=14, min_child_samples=20 will be ignored. Current value: min_data_in_leaf=14\n"
          ]
        },
        {
          "output_type": "stream",
          "name": "stderr",
          "text": [
            "/usr/local/lib/python3.10/dist-packages/lightgbm/engine.py:172: UserWarning: Found `num_iterations` in params. Will use it instead of argument\n",
            "  _log_warning(f\"Found `{alias}` in params. Will use it instead of argument\")\n"
          ]
        },
        {
          "output_type": "stream",
          "name": "stdout",
          "text": [
            "[LightGBM] [Warning] min_data_in_leaf is set=14, min_child_samples=20 will be ignored. Current value: min_data_in_leaf=14\n",
            "[LightGBM] [Warning] Auto-choosing row-wise multi-threading, the overhead of testing was 0.012268 seconds.\n",
            "You can set `force_row_wise=true` to remove the overhead.\n",
            "And if memory is not enough, you can set `force_col_wise=true`.\n",
            "[LightGBM] [Info] Total Bins 645\n",
            "[LightGBM] [Info] Number of data points in the train set: 193170, number of used features: 10\n",
            "[LightGBM] [Info] Start training from score 4550.850370\n",
            "CPU times: user 1.54 s, sys: 8.01 ms, total: 1.55 s\n",
            "Wall time: 1.53 s\n"
          ]
        },
        {
          "output_type": "execute_result",
          "data": {
            "text/plain": [
              "LGBMRegressor(min_data_in_leaf=14, num_iterations=90)"
            ],
            "text/html": [
              "<style>#sk-container-id-2 {color: black;background-color: white;}#sk-container-id-2 pre{padding: 0;}#sk-container-id-2 div.sk-toggleable {background-color: white;}#sk-container-id-2 label.sk-toggleable__label {cursor: pointer;display: block;width: 100%;margin-bottom: 0;padding: 0.3em;box-sizing: border-box;text-align: center;}#sk-container-id-2 label.sk-toggleable__label-arrow:before {content: \"▸\";float: left;margin-right: 0.25em;color: #696969;}#sk-container-id-2 label.sk-toggleable__label-arrow:hover:before {color: black;}#sk-container-id-2 div.sk-estimator:hover label.sk-toggleable__label-arrow:before {color: black;}#sk-container-id-2 div.sk-toggleable__content {max-height: 0;max-width: 0;overflow: hidden;text-align: left;background-color: #f0f8ff;}#sk-container-id-2 div.sk-toggleable__content pre {margin: 0.2em;color: black;border-radius: 0.25em;background-color: #f0f8ff;}#sk-container-id-2 input.sk-toggleable__control:checked~div.sk-toggleable__content {max-height: 200px;max-width: 100%;overflow: auto;}#sk-container-id-2 input.sk-toggleable__control:checked~label.sk-toggleable__label-arrow:before {content: \"▾\";}#sk-container-id-2 div.sk-estimator input.sk-toggleable__control:checked~label.sk-toggleable__label {background-color: #d4ebff;}#sk-container-id-2 div.sk-label input.sk-toggleable__control:checked~label.sk-toggleable__label {background-color: #d4ebff;}#sk-container-id-2 input.sk-hidden--visually {border: 0;clip: rect(1px 1px 1px 1px);clip: rect(1px, 1px, 1px, 1px);height: 1px;margin: -1px;overflow: hidden;padding: 0;position: absolute;width: 1px;}#sk-container-id-2 div.sk-estimator {font-family: monospace;background-color: #f0f8ff;border: 1px dotted black;border-radius: 0.25em;box-sizing: border-box;margin-bottom: 0.5em;}#sk-container-id-2 div.sk-estimator:hover {background-color: #d4ebff;}#sk-container-id-2 div.sk-parallel-item::after {content: \"\";width: 100%;border-bottom: 1px solid gray;flex-grow: 1;}#sk-container-id-2 div.sk-label:hover label.sk-toggleable__label {background-color: #d4ebff;}#sk-container-id-2 div.sk-serial::before {content: \"\";position: absolute;border-left: 1px solid gray;box-sizing: border-box;top: 0;bottom: 0;left: 50%;z-index: 0;}#sk-container-id-2 div.sk-serial {display: flex;flex-direction: column;align-items: center;background-color: white;padding-right: 0.2em;padding-left: 0.2em;position: relative;}#sk-container-id-2 div.sk-item {position: relative;z-index: 1;}#sk-container-id-2 div.sk-parallel {display: flex;align-items: stretch;justify-content: center;background-color: white;position: relative;}#sk-container-id-2 div.sk-item::before, #sk-container-id-2 div.sk-parallel-item::before {content: \"\";position: absolute;border-left: 1px solid gray;box-sizing: border-box;top: 0;bottom: 0;left: 50%;z-index: -1;}#sk-container-id-2 div.sk-parallel-item {display: flex;flex-direction: column;z-index: 1;position: relative;background-color: white;}#sk-container-id-2 div.sk-parallel-item:first-child::after {align-self: flex-end;width: 50%;}#sk-container-id-2 div.sk-parallel-item:last-child::after {align-self: flex-start;width: 50%;}#sk-container-id-2 div.sk-parallel-item:only-child::after {width: 0;}#sk-container-id-2 div.sk-dashed-wrapped {border: 1px dashed gray;margin: 0 0.4em 0.5em 0.4em;box-sizing: border-box;padding-bottom: 0.4em;background-color: white;}#sk-container-id-2 div.sk-label label {font-family: monospace;font-weight: bold;display: inline-block;line-height: 1.2em;}#sk-container-id-2 div.sk-label-container {text-align: center;}#sk-container-id-2 div.sk-container {/* jupyter's `normalize.less` sets `[hidden] { display: none; }` but bootstrap.min.css set `[hidden] { display: none !important; }` so we also need the `!important` here to be able to override the default hidden behavior on the sphinx rendered scikit-learn.org. See: https://github.com/scikit-learn/scikit-learn/issues/21755 */display: inline-block !important;position: relative;}#sk-container-id-2 div.sk-text-repr-fallback {display: none;}</style><div id=\"sk-container-id-2\" class=\"sk-top-container\"><div class=\"sk-text-repr-fallback\"><pre>LGBMRegressor(min_data_in_leaf=14, num_iterations=90)</pre><b>In a Jupyter environment, please rerun this cell to show the HTML representation or trust the notebook. <br />On GitHub, the HTML representation is unable to render, please try loading this page with nbviewer.org.</b></div><div class=\"sk-container\" hidden><div class=\"sk-item\"><div class=\"sk-estimator sk-toggleable\"><input class=\"sk-toggleable__control sk-hidden--visually\" id=\"sk-estimator-id-2\" type=\"checkbox\" checked><label for=\"sk-estimator-id-2\" class=\"sk-toggleable__label sk-toggleable__label-arrow\">LGBMRegressor</label><div class=\"sk-toggleable__content\"><pre>LGBMRegressor(min_data_in_leaf=14, num_iterations=90)</pre></div></div></div></div></div>"
            ]
          },
          "metadata": {},
          "execution_count": 45
        }
      ],
      "source": [
        "%%time\n",
        "\n",
        "model = LGBMRegressor(num_iterations=90, min_data_in_leaf=14)\n",
        "\n",
        "# Избавимся от символов в названиях столбцов, которые вызывают ошибку при обучении\n",
        "# данной модели:\n",
        "features_train.columns = [\"\".join (c if c.isalnum() else \"_\" for c in str(x)) for x in features_train.columns]\n",
        "\n",
        "model.fit(features_train, target_train)"
      ]
    },
    {
      "cell_type": "markdown",
      "metadata": {
        "id": "nRFEF4WsK__l"
      },
      "source": [
        "Определим для нее время предсказания:"
      ]
    },
    {
      "cell_type": "code",
      "execution_count": 46,
      "metadata": {
        "colab": {
          "base_uri": "https://localhost:8080/"
        },
        "id": "FTqArlcC_2I_",
        "outputId": "92753e7e-31bd-4223-ed95-5bf122dd9ccb"
      },
      "outputs": [
        {
          "output_type": "stream",
          "name": "stdout",
          "text": [
            "[LightGBM] [Warning] min_data_in_leaf is set=14, min_child_samples=20 will be ignored. Current value: min_data_in_leaf=14\n",
            "RMSE = 1858.3478512436945\n",
            "CPU times: user 455 ms, sys: 981 µs, total: 456 ms\n",
            "Wall time: 458 ms\n"
          ]
        }
      ],
      "source": [
        "%%time\n",
        "\n",
        "predictions_valid = model.predict(features_valid)\n",
        "mse = mean_squared_error(target_valid, predictions_valid)\n",
        "print(\"RMSE =\", mse ** 0.5)"
      ]
    },
    {
      "cell_type": "markdown",
      "metadata": {
        "id": "WWGnr_okCa-U"
      },
      "source": [
        "**Вывод:** В результате обучения и анализа моделей, наилучшим образом себя показала LGBMRegressor c числом деревьев в ансамбле, равным 90-та, и минимальным количеством семплов, равным 14-ти. Значение метрики RMSE для нее составило 1858. Время обучения модели: 1.53 секунды. Время предсказания: 458 миллисекунд. Временные показатели LGBMRegressor выше, чем у DecisionTreeRegressor, но, с учетом того, что значения, в целом, относительно маленькие и разницы по RMSE (1858 против 2116-ти), думаю, стоит остановить выбор на первой."
      ]
    },
    {
      "cell_type": "markdown",
      "metadata": {
        "id": "Ci2HUPuMJbfx"
      },
      "source": [
        "## Проверка модели"
      ]
    },
    {
      "cell_type": "code",
      "execution_count": 47,
      "metadata": {
        "colab": {
          "base_uri": "https://localhost:8080/"
        },
        "id": "-1BtHqvWJbfx",
        "outputId": "9505d331-0ebd-49a8-caa2-b8af6d473194"
      },
      "outputs": [
        {
          "output_type": "stream",
          "name": "stdout",
          "text": [
            "[LightGBM] [Warning] min_data_in_leaf is set=14, min_child_samples=20 will be ignored. Current value: min_data_in_leaf=14\n"
          ]
        },
        {
          "output_type": "stream",
          "name": "stderr",
          "text": [
            "/usr/local/lib/python3.10/dist-packages/lightgbm/engine.py:172: UserWarning: Found `num_iterations` in params. Will use it instead of argument\n",
            "  _log_warning(f\"Found `{alias}` in params. Will use it instead of argument\")\n"
          ]
        },
        {
          "output_type": "stream",
          "name": "stdout",
          "text": [
            "[LightGBM] [Warning] min_data_in_leaf is set=14, min_child_samples=20 will be ignored. Current value: min_data_in_leaf=14\n",
            "[LightGBM] [Warning] Auto-choosing row-wise multi-threading, the overhead of testing was 0.012041 seconds.\n",
            "You can set `force_row_wise=true` to remove the overhead.\n",
            "And if memory is not enough, you can set `force_col_wise=true`.\n",
            "[LightGBM] [Info] Total Bins 645\n",
            "[LightGBM] [Info] Number of data points in the train set: 193170, number of used features: 10\n",
            "[LightGBM] [Info] Start training from score 4550.850370\n",
            "[LightGBM] [Warning] min_data_in_leaf is set=14, min_child_samples=20 will be ignored. Current value: min_data_in_leaf=14\n",
            "RMSE = 1851.5283068749243\n"
          ]
        }
      ],
      "source": [
        "# Проверим наилучшую модель на тестовой выборке:\n",
        "\n",
        "model = LGBMRegressor(num_iterations=90, min_data_in_leaf=14)\n",
        "features_train.columns = [\"\".join (c if c.isalnum() else \"_\" for c in str(x)) for x in features_train.columns]\n",
        "model.fit(features_train, target_train)\n",
        "predictions_test = model.predict(features_test)\n",
        "mse = mean_squared_error(target_test, predictions_test)\n",
        "print(\"RMSE =\", mse ** 0.5)"
      ]
    },
    {
      "cell_type": "markdown",
      "metadata": {
        "id": "rVPhMEu0DcfA"
      },
      "source": [
        "**Вывод:** При проверке модели LGBMRegressor на тестовой выборке значение метрики RMSE составило 1852."
      ]
    },
    {
      "cell_type": "markdown",
      "metadata": {
        "id": "CghQumUN-aU6"
      },
      "source": [
        "## Общий вывод"
      ]
    },
    {
      "cell_type": "markdown",
      "metadata": {
        "id": "nsSLhp_U-fcC"
      },
      "source": [
        "В ходе предобработки данных пропущенные значения в столбце VehicleType заменены на 'sedan'; в столбце Gearbox - на 'auto'; в столбце FuelType - на 'petrol'; в столбце Repaired - на 'no'. Удалены строки с пропущенными значениями в столбце Model. Нулевые значения в столбце Power заменены предыдущими ненулевыми. Из столбца RegistrationYear удалены значения ранее 1960-го и позднее 2016-го года. Столбцы DateCreated, DateCrawled, PostalCode, LastSeen и NumberOfPictures удалены за ненадобностью. Также, из датасета удалены дубликаты. Произведено кодирование категориальных и масштабирование численных признаков. Датасет разделен на тестовую, обучающую и валидационную выборки. Выделены признаки и целевой признак.\n",
        "\n",
        "В результате обучения и анализа моделей, наилучшим образом себя показала LGBMRegressor c числом деревьев в ансамбле, равным 90-та, и минимальным количеством семплов, равным 14-ти. Значение метрики RMSE для нее составило 1858. Время обучения модели: 1.53 секунды. Время предсказания: 458 миллисекунд.\n",
        "\n",
        "При проверке модели LGBMRegressor на тестовой выборке значение метрики RMSE составило 1852."
      ]
    }
  ],
  "metadata": {
    "ExecuteTimeLog": [
      {
        "duration": 1405,
        "start_time": "2023-05-18T05:42:53.990Z"
      },
      {
        "duration": 1537,
        "start_time": "2023-05-18T05:42:55.398Z"
      },
      {
        "duration": 149,
        "start_time": "2023-05-18T05:42:56.937Z"
      },
      {
        "duration": 21,
        "start_time": "2023-05-18T05:42:57.089Z"
      },
      {
        "duration": 46,
        "start_time": "2023-05-18T05:42:57.111Z"
      },
      {
        "duration": 38,
        "start_time": "2023-05-18T05:42:57.159Z"
      },
      {
        "duration": 27,
        "start_time": "2023-05-18T05:42:57.199Z"
      },
      {
        "duration": 42,
        "start_time": "2023-05-18T05:42:57.228Z"
      },
      {
        "duration": 35,
        "start_time": "2023-05-18T05:42:57.272Z"
      },
      {
        "duration": 81,
        "start_time": "2023-05-18T05:42:57.310Z"
      },
      {
        "duration": 31,
        "start_time": "2023-05-18T05:42:57.394Z"
      },
      {
        "duration": 36,
        "start_time": "2023-05-18T05:42:57.427Z"
      },
      {
        "duration": 40,
        "start_time": "2023-05-18T05:42:57.466Z"
      },
      {
        "duration": 31,
        "start_time": "2023-05-18T05:42:57.508Z"
      },
      {
        "duration": 803,
        "start_time": "2023-05-18T05:42:57.541Z"
      },
      {
        "duration": 445,
        "start_time": "2023-05-18T05:42:58.345Z"
      },
      {
        "duration": 21,
        "start_time": "2023-05-18T05:42:58.792Z"
      },
      {
        "duration": 232,
        "start_time": "2023-05-18T05:42:58.814Z"
      },
      {
        "duration": 27,
        "start_time": "2023-05-18T05:42:59.048Z"
      },
      {
        "duration": 252,
        "start_time": "2023-05-18T05:42:59.077Z"
      },
      {
        "duration": 5,
        "start_time": "2023-05-18T05:42:59.331Z"
      },
      {
        "duration": 64,
        "start_time": "2023-05-18T05:42:59.338Z"
      },
      {
        "duration": 215,
        "start_time": "2023-05-18T05:42:59.403Z"
      },
      {
        "duration": 242,
        "start_time": "2023-05-18T05:42:59.619Z"
      },
      {
        "duration": 73,
        "start_time": "2023-05-18T05:42:59.863Z"
      },
      {
        "duration": 1248,
        "start_time": "2023-05-18T05:42:59.938Z"
      },
      {
        "duration": 281,
        "start_time": "2023-05-18T05:43:01.188Z"
      },
      {
        "duration": 501,
        "start_time": "2023-05-18T05:43:01.474Z"
      },
      {
        "duration": 335,
        "start_time": "2023-05-18T05:43:01.977Z"
      },
      {
        "duration": 816005,
        "start_time": "2023-05-18T05:43:02.314Z"
      },
      {
        "duration": 4,
        "start_time": "2023-05-18T05:56:38.321Z"
      },
      {
        "duration": 0,
        "start_time": "2023-05-18T05:56:38.327Z"
      },
      {
        "duration": 0,
        "start_time": "2023-05-18T05:56:38.328Z"
      },
      {
        "duration": 0,
        "start_time": "2023-05-18T05:56:38.329Z"
      },
      {
        "duration": 0,
        "start_time": "2023-05-18T05:56:38.330Z"
      },
      {
        "duration": 0,
        "start_time": "2023-05-18T05:56:38.332Z"
      },
      {
        "duration": 27,
        "start_time": "2023-05-18T05:56:51.476Z"
      },
      {
        "duration": 1151,
        "start_time": "2023-05-18T06:21:14.109Z"
      },
      {
        "duration": 1796,
        "start_time": "2023-05-18T06:21:15.262Z"
      },
      {
        "duration": 115,
        "start_time": "2023-05-18T06:21:17.059Z"
      },
      {
        "duration": 19,
        "start_time": "2023-05-18T06:21:17.177Z"
      },
      {
        "duration": 29,
        "start_time": "2023-05-18T06:21:17.197Z"
      },
      {
        "duration": 36,
        "start_time": "2023-05-18T06:21:17.228Z"
      },
      {
        "duration": 26,
        "start_time": "2023-05-18T06:21:17.266Z"
      },
      {
        "duration": 23,
        "start_time": "2023-05-18T06:21:17.294Z"
      },
      {
        "duration": 48,
        "start_time": "2023-05-18T06:21:17.319Z"
      },
      {
        "duration": 60,
        "start_time": "2023-05-18T06:21:17.370Z"
      },
      {
        "duration": 38,
        "start_time": "2023-05-18T06:21:17.432Z"
      },
      {
        "duration": 17,
        "start_time": "2023-05-18T06:21:17.471Z"
      },
      {
        "duration": 36,
        "start_time": "2023-05-18T06:21:17.490Z"
      },
      {
        "duration": 29,
        "start_time": "2023-05-18T06:21:17.528Z"
      },
      {
        "duration": 486,
        "start_time": "2023-05-18T06:21:17.559Z"
      },
      {
        "duration": 318,
        "start_time": "2023-05-18T06:21:18.047Z"
      },
      {
        "duration": 21,
        "start_time": "2023-05-18T06:21:18.366Z"
      },
      {
        "duration": 298,
        "start_time": "2023-05-18T06:21:18.389Z"
      },
      {
        "duration": 23,
        "start_time": "2023-05-18T06:21:18.689Z"
      },
      {
        "duration": 240,
        "start_time": "2023-05-18T06:21:18.714Z"
      },
      {
        "duration": 6,
        "start_time": "2023-05-18T06:21:18.957Z"
      },
      {
        "duration": 36,
        "start_time": "2023-05-18T06:21:18.964Z"
      },
      {
        "duration": 456,
        "start_time": "2023-05-18T06:21:19.001Z"
      },
      {
        "duration": 425,
        "start_time": "2023-05-18T06:21:19.459Z"
      },
      {
        "duration": 485,
        "start_time": "2023-05-18T06:21:19.885Z"
      },
      {
        "duration": 132,
        "start_time": "2023-05-18T06:21:20.371Z"
      },
      {
        "duration": 1239,
        "start_time": "2023-05-18T06:21:20.504Z"
      },
      {
        "duration": 260,
        "start_time": "2023-05-18T06:21:21.745Z"
      },
      {
        "duration": 393,
        "start_time": "2023-05-18T06:21:22.006Z"
      },
      {
        "duration": 296,
        "start_time": "2023-05-18T06:21:22.400Z"
      },
      {
        "duration": 14632,
        "start_time": "2023-05-18T06:21:22.698Z"
      },
      {
        "duration": 0,
        "start_time": "2023-05-18T06:21:37.332Z"
      },
      {
        "duration": 0,
        "start_time": "2023-05-18T06:21:37.333Z"
      },
      {
        "duration": 0,
        "start_time": "2023-05-18T06:21:37.335Z"
      },
      {
        "duration": 0,
        "start_time": "2023-05-18T06:21:37.336Z"
      },
      {
        "duration": 0,
        "start_time": "2023-05-18T06:21:37.336Z"
      },
      {
        "duration": 0,
        "start_time": "2023-05-18T06:21:37.338Z"
      },
      {
        "duration": 4,
        "start_time": "2023-05-18T06:22:07.796Z"
      },
      {
        "duration": 1168,
        "start_time": "2023-05-18T06:22:07.802Z"
      },
      {
        "duration": 107,
        "start_time": "2023-05-18T06:22:08.972Z"
      },
      {
        "duration": 19,
        "start_time": "2023-05-18T06:22:09.082Z"
      },
      {
        "duration": 36,
        "start_time": "2023-05-18T06:22:09.103Z"
      },
      {
        "duration": 48,
        "start_time": "2023-05-18T06:22:09.141Z"
      },
      {
        "duration": 31,
        "start_time": "2023-05-18T06:22:09.191Z"
      },
      {
        "duration": 24,
        "start_time": "2023-05-18T06:22:09.224Z"
      },
      {
        "duration": 35,
        "start_time": "2023-05-18T06:22:09.250Z"
      },
      {
        "duration": 47,
        "start_time": "2023-05-18T06:22:09.288Z"
      },
      {
        "duration": 43,
        "start_time": "2023-05-18T06:22:09.337Z"
      },
      {
        "duration": 18,
        "start_time": "2023-05-18T06:22:09.382Z"
      },
      {
        "duration": 27,
        "start_time": "2023-05-18T06:22:09.402Z"
      },
      {
        "duration": 40,
        "start_time": "2023-05-18T06:22:09.431Z"
      },
      {
        "duration": 312,
        "start_time": "2023-05-18T06:22:09.473Z"
      },
      {
        "duration": 317,
        "start_time": "2023-05-18T06:22:09.787Z"
      },
      {
        "duration": 17,
        "start_time": "2023-05-18T06:22:10.106Z"
      },
      {
        "duration": 224,
        "start_time": "2023-05-18T06:22:10.124Z"
      },
      {
        "duration": 21,
        "start_time": "2023-05-18T06:22:10.356Z"
      },
      {
        "duration": 248,
        "start_time": "2023-05-18T06:22:10.379Z"
      },
      {
        "duration": 7,
        "start_time": "2023-05-18T06:22:10.629Z"
      },
      {
        "duration": 41,
        "start_time": "2023-05-18T06:22:10.638Z"
      },
      {
        "duration": 196,
        "start_time": "2023-05-18T06:22:10.681Z"
      },
      {
        "duration": 419,
        "start_time": "2023-05-18T06:22:10.879Z"
      },
      {
        "duration": 56,
        "start_time": "2023-05-18T06:22:11.302Z"
      },
      {
        "duration": 0,
        "start_time": "2023-05-18T06:22:11.360Z"
      },
      {
        "duration": 0,
        "start_time": "2023-05-18T06:22:11.361Z"
      },
      {
        "duration": 0,
        "start_time": "2023-05-18T06:22:11.362Z"
      },
      {
        "duration": 0,
        "start_time": "2023-05-18T06:22:11.363Z"
      },
      {
        "duration": 0,
        "start_time": "2023-05-18T06:22:11.364Z"
      },
      {
        "duration": 0,
        "start_time": "2023-05-18T06:22:11.365Z"
      },
      {
        "duration": 0,
        "start_time": "2023-05-18T06:22:11.366Z"
      },
      {
        "duration": 0,
        "start_time": "2023-05-18T06:22:11.368Z"
      },
      {
        "duration": 0,
        "start_time": "2023-05-18T06:22:11.369Z"
      },
      {
        "duration": 0,
        "start_time": "2023-05-18T06:22:11.370Z"
      },
      {
        "duration": 0,
        "start_time": "2023-05-18T06:22:11.371Z"
      },
      {
        "duration": 0,
        "start_time": "2023-05-18T06:22:11.372Z"
      },
      {
        "duration": 0,
        "start_time": "2023-05-18T06:22:11.373Z"
      },
      {
        "duration": 1389,
        "start_time": "2023-05-18T06:25:01.168Z"
      },
      {
        "duration": 1704,
        "start_time": "2023-05-18T06:25:02.559Z"
      },
      {
        "duration": 214,
        "start_time": "2023-05-18T06:25:04.265Z"
      },
      {
        "duration": 1000,
        "start_time": "2023-05-18T06:25:04.480Z"
      },
      {
        "duration": 75,
        "start_time": "2023-05-18T06:25:05.482Z"
      },
      {
        "duration": 98,
        "start_time": "2023-05-18T06:25:05.560Z"
      },
      {
        "duration": 25,
        "start_time": "2023-05-18T06:25:05.660Z"
      },
      {
        "duration": 63,
        "start_time": "2023-05-18T06:25:05.687Z"
      },
      {
        "duration": 48,
        "start_time": "2023-05-18T06:25:05.752Z"
      },
      {
        "duration": 51,
        "start_time": "2023-05-18T06:25:05.801Z"
      },
      {
        "duration": 88,
        "start_time": "2023-05-18T06:25:05.853Z"
      },
      {
        "duration": 27,
        "start_time": "2023-05-18T06:25:05.943Z"
      },
      {
        "duration": 23,
        "start_time": "2023-05-18T06:25:05.971Z"
      },
      {
        "duration": 39,
        "start_time": "2023-05-18T06:25:05.998Z"
      },
      {
        "duration": 35,
        "start_time": "2023-05-18T06:25:06.038Z"
      },
      {
        "duration": 513,
        "start_time": "2023-05-18T06:25:06.074Z"
      },
      {
        "duration": 339,
        "start_time": "2023-05-18T06:25:06.588Z"
      },
      {
        "duration": 28,
        "start_time": "2023-05-18T06:25:06.929Z"
      },
      {
        "duration": 283,
        "start_time": "2023-05-18T06:25:06.959Z"
      },
      {
        "duration": 26,
        "start_time": "2023-05-18T06:25:07.244Z"
      },
      {
        "duration": 272,
        "start_time": "2023-05-18T06:25:07.272Z"
      },
      {
        "duration": 13,
        "start_time": "2023-05-18T06:25:07.546Z"
      },
      {
        "duration": 46,
        "start_time": "2023-05-18T06:25:07.561Z"
      },
      {
        "duration": 231,
        "start_time": "2023-05-18T06:25:07.610Z"
      },
      {
        "duration": 266,
        "start_time": "2023-05-18T06:25:07.843Z"
      },
      {
        "duration": 119,
        "start_time": "2023-05-18T06:25:08.111Z"
      },
      {
        "duration": 0,
        "start_time": "2023-05-18T06:25:08.232Z"
      },
      {
        "duration": 0,
        "start_time": "2023-05-18T06:25:08.234Z"
      },
      {
        "duration": 0,
        "start_time": "2023-05-18T06:25:08.235Z"
      },
      {
        "duration": 0,
        "start_time": "2023-05-18T06:25:08.238Z"
      },
      {
        "duration": 0,
        "start_time": "2023-05-18T06:25:08.257Z"
      },
      {
        "duration": 0,
        "start_time": "2023-05-18T06:25:08.259Z"
      },
      {
        "duration": 0,
        "start_time": "2023-05-18T06:25:08.261Z"
      },
      {
        "duration": 0,
        "start_time": "2023-05-18T06:25:08.263Z"
      },
      {
        "duration": 0,
        "start_time": "2023-05-18T06:25:08.264Z"
      },
      {
        "duration": 0,
        "start_time": "2023-05-18T06:25:08.265Z"
      },
      {
        "duration": 0,
        "start_time": "2023-05-18T06:25:08.266Z"
      },
      {
        "duration": 0,
        "start_time": "2023-05-18T06:25:08.267Z"
      },
      {
        "duration": 0,
        "start_time": "2023-05-18T06:25:08.269Z"
      },
      {
        "duration": 1140,
        "start_time": "2023-05-18T06:27:11.715Z"
      },
      {
        "duration": 2211,
        "start_time": "2023-05-18T06:27:12.857Z"
      },
      {
        "duration": 209,
        "start_time": "2023-05-18T06:27:15.069Z"
      },
      {
        "duration": 19,
        "start_time": "2023-05-18T06:27:15.280Z"
      },
      {
        "duration": 79,
        "start_time": "2023-05-18T06:27:15.300Z"
      },
      {
        "duration": 76,
        "start_time": "2023-05-18T06:27:15.381Z"
      },
      {
        "duration": 26,
        "start_time": "2023-05-18T06:27:15.459Z"
      },
      {
        "duration": 70,
        "start_time": "2023-05-18T06:27:15.487Z"
      },
      {
        "duration": 29,
        "start_time": "2023-05-18T06:27:15.559Z"
      },
      {
        "duration": 118,
        "start_time": "2023-05-18T06:27:15.590Z"
      },
      {
        "duration": 65,
        "start_time": "2023-05-18T06:27:15.710Z"
      },
      {
        "duration": 21,
        "start_time": "2023-05-18T06:27:15.777Z"
      },
      {
        "duration": 30,
        "start_time": "2023-05-18T06:27:15.800Z"
      },
      {
        "duration": 31,
        "start_time": "2023-05-18T06:27:15.832Z"
      },
      {
        "duration": 495,
        "start_time": "2023-05-18T06:27:15.864Z"
      },
      {
        "duration": 309,
        "start_time": "2023-05-18T06:27:16.360Z"
      },
      {
        "duration": 21,
        "start_time": "2023-05-18T06:27:16.671Z"
      },
      {
        "duration": 279,
        "start_time": "2023-05-18T06:27:16.693Z"
      },
      {
        "duration": 23,
        "start_time": "2023-05-18T06:27:16.974Z"
      },
      {
        "duration": 237,
        "start_time": "2023-05-18T06:27:16.998Z"
      },
      {
        "duration": 4,
        "start_time": "2023-05-18T06:27:17.237Z"
      },
      {
        "duration": 42,
        "start_time": "2023-05-18T06:27:17.243Z"
      },
      {
        "duration": 212,
        "start_time": "2023-05-18T06:27:17.287Z"
      },
      {
        "duration": 233,
        "start_time": "2023-05-18T06:27:17.501Z"
      },
      {
        "duration": 73,
        "start_time": "2023-05-18T06:27:17.736Z"
      },
      {
        "duration": 1090,
        "start_time": "2023-05-18T06:27:17.810Z"
      },
      {
        "duration": 269,
        "start_time": "2023-05-18T06:27:18.902Z"
      },
      {
        "duration": 389,
        "start_time": "2023-05-18T06:27:19.174Z"
      },
      {
        "duration": 287,
        "start_time": "2023-05-18T06:27:19.565Z"
      },
      {
        "duration": 798099,
        "start_time": "2023-05-18T06:27:19.854Z"
      },
      {
        "duration": 3,
        "start_time": "2023-05-18T06:40:37.957Z"
      },
      {
        "duration": 0,
        "start_time": "2023-05-18T06:40:37.961Z"
      },
      {
        "duration": 0,
        "start_time": "2023-05-18T06:40:37.963Z"
      },
      {
        "duration": 0,
        "start_time": "2023-05-18T06:40:37.964Z"
      },
      {
        "duration": 0,
        "start_time": "2023-05-18T06:40:37.965Z"
      },
      {
        "duration": 0,
        "start_time": "2023-05-18T06:40:37.966Z"
      },
      {
        "duration": 0,
        "start_time": "2023-05-18T06:40:37.968Z"
      },
      {
        "duration": 0,
        "start_time": "2023-05-18T06:40:37.968Z"
      },
      {
        "duration": 68,
        "start_time": "2023-05-18T06:40:58.151Z"
      },
      {
        "duration": 1296,
        "start_time": "2023-05-18T06:44:30.057Z"
      },
      {
        "duration": 1377,
        "start_time": "2023-05-18T06:44:31.356Z"
      },
      {
        "duration": 115,
        "start_time": "2023-05-18T06:44:32.734Z"
      },
      {
        "duration": 20,
        "start_time": "2023-05-18T06:44:32.856Z"
      },
      {
        "duration": 34,
        "start_time": "2023-05-18T06:44:32.878Z"
      },
      {
        "duration": 43,
        "start_time": "2023-05-18T06:44:32.914Z"
      },
      {
        "duration": 27,
        "start_time": "2023-05-18T06:44:32.960Z"
      },
      {
        "duration": 18,
        "start_time": "2023-05-18T06:44:32.989Z"
      },
      {
        "duration": 48,
        "start_time": "2023-05-18T06:44:33.009Z"
      },
      {
        "duration": 60,
        "start_time": "2023-05-18T06:44:33.059Z"
      },
      {
        "duration": 42,
        "start_time": "2023-05-18T06:44:33.121Z"
      },
      {
        "duration": 17,
        "start_time": "2023-05-18T06:44:33.164Z"
      },
      {
        "duration": 37,
        "start_time": "2023-05-18T06:44:33.183Z"
      },
      {
        "duration": 18,
        "start_time": "2023-05-18T06:44:33.223Z"
      },
      {
        "duration": 528,
        "start_time": "2023-05-18T06:44:33.242Z"
      },
      {
        "duration": 381,
        "start_time": "2023-05-18T06:44:33.772Z"
      },
      {
        "duration": 20,
        "start_time": "2023-05-18T06:44:34.155Z"
      },
      {
        "duration": 287,
        "start_time": "2023-05-18T06:44:34.176Z"
      },
      {
        "duration": 31,
        "start_time": "2023-05-18T06:44:34.466Z"
      },
      {
        "duration": 247,
        "start_time": "2023-05-18T06:44:34.499Z"
      },
      {
        "duration": 12,
        "start_time": "2023-05-18T06:44:34.748Z"
      },
      {
        "duration": 37,
        "start_time": "2023-05-18T06:44:34.761Z"
      },
      {
        "duration": 243,
        "start_time": "2023-05-18T06:44:34.799Z"
      },
      {
        "duration": 253,
        "start_time": "2023-05-18T06:44:35.044Z"
      },
      {
        "duration": 73,
        "start_time": "2023-05-18T06:44:35.299Z"
      },
      {
        "duration": 2386,
        "start_time": "2023-05-18T06:44:35.374Z"
      },
      {
        "duration": 514,
        "start_time": "2023-05-18T06:44:37.761Z"
      },
      {
        "duration": 836,
        "start_time": "2023-05-18T06:44:38.276Z"
      },
      {
        "duration": 659,
        "start_time": "2023-05-18T06:44:39.114Z"
      },
      {
        "duration": 817173,
        "start_time": "2023-05-18T06:44:39.776Z"
      },
      {
        "duration": 3,
        "start_time": "2023-05-18T06:58:16.957Z"
      },
      {
        "duration": 0,
        "start_time": "2023-05-18T06:58:16.962Z"
      },
      {
        "duration": 0,
        "start_time": "2023-05-18T06:58:16.963Z"
      },
      {
        "duration": 0,
        "start_time": "2023-05-18T06:58:16.964Z"
      },
      {
        "duration": 0,
        "start_time": "2023-05-18T06:58:16.965Z"
      },
      {
        "duration": 0,
        "start_time": "2023-05-18T06:58:16.967Z"
      },
      {
        "duration": 4,
        "start_time": "2023-05-18T06:59:55.062Z"
      },
      {
        "duration": 4,
        "start_time": "2023-05-18T07:02:01.708Z"
      },
      {
        "duration": 4,
        "start_time": "2023-05-18T07:02:03.835Z"
      },
      {
        "duration": 5398,
        "start_time": "2023-05-18T07:02:10.683Z"
      },
      {
        "duration": 4,
        "start_time": "2023-05-18T07:02:25.162Z"
      },
      {
        "duration": 149,
        "start_time": "2023-05-18T07:17:07.198Z"
      },
      {
        "duration": 13671,
        "start_time": "2023-05-18T07:17:22.891Z"
      },
      {
        "duration": 794,
        "start_time": "2023-05-18T07:17:36.564Z"
      },
      {
        "duration": 910603,
        "start_time": "2023-05-18T07:17:37.360Z"
      },
      {
        "duration": 0,
        "start_time": "2023-05-18T07:32:47.965Z"
      },
      {
        "duration": 1566,
        "start_time": "2023-05-19T14:48:24.975Z"
      },
      {
        "duration": 3139,
        "start_time": "2023-05-19T14:48:26.543Z"
      },
      {
        "duration": 129,
        "start_time": "2023-05-19T14:48:29.683Z"
      },
      {
        "duration": 437,
        "start_time": "2023-05-19T14:48:29.814Z"
      },
      {
        "duration": 453,
        "start_time": "2023-05-19T14:48:30.252Z"
      },
      {
        "duration": 20,
        "start_time": "2023-05-19T14:48:30.707Z"
      },
      {
        "duration": 70,
        "start_time": "2023-05-19T14:48:30.728Z"
      },
      {
        "duration": 42,
        "start_time": "2023-05-19T14:48:30.800Z"
      },
      {
        "duration": 60,
        "start_time": "2023-05-19T14:48:30.843Z"
      },
      {
        "duration": 42,
        "start_time": "2023-05-19T14:48:30.906Z"
      },
      {
        "duration": 59,
        "start_time": "2023-05-19T14:48:30.949Z"
      },
      {
        "duration": 88,
        "start_time": "2023-05-19T14:48:31.010Z"
      },
      {
        "duration": 33,
        "start_time": "2023-05-19T14:48:31.100Z"
      },
      {
        "duration": 51,
        "start_time": "2023-05-19T14:48:31.135Z"
      },
      {
        "duration": 64,
        "start_time": "2023-05-19T14:48:31.188Z"
      },
      {
        "duration": 45,
        "start_time": "2023-05-19T14:48:31.254Z"
      },
      {
        "duration": 267,
        "start_time": "2023-05-19T14:48:31.301Z"
      },
      {
        "duration": 554,
        "start_time": "2023-05-19T14:48:31.569Z"
      },
      {
        "duration": 515,
        "start_time": "2023-05-19T14:48:32.125Z"
      },
      {
        "duration": 43386,
        "start_time": "2023-05-19T14:48:32.642Z"
      },
      {
        "duration": 71,
        "start_time": "2023-05-19T14:49:16.029Z"
      },
      {
        "duration": 3452,
        "start_time": "2023-05-19T14:49:16.102Z"
      },
      {
        "duration": 12691,
        "start_time": "2023-05-19T14:49:19.556Z"
      },
      {
        "duration": 7,
        "start_time": "2023-05-19T14:49:32.249Z"
      },
      {
        "duration": 13083,
        "start_time": "2023-05-19T14:49:32.258Z"
      },
      {
        "duration": 1451,
        "start_time": "2023-05-19T14:49:45.344Z"
      },
      {
        "duration": 22,
        "start_time": "2023-05-19T14:49:46.796Z"
      },
      {
        "duration": 13,
        "start_time": "2023-05-19T14:49:46.822Z"
      },
      {
        "duration": 32,
        "start_time": "2023-05-19T14:49:46.837Z"
      },
      {
        "duration": 98,
        "start_time": "2023-05-19T14:49:46.872Z"
      },
      {
        "duration": 11,
        "start_time": "2023-05-19T14:49:46.971Z"
      },
      {
        "duration": 116,
        "start_time": "2023-05-19T14:49:46.995Z"
      },
      {
        "duration": 0,
        "start_time": "2023-05-19T14:49:47.112Z"
      },
      {
        "duration": 0,
        "start_time": "2023-05-19T14:49:47.114Z"
      },
      {
        "duration": 0,
        "start_time": "2023-05-19T14:49:47.115Z"
      },
      {
        "duration": 0,
        "start_time": "2023-05-19T14:49:47.116Z"
      },
      {
        "duration": 0,
        "start_time": "2023-05-19T14:49:47.117Z"
      },
      {
        "duration": 0,
        "start_time": "2023-05-19T14:49:47.118Z"
      },
      {
        "duration": 0,
        "start_time": "2023-05-19T14:49:47.120Z"
      },
      {
        "duration": 0,
        "start_time": "2023-05-19T14:49:47.121Z"
      },
      {
        "duration": 0,
        "start_time": "2023-05-19T14:49:47.122Z"
      },
      {
        "duration": 0,
        "start_time": "2023-05-19T14:49:47.123Z"
      },
      {
        "duration": 0,
        "start_time": "2023-05-19T14:49:47.124Z"
      },
      {
        "duration": 11,
        "start_time": "2023-05-19T14:56:35.023Z"
      }
    ],
    "colab": {
      "provenance": []
    },
    "kernelspec": {
      "display_name": "Python 3 (ipykernel)",
      "language": "python",
      "name": "python3"
    },
    "language_info": {
      "codemirror_mode": {
        "name": "ipython",
        "version": 3
      },
      "file_extension": ".py",
      "mimetype": "text/x-python",
      "name": "python",
      "nbconvert_exporter": "python",
      "pygments_lexer": "ipython3",
      "version": "3.9.5"
    },
    "toc": {
      "base_numbering": 1,
      "nav_menu": {},
      "number_sections": true,
      "sideBar": true,
      "skip_h1_title": true,
      "title_cell": "Table of Contents",
      "title_sidebar": "Contents",
      "toc_cell": false,
      "toc_position": {},
      "toc_section_display": true,
      "toc_window_display": false
    }
  },
  "nbformat": 4,
  "nbformat_minor": 0
}
