{
  "cells": [
    {
      "cell_type": "markdown",
      "id": "87e8b5ee",
      "metadata": {
        "deletable": false,
        "editable": false,
        "id": "87e8b5ee"
      },
      "source": [
        "# Исследование надежности заемщиков\n"
      ]
    },
    {
      "cell_type": "markdown",
      "id": "cd15d3e2",
      "metadata": {
        "deletable": false,
        "editable": false,
        "id": "cd15d3e2"
      },
      "source": [
        "## Откроем таблицу и изучим общую информацию о данных"
      ]
    },
    {
      "cell_type": "markdown",
      "id": "7de7cf9b",
      "metadata": {
        "deletable": false,
        "editable": false,
        "id": "7de7cf9b"
      },
      "source": [
        "**1. Импортируем библиотеку pandas. Считаем данные из csv-файла в датафрейм и сохраним в переменную `data`.**"
      ]
    },
    {
      "cell_type": "code",
      "execution_count": 1,
      "id": "41d8984e",
      "metadata": {
        "deletable": false,
        "id": "41d8984e"
      },
      "outputs": [],
      "source": [
        "import pandas as pd\n",
        "\n",
        "try:\n",
        "    data = pd.read_csv('/datasets/data.csv')\n",
        "except:\n",
        "    data = pd.read_csv('https://code.s3.yandex.net/datasets/data.csv')"
      ]
    },
    {
      "cell_type": "markdown",
      "id": "966443f1",
      "metadata": {
        "deletable": false,
        "editable": false,
        "id": "966443f1"
      },
      "source": [
        "**2. Выведем первые 20 строчек датафрейма `data` на экран.**"
      ]
    },
    {
      "cell_type": "code",
      "execution_count": 2,
      "id": "9a2ca76d",
      "metadata": {
        "deletable": false,
        "id": "9a2ca76d",
        "outputId": "b5109602-f783-47bc-f2ee-9da4c5c63dbb",
        "colab": {
          "base_uri": "https://localhost:8080/",
          "height": 1000
        }
      },
      "outputs": [
        {
          "output_type": "execute_result",
          "data": {
            "text/plain": [
              "    children  days_employed  dob_years            education  education_id  \\\n",
              "0          1   -8437.673028         42               высшее             0   \n",
              "1          1   -4024.803754         36              среднее             1   \n",
              "2          0   -5623.422610         33              Среднее             1   \n",
              "3          3   -4124.747207         32              среднее             1   \n",
              "4          0  340266.072047         53              среднее             1   \n",
              "5          0    -926.185831         27               высшее             0   \n",
              "6          0   -2879.202052         43               высшее             0   \n",
              "7          0    -152.779569         50              СРЕДНЕЕ             1   \n",
              "8          2   -6929.865299         35               ВЫСШЕЕ             0   \n",
              "9          0   -2188.756445         41              среднее             1   \n",
              "10         2   -4171.483647         36               высшее             0   \n",
              "11         0    -792.701887         40              среднее             1   \n",
              "12         0            NaN         65              среднее             1   \n",
              "13         0   -1846.641941         54  неоконченное высшее             2   \n",
              "14         0   -1844.956182         56               высшее             0   \n",
              "15         1    -972.364419         26              среднее             1   \n",
              "16         0   -1719.934226         35              среднее             1   \n",
              "17         0   -2369.999720         33               высшее             0   \n",
              "18         0  400281.136913         53              среднее             1   \n",
              "19         0  -10038.818549         48              СРЕДНЕЕ             1   \n",
              "\n",
              "       family_status  family_status_id gender income_type  debt  \\\n",
              "0    женат / замужем                 0      F   сотрудник     0   \n",
              "1    женат / замужем                 0      F   сотрудник     0   \n",
              "2    женат / замужем                 0      M   сотрудник     0   \n",
              "3    женат / замужем                 0      M   сотрудник     0   \n",
              "4   гражданский брак                 1      F   пенсионер     0   \n",
              "5   гражданский брак                 1      M   компаньон     0   \n",
              "6    женат / замужем                 0      F   компаньон     0   \n",
              "7    женат / замужем                 0      M   сотрудник     0   \n",
              "8   гражданский брак                 1      F   сотрудник     0   \n",
              "9    женат / замужем                 0      M   сотрудник     0   \n",
              "10   женат / замужем                 0      M   компаньон     0   \n",
              "11   женат / замужем                 0      F   сотрудник     0   \n",
              "12  гражданский брак                 1      M   пенсионер     0   \n",
              "13   женат / замужем                 0      F   сотрудник     0   \n",
              "14  гражданский брак                 1      F   компаньон     1   \n",
              "15   женат / замужем                 0      F   сотрудник     0   \n",
              "16   женат / замужем                 0      F   сотрудник     0   \n",
              "17  гражданский брак                 1      M   сотрудник     0   \n",
              "18    вдовец / вдова                 2      F   пенсионер     0   \n",
              "19         в разводе                 3      F   сотрудник     0   \n",
              "\n",
              "     total_income                                 purpose  \n",
              "0   253875.639453                           покупка жилья  \n",
              "1   112080.014102                 приобретение автомобиля  \n",
              "2   145885.952297                           покупка жилья  \n",
              "3   267628.550329              дополнительное образование  \n",
              "4   158616.077870                         сыграть свадьбу  \n",
              "5   255763.565419                           покупка жилья  \n",
              "6   240525.971920                       операции с жильем  \n",
              "7   135823.934197                             образование  \n",
              "8    95856.832424                   на проведение свадьбы  \n",
              "9   144425.938277                 покупка жилья для семьи  \n",
              "10  113943.491460                    покупка недвижимости  \n",
              "11   77069.234271       покупка коммерческой недвижимости  \n",
              "12            NaN                         сыграть свадьбу  \n",
              "13  130458.228857                 приобретение автомобиля  \n",
              "14  165127.911772              покупка жилой недвижимости  \n",
              "15  116820.904450  строительство собственной недвижимости  \n",
              "16  289202.704229                            недвижимость  \n",
              "17   90410.586745              строительство недвижимости  \n",
              "18   56823.777243      на покупку подержанного автомобиля  \n",
              "19  242831.107982            на покупку своего автомобиля  "
            ],
            "text/html": [
              "\n",
              "  <div id=\"df-de27e20e-06fc-4a22-a603-b88aa244e125\" class=\"colab-df-container\">\n",
              "    <div>\n",
              "<style scoped>\n",
              "    .dataframe tbody tr th:only-of-type {\n",
              "        vertical-align: middle;\n",
              "    }\n",
              "\n",
              "    .dataframe tbody tr th {\n",
              "        vertical-align: top;\n",
              "    }\n",
              "\n",
              "    .dataframe thead th {\n",
              "        text-align: right;\n",
              "    }\n",
              "</style>\n",
              "<table border=\"1\" class=\"dataframe\">\n",
              "  <thead>\n",
              "    <tr style=\"text-align: right;\">\n",
              "      <th></th>\n",
              "      <th>children</th>\n",
              "      <th>days_employed</th>\n",
              "      <th>dob_years</th>\n",
              "      <th>education</th>\n",
              "      <th>education_id</th>\n",
              "      <th>family_status</th>\n",
              "      <th>family_status_id</th>\n",
              "      <th>gender</th>\n",
              "      <th>income_type</th>\n",
              "      <th>debt</th>\n",
              "      <th>total_income</th>\n",
              "      <th>purpose</th>\n",
              "    </tr>\n",
              "  </thead>\n",
              "  <tbody>\n",
              "    <tr>\n",
              "      <th>0</th>\n",
              "      <td>1</td>\n",
              "      <td>-8437.673028</td>\n",
              "      <td>42</td>\n",
              "      <td>высшее</td>\n",
              "      <td>0</td>\n",
              "      <td>женат / замужем</td>\n",
              "      <td>0</td>\n",
              "      <td>F</td>\n",
              "      <td>сотрудник</td>\n",
              "      <td>0</td>\n",
              "      <td>253875.639453</td>\n",
              "      <td>покупка жилья</td>\n",
              "    </tr>\n",
              "    <tr>\n",
              "      <th>1</th>\n",
              "      <td>1</td>\n",
              "      <td>-4024.803754</td>\n",
              "      <td>36</td>\n",
              "      <td>среднее</td>\n",
              "      <td>1</td>\n",
              "      <td>женат / замужем</td>\n",
              "      <td>0</td>\n",
              "      <td>F</td>\n",
              "      <td>сотрудник</td>\n",
              "      <td>0</td>\n",
              "      <td>112080.014102</td>\n",
              "      <td>приобретение автомобиля</td>\n",
              "    </tr>\n",
              "    <tr>\n",
              "      <th>2</th>\n",
              "      <td>0</td>\n",
              "      <td>-5623.422610</td>\n",
              "      <td>33</td>\n",
              "      <td>Среднее</td>\n",
              "      <td>1</td>\n",
              "      <td>женат / замужем</td>\n",
              "      <td>0</td>\n",
              "      <td>M</td>\n",
              "      <td>сотрудник</td>\n",
              "      <td>0</td>\n",
              "      <td>145885.952297</td>\n",
              "      <td>покупка жилья</td>\n",
              "    </tr>\n",
              "    <tr>\n",
              "      <th>3</th>\n",
              "      <td>3</td>\n",
              "      <td>-4124.747207</td>\n",
              "      <td>32</td>\n",
              "      <td>среднее</td>\n",
              "      <td>1</td>\n",
              "      <td>женат / замужем</td>\n",
              "      <td>0</td>\n",
              "      <td>M</td>\n",
              "      <td>сотрудник</td>\n",
              "      <td>0</td>\n",
              "      <td>267628.550329</td>\n",
              "      <td>дополнительное образование</td>\n",
              "    </tr>\n",
              "    <tr>\n",
              "      <th>4</th>\n",
              "      <td>0</td>\n",
              "      <td>340266.072047</td>\n",
              "      <td>53</td>\n",
              "      <td>среднее</td>\n",
              "      <td>1</td>\n",
              "      <td>гражданский брак</td>\n",
              "      <td>1</td>\n",
              "      <td>F</td>\n",
              "      <td>пенсионер</td>\n",
              "      <td>0</td>\n",
              "      <td>158616.077870</td>\n",
              "      <td>сыграть свадьбу</td>\n",
              "    </tr>\n",
              "    <tr>\n",
              "      <th>5</th>\n",
              "      <td>0</td>\n",
              "      <td>-926.185831</td>\n",
              "      <td>27</td>\n",
              "      <td>высшее</td>\n",
              "      <td>0</td>\n",
              "      <td>гражданский брак</td>\n",
              "      <td>1</td>\n",
              "      <td>M</td>\n",
              "      <td>компаньон</td>\n",
              "      <td>0</td>\n",
              "      <td>255763.565419</td>\n",
              "      <td>покупка жилья</td>\n",
              "    </tr>\n",
              "    <tr>\n",
              "      <th>6</th>\n",
              "      <td>0</td>\n",
              "      <td>-2879.202052</td>\n",
              "      <td>43</td>\n",
              "      <td>высшее</td>\n",
              "      <td>0</td>\n",
              "      <td>женат / замужем</td>\n",
              "      <td>0</td>\n",
              "      <td>F</td>\n",
              "      <td>компаньон</td>\n",
              "      <td>0</td>\n",
              "      <td>240525.971920</td>\n",
              "      <td>операции с жильем</td>\n",
              "    </tr>\n",
              "    <tr>\n",
              "      <th>7</th>\n",
              "      <td>0</td>\n",
              "      <td>-152.779569</td>\n",
              "      <td>50</td>\n",
              "      <td>СРЕДНЕЕ</td>\n",
              "      <td>1</td>\n",
              "      <td>женат / замужем</td>\n",
              "      <td>0</td>\n",
              "      <td>M</td>\n",
              "      <td>сотрудник</td>\n",
              "      <td>0</td>\n",
              "      <td>135823.934197</td>\n",
              "      <td>образование</td>\n",
              "    </tr>\n",
              "    <tr>\n",
              "      <th>8</th>\n",
              "      <td>2</td>\n",
              "      <td>-6929.865299</td>\n",
              "      <td>35</td>\n",
              "      <td>ВЫСШЕЕ</td>\n",
              "      <td>0</td>\n",
              "      <td>гражданский брак</td>\n",
              "      <td>1</td>\n",
              "      <td>F</td>\n",
              "      <td>сотрудник</td>\n",
              "      <td>0</td>\n",
              "      <td>95856.832424</td>\n",
              "      <td>на проведение свадьбы</td>\n",
              "    </tr>\n",
              "    <tr>\n",
              "      <th>9</th>\n",
              "      <td>0</td>\n",
              "      <td>-2188.756445</td>\n",
              "      <td>41</td>\n",
              "      <td>среднее</td>\n",
              "      <td>1</td>\n",
              "      <td>женат / замужем</td>\n",
              "      <td>0</td>\n",
              "      <td>M</td>\n",
              "      <td>сотрудник</td>\n",
              "      <td>0</td>\n",
              "      <td>144425.938277</td>\n",
              "      <td>покупка жилья для семьи</td>\n",
              "    </tr>\n",
              "    <tr>\n",
              "      <th>10</th>\n",
              "      <td>2</td>\n",
              "      <td>-4171.483647</td>\n",
              "      <td>36</td>\n",
              "      <td>высшее</td>\n",
              "      <td>0</td>\n",
              "      <td>женат / замужем</td>\n",
              "      <td>0</td>\n",
              "      <td>M</td>\n",
              "      <td>компаньон</td>\n",
              "      <td>0</td>\n",
              "      <td>113943.491460</td>\n",
              "      <td>покупка недвижимости</td>\n",
              "    </tr>\n",
              "    <tr>\n",
              "      <th>11</th>\n",
              "      <td>0</td>\n",
              "      <td>-792.701887</td>\n",
              "      <td>40</td>\n",
              "      <td>среднее</td>\n",
              "      <td>1</td>\n",
              "      <td>женат / замужем</td>\n",
              "      <td>0</td>\n",
              "      <td>F</td>\n",
              "      <td>сотрудник</td>\n",
              "      <td>0</td>\n",
              "      <td>77069.234271</td>\n",
              "      <td>покупка коммерческой недвижимости</td>\n",
              "    </tr>\n",
              "    <tr>\n",
              "      <th>12</th>\n",
              "      <td>0</td>\n",
              "      <td>NaN</td>\n",
              "      <td>65</td>\n",
              "      <td>среднее</td>\n",
              "      <td>1</td>\n",
              "      <td>гражданский брак</td>\n",
              "      <td>1</td>\n",
              "      <td>M</td>\n",
              "      <td>пенсионер</td>\n",
              "      <td>0</td>\n",
              "      <td>NaN</td>\n",
              "      <td>сыграть свадьбу</td>\n",
              "    </tr>\n",
              "    <tr>\n",
              "      <th>13</th>\n",
              "      <td>0</td>\n",
              "      <td>-1846.641941</td>\n",
              "      <td>54</td>\n",
              "      <td>неоконченное высшее</td>\n",
              "      <td>2</td>\n",
              "      <td>женат / замужем</td>\n",
              "      <td>0</td>\n",
              "      <td>F</td>\n",
              "      <td>сотрудник</td>\n",
              "      <td>0</td>\n",
              "      <td>130458.228857</td>\n",
              "      <td>приобретение автомобиля</td>\n",
              "    </tr>\n",
              "    <tr>\n",
              "      <th>14</th>\n",
              "      <td>0</td>\n",
              "      <td>-1844.956182</td>\n",
              "      <td>56</td>\n",
              "      <td>высшее</td>\n",
              "      <td>0</td>\n",
              "      <td>гражданский брак</td>\n",
              "      <td>1</td>\n",
              "      <td>F</td>\n",
              "      <td>компаньон</td>\n",
              "      <td>1</td>\n",
              "      <td>165127.911772</td>\n",
              "      <td>покупка жилой недвижимости</td>\n",
              "    </tr>\n",
              "    <tr>\n",
              "      <th>15</th>\n",
              "      <td>1</td>\n",
              "      <td>-972.364419</td>\n",
              "      <td>26</td>\n",
              "      <td>среднее</td>\n",
              "      <td>1</td>\n",
              "      <td>женат / замужем</td>\n",
              "      <td>0</td>\n",
              "      <td>F</td>\n",
              "      <td>сотрудник</td>\n",
              "      <td>0</td>\n",
              "      <td>116820.904450</td>\n",
              "      <td>строительство собственной недвижимости</td>\n",
              "    </tr>\n",
              "    <tr>\n",
              "      <th>16</th>\n",
              "      <td>0</td>\n",
              "      <td>-1719.934226</td>\n",
              "      <td>35</td>\n",
              "      <td>среднее</td>\n",
              "      <td>1</td>\n",
              "      <td>женат / замужем</td>\n",
              "      <td>0</td>\n",
              "      <td>F</td>\n",
              "      <td>сотрудник</td>\n",
              "      <td>0</td>\n",
              "      <td>289202.704229</td>\n",
              "      <td>недвижимость</td>\n",
              "    </tr>\n",
              "    <tr>\n",
              "      <th>17</th>\n",
              "      <td>0</td>\n",
              "      <td>-2369.999720</td>\n",
              "      <td>33</td>\n",
              "      <td>высшее</td>\n",
              "      <td>0</td>\n",
              "      <td>гражданский брак</td>\n",
              "      <td>1</td>\n",
              "      <td>M</td>\n",
              "      <td>сотрудник</td>\n",
              "      <td>0</td>\n",
              "      <td>90410.586745</td>\n",
              "      <td>строительство недвижимости</td>\n",
              "    </tr>\n",
              "    <tr>\n",
              "      <th>18</th>\n",
              "      <td>0</td>\n",
              "      <td>400281.136913</td>\n",
              "      <td>53</td>\n",
              "      <td>среднее</td>\n",
              "      <td>1</td>\n",
              "      <td>вдовец / вдова</td>\n",
              "      <td>2</td>\n",
              "      <td>F</td>\n",
              "      <td>пенсионер</td>\n",
              "      <td>0</td>\n",
              "      <td>56823.777243</td>\n",
              "      <td>на покупку подержанного автомобиля</td>\n",
              "    </tr>\n",
              "    <tr>\n",
              "      <th>19</th>\n",
              "      <td>0</td>\n",
              "      <td>-10038.818549</td>\n",
              "      <td>48</td>\n",
              "      <td>СРЕДНЕЕ</td>\n",
              "      <td>1</td>\n",
              "      <td>в разводе</td>\n",
              "      <td>3</td>\n",
              "      <td>F</td>\n",
              "      <td>сотрудник</td>\n",
              "      <td>0</td>\n",
              "      <td>242831.107982</td>\n",
              "      <td>на покупку своего автомобиля</td>\n",
              "    </tr>\n",
              "  </tbody>\n",
              "</table>\n",
              "</div>\n",
              "    <div class=\"colab-df-buttons\">\n",
              "\n",
              "  <div class=\"colab-df-container\">\n",
              "    <button class=\"colab-df-convert\" onclick=\"convertToInteractive('df-de27e20e-06fc-4a22-a603-b88aa244e125')\"\n",
              "            title=\"Convert this dataframe to an interactive table.\"\n",
              "            style=\"display:none;\">\n",
              "\n",
              "  <svg xmlns=\"http://www.w3.org/2000/svg\" height=\"24px\" viewBox=\"0 -960 960 960\">\n",
              "    <path d=\"M120-120v-720h720v720H120Zm60-500h600v-160H180v160Zm220 220h160v-160H400v160Zm0 220h160v-160H400v160ZM180-400h160v-160H180v160Zm440 0h160v-160H620v160ZM180-180h160v-160H180v160Zm440 0h160v-160H620v160Z\"/>\n",
              "  </svg>\n",
              "    </button>\n",
              "\n",
              "  <style>\n",
              "    .colab-df-container {\n",
              "      display:flex;\n",
              "      gap: 12px;\n",
              "    }\n",
              "\n",
              "    .colab-df-convert {\n",
              "      background-color: #E8F0FE;\n",
              "      border: none;\n",
              "      border-radius: 50%;\n",
              "      cursor: pointer;\n",
              "      display: none;\n",
              "      fill: #1967D2;\n",
              "      height: 32px;\n",
              "      padding: 0 0 0 0;\n",
              "      width: 32px;\n",
              "    }\n",
              "\n",
              "    .colab-df-convert:hover {\n",
              "      background-color: #E2EBFA;\n",
              "      box-shadow: 0px 1px 2px rgba(60, 64, 67, 0.3), 0px 1px 3px 1px rgba(60, 64, 67, 0.15);\n",
              "      fill: #174EA6;\n",
              "    }\n",
              "\n",
              "    .colab-df-buttons div {\n",
              "      margin-bottom: 4px;\n",
              "    }\n",
              "\n",
              "    [theme=dark] .colab-df-convert {\n",
              "      background-color: #3B4455;\n",
              "      fill: #D2E3FC;\n",
              "    }\n",
              "\n",
              "    [theme=dark] .colab-df-convert:hover {\n",
              "      background-color: #434B5C;\n",
              "      box-shadow: 0px 1px 3px 1px rgba(0, 0, 0, 0.15);\n",
              "      filter: drop-shadow(0px 1px 2px rgba(0, 0, 0, 0.3));\n",
              "      fill: #FFFFFF;\n",
              "    }\n",
              "  </style>\n",
              "\n",
              "    <script>\n",
              "      const buttonEl =\n",
              "        document.querySelector('#df-de27e20e-06fc-4a22-a603-b88aa244e125 button.colab-df-convert');\n",
              "      buttonEl.style.display =\n",
              "        google.colab.kernel.accessAllowed ? 'block' : 'none';\n",
              "\n",
              "      async function convertToInteractive(key) {\n",
              "        const element = document.querySelector('#df-de27e20e-06fc-4a22-a603-b88aa244e125');\n",
              "        const dataTable =\n",
              "          await google.colab.kernel.invokeFunction('convertToInteractive',\n",
              "                                                    [key], {});\n",
              "        if (!dataTable) return;\n",
              "\n",
              "        const docLinkHtml = 'Like what you see? Visit the ' +\n",
              "          '<a target=\"_blank\" href=https://colab.research.google.com/notebooks/data_table.ipynb>data table notebook</a>'\n",
              "          + ' to learn more about interactive tables.';\n",
              "        element.innerHTML = '';\n",
              "        dataTable['output_type'] = 'display_data';\n",
              "        await google.colab.output.renderOutput(dataTable, element);\n",
              "        const docLink = document.createElement('div');\n",
              "        docLink.innerHTML = docLinkHtml;\n",
              "        element.appendChild(docLink);\n",
              "      }\n",
              "    </script>\n",
              "  </div>\n",
              "\n",
              "\n",
              "<div id=\"df-54eff6ca-0e70-4be5-8c19-a2ca56f6b8d8\">\n",
              "  <button class=\"colab-df-quickchart\" onclick=\"quickchart('df-54eff6ca-0e70-4be5-8c19-a2ca56f6b8d8')\"\n",
              "            title=\"Suggest charts.\"\n",
              "            style=\"display:none;\">\n",
              "\n",
              "<svg xmlns=\"http://www.w3.org/2000/svg\" height=\"24px\"viewBox=\"0 0 24 24\"\n",
              "     width=\"24px\">\n",
              "    <g>\n",
              "        <path d=\"M19 3H5c-1.1 0-2 .9-2 2v14c0 1.1.9 2 2 2h14c1.1 0 2-.9 2-2V5c0-1.1-.9-2-2-2zM9 17H7v-7h2v7zm4 0h-2V7h2v10zm4 0h-2v-4h2v4z\"/>\n",
              "    </g>\n",
              "</svg>\n",
              "  </button>\n",
              "\n",
              "<style>\n",
              "  .colab-df-quickchart {\n",
              "      --bg-color: #E8F0FE;\n",
              "      --fill-color: #1967D2;\n",
              "      --hover-bg-color: #E2EBFA;\n",
              "      --hover-fill-color: #174EA6;\n",
              "      --disabled-fill-color: #AAA;\n",
              "      --disabled-bg-color: #DDD;\n",
              "  }\n",
              "\n",
              "  [theme=dark] .colab-df-quickchart {\n",
              "      --bg-color: #3B4455;\n",
              "      --fill-color: #D2E3FC;\n",
              "      --hover-bg-color: #434B5C;\n",
              "      --hover-fill-color: #FFFFFF;\n",
              "      --disabled-bg-color: #3B4455;\n",
              "      --disabled-fill-color: #666;\n",
              "  }\n",
              "\n",
              "  .colab-df-quickchart {\n",
              "    background-color: var(--bg-color);\n",
              "    border: none;\n",
              "    border-radius: 50%;\n",
              "    cursor: pointer;\n",
              "    display: none;\n",
              "    fill: var(--fill-color);\n",
              "    height: 32px;\n",
              "    padding: 0;\n",
              "    width: 32px;\n",
              "  }\n",
              "\n",
              "  .colab-df-quickchart:hover {\n",
              "    background-color: var(--hover-bg-color);\n",
              "    box-shadow: 0 1px 2px rgba(60, 64, 67, 0.3), 0 1px 3px 1px rgba(60, 64, 67, 0.15);\n",
              "    fill: var(--button-hover-fill-color);\n",
              "  }\n",
              "\n",
              "  .colab-df-quickchart-complete:disabled,\n",
              "  .colab-df-quickchart-complete:disabled:hover {\n",
              "    background-color: var(--disabled-bg-color);\n",
              "    fill: var(--disabled-fill-color);\n",
              "    box-shadow: none;\n",
              "  }\n",
              "\n",
              "  .colab-df-spinner {\n",
              "    border: 2px solid var(--fill-color);\n",
              "    border-color: transparent;\n",
              "    border-bottom-color: var(--fill-color);\n",
              "    animation:\n",
              "      spin 1s steps(1) infinite;\n",
              "  }\n",
              "\n",
              "  @keyframes spin {\n",
              "    0% {\n",
              "      border-color: transparent;\n",
              "      border-bottom-color: var(--fill-color);\n",
              "      border-left-color: var(--fill-color);\n",
              "    }\n",
              "    20% {\n",
              "      border-color: transparent;\n",
              "      border-left-color: var(--fill-color);\n",
              "      border-top-color: var(--fill-color);\n",
              "    }\n",
              "    30% {\n",
              "      border-color: transparent;\n",
              "      border-left-color: var(--fill-color);\n",
              "      border-top-color: var(--fill-color);\n",
              "      border-right-color: var(--fill-color);\n",
              "    }\n",
              "    40% {\n",
              "      border-color: transparent;\n",
              "      border-right-color: var(--fill-color);\n",
              "      border-top-color: var(--fill-color);\n",
              "    }\n",
              "    60% {\n",
              "      border-color: transparent;\n",
              "      border-right-color: var(--fill-color);\n",
              "    }\n",
              "    80% {\n",
              "      border-color: transparent;\n",
              "      border-right-color: var(--fill-color);\n",
              "      border-bottom-color: var(--fill-color);\n",
              "    }\n",
              "    90% {\n",
              "      border-color: transparent;\n",
              "      border-bottom-color: var(--fill-color);\n",
              "    }\n",
              "  }\n",
              "</style>\n",
              "\n",
              "  <script>\n",
              "    async function quickchart(key) {\n",
              "      const quickchartButtonEl =\n",
              "        document.querySelector('#' + key + ' button');\n",
              "      quickchartButtonEl.disabled = true;  // To prevent multiple clicks.\n",
              "      quickchartButtonEl.classList.add('colab-df-spinner');\n",
              "      try {\n",
              "        const charts = await google.colab.kernel.invokeFunction(\n",
              "            'suggestCharts', [key], {});\n",
              "      } catch (error) {\n",
              "        console.error('Error during call to suggestCharts:', error);\n",
              "      }\n",
              "      quickchartButtonEl.classList.remove('colab-df-spinner');\n",
              "      quickchartButtonEl.classList.add('colab-df-quickchart-complete');\n",
              "    }\n",
              "    (() => {\n",
              "      let quickchartButtonEl =\n",
              "        document.querySelector('#df-54eff6ca-0e70-4be5-8c19-a2ca56f6b8d8 button');\n",
              "      quickchartButtonEl.style.display =\n",
              "        google.colab.kernel.accessAllowed ? 'block' : 'none';\n",
              "    })();\n",
              "  </script>\n",
              "</div>\n",
              "    </div>\n",
              "  </div>\n"
            ]
          },
          "metadata": {},
          "execution_count": 2
        }
      ],
      "source": [
        "data.head(20)"
      ]
    },
    {
      "cell_type": "markdown",
      "id": "b78e3f8f",
      "metadata": {
        "deletable": false,
        "editable": false,
        "id": "b78e3f8f"
      },
      "source": [
        "**3. Выведем основную информацию о датафрейме с помощью метода `info()`.**"
      ]
    },
    {
      "cell_type": "code",
      "execution_count": 3,
      "id": "4826d564",
      "metadata": {
        "deletable": false,
        "id": "4826d564",
        "outputId": "b923ddc6-eabc-4f36-df48-a38bc1fbd4b9",
        "colab": {
          "base_uri": "https://localhost:8080/"
        }
      },
      "outputs": [
        {
          "output_type": "stream",
          "name": "stdout",
          "text": [
            "<class 'pandas.core.frame.DataFrame'>\n",
            "RangeIndex: 21525 entries, 0 to 21524\n",
            "Data columns (total 12 columns):\n",
            " #   Column            Non-Null Count  Dtype  \n",
            "---  ------            --------------  -----  \n",
            " 0   children          21525 non-null  int64  \n",
            " 1   days_employed     19351 non-null  float64\n",
            " 2   dob_years         21525 non-null  int64  \n",
            " 3   education         21525 non-null  object \n",
            " 4   education_id      21525 non-null  int64  \n",
            " 5   family_status     21525 non-null  object \n",
            " 6   family_status_id  21525 non-null  int64  \n",
            " 7   gender            21525 non-null  object \n",
            " 8   income_type       21525 non-null  object \n",
            " 9   debt              21525 non-null  int64  \n",
            " 10  total_income      19351 non-null  float64\n",
            " 11  purpose           21525 non-null  object \n",
            "dtypes: float64(2), int64(5), object(5)\n",
            "memory usage: 2.0+ MB\n"
          ]
        }
      ],
      "source": [
        "data.info()"
      ]
    },
    {
      "cell_type": "markdown",
      "id": "a1484046",
      "metadata": {
        "deletable": false,
        "editable": false,
        "id": "a1484046"
      },
      "source": [
        "## Предобработка данных"
      ]
    },
    {
      "cell_type": "markdown",
      "id": "c37a8427",
      "metadata": {
        "deletable": false,
        "editable": false,
        "id": "c37a8427"
      },
      "source": [
        "### Удаление пропусков"
      ]
    },
    {
      "cell_type": "markdown",
      "id": "de5ba97d",
      "metadata": {
        "deletable": false,
        "editable": false,
        "id": "de5ba97d"
      },
      "source": [
        "**4. Выведем количество пропущенных значений для каждого столбца, используя комбинацию двух методов.**"
      ]
    },
    {
      "cell_type": "code",
      "execution_count": 4,
      "id": "aa935044",
      "metadata": {
        "deletable": false,
        "id": "aa935044",
        "outputId": "466b1fec-c703-400a-c1eb-20addb57e43c",
        "colab": {
          "base_uri": "https://localhost:8080/"
        }
      },
      "outputs": [
        {
          "output_type": "execute_result",
          "data": {
            "text/plain": [
              "children               0\n",
              "days_employed       2174\n",
              "dob_years              0\n",
              "education              0\n",
              "education_id           0\n",
              "family_status          0\n",
              "family_status_id       0\n",
              "gender                 0\n",
              "income_type            0\n",
              "debt                   0\n",
              "total_income        2174\n",
              "purpose                0\n",
              "dtype: int64"
            ]
          },
          "metadata": {},
          "execution_count": 4
        }
      ],
      "source": [
        "data.isna().sum()"
      ]
    },
    {
      "cell_type": "markdown",
      "id": "64bfe030",
      "metadata": {
        "deletable": false,
        "editable": false,
        "id": "64bfe030"
      },
      "source": [
        "**5. Заполним пропуски в столбце `total_income` медианным значением по каждому типу из столбца `income_type`.**"
      ]
    },
    {
      "cell_type": "code",
      "execution_count": 5,
      "id": "d6f094f4",
      "metadata": {
        "deletable": false,
        "id": "d6f094f4"
      },
      "outputs": [],
      "source": [
        "for t in data['income_type'].unique():\n",
        "    data.loc[(data['income_type'] == t) & (data['total_income'].isna()), 'total_income'] = \\\n",
        "    data.loc[(data['income_type'] == t), 'total_income'].median()"
      ]
    },
    {
      "cell_type": "markdown",
      "id": "e41e012d",
      "metadata": {
        "deletable": false,
        "editable": false,
        "id": "e41e012d"
      },
      "source": [
        "### Обработка аномальных значений"
      ]
    },
    {
      "cell_type": "markdown",
      "id": "a51c1208",
      "metadata": {
        "deletable": false,
        "editable": false,
        "id": "a51c1208"
      },
      "source": [
        "**6. Заменим все отрицательные значения в столбце `days_employed` положительными с помощью метода `abs()`.**"
      ]
    },
    {
      "cell_type": "code",
      "execution_count": 6,
      "id": "d89fc4ce",
      "metadata": {
        "deletable": false,
        "id": "d89fc4ce"
      },
      "outputs": [],
      "source": [
        "data['days_employed'] = data['days_employed'].abs()"
      ]
    },
    {
      "cell_type": "markdown",
      "id": "488b6c71",
      "metadata": {
        "deletable": false,
        "editable": false,
        "id": "488b6c71"
      },
      "source": [
        "**7. Для каждого типа занятости выведем медианное значение трудового стажа `days_employed` в днях.**"
      ]
    },
    {
      "cell_type": "code",
      "execution_count": 7,
      "id": "3d894328",
      "metadata": {
        "deletable": false,
        "id": "3d894328",
        "outputId": "b6d29a87-d9f6-40f9-a00a-9dd77f1fe00a",
        "colab": {
          "base_uri": "https://localhost:8080/"
        }
      },
      "outputs": [
        {
          "output_type": "execute_result",
          "data": {
            "text/plain": [
              "income_type\n",
              "безработный        366413.652744\n",
              "в декрете            3296.759962\n",
              "госслужащий          2689.368353\n",
              "компаньон            1547.382223\n",
              "пенсионер          365213.306266\n",
              "предприниматель       520.848083\n",
              "сотрудник            1574.202821\n",
              "студент               578.751554\n",
              "Name: days_employed, dtype: float64"
            ]
          },
          "metadata": {},
          "execution_count": 7
        }
      ],
      "source": [
        "data.groupby('income_type')['days_employed'].agg('median')"
      ]
    },
    {
      "cell_type": "markdown",
      "id": "393bb806",
      "metadata": {
        "deletable": false,
        "editable": false,
        "id": "393bb806"
      },
      "source": [
        "У двух типов (безработные и пенсионеры) получатся аномально большие значения. Оставим их как есть, так как этот столбец не понадобится нам для исследования."
      ]
    },
    {
      "cell_type": "markdown",
      "id": "8b7300f6",
      "metadata": {
        "deletable": false,
        "editable": false,
        "id": "8b7300f6"
      },
      "source": [
        "**8. Выведем перечень уникальных значений столбца `children`.**"
      ]
    },
    {
      "cell_type": "code",
      "execution_count": 8,
      "id": "d5fe734c",
      "metadata": {
        "deletable": false,
        "id": "d5fe734c",
        "outputId": "1d78fb41-3219-4647-d965-a312484f96aa",
        "colab": {
          "base_uri": "https://localhost:8080/"
        }
      },
      "outputs": [
        {
          "output_type": "execute_result",
          "data": {
            "text/plain": [
              "array([ 1,  0,  3,  2, -1,  4, 20,  5])"
            ]
          },
          "metadata": {},
          "execution_count": 8
        }
      ],
      "source": [
        "data['children'].unique()"
      ]
    },
    {
      "cell_type": "markdown",
      "id": "b64cacd3",
      "metadata": {
        "deletable": false,
        "editable": false,
        "id": "b64cacd3"
      },
      "source": [
        "**9. В столбце `children` есть два аномальных значения. Удалим строки, в которых встречаются такие аномальные значения из датафрейма `data`.**"
      ]
    },
    {
      "cell_type": "code",
      "execution_count": 9,
      "id": "859e9d5d",
      "metadata": {
        "deletable": false,
        "id": "859e9d5d"
      },
      "outputs": [],
      "source": [
        "data = data[(data['children'] != -1) & (data['children'] != 20)]"
      ]
    },
    {
      "cell_type": "markdown",
      "id": "b35a3cec",
      "metadata": {
        "deletable": false,
        "editable": false,
        "id": "b35a3cec"
      },
      "source": [
        "**10. Ещё раз выведем перечень уникальных значений столбца `children`, чтобы убедиться, что артефакты удалены.**"
      ]
    },
    {
      "cell_type": "code",
      "execution_count": 10,
      "id": "ccda8376",
      "metadata": {
        "deletable": false,
        "id": "ccda8376",
        "outputId": "6cd5bedf-73c5-49e2-9869-47176b56d7f9",
        "colab": {
          "base_uri": "https://localhost:8080/"
        }
      },
      "outputs": [
        {
          "output_type": "execute_result",
          "data": {
            "text/plain": [
              "array([1, 0, 3, 2, 4, 5])"
            ]
          },
          "metadata": {},
          "execution_count": 10
        }
      ],
      "source": [
        "data['children'].unique()"
      ]
    },
    {
      "cell_type": "markdown",
      "id": "ccf1c6b3",
      "metadata": {
        "deletable": false,
        "editable": false,
        "id": "ccf1c6b3"
      },
      "source": [
        "### Удаление пропусков (продолжение)"
      ]
    },
    {
      "cell_type": "markdown",
      "id": "efd9981a",
      "metadata": {
        "deletable": false,
        "editable": false,
        "id": "efd9981a"
      },
      "source": [
        "**11. Заполним пропуски в столбце `days_employed` медианными значениями для каждого типа занятости `income_type`.**"
      ]
    },
    {
      "cell_type": "code",
      "execution_count": 11,
      "id": "1819d290",
      "metadata": {
        "deletable": false,
        "id": "1819d290"
      },
      "outputs": [],
      "source": [
        "for t in data['income_type'].unique():\n",
        "    data.loc[(data['income_type'] == t) & (data['days_employed'].isna()), 'days_employed'] = \\\n",
        "    data.loc[(data['income_type'] == t), 'days_employed'].median()"
      ]
    },
    {
      "cell_type": "markdown",
      "id": "35507c9a",
      "metadata": {
        "deletable": false,
        "editable": false,
        "id": "35507c9a"
      },
      "source": [
        "**12. Ещё раз выведем количество пропущенных значений для каждого столбца с помощью двух методов.**"
      ]
    },
    {
      "cell_type": "code",
      "execution_count": 12,
      "id": "1034e617",
      "metadata": {
        "deletable": false,
        "id": "1034e617",
        "outputId": "01db7bc8-f1bb-44af-992c-83e490422c79",
        "colab": {
          "base_uri": "https://localhost:8080/"
        }
      },
      "outputs": [
        {
          "output_type": "execute_result",
          "data": {
            "text/plain": [
              "children            0\n",
              "days_employed       0\n",
              "dob_years           0\n",
              "education           0\n",
              "education_id        0\n",
              "family_status       0\n",
              "family_status_id    0\n",
              "gender              0\n",
              "income_type         0\n",
              "debt                0\n",
              "total_income        0\n",
              "purpose             0\n",
              "dtype: int64"
            ]
          },
          "metadata": {},
          "execution_count": 12
        }
      ],
      "source": [
        "data.isna().sum()"
      ]
    },
    {
      "cell_type": "markdown",
      "id": "783904e7",
      "metadata": {
        "deletable": false,
        "editable": false,
        "id": "783904e7"
      },
      "source": [
        "### Изменение типов данных"
      ]
    },
    {
      "cell_type": "markdown",
      "id": "307af73d",
      "metadata": {
        "deletable": false,
        "editable": false,
        "id": "307af73d"
      },
      "source": [
        "**13. Заменим вещественный тип данных в столбце `total_income` на целочисленный с помощью метода `astype()`.**"
      ]
    },
    {
      "cell_type": "code",
      "execution_count": 13,
      "id": "d3702514",
      "metadata": {
        "deletable": false,
        "id": "d3702514",
        "colab": {
          "base_uri": "https://localhost:8080/"
        },
        "outputId": "c883992b-53fd-4949-b6f7-ec03f3555d6d"
      },
      "outputs": [
        {
          "output_type": "stream",
          "name": "stderr",
          "text": [
            "<ipython-input-13-990472087ee4>:1: SettingWithCopyWarning: \n",
            "A value is trying to be set on a copy of a slice from a DataFrame.\n",
            "Try using .loc[row_indexer,col_indexer] = value instead\n",
            "\n",
            "See the caveats in the documentation: https://pandas.pydata.org/pandas-docs/stable/user_guide/indexing.html#returning-a-view-versus-a-copy\n",
            "  data['total_income'] = data['total_income'].astype(int)\n"
          ]
        }
      ],
      "source": [
        "data['total_income'] = data['total_income'].astype(int)"
      ]
    },
    {
      "cell_type": "markdown",
      "id": "755569e0",
      "metadata": {
        "deletable": false,
        "editable": false,
        "id": "755569e0"
      },
      "source": [
        "### Обработка дубликатов"
      ]
    },
    {
      "cell_type": "markdown",
      "id": "147976e8",
      "metadata": {
        "deletable": false,
        "editable": false,
        "id": "147976e8"
      },
      "source": [
        "**14. Обработаем неявные дубликаты в столбце `education`. В этом столбце есть одни и те же значения, но записанные по-разному: с использованием заглавных и строчных букв. Приведем их к нижнему регистру.**"
      ]
    },
    {
      "cell_type": "code",
      "execution_count": 14,
      "id": "1fbeaa5f",
      "metadata": {
        "deletable": false,
        "id": "1fbeaa5f",
        "colab": {
          "base_uri": "https://localhost:8080/"
        },
        "outputId": "c4b6a05d-bdb8-41fa-bc23-b5687ffac267"
      },
      "outputs": [
        {
          "output_type": "stream",
          "name": "stderr",
          "text": [
            "<ipython-input-14-d4b849f854d7>:1: SettingWithCopyWarning: \n",
            "A value is trying to be set on a copy of a slice from a DataFrame.\n",
            "Try using .loc[row_indexer,col_indexer] = value instead\n",
            "\n",
            "See the caveats in the documentation: https://pandas.pydata.org/pandas-docs/stable/user_guide/indexing.html#returning-a-view-versus-a-copy\n",
            "  data['education'] = data['education'].str.lower()\n"
          ]
        }
      ],
      "source": [
        "data['education'] = data['education'].str.lower()"
      ]
    },
    {
      "cell_type": "markdown",
      "id": "011718e0",
      "metadata": {
        "deletable": false,
        "editable": false,
        "id": "011718e0"
      },
      "source": [
        "**15. Выведем на экран количество строк-дубликатов в данных. Если такие строки присутствуют, удалим их.**"
      ]
    },
    {
      "cell_type": "code",
      "execution_count": 15,
      "id": "42db9901",
      "metadata": {
        "deletable": false,
        "id": "42db9901",
        "outputId": "27a7eeca-e315-4c33-f330-d5c7cc5dba73",
        "colab": {
          "base_uri": "https://localhost:8080/"
        }
      },
      "outputs": [
        {
          "output_type": "execute_result",
          "data": {
            "text/plain": [
              "71"
            ]
          },
          "metadata": {},
          "execution_count": 15
        }
      ],
      "source": [
        "data.duplicated().sum()"
      ]
    },
    {
      "cell_type": "code",
      "execution_count": 16,
      "id": "31de97c1",
      "metadata": {
        "deletable": false,
        "id": "31de97c1"
      },
      "outputs": [],
      "source": [
        "data = data.drop_duplicates()"
      ]
    },
    {
      "cell_type": "markdown",
      "id": "70a1d6db",
      "metadata": {
        "deletable": false,
        "editable": false,
        "id": "70a1d6db"
      },
      "source": [
        "### Категоризация данных"
      ]
    },
    {
      "cell_type": "markdown",
      "id": "1f8cbbf3",
      "metadata": {
        "deletable": false,
        "editable": false,
        "id": "1f8cbbf3"
      },
      "source": [
        "**16. На основании диапазонов, указанных ниже, создадим в датафрейме `data` столбец `total_income_category` с категориями:**\n",
        "\n",
        "- 0–30000 — `'E'`;\n",
        "- 30001–50000 — `'D'`;\n",
        "- 50001–200000 — `'C'`;\n",
        "- 200001–1000000 — `'B'`;\n",
        "- 1000001 и выше — `'A'`.\n",
        "\n",
        "\n",
        "**Используем для этого собственную функцию с именем `categorize_income()` и метод `apply()`.**"
      ]
    },
    {
      "cell_type": "code",
      "execution_count": 17,
      "id": "c45720aa",
      "metadata": {
        "deletable": false,
        "id": "c45720aa"
      },
      "outputs": [],
      "source": [
        "def categorize_income(income):\n",
        "    try:\n",
        "        if 0 <= income <= 30000:\n",
        "            return 'E'\n",
        "        elif 30001 <= income <= 50000:\n",
        "            return 'D'\n",
        "        elif 50001 <= income <= 200000:\n",
        "            return 'C'\n",
        "        elif 200001 <= income <= 1000000:\n",
        "            return 'B'\n",
        "        elif income >= 1000001:\n",
        "            return 'A'\n",
        "    except:\n",
        "        pass"
      ]
    },
    {
      "cell_type": "code",
      "execution_count": 18,
      "id": "79c85bba",
      "metadata": {
        "deletable": false,
        "id": "79c85bba",
        "colab": {
          "base_uri": "https://localhost:8080/"
        },
        "outputId": "2c93e14c-b1ff-4ce1-ede9-81113b0af11c"
      },
      "outputs": [
        {
          "output_type": "stream",
          "name": "stderr",
          "text": [
            "<ipython-input-18-0bc713f3049f>:1: SettingWithCopyWarning: \n",
            "A value is trying to be set on a copy of a slice from a DataFrame.\n",
            "Try using .loc[row_indexer,col_indexer] = value instead\n",
            "\n",
            "See the caveats in the documentation: https://pandas.pydata.org/pandas-docs/stable/user_guide/indexing.html#returning-a-view-versus-a-copy\n",
            "  data['total_income_category'] = data['total_income'].apply(categorize_income)\n"
          ]
        }
      ],
      "source": [
        "data['total_income_category'] = data['total_income'].apply(categorize_income)"
      ]
    },
    {
      "cell_type": "markdown",
      "id": "0d9b2e57",
      "metadata": {
        "deletable": false,
        "editable": false,
        "id": "0d9b2e57"
      },
      "source": [
        "**17. Выведем на экран перечень уникальных целей взятия кредита из столбца `purpose`.**"
      ]
    },
    {
      "cell_type": "code",
      "execution_count": 19,
      "id": "ab3208a2",
      "metadata": {
        "deletable": false,
        "id": "ab3208a2",
        "outputId": "42571802-b88c-42da-c0d5-f3ef163862d2",
        "colab": {
          "base_uri": "https://localhost:8080/"
        }
      },
      "outputs": [
        {
          "output_type": "execute_result",
          "data": {
            "text/plain": [
              "array(['покупка жилья', 'приобретение автомобиля',\n",
              "       'дополнительное образование', 'сыграть свадьбу',\n",
              "       'операции с жильем', 'образование', 'на проведение свадьбы',\n",
              "       'покупка жилья для семьи', 'покупка недвижимости',\n",
              "       'покупка коммерческой недвижимости', 'покупка жилой недвижимости',\n",
              "       'строительство собственной недвижимости', 'недвижимость',\n",
              "       'строительство недвижимости', 'на покупку подержанного автомобиля',\n",
              "       'на покупку своего автомобиля',\n",
              "       'операции с коммерческой недвижимостью',\n",
              "       'строительство жилой недвижимости', 'жилье',\n",
              "       'операции со своей недвижимостью', 'автомобили',\n",
              "       'заняться образованием', 'сделка с подержанным автомобилем',\n",
              "       'получение образования', 'автомобиль', 'свадьба',\n",
              "       'получение дополнительного образования', 'покупка своего жилья',\n",
              "       'операции с недвижимостью', 'получение высшего образования',\n",
              "       'свой автомобиль', 'сделка с автомобилем',\n",
              "       'профильное образование', 'высшее образование',\n",
              "       'покупка жилья для сдачи', 'на покупку автомобиля', 'ремонт жилью',\n",
              "       'заняться высшим образованием'], dtype=object)"
            ]
          },
          "metadata": {},
          "execution_count": 19
        }
      ],
      "source": [
        "data['purpose'].unique()"
      ]
    },
    {
      "cell_type": "markdown",
      "id": "8b85b75a",
      "metadata": {
        "deletable": false,
        "editable": false,
        "id": "8b85b75a"
      },
      "source": [
        "**18. Создадим функцию, которая на основании данных из столбца `purpose` сформирует новый столбец `purpose_category`, в который войдут следующие категории:**\n",
        "\n",
        "- `'операции с автомобилем'`,\n",
        "- `'операции с недвижимостью'`,\n",
        "- `'проведение свадьбы'`,\n",
        "- `'получение образования'`.\n",
        "\n",
        "**Используем собственную функцию с именем `categorize_purpose()` и метод `apply()`.**"
      ]
    },
    {
      "cell_type": "code",
      "execution_count": 20,
      "id": "d106ea2a",
      "metadata": {
        "deletable": false,
        "id": "d106ea2a"
      },
      "outputs": [],
      "source": [
        "def categorize_purpose(row):\n",
        "    try:\n",
        "        if 'автом' in row:\n",
        "            return 'операции с автомобилем'\n",
        "        elif 'жил' in row or 'недвиж' in row:\n",
        "            return 'операции с недвижимостью'\n",
        "        elif 'свад' in row:\n",
        "            return 'проведение свадьбы'\n",
        "        elif 'образов' in row:\n",
        "            return 'получение образования'\n",
        "    except:\n",
        "        return 'нет категории'"
      ]
    },
    {
      "cell_type": "code",
      "execution_count": 21,
      "id": "f525884a",
      "metadata": {
        "deletable": false,
        "id": "f525884a",
        "colab": {
          "base_uri": "https://localhost:8080/"
        },
        "outputId": "cc0b47ee-d17d-4c5f-aab5-9a6051665393"
      },
      "outputs": [
        {
          "output_type": "stream",
          "name": "stderr",
          "text": [
            "<ipython-input-21-ecf9d79505dd>:1: SettingWithCopyWarning: \n",
            "A value is trying to be set on a copy of a slice from a DataFrame.\n",
            "Try using .loc[row_indexer,col_indexer] = value instead\n",
            "\n",
            "See the caveats in the documentation: https://pandas.pydata.org/pandas-docs/stable/user_guide/indexing.html#returning-a-view-versus-a-copy\n",
            "  data['purpose_category'] = data['purpose'].apply(categorize_purpose)\n"
          ]
        }
      ],
      "source": [
        "data['purpose_category'] = data['purpose'].apply(categorize_purpose)"
      ]
    },
    {
      "cell_type": "markdown",
      "id": "c6897d53",
      "metadata": {
        "deletable": false,
        "editable": false,
        "id": "c6897d53"
      },
      "source": [
        "### 3. Исследовательский анализ данных"
      ]
    },
    {
      "cell_type": "markdown",
      "id": "ae71e489",
      "metadata": {
        "deletable": false,
        "editable": false,
        "id": "ae71e489"
      },
      "source": [
        "#### 3.1 Определим, есть ли зависимость между количеством детей и возвратом кредита в срок"
      ]
    },
    {
      "cell_type": "code",
      "execution_count": 22,
      "id": "1630c47a",
      "metadata": {
        "deletable": false,
        "id": "1630c47a",
        "outputId": "c0b7652a-5b7c-44c5-b51d-baf93ae2f71c",
        "colab": {
          "base_uri": "https://localhost:8080/"
        }
      },
      "outputs": [
        {
          "output_type": "execute_result",
          "data": {
            "text/plain": [
              "children\n",
              "5    0.000000\n",
              "0    7.543822\n",
              "3    8.181818\n",
              "1    9.234609\n",
              "2    9.454191\n",
              "4    9.756098\n",
              "dtype: float64"
            ]
          },
          "metadata": {},
          "execution_count": 22
        }
      ],
      "source": [
        "# Сгруппируем в таблицу и вычислим общее количество должников для определенного числа детей:\n",
        "debtor_quantity = data.groupby(['children']).agg({'debt':'sum'})\n",
        "\n",
        "# Теперь сгруппируем в таблицу и вычислим общее количество заемщиков для определенного числа детей:\n",
        "borrower_quantity = data.groupby(['children']).agg({'family_status_id':'count'})\n",
        "\n",
        "# И определим процент должников в каждой группе:\n",
        "debtor_percentage = (debtor_quantity['debt'] / borrower_quantity['family_status_id']) * 100\n",
        "\n",
        "# Отсортируем по возрастанию:\n",
        "debtor_percentage.sort_values()"
      ]
    },
    {
      "cell_type": "code",
      "execution_count": 23,
      "id": "3a09cd93",
      "metadata": {
        "id": "3a09cd93",
        "outputId": "bce2a43d-e1b7-4481-e5b6-ed05a4c75f5a",
        "colab": {
          "base_uri": "https://localhost:8080/",
          "height": 269
        }
      },
      "outputs": [
        {
          "output_type": "execute_result",
          "data": {
            "text/plain": [
              "          debt  borrower_quantity  debtor_percentage\n",
              "children                                            \n",
              "0         1063              14091           7.543822\n",
              "1          444               4808           9.234609\n",
              "2          194               2052           9.454191\n",
              "3           27                330           8.181818\n",
              "4            4                 41           9.756098\n",
              "5            0                  9           0.000000"
            ],
            "text/html": [
              "\n",
              "  <div id=\"df-7dec64e4-1a1d-48b8-8122-e15512f0b24b\" class=\"colab-df-container\">\n",
              "    <div>\n",
              "<style scoped>\n",
              "    .dataframe tbody tr th:only-of-type {\n",
              "        vertical-align: middle;\n",
              "    }\n",
              "\n",
              "    .dataframe tbody tr th {\n",
              "        vertical-align: top;\n",
              "    }\n",
              "\n",
              "    .dataframe thead th {\n",
              "        text-align: right;\n",
              "    }\n",
              "</style>\n",
              "<table border=\"1\" class=\"dataframe\">\n",
              "  <thead>\n",
              "    <tr style=\"text-align: right;\">\n",
              "      <th></th>\n",
              "      <th>debt</th>\n",
              "      <th>borrower_quantity</th>\n",
              "      <th>debtor_percentage</th>\n",
              "    </tr>\n",
              "    <tr>\n",
              "      <th>children</th>\n",
              "      <th></th>\n",
              "      <th></th>\n",
              "      <th></th>\n",
              "    </tr>\n",
              "  </thead>\n",
              "  <tbody>\n",
              "    <tr>\n",
              "      <th>0</th>\n",
              "      <td>1063</td>\n",
              "      <td>14091</td>\n",
              "      <td>7.543822</td>\n",
              "    </tr>\n",
              "    <tr>\n",
              "      <th>1</th>\n",
              "      <td>444</td>\n",
              "      <td>4808</td>\n",
              "      <td>9.234609</td>\n",
              "    </tr>\n",
              "    <tr>\n",
              "      <th>2</th>\n",
              "      <td>194</td>\n",
              "      <td>2052</td>\n",
              "      <td>9.454191</td>\n",
              "    </tr>\n",
              "    <tr>\n",
              "      <th>3</th>\n",
              "      <td>27</td>\n",
              "      <td>330</td>\n",
              "      <td>8.181818</td>\n",
              "    </tr>\n",
              "    <tr>\n",
              "      <th>4</th>\n",
              "      <td>4</td>\n",
              "      <td>41</td>\n",
              "      <td>9.756098</td>\n",
              "    </tr>\n",
              "    <tr>\n",
              "      <th>5</th>\n",
              "      <td>0</td>\n",
              "      <td>9</td>\n",
              "      <td>0.000000</td>\n",
              "    </tr>\n",
              "  </tbody>\n",
              "</table>\n",
              "</div>\n",
              "    <div class=\"colab-df-buttons\">\n",
              "\n",
              "  <div class=\"colab-df-container\">\n",
              "    <button class=\"colab-df-convert\" onclick=\"convertToInteractive('df-7dec64e4-1a1d-48b8-8122-e15512f0b24b')\"\n",
              "            title=\"Convert this dataframe to an interactive table.\"\n",
              "            style=\"display:none;\">\n",
              "\n",
              "  <svg xmlns=\"http://www.w3.org/2000/svg\" height=\"24px\" viewBox=\"0 -960 960 960\">\n",
              "    <path d=\"M120-120v-720h720v720H120Zm60-500h600v-160H180v160Zm220 220h160v-160H400v160Zm0 220h160v-160H400v160ZM180-400h160v-160H180v160Zm440 0h160v-160H620v160ZM180-180h160v-160H180v160Zm440 0h160v-160H620v160Z\"/>\n",
              "  </svg>\n",
              "    </button>\n",
              "\n",
              "  <style>\n",
              "    .colab-df-container {\n",
              "      display:flex;\n",
              "      gap: 12px;\n",
              "    }\n",
              "\n",
              "    .colab-df-convert {\n",
              "      background-color: #E8F0FE;\n",
              "      border: none;\n",
              "      border-radius: 50%;\n",
              "      cursor: pointer;\n",
              "      display: none;\n",
              "      fill: #1967D2;\n",
              "      height: 32px;\n",
              "      padding: 0 0 0 0;\n",
              "      width: 32px;\n",
              "    }\n",
              "\n",
              "    .colab-df-convert:hover {\n",
              "      background-color: #E2EBFA;\n",
              "      box-shadow: 0px 1px 2px rgba(60, 64, 67, 0.3), 0px 1px 3px 1px rgba(60, 64, 67, 0.15);\n",
              "      fill: #174EA6;\n",
              "    }\n",
              "\n",
              "    .colab-df-buttons div {\n",
              "      margin-bottom: 4px;\n",
              "    }\n",
              "\n",
              "    [theme=dark] .colab-df-convert {\n",
              "      background-color: #3B4455;\n",
              "      fill: #D2E3FC;\n",
              "    }\n",
              "\n",
              "    [theme=dark] .colab-df-convert:hover {\n",
              "      background-color: #434B5C;\n",
              "      box-shadow: 0px 1px 3px 1px rgba(0, 0, 0, 0.15);\n",
              "      filter: drop-shadow(0px 1px 2px rgba(0, 0, 0, 0.3));\n",
              "      fill: #FFFFFF;\n",
              "    }\n",
              "  </style>\n",
              "\n",
              "    <script>\n",
              "      const buttonEl =\n",
              "        document.querySelector('#df-7dec64e4-1a1d-48b8-8122-e15512f0b24b button.colab-df-convert');\n",
              "      buttonEl.style.display =\n",
              "        google.colab.kernel.accessAllowed ? 'block' : 'none';\n",
              "\n",
              "      async function convertToInteractive(key) {\n",
              "        const element = document.querySelector('#df-7dec64e4-1a1d-48b8-8122-e15512f0b24b');\n",
              "        const dataTable =\n",
              "          await google.colab.kernel.invokeFunction('convertToInteractive',\n",
              "                                                    [key], {});\n",
              "        if (!dataTable) return;\n",
              "\n",
              "        const docLinkHtml = 'Like what you see? Visit the ' +\n",
              "          '<a target=\"_blank\" href=https://colab.research.google.com/notebooks/data_table.ipynb>data table notebook</a>'\n",
              "          + ' to learn more about interactive tables.';\n",
              "        element.innerHTML = '';\n",
              "        dataTable['output_type'] = 'display_data';\n",
              "        await google.colab.output.renderOutput(dataTable, element);\n",
              "        const docLink = document.createElement('div');\n",
              "        docLink.innerHTML = docLinkHtml;\n",
              "        element.appendChild(docLink);\n",
              "      }\n",
              "    </script>\n",
              "  </div>\n",
              "\n",
              "\n",
              "<div id=\"df-57bc0560-e272-43bf-92ea-ff9bead59414\">\n",
              "  <button class=\"colab-df-quickchart\" onclick=\"quickchart('df-57bc0560-e272-43bf-92ea-ff9bead59414')\"\n",
              "            title=\"Suggest charts.\"\n",
              "            style=\"display:none;\">\n",
              "\n",
              "<svg xmlns=\"http://www.w3.org/2000/svg\" height=\"24px\"viewBox=\"0 0 24 24\"\n",
              "     width=\"24px\">\n",
              "    <g>\n",
              "        <path d=\"M19 3H5c-1.1 0-2 .9-2 2v14c0 1.1.9 2 2 2h14c1.1 0 2-.9 2-2V5c0-1.1-.9-2-2-2zM9 17H7v-7h2v7zm4 0h-2V7h2v10zm4 0h-2v-4h2v4z\"/>\n",
              "    </g>\n",
              "</svg>\n",
              "  </button>\n",
              "\n",
              "<style>\n",
              "  .colab-df-quickchart {\n",
              "      --bg-color: #E8F0FE;\n",
              "      --fill-color: #1967D2;\n",
              "      --hover-bg-color: #E2EBFA;\n",
              "      --hover-fill-color: #174EA6;\n",
              "      --disabled-fill-color: #AAA;\n",
              "      --disabled-bg-color: #DDD;\n",
              "  }\n",
              "\n",
              "  [theme=dark] .colab-df-quickchart {\n",
              "      --bg-color: #3B4455;\n",
              "      --fill-color: #D2E3FC;\n",
              "      --hover-bg-color: #434B5C;\n",
              "      --hover-fill-color: #FFFFFF;\n",
              "      --disabled-bg-color: #3B4455;\n",
              "      --disabled-fill-color: #666;\n",
              "  }\n",
              "\n",
              "  .colab-df-quickchart {\n",
              "    background-color: var(--bg-color);\n",
              "    border: none;\n",
              "    border-radius: 50%;\n",
              "    cursor: pointer;\n",
              "    display: none;\n",
              "    fill: var(--fill-color);\n",
              "    height: 32px;\n",
              "    padding: 0;\n",
              "    width: 32px;\n",
              "  }\n",
              "\n",
              "  .colab-df-quickchart:hover {\n",
              "    background-color: var(--hover-bg-color);\n",
              "    box-shadow: 0 1px 2px rgba(60, 64, 67, 0.3), 0 1px 3px 1px rgba(60, 64, 67, 0.15);\n",
              "    fill: var(--button-hover-fill-color);\n",
              "  }\n",
              "\n",
              "  .colab-df-quickchart-complete:disabled,\n",
              "  .colab-df-quickchart-complete:disabled:hover {\n",
              "    background-color: var(--disabled-bg-color);\n",
              "    fill: var(--disabled-fill-color);\n",
              "    box-shadow: none;\n",
              "  }\n",
              "\n",
              "  .colab-df-spinner {\n",
              "    border: 2px solid var(--fill-color);\n",
              "    border-color: transparent;\n",
              "    border-bottom-color: var(--fill-color);\n",
              "    animation:\n",
              "      spin 1s steps(1) infinite;\n",
              "  }\n",
              "\n",
              "  @keyframes spin {\n",
              "    0% {\n",
              "      border-color: transparent;\n",
              "      border-bottom-color: var(--fill-color);\n",
              "      border-left-color: var(--fill-color);\n",
              "    }\n",
              "    20% {\n",
              "      border-color: transparent;\n",
              "      border-left-color: var(--fill-color);\n",
              "      border-top-color: var(--fill-color);\n",
              "    }\n",
              "    30% {\n",
              "      border-color: transparent;\n",
              "      border-left-color: var(--fill-color);\n",
              "      border-top-color: var(--fill-color);\n",
              "      border-right-color: var(--fill-color);\n",
              "    }\n",
              "    40% {\n",
              "      border-color: transparent;\n",
              "      border-right-color: var(--fill-color);\n",
              "      border-top-color: var(--fill-color);\n",
              "    }\n",
              "    60% {\n",
              "      border-color: transparent;\n",
              "      border-right-color: var(--fill-color);\n",
              "    }\n",
              "    80% {\n",
              "      border-color: transparent;\n",
              "      border-right-color: var(--fill-color);\n",
              "      border-bottom-color: var(--fill-color);\n",
              "    }\n",
              "    90% {\n",
              "      border-color: transparent;\n",
              "      border-bottom-color: var(--fill-color);\n",
              "    }\n",
              "  }\n",
              "</style>\n",
              "\n",
              "  <script>\n",
              "    async function quickchart(key) {\n",
              "      const quickchartButtonEl =\n",
              "        document.querySelector('#' + key + ' button');\n",
              "      quickchartButtonEl.disabled = true;  // To prevent multiple clicks.\n",
              "      quickchartButtonEl.classList.add('colab-df-spinner');\n",
              "      try {\n",
              "        const charts = await google.colab.kernel.invokeFunction(\n",
              "            'suggestCharts', [key], {});\n",
              "      } catch (error) {\n",
              "        console.error('Error during call to suggestCharts:', error);\n",
              "      }\n",
              "      quickchartButtonEl.classList.remove('colab-df-spinner');\n",
              "      quickchartButtonEl.classList.add('colab-df-quickchart-complete');\n",
              "    }\n",
              "    (() => {\n",
              "      let quickchartButtonEl =\n",
              "        document.querySelector('#df-57bc0560-e272-43bf-92ea-ff9bead59414 button');\n",
              "      quickchartButtonEl.style.display =\n",
              "        google.colab.kernel.accessAllowed ? 'block' : 'none';\n",
              "    })();\n",
              "  </script>\n",
              "</div>\n",
              "    </div>\n",
              "  </div>\n"
            ]
          },
          "metadata": {},
          "execution_count": 23
        }
      ],
      "source": [
        "# Теперь сформируем по полученным данным сводную таблицу.\n",
        "\n",
        "# Добавим в таблицу debtor_quantity столбец с общим количеством заемщиков:\n",
        "debtor_quantity['borrower_quantity'] = data.groupby(['children']).agg({'family_status_id':'count'})\n",
        "\n",
        "# Далее добавим в нее же столбец со средним процентом просрочки:\n",
        "debtor_quantity['debtor_percentage'] = debtor_quantity['debt'] / debtor_quantity['borrower_quantity'] * 100\n",
        "\n",
        "# И выведем получившуюся сводную таблицу на экран:\n",
        "debtor_quantity"
      ]
    },
    {
      "cell_type": "markdown",
      "id": "771287c6",
      "metadata": {
        "deletable": false,
        "id": "771287c6"
      },
      "source": [
        "**Вывод:**\n",
        "Для формулирования вывода стоит ограничиться тремя верхними строками сводной таблицы. Нижние три, в силу их малочисленности, трудно считать репрезентативными.\n",
        "\n",
        "По полученным данным видно, что средний процент должников немного ниже среди заемщиков без детей. В категории заемщиков с одним ребенком число должников возрастает на 1,7%. И еще на 0,2% для заемщиков с двумя детьми. Разница в 0,2% слишком мала, чтобы однозначно вывести какую-то зависимость. Таким образом, стоит ограничиться лишь выводом, что процент невозврата среди заемщиков без детей, в целом, ниже, чем среди заемщиков с детьми."
      ]
    },
    {
      "cell_type": "markdown",
      "id": "e691b094",
      "metadata": {
        "deletable": false,
        "editable": false,
        "id": "e691b094"
      },
      "source": [
        "#### 3.2 Определим, есть ли зависимость между семейным положением и возвратом кредита в срок"
      ]
    },
    {
      "cell_type": "code",
      "execution_count": 24,
      "id": "267994ca",
      "metadata": {
        "deletable": false,
        "id": "267994ca",
        "outputId": "0bdbe0a2-f961-48e2-b842-007a9913a052",
        "colab": {
          "base_uri": "https://localhost:8080/"
        }
      },
      "outputs": [
        {
          "output_type": "execute_result",
          "data": {
            "text/plain": [
              "family_status\n",
              "вдовец / вдова           6.624606\n",
              "в разводе                7.064760\n",
              "женат / замужем          7.560558\n",
              "гражданский брак         9.313014\n",
              "Не женат / не замужем    9.763948\n",
              "dtype: float64"
            ]
          },
          "metadata": {},
          "execution_count": 24
        }
      ],
      "source": [
        "# Сгруппируем в таблицу и вычислим общее количество должников для определенного семейного положения:\n",
        "debtor_quantity = data.groupby(['family_status']).agg({'debt':'sum'})\n",
        "\n",
        "# Теперь сгруппируем в таблицу и вычислим общее количество заемщиков для определенного семейного положения:\n",
        "borrower_quantity = data.groupby(['family_status']).agg({'family_status_id':'count'})\n",
        "\n",
        "# И определим процент должников в каждой группе:\n",
        "debtor_percentage = (debtor_quantity['debt'] / borrower_quantity['family_status_id']) * 100\n",
        "\n",
        "# Отсортируем по возрастанию:\n",
        "debtor_percentage.sort_values()"
      ]
    },
    {
      "cell_type": "code",
      "execution_count": 25,
      "id": "766b9935",
      "metadata": {
        "id": "766b9935",
        "outputId": "a9ae662d-85d2-4441-e492-f61b2ca28baa",
        "colab": {
          "base_uri": "https://localhost:8080/",
          "height": 238
        }
      },
      "outputs": [
        {
          "output_type": "execute_result",
          "data": {
            "text/plain": [
              "                       debt  borrower_quantity  debtor_percentage\n",
              "family_status                                                    \n",
              "вдовец / вдова           63                951           6.624606\n",
              "в разводе                84               1189           7.064760\n",
              "женат / замужем         927              12261           7.560558\n",
              "гражданский брак        385               4134           9.313014\n",
              "Не женат / не замужем   273               2796           9.763948"
            ],
            "text/html": [
              "\n",
              "  <div id=\"df-e97ab22b-f345-4647-9cc8-61d08ae3731d\" class=\"colab-df-container\">\n",
              "    <div>\n",
              "<style scoped>\n",
              "    .dataframe tbody tr th:only-of-type {\n",
              "        vertical-align: middle;\n",
              "    }\n",
              "\n",
              "    .dataframe tbody tr th {\n",
              "        vertical-align: top;\n",
              "    }\n",
              "\n",
              "    .dataframe thead th {\n",
              "        text-align: right;\n",
              "    }\n",
              "</style>\n",
              "<table border=\"1\" class=\"dataframe\">\n",
              "  <thead>\n",
              "    <tr style=\"text-align: right;\">\n",
              "      <th></th>\n",
              "      <th>debt</th>\n",
              "      <th>borrower_quantity</th>\n",
              "      <th>debtor_percentage</th>\n",
              "    </tr>\n",
              "    <tr>\n",
              "      <th>family_status</th>\n",
              "      <th></th>\n",
              "      <th></th>\n",
              "      <th></th>\n",
              "    </tr>\n",
              "  </thead>\n",
              "  <tbody>\n",
              "    <tr>\n",
              "      <th>вдовец / вдова</th>\n",
              "      <td>63</td>\n",
              "      <td>951</td>\n",
              "      <td>6.624606</td>\n",
              "    </tr>\n",
              "    <tr>\n",
              "      <th>в разводе</th>\n",
              "      <td>84</td>\n",
              "      <td>1189</td>\n",
              "      <td>7.064760</td>\n",
              "    </tr>\n",
              "    <tr>\n",
              "      <th>женат / замужем</th>\n",
              "      <td>927</td>\n",
              "      <td>12261</td>\n",
              "      <td>7.560558</td>\n",
              "    </tr>\n",
              "    <tr>\n",
              "      <th>гражданский брак</th>\n",
              "      <td>385</td>\n",
              "      <td>4134</td>\n",
              "      <td>9.313014</td>\n",
              "    </tr>\n",
              "    <tr>\n",
              "      <th>Не женат / не замужем</th>\n",
              "      <td>273</td>\n",
              "      <td>2796</td>\n",
              "      <td>9.763948</td>\n",
              "    </tr>\n",
              "  </tbody>\n",
              "</table>\n",
              "</div>\n",
              "    <div class=\"colab-df-buttons\">\n",
              "\n",
              "  <div class=\"colab-df-container\">\n",
              "    <button class=\"colab-df-convert\" onclick=\"convertToInteractive('df-e97ab22b-f345-4647-9cc8-61d08ae3731d')\"\n",
              "            title=\"Convert this dataframe to an interactive table.\"\n",
              "            style=\"display:none;\">\n",
              "\n",
              "  <svg xmlns=\"http://www.w3.org/2000/svg\" height=\"24px\" viewBox=\"0 -960 960 960\">\n",
              "    <path d=\"M120-120v-720h720v720H120Zm60-500h600v-160H180v160Zm220 220h160v-160H400v160Zm0 220h160v-160H400v160ZM180-400h160v-160H180v160Zm440 0h160v-160H620v160ZM180-180h160v-160H180v160Zm440 0h160v-160H620v160Z\"/>\n",
              "  </svg>\n",
              "    </button>\n",
              "\n",
              "  <style>\n",
              "    .colab-df-container {\n",
              "      display:flex;\n",
              "      gap: 12px;\n",
              "    }\n",
              "\n",
              "    .colab-df-convert {\n",
              "      background-color: #E8F0FE;\n",
              "      border: none;\n",
              "      border-radius: 50%;\n",
              "      cursor: pointer;\n",
              "      display: none;\n",
              "      fill: #1967D2;\n",
              "      height: 32px;\n",
              "      padding: 0 0 0 0;\n",
              "      width: 32px;\n",
              "    }\n",
              "\n",
              "    .colab-df-convert:hover {\n",
              "      background-color: #E2EBFA;\n",
              "      box-shadow: 0px 1px 2px rgba(60, 64, 67, 0.3), 0px 1px 3px 1px rgba(60, 64, 67, 0.15);\n",
              "      fill: #174EA6;\n",
              "    }\n",
              "\n",
              "    .colab-df-buttons div {\n",
              "      margin-bottom: 4px;\n",
              "    }\n",
              "\n",
              "    [theme=dark] .colab-df-convert {\n",
              "      background-color: #3B4455;\n",
              "      fill: #D2E3FC;\n",
              "    }\n",
              "\n",
              "    [theme=dark] .colab-df-convert:hover {\n",
              "      background-color: #434B5C;\n",
              "      box-shadow: 0px 1px 3px 1px rgba(0, 0, 0, 0.15);\n",
              "      filter: drop-shadow(0px 1px 2px rgba(0, 0, 0, 0.3));\n",
              "      fill: #FFFFFF;\n",
              "    }\n",
              "  </style>\n",
              "\n",
              "    <script>\n",
              "      const buttonEl =\n",
              "        document.querySelector('#df-e97ab22b-f345-4647-9cc8-61d08ae3731d button.colab-df-convert');\n",
              "      buttonEl.style.display =\n",
              "        google.colab.kernel.accessAllowed ? 'block' : 'none';\n",
              "\n",
              "      async function convertToInteractive(key) {\n",
              "        const element = document.querySelector('#df-e97ab22b-f345-4647-9cc8-61d08ae3731d');\n",
              "        const dataTable =\n",
              "          await google.colab.kernel.invokeFunction('convertToInteractive',\n",
              "                                                    [key], {});\n",
              "        if (!dataTable) return;\n",
              "\n",
              "        const docLinkHtml = 'Like what you see? Visit the ' +\n",
              "          '<a target=\"_blank\" href=https://colab.research.google.com/notebooks/data_table.ipynb>data table notebook</a>'\n",
              "          + ' to learn more about interactive tables.';\n",
              "        element.innerHTML = '';\n",
              "        dataTable['output_type'] = 'display_data';\n",
              "        await google.colab.output.renderOutput(dataTable, element);\n",
              "        const docLink = document.createElement('div');\n",
              "        docLink.innerHTML = docLinkHtml;\n",
              "        element.appendChild(docLink);\n",
              "      }\n",
              "    </script>\n",
              "  </div>\n",
              "\n",
              "\n",
              "<div id=\"df-9bf5593f-4753-40cd-9668-d37ea87225a3\">\n",
              "  <button class=\"colab-df-quickchart\" onclick=\"quickchart('df-9bf5593f-4753-40cd-9668-d37ea87225a3')\"\n",
              "            title=\"Suggest charts.\"\n",
              "            style=\"display:none;\">\n",
              "\n",
              "<svg xmlns=\"http://www.w3.org/2000/svg\" height=\"24px\"viewBox=\"0 0 24 24\"\n",
              "     width=\"24px\">\n",
              "    <g>\n",
              "        <path d=\"M19 3H5c-1.1 0-2 .9-2 2v14c0 1.1.9 2 2 2h14c1.1 0 2-.9 2-2V5c0-1.1-.9-2-2-2zM9 17H7v-7h2v7zm4 0h-2V7h2v10zm4 0h-2v-4h2v4z\"/>\n",
              "    </g>\n",
              "</svg>\n",
              "  </button>\n",
              "\n",
              "<style>\n",
              "  .colab-df-quickchart {\n",
              "      --bg-color: #E8F0FE;\n",
              "      --fill-color: #1967D2;\n",
              "      --hover-bg-color: #E2EBFA;\n",
              "      --hover-fill-color: #174EA6;\n",
              "      --disabled-fill-color: #AAA;\n",
              "      --disabled-bg-color: #DDD;\n",
              "  }\n",
              "\n",
              "  [theme=dark] .colab-df-quickchart {\n",
              "      --bg-color: #3B4455;\n",
              "      --fill-color: #D2E3FC;\n",
              "      --hover-bg-color: #434B5C;\n",
              "      --hover-fill-color: #FFFFFF;\n",
              "      --disabled-bg-color: #3B4455;\n",
              "      --disabled-fill-color: #666;\n",
              "  }\n",
              "\n",
              "  .colab-df-quickchart {\n",
              "    background-color: var(--bg-color);\n",
              "    border: none;\n",
              "    border-radius: 50%;\n",
              "    cursor: pointer;\n",
              "    display: none;\n",
              "    fill: var(--fill-color);\n",
              "    height: 32px;\n",
              "    padding: 0;\n",
              "    width: 32px;\n",
              "  }\n",
              "\n",
              "  .colab-df-quickchart:hover {\n",
              "    background-color: var(--hover-bg-color);\n",
              "    box-shadow: 0 1px 2px rgba(60, 64, 67, 0.3), 0 1px 3px 1px rgba(60, 64, 67, 0.15);\n",
              "    fill: var(--button-hover-fill-color);\n",
              "  }\n",
              "\n",
              "  .colab-df-quickchart-complete:disabled,\n",
              "  .colab-df-quickchart-complete:disabled:hover {\n",
              "    background-color: var(--disabled-bg-color);\n",
              "    fill: var(--disabled-fill-color);\n",
              "    box-shadow: none;\n",
              "  }\n",
              "\n",
              "  .colab-df-spinner {\n",
              "    border: 2px solid var(--fill-color);\n",
              "    border-color: transparent;\n",
              "    border-bottom-color: var(--fill-color);\n",
              "    animation:\n",
              "      spin 1s steps(1) infinite;\n",
              "  }\n",
              "\n",
              "  @keyframes spin {\n",
              "    0% {\n",
              "      border-color: transparent;\n",
              "      border-bottom-color: var(--fill-color);\n",
              "      border-left-color: var(--fill-color);\n",
              "    }\n",
              "    20% {\n",
              "      border-color: transparent;\n",
              "      border-left-color: var(--fill-color);\n",
              "      border-top-color: var(--fill-color);\n",
              "    }\n",
              "    30% {\n",
              "      border-color: transparent;\n",
              "      border-left-color: var(--fill-color);\n",
              "      border-top-color: var(--fill-color);\n",
              "      border-right-color: var(--fill-color);\n",
              "    }\n",
              "    40% {\n",
              "      border-color: transparent;\n",
              "      border-right-color: var(--fill-color);\n",
              "      border-top-color: var(--fill-color);\n",
              "    }\n",
              "    60% {\n",
              "      border-color: transparent;\n",
              "      border-right-color: var(--fill-color);\n",
              "    }\n",
              "    80% {\n",
              "      border-color: transparent;\n",
              "      border-right-color: var(--fill-color);\n",
              "      border-bottom-color: var(--fill-color);\n",
              "    }\n",
              "    90% {\n",
              "      border-color: transparent;\n",
              "      border-bottom-color: var(--fill-color);\n",
              "    }\n",
              "  }\n",
              "</style>\n",
              "\n",
              "  <script>\n",
              "    async function quickchart(key) {\n",
              "      const quickchartButtonEl =\n",
              "        document.querySelector('#' + key + ' button');\n",
              "      quickchartButtonEl.disabled = true;  // To prevent multiple clicks.\n",
              "      quickchartButtonEl.classList.add('colab-df-spinner');\n",
              "      try {\n",
              "        const charts = await google.colab.kernel.invokeFunction(\n",
              "            'suggestCharts', [key], {});\n",
              "      } catch (error) {\n",
              "        console.error('Error during call to suggestCharts:', error);\n",
              "      }\n",
              "      quickchartButtonEl.classList.remove('colab-df-spinner');\n",
              "      quickchartButtonEl.classList.add('colab-df-quickchart-complete');\n",
              "    }\n",
              "    (() => {\n",
              "      let quickchartButtonEl =\n",
              "        document.querySelector('#df-9bf5593f-4753-40cd-9668-d37ea87225a3 button');\n",
              "      quickchartButtonEl.style.display =\n",
              "        google.colab.kernel.accessAllowed ? 'block' : 'none';\n",
              "    })();\n",
              "  </script>\n",
              "</div>\n",
              "    </div>\n",
              "  </div>\n"
            ]
          },
          "metadata": {},
          "execution_count": 25
        }
      ],
      "source": [
        "# Теперь сформируем по полученным данным сводную таблицу.\n",
        "\n",
        "# Добавим в таблицу debtor_quantity столбец с общим количеством заемщиков:\n",
        "debtor_quantity['borrower_quantity'] = data.groupby(['family_status']).agg({'family_status_id':'count'})\n",
        "\n",
        "# Далее добавим в нее же столбец со средним процентом просрочки:\n",
        "debtor_quantity['debtor_percentage'] = debtor_quantity['debt'] / debtor_quantity['borrower_quantity'] * 100\n",
        "\n",
        "# И выведем получившуюся сводную таблицу на экран:\n",
        "debtor_quantity.sort_values('debtor_percentage')"
      ]
    },
    {
      "cell_type": "markdown",
      "id": "f784aefe",
      "metadata": {
        "deletable": false,
        "id": "f784aefe"
      },
      "source": [
        "**Вывод:**\n",
        "Исходя из полученных данных можно заметить, что процент должников немного ниже среди заемщиков, состоящих или ранее состоявщих в официальном браке. Должников среди заемщиков, живущих в гражданском браке или никогда не бывших женатыми/замужем, на два-три процента больше."
      ]
    },
    {
      "cell_type": "markdown",
      "id": "fc16dbb3",
      "metadata": {
        "deletable": false,
        "editable": false,
        "id": "fc16dbb3"
      },
      "source": [
        "#### 3.3 Определим, есть ли зависимость между уровнем дохода и возвратом кредита в срок"
      ]
    },
    {
      "cell_type": "code",
      "execution_count": 26,
      "id": "3be8d4f1",
      "metadata": {
        "deletable": false,
        "id": "3be8d4f1",
        "outputId": "63e300b1-a24b-427f-9149-7264a90750a0",
        "colab": {
          "base_uri": "https://localhost:8080/"
        }
      },
      "outputs": [
        {
          "output_type": "execute_result",
          "data": {
            "text/plain": [
              "total_income_category\n",
              "D    6.017192\n",
              "B    7.060231\n",
              "A    8.000000\n",
              "C    8.498210\n",
              "E    9.090909\n",
              "dtype: float64"
            ]
          },
          "metadata": {},
          "execution_count": 26
        }
      ],
      "source": [
        "# Сгруппируем в таблицу и вычислим общее количество должников для определенной категории дохода:\n",
        "debtor_quantity = data.groupby(['total_income_category']).agg({'debt':'sum'})\n",
        "\n",
        "# Теперь сгруппируем в таблицу и вычислим общее количество заемщиков для определенной категории дохода:\n",
        "borrower_quantity = data.groupby(['total_income_category']).agg({'family_status_id':'count'})\n",
        "\n",
        "# И определим процент должников в каждой категории:\n",
        "debtor_percentage = (debtor_quantity['debt'] / borrower_quantity['family_status_id']) * 100\n",
        "\n",
        "# Отсортируем по возрастанию:\n",
        "debtor_percentage.sort_values()"
      ]
    },
    {
      "cell_type": "code",
      "execution_count": 27,
      "id": "11db6346",
      "metadata": {
        "id": "11db6346",
        "outputId": "d7264a0e-695b-48ca-f0a8-7c2c86c6b0be",
        "colab": {
          "base_uri": "https://localhost:8080/",
          "height": 238
        }
      },
      "outputs": [
        {
          "output_type": "execute_result",
          "data": {
            "text/plain": [
              "                       debt  borrower_quantity  debtor_percentage\n",
              "total_income_category                                            \n",
              "C                      1353              15921           8.498210\n",
              "B                       354               5014           7.060231\n",
              "D                        21                349           6.017192\n",
              "A                         2                 25           8.000000\n",
              "E                         2                 22           9.090909"
            ],
            "text/html": [
              "\n",
              "  <div id=\"df-b5de3ba2-ca40-40f3-ac49-e6e9fec686d1\" class=\"colab-df-container\">\n",
              "    <div>\n",
              "<style scoped>\n",
              "    .dataframe tbody tr th:only-of-type {\n",
              "        vertical-align: middle;\n",
              "    }\n",
              "\n",
              "    .dataframe tbody tr th {\n",
              "        vertical-align: top;\n",
              "    }\n",
              "\n",
              "    .dataframe thead th {\n",
              "        text-align: right;\n",
              "    }\n",
              "</style>\n",
              "<table border=\"1\" class=\"dataframe\">\n",
              "  <thead>\n",
              "    <tr style=\"text-align: right;\">\n",
              "      <th></th>\n",
              "      <th>debt</th>\n",
              "      <th>borrower_quantity</th>\n",
              "      <th>debtor_percentage</th>\n",
              "    </tr>\n",
              "    <tr>\n",
              "      <th>total_income_category</th>\n",
              "      <th></th>\n",
              "      <th></th>\n",
              "      <th></th>\n",
              "    </tr>\n",
              "  </thead>\n",
              "  <tbody>\n",
              "    <tr>\n",
              "      <th>C</th>\n",
              "      <td>1353</td>\n",
              "      <td>15921</td>\n",
              "      <td>8.498210</td>\n",
              "    </tr>\n",
              "    <tr>\n",
              "      <th>B</th>\n",
              "      <td>354</td>\n",
              "      <td>5014</td>\n",
              "      <td>7.060231</td>\n",
              "    </tr>\n",
              "    <tr>\n",
              "      <th>D</th>\n",
              "      <td>21</td>\n",
              "      <td>349</td>\n",
              "      <td>6.017192</td>\n",
              "    </tr>\n",
              "    <tr>\n",
              "      <th>A</th>\n",
              "      <td>2</td>\n",
              "      <td>25</td>\n",
              "      <td>8.000000</td>\n",
              "    </tr>\n",
              "    <tr>\n",
              "      <th>E</th>\n",
              "      <td>2</td>\n",
              "      <td>22</td>\n",
              "      <td>9.090909</td>\n",
              "    </tr>\n",
              "  </tbody>\n",
              "</table>\n",
              "</div>\n",
              "    <div class=\"colab-df-buttons\">\n",
              "\n",
              "  <div class=\"colab-df-container\">\n",
              "    <button class=\"colab-df-convert\" onclick=\"convertToInteractive('df-b5de3ba2-ca40-40f3-ac49-e6e9fec686d1')\"\n",
              "            title=\"Convert this dataframe to an interactive table.\"\n",
              "            style=\"display:none;\">\n",
              "\n",
              "  <svg xmlns=\"http://www.w3.org/2000/svg\" height=\"24px\" viewBox=\"0 -960 960 960\">\n",
              "    <path d=\"M120-120v-720h720v720H120Zm60-500h600v-160H180v160Zm220 220h160v-160H400v160Zm0 220h160v-160H400v160ZM180-400h160v-160H180v160Zm440 0h160v-160H620v160ZM180-180h160v-160H180v160Zm440 0h160v-160H620v160Z\"/>\n",
              "  </svg>\n",
              "    </button>\n",
              "\n",
              "  <style>\n",
              "    .colab-df-container {\n",
              "      display:flex;\n",
              "      gap: 12px;\n",
              "    }\n",
              "\n",
              "    .colab-df-convert {\n",
              "      background-color: #E8F0FE;\n",
              "      border: none;\n",
              "      border-radius: 50%;\n",
              "      cursor: pointer;\n",
              "      display: none;\n",
              "      fill: #1967D2;\n",
              "      height: 32px;\n",
              "      padding: 0 0 0 0;\n",
              "      width: 32px;\n",
              "    }\n",
              "\n",
              "    .colab-df-convert:hover {\n",
              "      background-color: #E2EBFA;\n",
              "      box-shadow: 0px 1px 2px rgba(60, 64, 67, 0.3), 0px 1px 3px 1px rgba(60, 64, 67, 0.15);\n",
              "      fill: #174EA6;\n",
              "    }\n",
              "\n",
              "    .colab-df-buttons div {\n",
              "      margin-bottom: 4px;\n",
              "    }\n",
              "\n",
              "    [theme=dark] .colab-df-convert {\n",
              "      background-color: #3B4455;\n",
              "      fill: #D2E3FC;\n",
              "    }\n",
              "\n",
              "    [theme=dark] .colab-df-convert:hover {\n",
              "      background-color: #434B5C;\n",
              "      box-shadow: 0px 1px 3px 1px rgba(0, 0, 0, 0.15);\n",
              "      filter: drop-shadow(0px 1px 2px rgba(0, 0, 0, 0.3));\n",
              "      fill: #FFFFFF;\n",
              "    }\n",
              "  </style>\n",
              "\n",
              "    <script>\n",
              "      const buttonEl =\n",
              "        document.querySelector('#df-b5de3ba2-ca40-40f3-ac49-e6e9fec686d1 button.colab-df-convert');\n",
              "      buttonEl.style.display =\n",
              "        google.colab.kernel.accessAllowed ? 'block' : 'none';\n",
              "\n",
              "      async function convertToInteractive(key) {\n",
              "        const element = document.querySelector('#df-b5de3ba2-ca40-40f3-ac49-e6e9fec686d1');\n",
              "        const dataTable =\n",
              "          await google.colab.kernel.invokeFunction('convertToInteractive',\n",
              "                                                    [key], {});\n",
              "        if (!dataTable) return;\n",
              "\n",
              "        const docLinkHtml = 'Like what you see? Visit the ' +\n",
              "          '<a target=\"_blank\" href=https://colab.research.google.com/notebooks/data_table.ipynb>data table notebook</a>'\n",
              "          + ' to learn more about interactive tables.';\n",
              "        element.innerHTML = '';\n",
              "        dataTable['output_type'] = 'display_data';\n",
              "        await google.colab.output.renderOutput(dataTable, element);\n",
              "        const docLink = document.createElement('div');\n",
              "        docLink.innerHTML = docLinkHtml;\n",
              "        element.appendChild(docLink);\n",
              "      }\n",
              "    </script>\n",
              "  </div>\n",
              "\n",
              "\n",
              "<div id=\"df-2050b2c5-3690-4520-842c-912808577455\">\n",
              "  <button class=\"colab-df-quickchart\" onclick=\"quickchart('df-2050b2c5-3690-4520-842c-912808577455')\"\n",
              "            title=\"Suggest charts.\"\n",
              "            style=\"display:none;\">\n",
              "\n",
              "<svg xmlns=\"http://www.w3.org/2000/svg\" height=\"24px\"viewBox=\"0 0 24 24\"\n",
              "     width=\"24px\">\n",
              "    <g>\n",
              "        <path d=\"M19 3H5c-1.1 0-2 .9-2 2v14c0 1.1.9 2 2 2h14c1.1 0 2-.9 2-2V5c0-1.1-.9-2-2-2zM9 17H7v-7h2v7zm4 0h-2V7h2v10zm4 0h-2v-4h2v4z\"/>\n",
              "    </g>\n",
              "</svg>\n",
              "  </button>\n",
              "\n",
              "<style>\n",
              "  .colab-df-quickchart {\n",
              "      --bg-color: #E8F0FE;\n",
              "      --fill-color: #1967D2;\n",
              "      --hover-bg-color: #E2EBFA;\n",
              "      --hover-fill-color: #174EA6;\n",
              "      --disabled-fill-color: #AAA;\n",
              "      --disabled-bg-color: #DDD;\n",
              "  }\n",
              "\n",
              "  [theme=dark] .colab-df-quickchart {\n",
              "      --bg-color: #3B4455;\n",
              "      --fill-color: #D2E3FC;\n",
              "      --hover-bg-color: #434B5C;\n",
              "      --hover-fill-color: #FFFFFF;\n",
              "      --disabled-bg-color: #3B4455;\n",
              "      --disabled-fill-color: #666;\n",
              "  }\n",
              "\n",
              "  .colab-df-quickchart {\n",
              "    background-color: var(--bg-color);\n",
              "    border: none;\n",
              "    border-radius: 50%;\n",
              "    cursor: pointer;\n",
              "    display: none;\n",
              "    fill: var(--fill-color);\n",
              "    height: 32px;\n",
              "    padding: 0;\n",
              "    width: 32px;\n",
              "  }\n",
              "\n",
              "  .colab-df-quickchart:hover {\n",
              "    background-color: var(--hover-bg-color);\n",
              "    box-shadow: 0 1px 2px rgba(60, 64, 67, 0.3), 0 1px 3px 1px rgba(60, 64, 67, 0.15);\n",
              "    fill: var(--button-hover-fill-color);\n",
              "  }\n",
              "\n",
              "  .colab-df-quickchart-complete:disabled,\n",
              "  .colab-df-quickchart-complete:disabled:hover {\n",
              "    background-color: var(--disabled-bg-color);\n",
              "    fill: var(--disabled-fill-color);\n",
              "    box-shadow: none;\n",
              "  }\n",
              "\n",
              "  .colab-df-spinner {\n",
              "    border: 2px solid var(--fill-color);\n",
              "    border-color: transparent;\n",
              "    border-bottom-color: var(--fill-color);\n",
              "    animation:\n",
              "      spin 1s steps(1) infinite;\n",
              "  }\n",
              "\n",
              "  @keyframes spin {\n",
              "    0% {\n",
              "      border-color: transparent;\n",
              "      border-bottom-color: var(--fill-color);\n",
              "      border-left-color: var(--fill-color);\n",
              "    }\n",
              "    20% {\n",
              "      border-color: transparent;\n",
              "      border-left-color: var(--fill-color);\n",
              "      border-top-color: var(--fill-color);\n",
              "    }\n",
              "    30% {\n",
              "      border-color: transparent;\n",
              "      border-left-color: var(--fill-color);\n",
              "      border-top-color: var(--fill-color);\n",
              "      border-right-color: var(--fill-color);\n",
              "    }\n",
              "    40% {\n",
              "      border-color: transparent;\n",
              "      border-right-color: var(--fill-color);\n",
              "      border-top-color: var(--fill-color);\n",
              "    }\n",
              "    60% {\n",
              "      border-color: transparent;\n",
              "      border-right-color: var(--fill-color);\n",
              "    }\n",
              "    80% {\n",
              "      border-color: transparent;\n",
              "      border-right-color: var(--fill-color);\n",
              "      border-bottom-color: var(--fill-color);\n",
              "    }\n",
              "    90% {\n",
              "      border-color: transparent;\n",
              "      border-bottom-color: var(--fill-color);\n",
              "    }\n",
              "  }\n",
              "</style>\n",
              "\n",
              "  <script>\n",
              "    async function quickchart(key) {\n",
              "      const quickchartButtonEl =\n",
              "        document.querySelector('#' + key + ' button');\n",
              "      quickchartButtonEl.disabled = true;  // To prevent multiple clicks.\n",
              "      quickchartButtonEl.classList.add('colab-df-spinner');\n",
              "      try {\n",
              "        const charts = await google.colab.kernel.invokeFunction(\n",
              "            'suggestCharts', [key], {});\n",
              "      } catch (error) {\n",
              "        console.error('Error during call to suggestCharts:', error);\n",
              "      }\n",
              "      quickchartButtonEl.classList.remove('colab-df-spinner');\n",
              "      quickchartButtonEl.classList.add('colab-df-quickchart-complete');\n",
              "    }\n",
              "    (() => {\n",
              "      let quickchartButtonEl =\n",
              "        document.querySelector('#df-2050b2c5-3690-4520-842c-912808577455 button');\n",
              "      quickchartButtonEl.style.display =\n",
              "        google.colab.kernel.accessAllowed ? 'block' : 'none';\n",
              "    })();\n",
              "  </script>\n",
              "</div>\n",
              "    </div>\n",
              "  </div>\n"
            ]
          },
          "metadata": {},
          "execution_count": 27
        }
      ],
      "source": [
        "# Теперь сформируем по полученным данным сводную таблицу.\n",
        "\n",
        "# Добавим в таблицу debtor_quantity столбец с общим количеством заемщиков:\n",
        "debtor_quantity['borrower_quantity'] = data.groupby(['total_income_category']).agg({'family_status_id':'count'})\n",
        "\n",
        "# Далее добавим в нее же столбец со средним процентом просрочки:\n",
        "debtor_quantity['debtor_percentage'] = debtor_quantity['debt'] / debtor_quantity['borrower_quantity'] * 100\n",
        "\n",
        "# И выведем получившуюся сводную таблицу на экран:\n",
        "debtor_quantity.sort_values('borrower_quantity', ascending=False)"
      ]
    },
    {
      "cell_type": "markdown",
      "id": "f50ed494",
      "metadata": {
        "deletable": false,
        "id": "f50ed494"
      },
      "source": [
        "**Вывод:**\n",
        "Для формулирования вывода стоит ограничиться двумя верхними строками сводной таблицы. Нижние три, в силу их малочисленности, трудно считать репрезентативными.\n",
        "\n",
        "Полученные данные свидетельствуют о том, что число должников в категории с доходом от 50-ти до 200-т тысяч рублей в среднем на 1,5% выше, чем в категории с доходом от 200-т тысяч до миллиона рублей.\n",
        "\n",
        "Таким образом, можно предположить, что зависимость обратнопропорциональна: чем выше доход, тем меньше процент просрочек."
      ]
    },
    {
      "cell_type": "markdown",
      "id": "743159e9",
      "metadata": {
        "deletable": false,
        "editable": false,
        "id": "743159e9"
      },
      "source": [
        "#### 3.4 Определим, как разные цели кредита влияют на его возврат в срок"
      ]
    },
    {
      "cell_type": "code",
      "execution_count": 28,
      "id": "2339e3ee",
      "metadata": {
        "deletable": false,
        "id": "2339e3ee",
        "scrolled": true,
        "outputId": "a1b79dbb-a8a3-41c9-dda9-20ea8eceea1b",
        "colab": {
          "base_uri": "https://localhost:8080/"
        }
      },
      "outputs": [
        {
          "output_type": "execute_result",
          "data": {
            "text/plain": [
              "purpose_category\n",
              "операции с недвижимостью    7.255139\n",
              "проведение свадьбы          7.911803\n",
              "получение образования       9.252758\n",
              "операции с автомобилем      9.347978\n",
              "dtype: float64"
            ]
          },
          "metadata": {},
          "execution_count": 28
        }
      ],
      "source": [
        "# Сгруппируем в таблицу и вычислим общее количество должников для определенной категории целей кредита:\n",
        "debtor_quantity = data.groupby(['purpose_category']).agg({'debt':'sum'})\n",
        "\n",
        "# Теперь сгруппируем в таблицу и вычислим общее количество заемщиков для определенной категории целей кредита:\n",
        "borrower_quantity = data.groupby(['purpose_category']).agg({'family_status_id':'count'})\n",
        "\n",
        "# И определим процент должников в каждой категории:\n",
        "debtor_percentage = (debtor_quantity['debt'] / borrower_quantity['family_status_id']) * 100\n",
        "\n",
        "# Отсортируем по возрастанию:\n",
        "debtor_percentage.sort_values()"
      ]
    },
    {
      "cell_type": "code",
      "execution_count": 29,
      "id": "37629b99",
      "metadata": {
        "id": "37629b99",
        "outputId": "79fb04e4-1cce-4f56-cc31-e76688ae8bf1",
        "colab": {
          "base_uri": "https://localhost:8080/",
          "height": 206
        }
      },
      "outputs": [
        {
          "output_type": "execute_result",
          "data": {
            "text/plain": [
              "                          debt  borrower_quantity  debtor_percentage\n",
              "purpose_category                                                    \n",
              "операции с недвижимостью   780              10751           7.255139\n",
              "проведение свадьбы         183               2313           7.911803\n",
              "получение образования      369               3988           9.252758\n",
              "операции с автомобилем     400               4279           9.347978"
            ],
            "text/html": [
              "\n",
              "  <div id=\"df-0073800d-e87c-422a-a8b1-c412dcb0daf8\" class=\"colab-df-container\">\n",
              "    <div>\n",
              "<style scoped>\n",
              "    .dataframe tbody tr th:only-of-type {\n",
              "        vertical-align: middle;\n",
              "    }\n",
              "\n",
              "    .dataframe tbody tr th {\n",
              "        vertical-align: top;\n",
              "    }\n",
              "\n",
              "    .dataframe thead th {\n",
              "        text-align: right;\n",
              "    }\n",
              "</style>\n",
              "<table border=\"1\" class=\"dataframe\">\n",
              "  <thead>\n",
              "    <tr style=\"text-align: right;\">\n",
              "      <th></th>\n",
              "      <th>debt</th>\n",
              "      <th>borrower_quantity</th>\n",
              "      <th>debtor_percentage</th>\n",
              "    </tr>\n",
              "    <tr>\n",
              "      <th>purpose_category</th>\n",
              "      <th></th>\n",
              "      <th></th>\n",
              "      <th></th>\n",
              "    </tr>\n",
              "  </thead>\n",
              "  <tbody>\n",
              "    <tr>\n",
              "      <th>операции с недвижимостью</th>\n",
              "      <td>780</td>\n",
              "      <td>10751</td>\n",
              "      <td>7.255139</td>\n",
              "    </tr>\n",
              "    <tr>\n",
              "      <th>проведение свадьбы</th>\n",
              "      <td>183</td>\n",
              "      <td>2313</td>\n",
              "      <td>7.911803</td>\n",
              "    </tr>\n",
              "    <tr>\n",
              "      <th>получение образования</th>\n",
              "      <td>369</td>\n",
              "      <td>3988</td>\n",
              "      <td>9.252758</td>\n",
              "    </tr>\n",
              "    <tr>\n",
              "      <th>операции с автомобилем</th>\n",
              "      <td>400</td>\n",
              "      <td>4279</td>\n",
              "      <td>9.347978</td>\n",
              "    </tr>\n",
              "  </tbody>\n",
              "</table>\n",
              "</div>\n",
              "    <div class=\"colab-df-buttons\">\n",
              "\n",
              "  <div class=\"colab-df-container\">\n",
              "    <button class=\"colab-df-convert\" onclick=\"convertToInteractive('df-0073800d-e87c-422a-a8b1-c412dcb0daf8')\"\n",
              "            title=\"Convert this dataframe to an interactive table.\"\n",
              "            style=\"display:none;\">\n",
              "\n",
              "  <svg xmlns=\"http://www.w3.org/2000/svg\" height=\"24px\" viewBox=\"0 -960 960 960\">\n",
              "    <path d=\"M120-120v-720h720v720H120Zm60-500h600v-160H180v160Zm220 220h160v-160H400v160Zm0 220h160v-160H400v160ZM180-400h160v-160H180v160Zm440 0h160v-160H620v160ZM180-180h160v-160H180v160Zm440 0h160v-160H620v160Z\"/>\n",
              "  </svg>\n",
              "    </button>\n",
              "\n",
              "  <style>\n",
              "    .colab-df-container {\n",
              "      display:flex;\n",
              "      gap: 12px;\n",
              "    }\n",
              "\n",
              "    .colab-df-convert {\n",
              "      background-color: #E8F0FE;\n",
              "      border: none;\n",
              "      border-radius: 50%;\n",
              "      cursor: pointer;\n",
              "      display: none;\n",
              "      fill: #1967D2;\n",
              "      height: 32px;\n",
              "      padding: 0 0 0 0;\n",
              "      width: 32px;\n",
              "    }\n",
              "\n",
              "    .colab-df-convert:hover {\n",
              "      background-color: #E2EBFA;\n",
              "      box-shadow: 0px 1px 2px rgba(60, 64, 67, 0.3), 0px 1px 3px 1px rgba(60, 64, 67, 0.15);\n",
              "      fill: #174EA6;\n",
              "    }\n",
              "\n",
              "    .colab-df-buttons div {\n",
              "      margin-bottom: 4px;\n",
              "    }\n",
              "\n",
              "    [theme=dark] .colab-df-convert {\n",
              "      background-color: #3B4455;\n",
              "      fill: #D2E3FC;\n",
              "    }\n",
              "\n",
              "    [theme=dark] .colab-df-convert:hover {\n",
              "      background-color: #434B5C;\n",
              "      box-shadow: 0px 1px 3px 1px rgba(0, 0, 0, 0.15);\n",
              "      filter: drop-shadow(0px 1px 2px rgba(0, 0, 0, 0.3));\n",
              "      fill: #FFFFFF;\n",
              "    }\n",
              "  </style>\n",
              "\n",
              "    <script>\n",
              "      const buttonEl =\n",
              "        document.querySelector('#df-0073800d-e87c-422a-a8b1-c412dcb0daf8 button.colab-df-convert');\n",
              "      buttonEl.style.display =\n",
              "        google.colab.kernel.accessAllowed ? 'block' : 'none';\n",
              "\n",
              "      async function convertToInteractive(key) {\n",
              "        const element = document.querySelector('#df-0073800d-e87c-422a-a8b1-c412dcb0daf8');\n",
              "        const dataTable =\n",
              "          await google.colab.kernel.invokeFunction('convertToInteractive',\n",
              "                                                    [key], {});\n",
              "        if (!dataTable) return;\n",
              "\n",
              "        const docLinkHtml = 'Like what you see? Visit the ' +\n",
              "          '<a target=\"_blank\" href=https://colab.research.google.com/notebooks/data_table.ipynb>data table notebook</a>'\n",
              "          + ' to learn more about interactive tables.';\n",
              "        element.innerHTML = '';\n",
              "        dataTable['output_type'] = 'display_data';\n",
              "        await google.colab.output.renderOutput(dataTable, element);\n",
              "        const docLink = document.createElement('div');\n",
              "        docLink.innerHTML = docLinkHtml;\n",
              "        element.appendChild(docLink);\n",
              "      }\n",
              "    </script>\n",
              "  </div>\n",
              "\n",
              "\n",
              "<div id=\"df-3033cb67-e4ca-48a1-9acf-6f701d7c1715\">\n",
              "  <button class=\"colab-df-quickchart\" onclick=\"quickchart('df-3033cb67-e4ca-48a1-9acf-6f701d7c1715')\"\n",
              "            title=\"Suggest charts.\"\n",
              "            style=\"display:none;\">\n",
              "\n",
              "<svg xmlns=\"http://www.w3.org/2000/svg\" height=\"24px\"viewBox=\"0 0 24 24\"\n",
              "     width=\"24px\">\n",
              "    <g>\n",
              "        <path d=\"M19 3H5c-1.1 0-2 .9-2 2v14c0 1.1.9 2 2 2h14c1.1 0 2-.9 2-2V5c0-1.1-.9-2-2-2zM9 17H7v-7h2v7zm4 0h-2V7h2v10zm4 0h-2v-4h2v4z\"/>\n",
              "    </g>\n",
              "</svg>\n",
              "  </button>\n",
              "\n",
              "<style>\n",
              "  .colab-df-quickchart {\n",
              "      --bg-color: #E8F0FE;\n",
              "      --fill-color: #1967D2;\n",
              "      --hover-bg-color: #E2EBFA;\n",
              "      --hover-fill-color: #174EA6;\n",
              "      --disabled-fill-color: #AAA;\n",
              "      --disabled-bg-color: #DDD;\n",
              "  }\n",
              "\n",
              "  [theme=dark] .colab-df-quickchart {\n",
              "      --bg-color: #3B4455;\n",
              "      --fill-color: #D2E3FC;\n",
              "      --hover-bg-color: #434B5C;\n",
              "      --hover-fill-color: #FFFFFF;\n",
              "      --disabled-bg-color: #3B4455;\n",
              "      --disabled-fill-color: #666;\n",
              "  }\n",
              "\n",
              "  .colab-df-quickchart {\n",
              "    background-color: var(--bg-color);\n",
              "    border: none;\n",
              "    border-radius: 50%;\n",
              "    cursor: pointer;\n",
              "    display: none;\n",
              "    fill: var(--fill-color);\n",
              "    height: 32px;\n",
              "    padding: 0;\n",
              "    width: 32px;\n",
              "  }\n",
              "\n",
              "  .colab-df-quickchart:hover {\n",
              "    background-color: var(--hover-bg-color);\n",
              "    box-shadow: 0 1px 2px rgba(60, 64, 67, 0.3), 0 1px 3px 1px rgba(60, 64, 67, 0.15);\n",
              "    fill: var(--button-hover-fill-color);\n",
              "  }\n",
              "\n",
              "  .colab-df-quickchart-complete:disabled,\n",
              "  .colab-df-quickchart-complete:disabled:hover {\n",
              "    background-color: var(--disabled-bg-color);\n",
              "    fill: var(--disabled-fill-color);\n",
              "    box-shadow: none;\n",
              "  }\n",
              "\n",
              "  .colab-df-spinner {\n",
              "    border: 2px solid var(--fill-color);\n",
              "    border-color: transparent;\n",
              "    border-bottom-color: var(--fill-color);\n",
              "    animation:\n",
              "      spin 1s steps(1) infinite;\n",
              "  }\n",
              "\n",
              "  @keyframes spin {\n",
              "    0% {\n",
              "      border-color: transparent;\n",
              "      border-bottom-color: var(--fill-color);\n",
              "      border-left-color: var(--fill-color);\n",
              "    }\n",
              "    20% {\n",
              "      border-color: transparent;\n",
              "      border-left-color: var(--fill-color);\n",
              "      border-top-color: var(--fill-color);\n",
              "    }\n",
              "    30% {\n",
              "      border-color: transparent;\n",
              "      border-left-color: var(--fill-color);\n",
              "      border-top-color: var(--fill-color);\n",
              "      border-right-color: var(--fill-color);\n",
              "    }\n",
              "    40% {\n",
              "      border-color: transparent;\n",
              "      border-right-color: var(--fill-color);\n",
              "      border-top-color: var(--fill-color);\n",
              "    }\n",
              "    60% {\n",
              "      border-color: transparent;\n",
              "      border-right-color: var(--fill-color);\n",
              "    }\n",
              "    80% {\n",
              "      border-color: transparent;\n",
              "      border-right-color: var(--fill-color);\n",
              "      border-bottom-color: var(--fill-color);\n",
              "    }\n",
              "    90% {\n",
              "      border-color: transparent;\n",
              "      border-bottom-color: var(--fill-color);\n",
              "    }\n",
              "  }\n",
              "</style>\n",
              "\n",
              "  <script>\n",
              "    async function quickchart(key) {\n",
              "      const quickchartButtonEl =\n",
              "        document.querySelector('#' + key + ' button');\n",
              "      quickchartButtonEl.disabled = true;  // To prevent multiple clicks.\n",
              "      quickchartButtonEl.classList.add('colab-df-spinner');\n",
              "      try {\n",
              "        const charts = await google.colab.kernel.invokeFunction(\n",
              "            'suggestCharts', [key], {});\n",
              "      } catch (error) {\n",
              "        console.error('Error during call to suggestCharts:', error);\n",
              "      }\n",
              "      quickchartButtonEl.classList.remove('colab-df-spinner');\n",
              "      quickchartButtonEl.classList.add('colab-df-quickchart-complete');\n",
              "    }\n",
              "    (() => {\n",
              "      let quickchartButtonEl =\n",
              "        document.querySelector('#df-3033cb67-e4ca-48a1-9acf-6f701d7c1715 button');\n",
              "      quickchartButtonEl.style.display =\n",
              "        google.colab.kernel.accessAllowed ? 'block' : 'none';\n",
              "    })();\n",
              "  </script>\n",
              "</div>\n",
              "    </div>\n",
              "  </div>\n"
            ]
          },
          "metadata": {},
          "execution_count": 29
        }
      ],
      "source": [
        "# Теперь сформируем по полученным данным сводную таблицу.\n",
        "\n",
        "# Добавим в таблицу debtor_quantity столбец с общим количеством заемщиков:\n",
        "debtor_quantity['borrower_quantity'] = data.groupby(['purpose_category']).agg({'family_status_id':'count'})\n",
        "\n",
        "# Далее добавим в нее же столбец со средним процентом просрочки:\n",
        "debtor_quantity['debtor_percentage'] = debtor_quantity['debt'] / debtor_quantity['borrower_quantity'] * 100\n",
        "\n",
        "# И выведем получившуюся сводную таблицу на экран:\n",
        "debtor_quantity.sort_values('debtor_percentage')"
      ]
    },
    {
      "cell_type": "markdown",
      "id": "89a0d87b",
      "metadata": {
        "deletable": false,
        "id": "89a0d87b"
      },
      "source": [
        "**Вывод:**\n",
        "Наименьшее число должников среди заемщиков, взявших кредит для операций с недвижимостью. Чуть большее - на проведение свадьбы. На два процента больше должников среди тех, кто брал кредит с целью получения образования. И, наконец, самое высокое число невозвратов кредита в срок в категории \"операции с автомобилем\"."
      ]
    },
    {
      "cell_type": "markdown",
      "id": "8a5c3ff8",
      "metadata": {
        "deletable": false,
        "editable": false,
        "id": "8a5c3ff8"
      },
      "source": [
        "#### 3.5 Возможные причины появления пропусков в исходных данных:"
      ]
    },
    {
      "cell_type": "markdown",
      "id": "a98b87ab",
      "metadata": {
        "deletable": false,
        "id": "a98b87ab"
      },
      "source": [
        "Пропуски в столбцах days_employed и total_income могли появиться из-за нежелания заемщиков корректно указывать свой стаж или реальный уровень дохода. Также, для категорий безработных, пенсионеров и студентов могли возникнуть затруднения с корректным определением этих показателей."
      ]
    },
    {
      "cell_type": "markdown",
      "id": "50b094ee",
      "metadata": {
        "deletable": false,
        "editable": false,
        "id": "50b094ee"
      },
      "source": [
        "#### 3.6 Обоснование выбора медианных значений для заполнения пропусков:"
      ]
    },
    {
      "cell_type": "markdown",
      "id": "12603398",
      "metadata": {
        "deletable": false,
        "id": "12603398"
      },
      "source": [
        "Чрезмерно большие или маленькие \"крайние\" значения количественных переменных могут сильно исказить данные при заполнении пропусков средними значениями. Поэтому, в данном случае, лучше заполнять пропуски значением медианным."
      ]
    },
    {
      "cell_type": "markdown",
      "id": "bce95a1b",
      "metadata": {
        "deletable": false,
        "editable": false,
        "id": "bce95a1b"
      },
      "source": [
        "### 4. Общий вывод"
      ]
    },
    {
      "cell_type": "markdown",
      "id": "b63dd8c3",
      "metadata": {
        "deletable": false,
        "id": "b63dd8c3"
      },
      "source": [
        "В данном проекте был использован датасет с информацией о денежных заемщиках: количество у них детей, период занятости, семейный статус, уровень дохода, наличие просрочки и т.д.\n",
        "\n",
        "На этапе предобработки были обнаружены и заменены медианными значениями пропуски в столбцах days_employed и total_income. Также были устранены аномалии в виде чрезмерно большого значения в столбце children и отрицательных значений в столбцах days_employed и children. В столбце total_income тип данных был изменен с вещественного на целочисленный. А в столбце education потребовалось избавиться от дубликатов. Для удобства дальнейшего исследования была проведена категоризация столбцов total_income и purpose.\n",
        "\n",
        "Помимо отсутствия указанных выше пропусков и аномалий, на результатах исследования могло бы положительно сказаться более равномерное распределение данных по категориям \"дети\" и \"уровень дохода\". В текущем виде датасета, рядом категорий, в виду малочисленности их значений, пришлось пренебречь.\n",
        "\n",
        "В результате исследования были получены следующие выводы:\n",
        "1) Процент просрочки среди заемщиков без детей, в целом, на 1,7-2% ниже, чем среди заемщиков с детьми.\n",
        "\n",
        "2) Процент должников ниже среди заемщиков, состоящих или ранее состоявщих в официальном браке. Должников среди заемщиков, живущих в гражданском браке или никогда не бывших женатыми/замужем, на 2-3% больше.\n",
        "\n",
        "3) Число должников в категории с доходом от 50-ти до 200-т тысяч рублей в среднем на 1,5% выше, чем в категории с доходом от 200-т тысяч до миллиона рублей. Следовательно, можно предположить, что зависимость обратнопропорциональна: чем выше доход, тем меньше процент просрочек.\n",
        "\n",
        "4) Наименьшее число должников среди заемщиков, взявших кредит для операций с недвижимостью. Чуть большее - на проведение свадьбы. На 2% больше должников среди тех, кто брал кредит с целью получения образования. И, наконец, самое высокое число невозвратов кредита в срок в категории \"операции с автомобилем\".\n",
        "\n",
        "Таким образом, можно сделать вывод, что наиболее надежными заемщиками являются лица с высоким уровнем дохода, на текущий момент не имеющие детей, но состоящие или ранее состоявшие в браке. А также те, кто целью взятия кредита указывает \"операции с недвижимостью\". Менее надежными, с небольшим отличием в среднем в два процента, можно считать тех граждан, кто ранее не состоял в браке и указывает целью кредита операции с автомобилем и получение образования.\n",
        "\n",
        "В целом, проведенная выборка по различным категориям дает отличия по количеству должников всего в 1-3%, но, при необходимости, рекомендации, приведенные выше, могут быть использованы для принятия решения о выдаче кредита."
      ]
    }
  ],
  "metadata": {
    "ExecuteTimeLog": [
      {
        "duration": 701,
        "start_time": "2023-01-07T15:04:26.375Z"
      },
      {
        "duration": 21,
        "start_time": "2023-01-07T15:04:27.077Z"
      },
      {
        "duration": 13,
        "start_time": "2023-01-07T15:04:27.100Z"
      },
      {
        "duration": 10,
        "start_time": "2023-01-07T15:04:27.115Z"
      },
      {
        "duration": 33,
        "start_time": "2023-01-07T15:04:27.127Z"
      },
      {
        "duration": 3,
        "start_time": "2023-01-07T15:04:27.162Z"
      },
      {
        "duration": 31,
        "start_time": "2023-01-07T15:04:27.166Z"
      },
      {
        "duration": 4,
        "start_time": "2023-01-07T15:04:27.199Z"
      },
      {
        "duration": 10,
        "start_time": "2023-01-07T15:04:27.204Z"
      },
      {
        "duration": 8,
        "start_time": "2023-01-07T15:04:27.216Z"
      },
      {
        "duration": 34,
        "start_time": "2023-01-07T15:04:27.225Z"
      },
      {
        "duration": 9,
        "start_time": "2023-01-07T15:04:27.260Z"
      },
      {
        "duration": 28,
        "start_time": "2023-01-07T15:04:27.270Z"
      },
      {
        "duration": 11,
        "start_time": "2023-01-07T15:04:27.301Z"
      },
      {
        "duration": 42,
        "start_time": "2023-01-07T15:04:27.313Z"
      },
      {
        "duration": 16,
        "start_time": "2023-01-07T15:04:27.357Z"
      },
      {
        "duration": 14,
        "start_time": "2023-01-07T15:04:27.374Z"
      },
      {
        "duration": 14,
        "start_time": "2023-01-07T15:04:27.390Z"
      },
      {
        "duration": 33,
        "start_time": "2023-01-07T15:04:27.405Z"
      },
      {
        "duration": 3,
        "start_time": "2023-01-07T15:04:27.439Z"
      },
      {
        "duration": 11,
        "start_time": "2023-01-07T15:04:27.444Z"
      },
      {
        "duration": 5,
        "start_time": "2023-01-07T15:04:27.457Z"
      },
      {
        "duration": 23,
        "start_time": "2023-01-07T15:04:27.463Z"
      },
      {
        "duration": 5,
        "start_time": "2023-01-07T15:04:27.487Z"
      },
      {
        "duration": 4,
        "start_time": "2023-01-07T15:04:27.493Z"
      },
      {
        "duration": 4,
        "start_time": "2023-01-07T15:05:03.509Z"
      },
      {
        "duration": 12,
        "start_time": "2023-01-07T15:06:29.476Z"
      },
      {
        "duration": 4,
        "start_time": "2023-01-07T15:08:46.437Z"
      },
      {
        "duration": 5,
        "start_time": "2023-01-07T15:09:51.211Z"
      },
      {
        "duration": 6,
        "start_time": "2023-01-07T15:11:43.876Z"
      },
      {
        "duration": 6,
        "start_time": "2023-01-07T15:11:59.836Z"
      },
      {
        "duration": 6,
        "start_time": "2023-01-07T15:12:29.374Z"
      },
      {
        "duration": 4,
        "start_time": "2023-01-07T15:14:18.453Z"
      },
      {
        "duration": 6,
        "start_time": "2023-01-07T15:14:49.956Z"
      },
      {
        "duration": 66,
        "start_time": "2023-01-07T16:18:56.994Z"
      },
      {
        "duration": 12,
        "start_time": "2023-01-07T16:18:57.062Z"
      },
      {
        "duration": 16,
        "start_time": "2023-01-07T16:18:57.076Z"
      },
      {
        "duration": 9,
        "start_time": "2023-01-07T16:18:57.093Z"
      },
      {
        "duration": 30,
        "start_time": "2023-01-07T16:18:57.105Z"
      },
      {
        "duration": 3,
        "start_time": "2023-01-07T16:18:57.137Z"
      },
      {
        "duration": 12,
        "start_time": "2023-01-07T16:18:57.141Z"
      },
      {
        "duration": 5,
        "start_time": "2023-01-07T16:18:57.155Z"
      },
      {
        "duration": 7,
        "start_time": "2023-01-07T16:18:57.161Z"
      },
      {
        "duration": 28,
        "start_time": "2023-01-07T16:18:57.169Z"
      },
      {
        "duration": 30,
        "start_time": "2023-01-07T16:18:57.199Z"
      },
      {
        "duration": 9,
        "start_time": "2023-01-07T16:18:57.230Z"
      },
      {
        "duration": 4,
        "start_time": "2023-01-07T16:18:57.241Z"
      },
      {
        "duration": 9,
        "start_time": "2023-01-07T16:18:57.248Z"
      },
      {
        "duration": 53,
        "start_time": "2023-01-07T16:18:57.259Z"
      },
      {
        "duration": 19,
        "start_time": "2023-01-07T16:18:57.313Z"
      },
      {
        "duration": 4,
        "start_time": "2023-01-07T16:18:57.334Z"
      },
      {
        "duration": 13,
        "start_time": "2023-01-07T16:18:57.340Z"
      },
      {
        "duration": 10,
        "start_time": "2023-01-07T16:18:57.354Z"
      },
      {
        "duration": 3,
        "start_time": "2023-01-07T16:18:57.365Z"
      },
      {
        "duration": 28,
        "start_time": "2023-01-07T16:18:57.370Z"
      },
      {
        "duration": 11,
        "start_time": "2023-01-07T16:18:57.399Z"
      },
      {
        "duration": 2,
        "start_time": "2023-01-07T16:18:57.412Z"
      },
      {
        "duration": 8,
        "start_time": "2023-01-07T16:18:57.416Z"
      },
      {
        "duration": 6,
        "start_time": "2023-01-07T16:18:57.426Z"
      },
      {
        "duration": 71,
        "start_time": "2023-01-07T16:35:01.725Z"
      },
      {
        "duration": 13,
        "start_time": "2023-01-07T16:38:59.197Z"
      },
      {
        "duration": 13,
        "start_time": "2023-01-07T16:39:08.517Z"
      },
      {
        "duration": 21,
        "start_time": "2023-01-07T16:39:20.308Z"
      },
      {
        "duration": 75,
        "start_time": "2023-01-07T17:53:51.151Z"
      },
      {
        "duration": 14,
        "start_time": "2023-01-07T17:53:51.229Z"
      },
      {
        "duration": 15,
        "start_time": "2023-01-07T17:53:51.245Z"
      },
      {
        "duration": 10,
        "start_time": "2023-01-07T17:53:51.262Z"
      },
      {
        "duration": 57,
        "start_time": "2023-01-07T17:53:51.273Z"
      },
      {
        "duration": 4,
        "start_time": "2023-01-07T17:53:51.337Z"
      },
      {
        "duration": 9,
        "start_time": "2023-01-07T17:53:51.343Z"
      },
      {
        "duration": 8,
        "start_time": "2023-01-07T17:53:51.354Z"
      },
      {
        "duration": 7,
        "start_time": "2023-01-07T17:53:51.363Z"
      },
      {
        "duration": 16,
        "start_time": "2023-01-07T17:53:51.373Z"
      },
      {
        "duration": 61,
        "start_time": "2023-01-07T17:53:51.391Z"
      },
      {
        "duration": 8,
        "start_time": "2023-01-07T17:53:51.454Z"
      },
      {
        "duration": 3,
        "start_time": "2023-01-07T17:53:51.464Z"
      },
      {
        "duration": 15,
        "start_time": "2023-01-07T17:53:51.468Z"
      },
      {
        "duration": 29,
        "start_time": "2023-01-07T17:53:51.485Z"
      },
      {
        "duration": 29,
        "start_time": "2023-01-07T17:53:51.515Z"
      },
      {
        "duration": 4,
        "start_time": "2023-01-07T17:53:51.546Z"
      },
      {
        "duration": 11,
        "start_time": "2023-01-07T17:53:51.552Z"
      },
      {
        "duration": 8,
        "start_time": "2023-01-07T17:53:51.565Z"
      },
      {
        "duration": 4,
        "start_time": "2023-01-07T17:53:51.574Z"
      },
      {
        "duration": 63,
        "start_time": "2023-01-07T17:53:51.579Z"
      },
      {
        "duration": 20,
        "start_time": "2023-01-07T17:53:51.644Z"
      },
      {
        "duration": 2,
        "start_time": "2023-01-07T17:53:51.665Z"
      },
      {
        "duration": 8,
        "start_time": "2023-01-07T17:53:51.669Z"
      },
      {
        "duration": 8,
        "start_time": "2023-01-07T17:53:51.678Z"
      },
      {
        "duration": 486,
        "start_time": "2023-01-08T16:47:41.343Z"
      },
      {
        "duration": 22,
        "start_time": "2023-01-08T16:47:41.831Z"
      },
      {
        "duration": 16,
        "start_time": "2023-01-08T16:47:41.854Z"
      },
      {
        "duration": 8,
        "start_time": "2023-01-08T16:47:41.871Z"
      },
      {
        "duration": 32,
        "start_time": "2023-01-08T16:47:41.881Z"
      },
      {
        "duration": 3,
        "start_time": "2023-01-08T16:47:41.914Z"
      },
      {
        "duration": 16,
        "start_time": "2023-01-08T16:47:41.918Z"
      },
      {
        "duration": 4,
        "start_time": "2023-01-08T16:47:41.935Z"
      },
      {
        "duration": 8,
        "start_time": "2023-01-08T16:47:41.940Z"
      },
      {
        "duration": 3,
        "start_time": "2023-01-08T16:47:41.950Z"
      },
      {
        "duration": 32,
        "start_time": "2023-01-08T16:47:41.954Z"
      },
      {
        "duration": 25,
        "start_time": "2023-01-08T16:47:41.988Z"
      },
      {
        "duration": 5,
        "start_time": "2023-01-08T16:47:42.014Z"
      },
      {
        "duration": 16,
        "start_time": "2023-01-08T16:47:42.022Z"
      },
      {
        "duration": 19,
        "start_time": "2023-01-08T16:47:42.039Z"
      },
      {
        "duration": 14,
        "start_time": "2023-01-08T16:47:42.059Z"
      },
      {
        "duration": 3,
        "start_time": "2023-01-08T16:47:42.075Z"
      },
      {
        "duration": 11,
        "start_time": "2023-01-08T16:47:42.079Z"
      },
      {
        "duration": 5,
        "start_time": "2023-01-08T16:47:42.113Z"
      },
      {
        "duration": 3,
        "start_time": "2023-01-08T16:47:42.120Z"
      },
      {
        "duration": 12,
        "start_time": "2023-01-08T16:47:42.124Z"
      },
      {
        "duration": 19,
        "start_time": "2023-01-08T16:47:42.138Z"
      },
      {
        "duration": 2,
        "start_time": "2023-01-08T16:47:42.159Z"
      },
      {
        "duration": 8,
        "start_time": "2023-01-08T16:47:42.162Z"
      },
      {
        "duration": 10,
        "start_time": "2023-01-08T16:47:42.171Z"
      },
      {
        "duration": 5,
        "start_time": "2023-01-08T16:48:30.562Z"
      },
      {
        "duration": 5,
        "start_time": "2023-01-08T16:49:12.443Z"
      },
      {
        "duration": 5,
        "start_time": "2023-01-08T16:49:35.923Z"
      },
      {
        "duration": 22,
        "start_time": "2023-01-08T16:55:56.787Z"
      },
      {
        "duration": 23,
        "start_time": "2023-01-08T16:56:49.481Z"
      },
      {
        "duration": 24,
        "start_time": "2023-01-08T16:58:48.456Z"
      },
      {
        "duration": 47,
        "start_time": "2023-01-08T17:15:02.606Z"
      },
      {
        "duration": 84,
        "start_time": "2023-01-08T17:15:50.813Z"
      },
      {
        "duration": 6,
        "start_time": "2023-01-08T17:16:01.873Z"
      },
      {
        "duration": 6,
        "start_time": "2023-01-08T17:16:35.263Z"
      },
      {
        "duration": 5,
        "start_time": "2023-01-08T17:16:46.863Z"
      },
      {
        "duration": 8,
        "start_time": "2023-01-08T17:16:59.313Z"
      },
      {
        "duration": 58,
        "start_time": "2023-01-08T17:22:55.783Z"
      },
      {
        "duration": 21,
        "start_time": "2023-01-08T17:32:05.484Z"
      },
      {
        "duration": 29,
        "start_time": "2023-01-08T17:32:38.203Z"
      },
      {
        "duration": 7,
        "start_time": "2023-01-08T17:38:34.354Z"
      },
      {
        "duration": 7,
        "start_time": "2023-01-08T17:39:00.615Z"
      },
      {
        "duration": 9,
        "start_time": "2023-01-08T17:39:17.747Z"
      },
      {
        "duration": 6,
        "start_time": "2023-01-08T17:39:30.393Z"
      },
      {
        "duration": 7,
        "start_time": "2023-01-08T17:39:46.424Z"
      },
      {
        "duration": 4,
        "start_time": "2023-01-08T17:39:57.163Z"
      },
      {
        "duration": 8,
        "start_time": "2023-01-08T17:40:05.250Z"
      },
      {
        "duration": 6,
        "start_time": "2023-01-08T17:40:22.484Z"
      },
      {
        "duration": 5,
        "start_time": "2023-01-08T17:40:30.007Z"
      },
      {
        "duration": 7,
        "start_time": "2023-01-08T17:40:39.847Z"
      },
      {
        "duration": 8,
        "start_time": "2023-01-08T17:40:50.823Z"
      },
      {
        "duration": 30,
        "start_time": "2023-01-08T17:41:55.127Z"
      },
      {
        "duration": 20,
        "start_time": "2023-01-08T17:42:41.634Z"
      },
      {
        "duration": 86,
        "start_time": "2023-01-08T18:27:15.250Z"
      },
      {
        "duration": 14,
        "start_time": "2023-01-08T18:27:15.338Z"
      },
      {
        "duration": 16,
        "start_time": "2023-01-08T18:27:15.353Z"
      },
      {
        "duration": 9,
        "start_time": "2023-01-08T18:27:15.370Z"
      },
      {
        "duration": 56,
        "start_time": "2023-01-08T18:27:15.381Z"
      },
      {
        "duration": 4,
        "start_time": "2023-01-08T18:27:15.438Z"
      },
      {
        "duration": 13,
        "start_time": "2023-01-08T18:27:15.443Z"
      },
      {
        "duration": 8,
        "start_time": "2023-01-08T18:27:15.457Z"
      },
      {
        "duration": 7,
        "start_time": "2023-01-08T18:27:15.467Z"
      },
      {
        "duration": 9,
        "start_time": "2023-01-08T18:27:15.476Z"
      },
      {
        "duration": 49,
        "start_time": "2023-01-08T18:27:15.486Z"
      },
      {
        "duration": 9,
        "start_time": "2023-01-08T18:27:15.537Z"
      },
      {
        "duration": 6,
        "start_time": "2023-01-08T18:27:15.548Z"
      },
      {
        "duration": 11,
        "start_time": "2023-01-08T18:27:15.558Z"
      },
      {
        "duration": 33,
        "start_time": "2023-01-08T18:27:15.571Z"
      },
      {
        "duration": 22,
        "start_time": "2023-01-08T18:27:15.605Z"
      },
      {
        "duration": 3,
        "start_time": "2023-01-08T18:27:15.629Z"
      },
      {
        "duration": 24,
        "start_time": "2023-01-08T18:27:15.634Z"
      },
      {
        "duration": 14,
        "start_time": "2023-01-08T18:27:15.660Z"
      },
      {
        "duration": 4,
        "start_time": "2023-01-08T18:27:15.675Z"
      },
      {
        "duration": 10,
        "start_time": "2023-01-08T18:27:15.681Z"
      },
      {
        "duration": 3,
        "start_time": "2023-01-08T18:27:15.693Z"
      },
      {
        "duration": 30,
        "start_time": "2023-01-08T18:27:15.697Z"
      },
      {
        "duration": 7,
        "start_time": "2023-01-08T18:27:15.729Z"
      },
      {
        "duration": 11,
        "start_time": "2023-01-08T18:27:15.737Z"
      },
      {
        "duration": 19,
        "start_time": "2023-01-08T18:27:15.750Z"
      },
      {
        "duration": 19,
        "start_time": "2023-01-08T18:38:42.144Z"
      },
      {
        "duration": 5,
        "start_time": "2023-01-08T18:43:18.096Z"
      },
      {
        "duration": 7,
        "start_time": "2023-01-08T18:43:31.553Z"
      },
      {
        "duration": 22,
        "start_time": "2023-01-08T18:50:17.977Z"
      },
      {
        "duration": 6,
        "start_time": "2023-01-08T18:52:54.446Z"
      },
      {
        "duration": 16,
        "start_time": "2023-01-08T18:54:51.842Z"
      },
      {
        "duration": 1141,
        "start_time": "2023-01-08T18:55:45.346Z"
      },
      {
        "duration": 10,
        "start_time": "2023-01-08T18:56:35.826Z"
      },
      {
        "duration": 9,
        "start_time": "2023-01-08T18:57:32.526Z"
      },
      {
        "duration": 8,
        "start_time": "2023-01-08T18:58:35.577Z"
      },
      {
        "duration": 7,
        "start_time": "2023-01-08T19:00:04.804Z"
      },
      {
        "duration": 7,
        "start_time": "2023-01-08T19:00:31.907Z"
      },
      {
        "duration": 7,
        "start_time": "2023-01-08T19:01:49.486Z"
      },
      {
        "duration": 5,
        "start_time": "2023-01-08T19:04:18.767Z"
      },
      {
        "duration": 80,
        "start_time": "2023-01-08T19:05:52.691Z"
      },
      {
        "duration": 4,
        "start_time": "2023-01-08T19:06:04.777Z"
      },
      {
        "duration": 516,
        "start_time": "2023-01-10T15:03:19.321Z"
      },
      {
        "duration": 19,
        "start_time": "2023-01-10T15:03:19.839Z"
      },
      {
        "duration": 12,
        "start_time": "2023-01-10T15:03:19.859Z"
      },
      {
        "duration": 7,
        "start_time": "2023-01-10T15:03:19.873Z"
      },
      {
        "duration": 32,
        "start_time": "2023-01-10T15:03:19.882Z"
      },
      {
        "duration": 3,
        "start_time": "2023-01-10T15:03:19.915Z"
      },
      {
        "duration": 9,
        "start_time": "2023-01-10T15:03:19.919Z"
      },
      {
        "duration": 3,
        "start_time": "2023-01-10T15:03:19.930Z"
      },
      {
        "duration": 8,
        "start_time": "2023-01-10T15:03:19.934Z"
      },
      {
        "duration": 3,
        "start_time": "2023-01-10T15:03:19.944Z"
      },
      {
        "duration": 29,
        "start_time": "2023-01-10T15:03:19.949Z"
      },
      {
        "duration": 34,
        "start_time": "2023-01-10T15:03:19.980Z"
      },
      {
        "duration": 3,
        "start_time": "2023-01-10T15:03:20.015Z"
      },
      {
        "duration": 20,
        "start_time": "2023-01-10T15:03:20.020Z"
      },
      {
        "duration": 19,
        "start_time": "2023-01-10T15:03:20.042Z"
      },
      {
        "duration": 14,
        "start_time": "2023-01-10T15:03:20.063Z"
      },
      {
        "duration": 7,
        "start_time": "2023-01-10T15:03:20.079Z"
      },
      {
        "duration": 32,
        "start_time": "2023-01-10T15:03:20.087Z"
      },
      {
        "duration": 46,
        "start_time": "2023-01-10T15:03:20.121Z"
      },
      {
        "duration": 16,
        "start_time": "2023-01-10T15:03:20.168Z"
      },
      {
        "duration": 23,
        "start_time": "2023-01-10T15:03:20.186Z"
      },
      {
        "duration": 24,
        "start_time": "2023-01-10T15:03:20.211Z"
      },
      {
        "duration": 23,
        "start_time": "2023-01-10T15:03:20.237Z"
      },
      {
        "duration": 32,
        "start_time": "2023-01-10T15:03:20.262Z"
      },
      {
        "duration": 32,
        "start_time": "2023-01-10T15:03:20.296Z"
      },
      {
        "duration": 28,
        "start_time": "2023-01-10T15:03:20.330Z"
      },
      {
        "duration": 7,
        "start_time": "2023-01-10T15:03:20.360Z"
      },
      {
        "duration": 25,
        "start_time": "2023-01-10T15:03:20.369Z"
      },
      {
        "duration": 11,
        "start_time": "2023-01-10T15:03:20.396Z"
      },
      {
        "duration": 11,
        "start_time": "2023-01-10T15:08:34.509Z"
      },
      {
        "duration": 11,
        "start_time": "2023-01-10T15:15:46.253Z"
      },
      {
        "duration": 10,
        "start_time": "2023-01-10T16:11:32.654Z"
      },
      {
        "duration": 10,
        "start_time": "2023-01-10T16:11:46.292Z"
      },
      {
        "duration": 10,
        "start_time": "2023-01-10T16:12:36.764Z"
      },
      {
        "duration": 20,
        "start_time": "2023-01-10T16:28:04.497Z"
      },
      {
        "duration": 15,
        "start_time": "2023-01-10T16:43:03.525Z"
      },
      {
        "duration": 16,
        "start_time": "2023-01-10T16:56:14.186Z"
      },
      {
        "duration": 805,
        "start_time": "2023-01-11T14:31:55.869Z"
      },
      {
        "duration": 20,
        "start_time": "2023-01-11T14:31:56.676Z"
      },
      {
        "duration": 21,
        "start_time": "2023-01-11T14:31:56.698Z"
      },
      {
        "duration": 9,
        "start_time": "2023-01-11T14:31:56.722Z"
      },
      {
        "duration": 35,
        "start_time": "2023-01-11T14:31:56.732Z"
      },
      {
        "duration": 41,
        "start_time": "2023-01-11T14:31:56.768Z"
      },
      {
        "duration": 11,
        "start_time": "2023-01-11T14:31:56.814Z"
      },
      {
        "duration": 4,
        "start_time": "2023-01-11T14:31:56.827Z"
      },
      {
        "duration": 8,
        "start_time": "2023-01-11T14:31:56.833Z"
      },
      {
        "duration": 41,
        "start_time": "2023-01-11T14:31:56.843Z"
      },
      {
        "duration": 52,
        "start_time": "2023-01-11T14:31:56.886Z"
      },
      {
        "duration": 12,
        "start_time": "2023-01-11T14:31:56.940Z"
      },
      {
        "duration": 4,
        "start_time": "2023-01-11T14:31:56.953Z"
      },
      {
        "duration": 13,
        "start_time": "2023-01-11T14:31:56.958Z"
      },
      {
        "duration": 30,
        "start_time": "2023-01-11T14:31:56.997Z"
      },
      {
        "duration": 16,
        "start_time": "2023-01-11T14:31:57.029Z"
      },
      {
        "duration": 4,
        "start_time": "2023-01-11T14:31:57.046Z"
      },
      {
        "duration": 13,
        "start_time": "2023-01-11T14:31:57.051Z"
      },
      {
        "duration": 36,
        "start_time": "2023-01-11T14:31:57.065Z"
      },
      {
        "duration": 4,
        "start_time": "2023-01-11T14:31:57.103Z"
      },
      {
        "duration": 13,
        "start_time": "2023-01-11T14:31:57.108Z"
      },
      {
        "duration": 11,
        "start_time": "2023-01-11T14:31:57.123Z"
      },
      {
        "duration": 12,
        "start_time": "2023-01-11T14:31:57.136Z"
      },
      {
        "duration": 58,
        "start_time": "2023-01-11T14:31:57.150Z"
      },
      {
        "duration": 17,
        "start_time": "2023-01-11T14:31:57.210Z"
      },
      {
        "duration": 64,
        "start_time": "2023-01-11T14:37:51.705Z"
      },
      {
        "duration": 65,
        "start_time": "2023-01-12T15:24:20.614Z"
      },
      {
        "duration": 550,
        "start_time": "2023-01-12T15:25:41.023Z"
      },
      {
        "duration": 26,
        "start_time": "2023-01-12T15:25:41.575Z"
      },
      {
        "duration": 16,
        "start_time": "2023-01-12T15:25:41.602Z"
      },
      {
        "duration": 11,
        "start_time": "2023-01-12T15:25:41.620Z"
      },
      {
        "duration": 37,
        "start_time": "2023-01-12T15:25:41.633Z"
      },
      {
        "duration": 3,
        "start_time": "2023-01-12T15:25:41.672Z"
      },
      {
        "duration": 14,
        "start_time": "2023-01-12T15:25:41.677Z"
      },
      {
        "duration": 5,
        "start_time": "2023-01-12T15:25:41.692Z"
      },
      {
        "duration": 25,
        "start_time": "2023-01-12T15:25:41.699Z"
      },
      {
        "duration": 5,
        "start_time": "2023-01-12T15:25:41.726Z"
      },
      {
        "duration": 36,
        "start_time": "2023-01-12T15:25:41.732Z"
      },
      {
        "duration": 10,
        "start_time": "2023-01-12T15:25:41.769Z"
      },
      {
        "duration": 4,
        "start_time": "2023-01-12T15:25:41.780Z"
      },
      {
        "duration": 14,
        "start_time": "2023-01-12T15:25:41.786Z"
      },
      {
        "duration": 27,
        "start_time": "2023-01-12T15:25:41.822Z"
      },
      {
        "duration": 25,
        "start_time": "2023-01-12T15:25:41.851Z"
      },
      {
        "duration": 3,
        "start_time": "2023-01-12T15:25:41.878Z"
      },
      {
        "duration": 39,
        "start_time": "2023-01-12T15:25:41.883Z"
      },
      {
        "duration": 6,
        "start_time": "2023-01-12T15:25:41.924Z"
      },
      {
        "duration": 5,
        "start_time": "2023-01-12T15:25:41.932Z"
      },
      {
        "duration": 15,
        "start_time": "2023-01-12T15:25:41.938Z"
      },
      {
        "duration": 21,
        "start_time": "2023-01-12T15:25:41.955Z"
      },
      {
        "duration": 8,
        "start_time": "2023-01-12T15:25:41.978Z"
      },
      {
        "duration": 40,
        "start_time": "2023-01-12T15:25:41.987Z"
      },
      {
        "duration": 15,
        "start_time": "2023-01-12T15:25:42.029Z"
      },
      {
        "duration": 16,
        "start_time": "2023-01-12T15:25:42.046Z"
      },
      {
        "duration": 11,
        "start_time": "2023-01-12T15:28:37.823Z"
      },
      {
        "duration": 74,
        "start_time": "2023-01-12T15:29:04.456Z"
      },
      {
        "duration": 11,
        "start_time": "2023-01-12T15:29:19.004Z"
      },
      {
        "duration": 77,
        "start_time": "2023-01-12T15:30:18.350Z"
      },
      {
        "duration": 86,
        "start_time": "2023-01-12T15:30:33.191Z"
      },
      {
        "duration": 78,
        "start_time": "2023-01-12T15:32:41.043Z"
      },
      {
        "duration": 10,
        "start_time": "2023-01-12T15:33:10.184Z"
      },
      {
        "duration": 34,
        "start_time": "2023-01-12T15:33:50.342Z"
      },
      {
        "duration": 11,
        "start_time": "2023-01-12T15:34:08.779Z"
      },
      {
        "duration": 10,
        "start_time": "2023-01-12T15:35:33.300Z"
      },
      {
        "duration": 24,
        "start_time": "2023-01-12T15:35:52.371Z"
      },
      {
        "duration": 15,
        "start_time": "2023-01-12T15:36:26.589Z"
      },
      {
        "duration": 8,
        "start_time": "2023-01-12T15:40:42.403Z"
      },
      {
        "duration": 4,
        "start_time": "2023-01-12T15:41:01.576Z"
      },
      {
        "duration": 4,
        "start_time": "2023-01-12T15:41:13.198Z"
      },
      {
        "duration": 5,
        "start_time": "2023-01-12T15:41:56.810Z"
      },
      {
        "duration": 13,
        "start_time": "2023-01-12T15:45:35.008Z"
      },
      {
        "duration": 12,
        "start_time": "2023-01-12T15:46:16.091Z"
      },
      {
        "duration": 11,
        "start_time": "2023-01-12T15:48:07.728Z"
      },
      {
        "duration": 13,
        "start_time": "2023-01-12T15:49:27.300Z"
      },
      {
        "duration": 87,
        "start_time": "2023-01-12T15:49:39.719Z"
      },
      {
        "duration": 92,
        "start_time": "2023-01-12T15:50:06.513Z"
      },
      {
        "duration": 73,
        "start_time": "2023-01-12T15:50:26.841Z"
      },
      {
        "duration": 72,
        "start_time": "2023-01-12T15:50:38.746Z"
      },
      {
        "duration": 7,
        "start_time": "2023-01-12T15:50:59.682Z"
      },
      {
        "duration": 923,
        "start_time": "2023-01-12T15:51:30.966Z"
      },
      {
        "duration": 8,
        "start_time": "2023-01-12T15:52:05.980Z"
      },
      {
        "duration": 318,
        "start_time": "2023-01-12T15:52:25.500Z"
      },
      {
        "duration": 72,
        "start_time": "2023-01-12T15:54:49.996Z"
      },
      {
        "duration": 12,
        "start_time": "2023-01-12T15:55:08.453Z"
      },
      {
        "duration": 10,
        "start_time": "2023-01-12T15:55:37.005Z"
      },
      {
        "duration": 11,
        "start_time": "2023-01-12T15:56:07.011Z"
      },
      {
        "duration": 73,
        "start_time": "2023-01-12T15:56:30.893Z"
      },
      {
        "duration": 16,
        "start_time": "2023-01-12T15:56:30.968Z"
      },
      {
        "duration": 34,
        "start_time": "2023-01-12T15:56:30.985Z"
      },
      {
        "duration": 16,
        "start_time": "2023-01-12T15:56:31.021Z"
      },
      {
        "duration": 50,
        "start_time": "2023-01-12T15:56:31.038Z"
      },
      {
        "duration": 3,
        "start_time": "2023-01-12T15:56:31.090Z"
      },
      {
        "duration": 29,
        "start_time": "2023-01-12T15:56:31.095Z"
      },
      {
        "duration": 20,
        "start_time": "2023-01-12T15:56:31.125Z"
      },
      {
        "duration": 20,
        "start_time": "2023-01-12T15:56:31.147Z"
      },
      {
        "duration": 21,
        "start_time": "2023-01-12T15:56:31.170Z"
      },
      {
        "duration": 49,
        "start_time": "2023-01-12T15:56:31.193Z"
      },
      {
        "duration": 9,
        "start_time": "2023-01-12T15:56:31.244Z"
      },
      {
        "duration": 28,
        "start_time": "2023-01-12T15:56:31.255Z"
      },
      {
        "duration": 23,
        "start_time": "2023-01-12T15:56:31.285Z"
      },
      {
        "duration": 46,
        "start_time": "2023-01-12T15:56:31.309Z"
      },
      {
        "duration": 17,
        "start_time": "2023-01-12T15:56:31.357Z"
      },
      {
        "duration": 18,
        "start_time": "2023-01-12T15:56:31.376Z"
      },
      {
        "duration": 20,
        "start_time": "2023-01-12T15:56:31.395Z"
      },
      {
        "duration": 11,
        "start_time": "2023-01-12T15:56:31.417Z"
      },
      {
        "duration": 7,
        "start_time": "2023-01-12T15:56:31.431Z"
      },
      {
        "duration": 32,
        "start_time": "2023-01-12T15:56:31.440Z"
      },
      {
        "duration": 29,
        "start_time": "2023-01-12T15:56:31.474Z"
      },
      {
        "duration": 15,
        "start_time": "2023-01-12T15:56:31.505Z"
      },
      {
        "duration": 22,
        "start_time": "2023-01-12T15:56:31.521Z"
      },
      {
        "duration": 26,
        "start_time": "2023-01-12T15:56:31.545Z"
      },
      {
        "duration": 35,
        "start_time": "2023-01-12T15:56:31.573Z"
      },
      {
        "duration": 12,
        "start_time": "2023-01-12T16:00:04.792Z"
      },
      {
        "duration": 11,
        "start_time": "2023-01-12T16:00:08.943Z"
      },
      {
        "duration": 521,
        "start_time": "2023-01-13T14:41:21.634Z"
      },
      {
        "duration": 31,
        "start_time": "2023-01-13T14:41:22.158Z"
      },
      {
        "duration": 18,
        "start_time": "2023-01-13T14:41:22.191Z"
      },
      {
        "duration": 13,
        "start_time": "2023-01-13T14:41:22.211Z"
      },
      {
        "duration": 36,
        "start_time": "2023-01-13T14:41:22.225Z"
      },
      {
        "duration": 18,
        "start_time": "2023-01-13T14:41:22.263Z"
      },
      {
        "duration": 39,
        "start_time": "2023-01-13T14:41:22.283Z"
      },
      {
        "duration": 16,
        "start_time": "2023-01-13T14:41:22.324Z"
      },
      {
        "duration": 26,
        "start_time": "2023-01-13T14:41:22.341Z"
      },
      {
        "duration": 17,
        "start_time": "2023-01-13T14:41:22.370Z"
      },
      {
        "duration": 63,
        "start_time": "2023-01-13T14:41:22.389Z"
      },
      {
        "duration": 15,
        "start_time": "2023-01-13T14:41:22.453Z"
      },
      {
        "duration": 15,
        "start_time": "2023-01-13T14:41:22.470Z"
      },
      {
        "duration": 32,
        "start_time": "2023-01-13T14:41:22.487Z"
      },
      {
        "duration": 38,
        "start_time": "2023-01-13T14:41:22.521Z"
      },
      {
        "duration": 20,
        "start_time": "2023-01-13T14:41:22.560Z"
      },
      {
        "duration": 14,
        "start_time": "2023-01-13T14:41:22.582Z"
      },
      {
        "duration": 26,
        "start_time": "2023-01-13T14:41:22.598Z"
      },
      {
        "duration": 22,
        "start_time": "2023-01-13T14:41:22.625Z"
      },
      {
        "duration": 15,
        "start_time": "2023-01-13T14:41:22.649Z"
      },
      {
        "duration": 40,
        "start_time": "2023-01-13T14:41:22.665Z"
      },
      {
        "duration": 29,
        "start_time": "2023-01-13T14:41:22.706Z"
      },
      {
        "duration": 16,
        "start_time": "2023-01-13T14:41:22.737Z"
      },
      {
        "duration": 31,
        "start_time": "2023-01-13T14:41:22.755Z"
      },
      {
        "duration": 30,
        "start_time": "2023-01-13T14:41:22.787Z"
      },
      {
        "duration": 24,
        "start_time": "2023-01-13T14:41:22.819Z"
      },
      {
        "duration": 10,
        "start_time": "2023-01-13T14:43:20.853Z"
      },
      {
        "duration": 65,
        "start_time": "2023-01-13T14:48:23.886Z"
      },
      {
        "duration": 16,
        "start_time": "2023-01-13T14:48:32.764Z"
      },
      {
        "duration": 76,
        "start_time": "2023-01-13T14:49:52.633Z"
      },
      {
        "duration": 85,
        "start_time": "2023-01-13T14:50:17.079Z"
      },
      {
        "duration": 12,
        "start_time": "2023-01-13T15:13:19.788Z"
      },
      {
        "duration": 6,
        "start_time": "2023-01-13T15:14:13.471Z"
      },
      {
        "duration": 9,
        "start_time": "2023-01-13T15:16:36.840Z"
      },
      {
        "duration": 12,
        "start_time": "2023-01-13T15:17:29.425Z"
      },
      {
        "duration": 5,
        "start_time": "2023-01-13T15:17:32.954Z"
      },
      {
        "duration": 10,
        "start_time": "2023-01-13T15:17:44.566Z"
      },
      {
        "duration": 5,
        "start_time": "2023-01-13T15:24:14.742Z"
      },
      {
        "duration": 10,
        "start_time": "2023-01-13T15:25:21.729Z"
      },
      {
        "duration": 10,
        "start_time": "2023-01-13T15:25:44.352Z"
      },
      {
        "duration": 12,
        "start_time": "2023-01-13T15:26:01.362Z"
      },
      {
        "duration": 11,
        "start_time": "2023-01-13T15:26:14.186Z"
      },
      {
        "duration": 9,
        "start_time": "2023-01-13T15:31:56.174Z"
      },
      {
        "duration": 10,
        "start_time": "2023-01-13T15:32:13.842Z"
      },
      {
        "duration": 11,
        "start_time": "2023-01-13T15:33:45.064Z"
      },
      {
        "duration": 15,
        "start_time": "2023-01-13T15:34:00.547Z"
      },
      {
        "duration": 10,
        "start_time": "2023-01-13T15:34:11.259Z"
      },
      {
        "duration": 11,
        "start_time": "2023-01-13T15:34:31.928Z"
      },
      {
        "duration": 11,
        "start_time": "2023-01-13T15:34:57.058Z"
      },
      {
        "duration": 8,
        "start_time": "2023-01-13T15:35:28.527Z"
      },
      {
        "duration": 14,
        "start_time": "2023-01-13T15:35:42.830Z"
      },
      {
        "duration": 10,
        "start_time": "2023-01-13T15:36:01.401Z"
      },
      {
        "duration": 74,
        "start_time": "2023-01-13T15:36:25.149Z"
      },
      {
        "duration": 79,
        "start_time": "2023-01-13T15:36:51.163Z"
      },
      {
        "duration": 10,
        "start_time": "2023-01-13T15:37:07.420Z"
      },
      {
        "duration": 74,
        "start_time": "2023-01-13T15:38:29.613Z"
      },
      {
        "duration": 10,
        "start_time": "2023-01-13T15:38:48.726Z"
      },
      {
        "duration": 401,
        "start_time": "2023-01-13T15:40:08.105Z"
      },
      {
        "duration": 9,
        "start_time": "2023-01-13T15:40:25.736Z"
      },
      {
        "duration": 10,
        "start_time": "2023-01-13T15:40:36.753Z"
      },
      {
        "duration": 91,
        "start_time": "2023-01-13T15:40:44.106Z"
      },
      {
        "duration": 74,
        "start_time": "2023-01-13T15:43:36.076Z"
      },
      {
        "duration": 68,
        "start_time": "2023-01-13T15:43:59.276Z"
      },
      {
        "duration": 10,
        "start_time": "2023-01-13T15:44:07.724Z"
      },
      {
        "duration": 73,
        "start_time": "2023-01-13T15:44:32.881Z"
      },
      {
        "duration": 11,
        "start_time": "2023-01-13T15:44:38.226Z"
      },
      {
        "duration": 12,
        "start_time": "2023-01-13T15:45:23.751Z"
      },
      {
        "duration": 11,
        "start_time": "2023-01-13T16:02:52.118Z"
      },
      {
        "duration": 13,
        "start_time": "2023-01-13T16:03:32.278Z"
      },
      {
        "duration": 8,
        "start_time": "2023-01-13T16:04:45.660Z"
      },
      {
        "duration": 8,
        "start_time": "2023-01-13T16:05:19.456Z"
      },
      {
        "duration": 9,
        "start_time": "2023-01-13T16:18:50.807Z"
      },
      {
        "duration": 12,
        "start_time": "2023-01-13T16:20:49.320Z"
      },
      {
        "duration": 13,
        "start_time": "2023-01-13T17:02:24.656Z"
      },
      {
        "duration": 12,
        "start_time": "2023-01-13T17:05:04.949Z"
      },
      {
        "duration": 14,
        "start_time": "2023-01-13T17:08:41.949Z"
      },
      {
        "duration": 13,
        "start_time": "2023-01-13T17:09:42.377Z"
      },
      {
        "duration": 23,
        "start_time": "2023-01-13T17:11:11.888Z"
      },
      {
        "duration": 12,
        "start_time": "2023-01-13T17:11:53.864Z"
      },
      {
        "duration": 12,
        "start_time": "2023-01-13T17:14:53.189Z"
      },
      {
        "duration": 14,
        "start_time": "2023-01-13T17:15:16.144Z"
      },
      {
        "duration": 13,
        "start_time": "2023-01-13T17:15:30.797Z"
      },
      {
        "duration": 12,
        "start_time": "2023-01-13T17:18:04.528Z"
      },
      {
        "duration": 18,
        "start_time": "2023-01-13T17:18:59.847Z"
      },
      {
        "duration": 13,
        "start_time": "2023-01-13T17:19:03.719Z"
      },
      {
        "duration": 12,
        "start_time": "2023-01-13T17:19:17.657Z"
      },
      {
        "duration": 14,
        "start_time": "2023-01-13T17:21:25.996Z"
      },
      {
        "duration": 13,
        "start_time": "2023-01-13T17:22:10.151Z"
      },
      {
        "duration": 13,
        "start_time": "2023-01-13T17:22:30.809Z"
      },
      {
        "duration": 14,
        "start_time": "2023-01-13T17:23:06.271Z"
      },
      {
        "duration": 14,
        "start_time": "2023-01-13T17:24:07.587Z"
      },
      {
        "duration": 758,
        "start_time": "2023-01-14T07:05:22.783Z"
      },
      {
        "duration": 31,
        "start_time": "2023-01-14T07:05:23.544Z"
      },
      {
        "duration": 25,
        "start_time": "2023-01-14T07:05:23.577Z"
      },
      {
        "duration": 19,
        "start_time": "2023-01-14T07:05:23.605Z"
      },
      {
        "duration": 86,
        "start_time": "2023-01-14T07:05:23.626Z"
      },
      {
        "duration": 3,
        "start_time": "2023-01-14T07:05:23.715Z"
      },
      {
        "duration": 31,
        "start_time": "2023-01-14T07:05:23.720Z"
      },
      {
        "duration": 9,
        "start_time": "2023-01-14T07:05:23.753Z"
      },
      {
        "duration": 12,
        "start_time": "2023-01-14T07:05:23.764Z"
      },
      {
        "duration": 6,
        "start_time": "2023-01-14T07:05:23.781Z"
      },
      {
        "duration": 46,
        "start_time": "2023-01-14T07:05:23.789Z"
      },
      {
        "duration": 14,
        "start_time": "2023-01-14T07:05:23.838Z"
      },
      {
        "duration": 30,
        "start_time": "2023-01-14T07:05:23.856Z"
      },
      {
        "duration": 33,
        "start_time": "2023-01-14T07:05:23.889Z"
      },
      {
        "duration": 32,
        "start_time": "2023-01-14T07:05:23.924Z"
      },
      {
        "duration": 21,
        "start_time": "2023-01-14T07:05:23.959Z"
      },
      {
        "duration": 4,
        "start_time": "2023-01-14T07:05:23.982Z"
      },
      {
        "duration": 29,
        "start_time": "2023-01-14T07:05:23.988Z"
      },
      {
        "duration": 7,
        "start_time": "2023-01-14T07:05:24.019Z"
      },
      {
        "duration": 7,
        "start_time": "2023-01-14T07:05:24.028Z"
      },
      {
        "duration": 27,
        "start_time": "2023-01-14T07:05:24.036Z"
      },
      {
        "duration": 22,
        "start_time": "2023-01-14T07:05:24.065Z"
      },
      {
        "duration": 15,
        "start_time": "2023-01-14T07:05:24.089Z"
      },
      {
        "duration": 21,
        "start_time": "2023-01-14T07:05:24.106Z"
      },
      {
        "duration": 14,
        "start_time": "2023-01-14T07:05:24.128Z"
      },
      {
        "duration": 40,
        "start_time": "2023-01-14T07:05:24.145Z"
      },
      {
        "duration": 14,
        "start_time": "2023-01-14T07:05:24.186Z"
      },
      {
        "duration": 15,
        "start_time": "2023-01-14T07:05:24.203Z"
      },
      {
        "duration": 17,
        "start_time": "2023-01-14T07:05:24.220Z"
      }
    ],
    "colab": {
      "provenance": []
    },
    "kernelspec": {
      "display_name": "Python 3 (ipykernel)",
      "language": "python",
      "name": "python3"
    },
    "language_info": {
      "codemirror_mode": {
        "name": "ipython",
        "version": 3
      },
      "file_extension": ".py",
      "mimetype": "text/x-python",
      "name": "python",
      "nbconvert_exporter": "python",
      "pygments_lexer": "ipython3",
      "version": "3.9.5"
    },
    "toc": {
      "base_numbering": 1,
      "nav_menu": {},
      "number_sections": true,
      "sideBar": true,
      "skip_h1_title": true,
      "title_cell": "Table of Contents",
      "title_sidebar": "Contents",
      "toc_cell": false,
      "toc_position": {},
      "toc_section_display": true,
      "toc_window_display": true
    }
  },
  "nbformat": 4,
  "nbformat_minor": 5
}