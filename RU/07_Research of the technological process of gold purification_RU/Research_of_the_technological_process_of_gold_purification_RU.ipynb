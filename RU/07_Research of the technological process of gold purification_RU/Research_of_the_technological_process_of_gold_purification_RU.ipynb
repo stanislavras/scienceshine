{
  "cells": [
    {
      "cell_type": "markdown",
      "metadata": {
        "id": "pPZmDq9A8PzQ",
        "toc": true
      },
      "source": [
        "<h1>Содержание<span class=\"tocSkip\"></span></h1>\n",
        "<div class=\"toc\"><ul class=\"toc-item\"><li><span><a href=\"#Подготовка-данных\" data-toc-modified-id=\"Подготовка-данных-1\"><span class=\"toc-item-num\">1&nbsp;&nbsp;</span>Подготовка данных</a></span></li><li><span><a href=\"#Анализ-данных\" data-toc-modified-id=\"Анализ-данных-2\"><span class=\"toc-item-num\">2&nbsp;&nbsp;</span>Анализ данных</a></span></li><li><span><a href=\"#Модель\" data-toc-modified-id=\"Модель-3\"><span class=\"toc-item-num\">3&nbsp;&nbsp;</span>Модель</a></span></li><li><span><a href=\"#Общий-вывод\" data-toc-modified-id=\"Общий-вывод-4\"><span class=\"toc-item-num\">4&nbsp;&nbsp;</span>Общий вывод</a></span></li></ul></div>"
      ]
    },
    {
      "cell_type": "markdown",
      "metadata": {
        "id": "f_Iy9It-8PzR"
      },
      "source": [
        "# Восстановление золота из руды"
      ]
    },
    {
      "cell_type": "markdown",
      "metadata": {
        "id": "C3sqwnq78PzS"
      },
      "source": [
        "Необходимо подготовить прототип модели машинного обучения для «Цифры». Компания разрабатывает решения для эффективной работы промышленных предприятий.\n",
        "\n",
        "Модель должна предсказать коэффициент восстановления золота из золотосодержащей руды. Используем данные с параметрами добычи и очистки.\n",
        "\n",
        "Модель поможет оптимизировать производство, чтобы не запускать предприятие с убыточными характеристиками."
      ]
    },
    {
      "cell_type": "markdown",
      "metadata": {
        "id": "j4lGcwc-P3KO"
      },
      "source": [
        "**Цели исследования:** Подготовка модели машинного обучения, которая должна предсказать коэффициент восстановления золота из золотосодержащей руды."
      ]
    },
    {
      "cell_type": "markdown",
      "metadata": {
        "id": "Mwww84yLQ3LG"
      },
      "source": [
        "**Описание данных:** Датасет с сырыми данными по технологическому процессу получения золота из руды."
      ]
    },
    {
      "cell_type": "markdown",
      "metadata": {
        "id": "qxXoK_Dc8PzS"
      },
      "source": [
        "## Подготовка данных"
      ]
    },
    {
      "cell_type": "markdown",
      "metadata": {
        "id": "GzX9rcuavW8C"
      },
      "source": [
        "**1.1 Импортируем необходимые библиотеки, считаем данные из csv-файлов в датафреймы, сохраним в переменные и выведем их и основную информацию о них на экран**"
      ]
    },
    {
      "cell_type": "code",
      "execution_count": 1,
      "metadata": {
        "id": "SfglLd6b8PzS"
      },
      "outputs": [],
      "source": [
        "import pandas as pd\n",
        "import numpy as np\n",
        "from sklearn.linear_model import LinearRegression\n",
        "from sklearn.tree import DecisionTreeRegressor\n",
        "from sklearn.ensemble import RandomForestRegressor\n",
        "from sklearn.model_selection import cross_val_score\n",
        "from sklearn.model_selection import train_test_split\n",
        "from sklearn.metrics import mean_absolute_error\n",
        "from sklearn.metrics import make_scorer\n",
        "from sklearn.dummy import DummyRegressor\n",
        "import matplotlib.pyplot as plt\n",
        "import seaborn as sns"
      ]
    },
    {
      "cell_type": "code",
      "execution_count": 2,
      "metadata": {
        "id": "ryiIBKpz9AD1"
      },
      "outputs": [],
      "source": [
        "data_train = pd.read_csv('https://code.s3.yandex.net/datasets/gold_recovery_train_new.csv', index_col='date')\n",
        "data_test = pd.read_csv('https://code.s3.yandex.net/datasets/gold_recovery_test_new.csv', index_col='date')\n",
        "data_full = pd.read_csv('https://code.s3.yandex.net/datasets/gold_recovery_full_new.csv', index_col='date')"
      ]
    },
    {
      "cell_type": "code",
      "execution_count": 3,
      "metadata": {
        "colab": {
          "base_uri": "https://localhost:8080/",
          "height": 460
        },
        "id": "4d7w-nKf-Px2",
        "outputId": "a7d73e21-26b8-4754-f75a-060bdb15c042"
      },
      "outputs": [
        {
          "output_type": "execute_result",
          "data": {
            "text/plain": [
              "                     final.output.concentrate_ag  final.output.concentrate_pb  \\\n",
              "date                                                                            \n",
              "2016-01-15 00:00:00                     6.055403                     9.889648   \n",
              "2016-01-15 01:00:00                     6.029369                     9.968944   \n",
              "2016-01-15 02:00:00                     6.055926                    10.213995   \n",
              "2016-01-15 03:00:00                     6.047977                     9.977019   \n",
              "2016-01-15 04:00:00                     6.148599                    10.142511   \n",
              "\n",
              "                     final.output.concentrate_sol  \\\n",
              "date                                                \n",
              "2016-01-15 00:00:00                      5.507324   \n",
              "2016-01-15 01:00:00                      5.257781   \n",
              "2016-01-15 02:00:00                      5.383759   \n",
              "2016-01-15 03:00:00                      4.858634   \n",
              "2016-01-15 04:00:00                      4.939416   \n",
              "\n",
              "                     final.output.concentrate_au  final.output.recovery  \\\n",
              "date                                                                      \n",
              "2016-01-15 00:00:00                    42.192020              70.541216   \n",
              "2016-01-15 01:00:00                    42.701629              69.266198   \n",
              "2016-01-15 02:00:00                    42.657501              68.116445   \n",
              "2016-01-15 03:00:00                    42.689819              68.347543   \n",
              "2016-01-15 04:00:00                    42.774141              66.927016   \n",
              "\n",
              "                     final.output.tail_ag  final.output.tail_pb  \\\n",
              "date                                                              \n",
              "2016-01-15 00:00:00             10.411962              0.895447   \n",
              "2016-01-15 01:00:00             10.462676              0.927452   \n",
              "2016-01-15 02:00:00             10.507046              0.953716   \n",
              "2016-01-15 03:00:00             10.422762              0.883763   \n",
              "2016-01-15 04:00:00             10.360302              0.792826   \n",
              "\n",
              "                     final.output.tail_sol  final.output.tail_au  \\\n",
              "date                                                               \n",
              "2016-01-15 00:00:00              16.904297              2.143149   \n",
              "2016-01-15 01:00:00              16.634514              2.224930   \n",
              "2016-01-15 02:00:00              16.208849              2.257889   \n",
              "2016-01-15 03:00:00              16.532835              2.146849   \n",
              "2016-01-15 04:00:00              16.525686              2.055292   \n",
              "\n",
              "                     primary_cleaner.input.sulfate  ...  \\\n",
              "date                                                ...   \n",
              "2016-01-15 00:00:00                     127.092003  ...   \n",
              "2016-01-15 01:00:00                     125.629232  ...   \n",
              "2016-01-15 02:00:00                     123.819808  ...   \n",
              "2016-01-15 03:00:00                     122.270188  ...   \n",
              "2016-01-15 04:00:00                     117.988169  ...   \n",
              "\n",
              "                     secondary_cleaner.state.floatbank4_a_air  \\\n",
              "date                                                            \n",
              "2016-01-15 00:00:00                                 14.016835   \n",
              "2016-01-15 01:00:00                                 13.992281   \n",
              "2016-01-15 02:00:00                                 14.015015   \n",
              "2016-01-15 03:00:00                                 14.036510   \n",
              "2016-01-15 04:00:00                                 14.027298   \n",
              "\n",
              "                     secondary_cleaner.state.floatbank4_a_level  \\\n",
              "date                                                              \n",
              "2016-01-15 00:00:00                                 -502.488007   \n",
              "2016-01-15 01:00:00                                 -505.503262   \n",
              "2016-01-15 02:00:00                                 -502.520901   \n",
              "2016-01-15 03:00:00                                 -500.857308   \n",
              "2016-01-15 04:00:00                                 -499.838632   \n",
              "\n",
              "                     secondary_cleaner.state.floatbank4_b_air  \\\n",
              "date                                                            \n",
              "2016-01-15 00:00:00                                 12.099931   \n",
              "2016-01-15 01:00:00                                 11.950531   \n",
              "2016-01-15 02:00:00                                 11.912783   \n",
              "2016-01-15 03:00:00                                 11.999550   \n",
              "2016-01-15 04:00:00                                 11.953070   \n",
              "\n",
              "                     secondary_cleaner.state.floatbank4_b_level  \\\n",
              "date                                                              \n",
              "2016-01-15 00:00:00                                 -504.715942   \n",
              "2016-01-15 01:00:00                                 -501.331529   \n",
              "2016-01-15 02:00:00                                 -501.133383   \n",
              "2016-01-15 03:00:00                                 -501.193686   \n",
              "2016-01-15 04:00:00                                 -501.053894   \n",
              "\n",
              "                     secondary_cleaner.state.floatbank5_a_air  \\\n",
              "date                                                            \n",
              "2016-01-15 00:00:00                                  9.925633   \n",
              "2016-01-15 01:00:00                                 10.039245   \n",
              "2016-01-15 02:00:00                                 10.070913   \n",
              "2016-01-15 03:00:00                                  9.970366   \n",
              "2016-01-15 04:00:00                                  9.925709   \n",
              "\n",
              "                     secondary_cleaner.state.floatbank5_a_level  \\\n",
              "date                                                              \n",
              "2016-01-15 00:00:00                                 -498.310211   \n",
              "2016-01-15 01:00:00                                 -500.169983   \n",
              "2016-01-15 02:00:00                                 -500.129135   \n",
              "2016-01-15 03:00:00                                 -499.201640   \n",
              "2016-01-15 04:00:00                                 -501.686727   \n",
              "\n",
              "                     secondary_cleaner.state.floatbank5_b_air  \\\n",
              "date                                                            \n",
              "2016-01-15 00:00:00                                  8.079666   \n",
              "2016-01-15 01:00:00                                  7.984757   \n",
              "2016-01-15 02:00:00                                  8.013877   \n",
              "2016-01-15 03:00:00                                  7.977324   \n",
              "2016-01-15 04:00:00                                  7.894242   \n",
              "\n",
              "                     secondary_cleaner.state.floatbank5_b_level  \\\n",
              "date                                                              \n",
              "2016-01-15 00:00:00                                 -500.470978   \n",
              "2016-01-15 01:00:00                                 -500.582168   \n",
              "2016-01-15 02:00:00                                 -500.517572   \n",
              "2016-01-15 03:00:00                                 -500.255908   \n",
              "2016-01-15 04:00:00                                 -500.356035   \n",
              "\n",
              "                     secondary_cleaner.state.floatbank6_a_air  \\\n",
              "date                                                            \n",
              "2016-01-15 00:00:00                                 14.151341   \n",
              "2016-01-15 01:00:00                                 13.998353   \n",
              "2016-01-15 02:00:00                                 14.028663   \n",
              "2016-01-15 03:00:00                                 14.005551   \n",
              "2016-01-15 04:00:00                                 13.996647   \n",
              "\n",
              "                     secondary_cleaner.state.floatbank6_a_level  \n",
              "date                                                             \n",
              "2016-01-15 00:00:00                                 -605.841980  \n",
              "2016-01-15 01:00:00                                 -599.787184  \n",
              "2016-01-15 02:00:00                                 -601.427363  \n",
              "2016-01-15 03:00:00                                 -599.996129  \n",
              "2016-01-15 04:00:00                                 -601.496691  \n",
              "\n",
              "[5 rows x 86 columns]"
            ],
            "text/html": [
              "\n",
              "  <div id=\"df-e16d1162-6cb4-477a-9f31-74c061343549\" class=\"colab-df-container\">\n",
              "    <div>\n",
              "<style scoped>\n",
              "    .dataframe tbody tr th:only-of-type {\n",
              "        vertical-align: middle;\n",
              "    }\n",
              "\n",
              "    .dataframe tbody tr th {\n",
              "        vertical-align: top;\n",
              "    }\n",
              "\n",
              "    .dataframe thead th {\n",
              "        text-align: right;\n",
              "    }\n",
              "</style>\n",
              "<table border=\"1\" class=\"dataframe\">\n",
              "  <thead>\n",
              "    <tr style=\"text-align: right;\">\n",
              "      <th></th>\n",
              "      <th>final.output.concentrate_ag</th>\n",
              "      <th>final.output.concentrate_pb</th>\n",
              "      <th>final.output.concentrate_sol</th>\n",
              "      <th>final.output.concentrate_au</th>\n",
              "      <th>final.output.recovery</th>\n",
              "      <th>final.output.tail_ag</th>\n",
              "      <th>final.output.tail_pb</th>\n",
              "      <th>final.output.tail_sol</th>\n",
              "      <th>final.output.tail_au</th>\n",
              "      <th>primary_cleaner.input.sulfate</th>\n",
              "      <th>...</th>\n",
              "      <th>secondary_cleaner.state.floatbank4_a_air</th>\n",
              "      <th>secondary_cleaner.state.floatbank4_a_level</th>\n",
              "      <th>secondary_cleaner.state.floatbank4_b_air</th>\n",
              "      <th>secondary_cleaner.state.floatbank4_b_level</th>\n",
              "      <th>secondary_cleaner.state.floatbank5_a_air</th>\n",
              "      <th>secondary_cleaner.state.floatbank5_a_level</th>\n",
              "      <th>secondary_cleaner.state.floatbank5_b_air</th>\n",
              "      <th>secondary_cleaner.state.floatbank5_b_level</th>\n",
              "      <th>secondary_cleaner.state.floatbank6_a_air</th>\n",
              "      <th>secondary_cleaner.state.floatbank6_a_level</th>\n",
              "    </tr>\n",
              "    <tr>\n",
              "      <th>date</th>\n",
              "      <th></th>\n",
              "      <th></th>\n",
              "      <th></th>\n",
              "      <th></th>\n",
              "      <th></th>\n",
              "      <th></th>\n",
              "      <th></th>\n",
              "      <th></th>\n",
              "      <th></th>\n",
              "      <th></th>\n",
              "      <th></th>\n",
              "      <th></th>\n",
              "      <th></th>\n",
              "      <th></th>\n",
              "      <th></th>\n",
              "      <th></th>\n",
              "      <th></th>\n",
              "      <th></th>\n",
              "      <th></th>\n",
              "      <th></th>\n",
              "      <th></th>\n",
              "    </tr>\n",
              "  </thead>\n",
              "  <tbody>\n",
              "    <tr>\n",
              "      <th>2016-01-15 00:00:00</th>\n",
              "      <td>6.055403</td>\n",
              "      <td>9.889648</td>\n",
              "      <td>5.507324</td>\n",
              "      <td>42.192020</td>\n",
              "      <td>70.541216</td>\n",
              "      <td>10.411962</td>\n",
              "      <td>0.895447</td>\n",
              "      <td>16.904297</td>\n",
              "      <td>2.143149</td>\n",
              "      <td>127.092003</td>\n",
              "      <td>...</td>\n",
              "      <td>14.016835</td>\n",
              "      <td>-502.488007</td>\n",
              "      <td>12.099931</td>\n",
              "      <td>-504.715942</td>\n",
              "      <td>9.925633</td>\n",
              "      <td>-498.310211</td>\n",
              "      <td>8.079666</td>\n",
              "      <td>-500.470978</td>\n",
              "      <td>14.151341</td>\n",
              "      <td>-605.841980</td>\n",
              "    </tr>\n",
              "    <tr>\n",
              "      <th>2016-01-15 01:00:00</th>\n",
              "      <td>6.029369</td>\n",
              "      <td>9.968944</td>\n",
              "      <td>5.257781</td>\n",
              "      <td>42.701629</td>\n",
              "      <td>69.266198</td>\n",
              "      <td>10.462676</td>\n",
              "      <td>0.927452</td>\n",
              "      <td>16.634514</td>\n",
              "      <td>2.224930</td>\n",
              "      <td>125.629232</td>\n",
              "      <td>...</td>\n",
              "      <td>13.992281</td>\n",
              "      <td>-505.503262</td>\n",
              "      <td>11.950531</td>\n",
              "      <td>-501.331529</td>\n",
              "      <td>10.039245</td>\n",
              "      <td>-500.169983</td>\n",
              "      <td>7.984757</td>\n",
              "      <td>-500.582168</td>\n",
              "      <td>13.998353</td>\n",
              "      <td>-599.787184</td>\n",
              "    </tr>\n",
              "    <tr>\n",
              "      <th>2016-01-15 02:00:00</th>\n",
              "      <td>6.055926</td>\n",
              "      <td>10.213995</td>\n",
              "      <td>5.383759</td>\n",
              "      <td>42.657501</td>\n",
              "      <td>68.116445</td>\n",
              "      <td>10.507046</td>\n",
              "      <td>0.953716</td>\n",
              "      <td>16.208849</td>\n",
              "      <td>2.257889</td>\n",
              "      <td>123.819808</td>\n",
              "      <td>...</td>\n",
              "      <td>14.015015</td>\n",
              "      <td>-502.520901</td>\n",
              "      <td>11.912783</td>\n",
              "      <td>-501.133383</td>\n",
              "      <td>10.070913</td>\n",
              "      <td>-500.129135</td>\n",
              "      <td>8.013877</td>\n",
              "      <td>-500.517572</td>\n",
              "      <td>14.028663</td>\n",
              "      <td>-601.427363</td>\n",
              "    </tr>\n",
              "    <tr>\n",
              "      <th>2016-01-15 03:00:00</th>\n",
              "      <td>6.047977</td>\n",
              "      <td>9.977019</td>\n",
              "      <td>4.858634</td>\n",
              "      <td>42.689819</td>\n",
              "      <td>68.347543</td>\n",
              "      <td>10.422762</td>\n",
              "      <td>0.883763</td>\n",
              "      <td>16.532835</td>\n",
              "      <td>2.146849</td>\n",
              "      <td>122.270188</td>\n",
              "      <td>...</td>\n",
              "      <td>14.036510</td>\n",
              "      <td>-500.857308</td>\n",
              "      <td>11.999550</td>\n",
              "      <td>-501.193686</td>\n",
              "      <td>9.970366</td>\n",
              "      <td>-499.201640</td>\n",
              "      <td>7.977324</td>\n",
              "      <td>-500.255908</td>\n",
              "      <td>14.005551</td>\n",
              "      <td>-599.996129</td>\n",
              "    </tr>\n",
              "    <tr>\n",
              "      <th>2016-01-15 04:00:00</th>\n",
              "      <td>6.148599</td>\n",
              "      <td>10.142511</td>\n",
              "      <td>4.939416</td>\n",
              "      <td>42.774141</td>\n",
              "      <td>66.927016</td>\n",
              "      <td>10.360302</td>\n",
              "      <td>0.792826</td>\n",
              "      <td>16.525686</td>\n",
              "      <td>2.055292</td>\n",
              "      <td>117.988169</td>\n",
              "      <td>...</td>\n",
              "      <td>14.027298</td>\n",
              "      <td>-499.838632</td>\n",
              "      <td>11.953070</td>\n",
              "      <td>-501.053894</td>\n",
              "      <td>9.925709</td>\n",
              "      <td>-501.686727</td>\n",
              "      <td>7.894242</td>\n",
              "      <td>-500.356035</td>\n",
              "      <td>13.996647</td>\n",
              "      <td>-601.496691</td>\n",
              "    </tr>\n",
              "  </tbody>\n",
              "</table>\n",
              "<p>5 rows × 86 columns</p>\n",
              "</div>\n",
              "    <div class=\"colab-df-buttons\">\n",
              "\n",
              "  <div class=\"colab-df-container\">\n",
              "    <button class=\"colab-df-convert\" onclick=\"convertToInteractive('df-e16d1162-6cb4-477a-9f31-74c061343549')\"\n",
              "            title=\"Convert this dataframe to an interactive table.\"\n",
              "            style=\"display:none;\">\n",
              "\n",
              "  <svg xmlns=\"http://www.w3.org/2000/svg\" height=\"24px\" viewBox=\"0 -960 960 960\">\n",
              "    <path d=\"M120-120v-720h720v720H120Zm60-500h600v-160H180v160Zm220 220h160v-160H400v160Zm0 220h160v-160H400v160ZM180-400h160v-160H180v160Zm440 0h160v-160H620v160ZM180-180h160v-160H180v160Zm440 0h160v-160H620v160Z\"/>\n",
              "  </svg>\n",
              "    </button>\n",
              "\n",
              "  <style>\n",
              "    .colab-df-container {\n",
              "      display:flex;\n",
              "      gap: 12px;\n",
              "    }\n",
              "\n",
              "    .colab-df-convert {\n",
              "      background-color: #E8F0FE;\n",
              "      border: none;\n",
              "      border-radius: 50%;\n",
              "      cursor: pointer;\n",
              "      display: none;\n",
              "      fill: #1967D2;\n",
              "      height: 32px;\n",
              "      padding: 0 0 0 0;\n",
              "      width: 32px;\n",
              "    }\n",
              "\n",
              "    .colab-df-convert:hover {\n",
              "      background-color: #E2EBFA;\n",
              "      box-shadow: 0px 1px 2px rgba(60, 64, 67, 0.3), 0px 1px 3px 1px rgba(60, 64, 67, 0.15);\n",
              "      fill: #174EA6;\n",
              "    }\n",
              "\n",
              "    .colab-df-buttons div {\n",
              "      margin-bottom: 4px;\n",
              "    }\n",
              "\n",
              "    [theme=dark] .colab-df-convert {\n",
              "      background-color: #3B4455;\n",
              "      fill: #D2E3FC;\n",
              "    }\n",
              "\n",
              "    [theme=dark] .colab-df-convert:hover {\n",
              "      background-color: #434B5C;\n",
              "      box-shadow: 0px 1px 3px 1px rgba(0, 0, 0, 0.15);\n",
              "      filter: drop-shadow(0px 1px 2px rgba(0, 0, 0, 0.3));\n",
              "      fill: #FFFFFF;\n",
              "    }\n",
              "  </style>\n",
              "\n",
              "    <script>\n",
              "      const buttonEl =\n",
              "        document.querySelector('#df-e16d1162-6cb4-477a-9f31-74c061343549 button.colab-df-convert');\n",
              "      buttonEl.style.display =\n",
              "        google.colab.kernel.accessAllowed ? 'block' : 'none';\n",
              "\n",
              "      async function convertToInteractive(key) {\n",
              "        const element = document.querySelector('#df-e16d1162-6cb4-477a-9f31-74c061343549');\n",
              "        const dataTable =\n",
              "          await google.colab.kernel.invokeFunction('convertToInteractive',\n",
              "                                                    [key], {});\n",
              "        if (!dataTable) return;\n",
              "\n",
              "        const docLinkHtml = 'Like what you see? Visit the ' +\n",
              "          '<a target=\"_blank\" href=https://colab.research.google.com/notebooks/data_table.ipynb>data table notebook</a>'\n",
              "          + ' to learn more about interactive tables.';\n",
              "        element.innerHTML = '';\n",
              "        dataTable['output_type'] = 'display_data';\n",
              "        await google.colab.output.renderOutput(dataTable, element);\n",
              "        const docLink = document.createElement('div');\n",
              "        docLink.innerHTML = docLinkHtml;\n",
              "        element.appendChild(docLink);\n",
              "      }\n",
              "    </script>\n",
              "  </div>\n",
              "\n",
              "\n",
              "<div id=\"df-b5761b4a-6d41-45a2-a56f-619a1764c5a0\">\n",
              "  <button class=\"colab-df-quickchart\" onclick=\"quickchart('df-b5761b4a-6d41-45a2-a56f-619a1764c5a0')\"\n",
              "            title=\"Suggest charts.\"\n",
              "            style=\"display:none;\">\n",
              "\n",
              "<svg xmlns=\"http://www.w3.org/2000/svg\" height=\"24px\"viewBox=\"0 0 24 24\"\n",
              "     width=\"24px\">\n",
              "    <g>\n",
              "        <path d=\"M19 3H5c-1.1 0-2 .9-2 2v14c0 1.1.9 2 2 2h14c1.1 0 2-.9 2-2V5c0-1.1-.9-2-2-2zM9 17H7v-7h2v7zm4 0h-2V7h2v10zm4 0h-2v-4h2v4z\"/>\n",
              "    </g>\n",
              "</svg>\n",
              "  </button>\n",
              "\n",
              "<style>\n",
              "  .colab-df-quickchart {\n",
              "      --bg-color: #E8F0FE;\n",
              "      --fill-color: #1967D2;\n",
              "      --hover-bg-color: #E2EBFA;\n",
              "      --hover-fill-color: #174EA6;\n",
              "      --disabled-fill-color: #AAA;\n",
              "      --disabled-bg-color: #DDD;\n",
              "  }\n",
              "\n",
              "  [theme=dark] .colab-df-quickchart {\n",
              "      --bg-color: #3B4455;\n",
              "      --fill-color: #D2E3FC;\n",
              "      --hover-bg-color: #434B5C;\n",
              "      --hover-fill-color: #FFFFFF;\n",
              "      --disabled-bg-color: #3B4455;\n",
              "      --disabled-fill-color: #666;\n",
              "  }\n",
              "\n",
              "  .colab-df-quickchart {\n",
              "    background-color: var(--bg-color);\n",
              "    border: none;\n",
              "    border-radius: 50%;\n",
              "    cursor: pointer;\n",
              "    display: none;\n",
              "    fill: var(--fill-color);\n",
              "    height: 32px;\n",
              "    padding: 0;\n",
              "    width: 32px;\n",
              "  }\n",
              "\n",
              "  .colab-df-quickchart:hover {\n",
              "    background-color: var(--hover-bg-color);\n",
              "    box-shadow: 0 1px 2px rgba(60, 64, 67, 0.3), 0 1px 3px 1px rgba(60, 64, 67, 0.15);\n",
              "    fill: var(--button-hover-fill-color);\n",
              "  }\n",
              "\n",
              "  .colab-df-quickchart-complete:disabled,\n",
              "  .colab-df-quickchart-complete:disabled:hover {\n",
              "    background-color: var(--disabled-bg-color);\n",
              "    fill: var(--disabled-fill-color);\n",
              "    box-shadow: none;\n",
              "  }\n",
              "\n",
              "  .colab-df-spinner {\n",
              "    border: 2px solid var(--fill-color);\n",
              "    border-color: transparent;\n",
              "    border-bottom-color: var(--fill-color);\n",
              "    animation:\n",
              "      spin 1s steps(1) infinite;\n",
              "  }\n",
              "\n",
              "  @keyframes spin {\n",
              "    0% {\n",
              "      border-color: transparent;\n",
              "      border-bottom-color: var(--fill-color);\n",
              "      border-left-color: var(--fill-color);\n",
              "    }\n",
              "    20% {\n",
              "      border-color: transparent;\n",
              "      border-left-color: var(--fill-color);\n",
              "      border-top-color: var(--fill-color);\n",
              "    }\n",
              "    30% {\n",
              "      border-color: transparent;\n",
              "      border-left-color: var(--fill-color);\n",
              "      border-top-color: var(--fill-color);\n",
              "      border-right-color: var(--fill-color);\n",
              "    }\n",
              "    40% {\n",
              "      border-color: transparent;\n",
              "      border-right-color: var(--fill-color);\n",
              "      border-top-color: var(--fill-color);\n",
              "    }\n",
              "    60% {\n",
              "      border-color: transparent;\n",
              "      border-right-color: var(--fill-color);\n",
              "    }\n",
              "    80% {\n",
              "      border-color: transparent;\n",
              "      border-right-color: var(--fill-color);\n",
              "      border-bottom-color: var(--fill-color);\n",
              "    }\n",
              "    90% {\n",
              "      border-color: transparent;\n",
              "      border-bottom-color: var(--fill-color);\n",
              "    }\n",
              "  }\n",
              "</style>\n",
              "\n",
              "  <script>\n",
              "    async function quickchart(key) {\n",
              "      const quickchartButtonEl =\n",
              "        document.querySelector('#' + key + ' button');\n",
              "      quickchartButtonEl.disabled = true;  // To prevent multiple clicks.\n",
              "      quickchartButtonEl.classList.add('colab-df-spinner');\n",
              "      try {\n",
              "        const charts = await google.colab.kernel.invokeFunction(\n",
              "            'suggestCharts', [key], {});\n",
              "      } catch (error) {\n",
              "        console.error('Error during call to suggestCharts:', error);\n",
              "      }\n",
              "      quickchartButtonEl.classList.remove('colab-df-spinner');\n",
              "      quickchartButtonEl.classList.add('colab-df-quickchart-complete');\n",
              "    }\n",
              "    (() => {\n",
              "      let quickchartButtonEl =\n",
              "        document.querySelector('#df-b5761b4a-6d41-45a2-a56f-619a1764c5a0 button');\n",
              "      quickchartButtonEl.style.display =\n",
              "        google.colab.kernel.accessAllowed ? 'block' : 'none';\n",
              "    })();\n",
              "  </script>\n",
              "</div>\n",
              "    </div>\n",
              "  </div>\n"
            ]
          },
          "metadata": {},
          "execution_count": 3
        }
      ],
      "source": [
        "data_train.head()"
      ]
    },
    {
      "cell_type": "code",
      "execution_count": 4,
      "metadata": {
        "colab": {
          "base_uri": "https://localhost:8080/"
        },
        "id": "6m8uVDG7-VW7",
        "outputId": "d3238552-88e6-42ba-9ed5-2d4928aa36ba"
      },
      "outputs": [
        {
          "output_type": "stream",
          "name": "stdout",
          "text": [
            "<class 'pandas.core.frame.DataFrame'>\n",
            "Index: 14149 entries, 2016-01-15 00:00:00 to 2018-08-18 10:59:59\n",
            "Data columns (total 86 columns):\n",
            " #   Column                                              Non-Null Count  Dtype  \n",
            "---  ------                                              --------------  -----  \n",
            " 0   final.output.concentrate_ag                         14148 non-null  float64\n",
            " 1   final.output.concentrate_pb                         14148 non-null  float64\n",
            " 2   final.output.concentrate_sol                        13938 non-null  float64\n",
            " 3   final.output.concentrate_au                         14149 non-null  float64\n",
            " 4   final.output.recovery                               14149 non-null  float64\n",
            " 5   final.output.tail_ag                                14149 non-null  float64\n",
            " 6   final.output.tail_pb                                14049 non-null  float64\n",
            " 7   final.output.tail_sol                               14144 non-null  float64\n",
            " 8   final.output.tail_au                                14149 non-null  float64\n",
            " 9   primary_cleaner.input.sulfate                       14129 non-null  float64\n",
            " 10  primary_cleaner.input.depressant                    14117 non-null  float64\n",
            " 11  primary_cleaner.input.feed_size                     14149 non-null  float64\n",
            " 12  primary_cleaner.input.xanthate                      14049 non-null  float64\n",
            " 13  primary_cleaner.output.concentrate_ag               14149 non-null  float64\n",
            " 14  primary_cleaner.output.concentrate_pb               14063 non-null  float64\n",
            " 15  primary_cleaner.output.concentrate_sol              13863 non-null  float64\n",
            " 16  primary_cleaner.output.concentrate_au               14149 non-null  float64\n",
            " 17  primary_cleaner.output.tail_ag                      14148 non-null  float64\n",
            " 18  primary_cleaner.output.tail_pb                      14134 non-null  float64\n",
            " 19  primary_cleaner.output.tail_sol                     14103 non-null  float64\n",
            " 20  primary_cleaner.output.tail_au                      14149 non-null  float64\n",
            " 21  primary_cleaner.state.floatbank8_a_air              14145 non-null  float64\n",
            " 22  primary_cleaner.state.floatbank8_a_level            14148 non-null  float64\n",
            " 23  primary_cleaner.state.floatbank8_b_air              14145 non-null  float64\n",
            " 24  primary_cleaner.state.floatbank8_b_level            14148 non-null  float64\n",
            " 25  primary_cleaner.state.floatbank8_c_air              14147 non-null  float64\n",
            " 26  primary_cleaner.state.floatbank8_c_level            14148 non-null  float64\n",
            " 27  primary_cleaner.state.floatbank8_d_air              14146 non-null  float64\n",
            " 28  primary_cleaner.state.floatbank8_d_level            14148 non-null  float64\n",
            " 29  rougher.calculation.sulfate_to_au_concentrate       14148 non-null  float64\n",
            " 30  rougher.calculation.floatbank10_sulfate_to_au_feed  14148 non-null  float64\n",
            " 31  rougher.calculation.floatbank11_sulfate_to_au_feed  14148 non-null  float64\n",
            " 32  rougher.calculation.au_pb_ratio                     14149 non-null  float64\n",
            " 33  rougher.input.feed_ag                               14149 non-null  float64\n",
            " 34  rougher.input.feed_pb                               14049 non-null  float64\n",
            " 35  rougher.input.feed_rate                             14141 non-null  float64\n",
            " 36  rougher.input.feed_size                             14005 non-null  float64\n",
            " 37  rougher.input.feed_sol                              14071 non-null  float64\n",
            " 38  rougher.input.feed_au                               14149 non-null  float64\n",
            " 39  rougher.input.floatbank10_sulfate                   14120 non-null  float64\n",
            " 40  rougher.input.floatbank10_xanthate                  14141 non-null  float64\n",
            " 41  rougher.input.floatbank11_sulfate                   14113 non-null  float64\n",
            " 42  rougher.input.floatbank11_xanthate                  13721 non-null  float64\n",
            " 43  rougher.output.concentrate_ag                       14149 non-null  float64\n",
            " 44  rougher.output.concentrate_pb                       14149 non-null  float64\n",
            " 45  rougher.output.concentrate_sol                      14127 non-null  float64\n",
            " 46  rougher.output.concentrate_au                       14149 non-null  float64\n",
            " 47  rougher.output.recovery                             14149 non-null  float64\n",
            " 48  rougher.output.tail_ag                              14148 non-null  float64\n",
            " 49  rougher.output.tail_pb                              14149 non-null  float64\n",
            " 50  rougher.output.tail_sol                             14149 non-null  float64\n",
            " 51  rougher.output.tail_au                              14149 non-null  float64\n",
            " 52  rougher.state.floatbank10_a_air                     14148 non-null  float64\n",
            " 53  rougher.state.floatbank10_a_level                   14148 non-null  float64\n",
            " 54  rougher.state.floatbank10_b_air                     14148 non-null  float64\n",
            " 55  rougher.state.floatbank10_b_level                   14148 non-null  float64\n",
            " 56  rougher.state.floatbank10_c_air                     14148 non-null  float64\n",
            " 57  rougher.state.floatbank10_c_level                   14148 non-null  float64\n",
            " 58  rougher.state.floatbank10_d_air                     14149 non-null  float64\n",
            " 59  rougher.state.floatbank10_d_level                   14149 non-null  float64\n",
            " 60  rougher.state.floatbank10_e_air                     13713 non-null  float64\n",
            " 61  rougher.state.floatbank10_e_level                   14149 non-null  float64\n",
            " 62  rougher.state.floatbank10_f_air                     14149 non-null  float64\n",
            " 63  rougher.state.floatbank10_f_level                   14149 non-null  float64\n",
            " 64  secondary_cleaner.output.tail_ag                    14147 non-null  float64\n",
            " 65  secondary_cleaner.output.tail_pb                    14139 non-null  float64\n",
            " 66  secondary_cleaner.output.tail_sol                   12544 non-null  float64\n",
            " 67  secondary_cleaner.output.tail_au                    14149 non-null  float64\n",
            " 68  secondary_cleaner.state.floatbank2_a_air            13932 non-null  float64\n",
            " 69  secondary_cleaner.state.floatbank2_a_level          14148 non-null  float64\n",
            " 70  secondary_cleaner.state.floatbank2_b_air            14128 non-null  float64\n",
            " 71  secondary_cleaner.state.floatbank2_b_level          14148 non-null  float64\n",
            " 72  secondary_cleaner.state.floatbank3_a_air            14145 non-null  float64\n",
            " 73  secondary_cleaner.state.floatbank3_a_level          14148 non-null  float64\n",
            " 74  secondary_cleaner.state.floatbank3_b_air            14148 non-null  float64\n",
            " 75  secondary_cleaner.state.floatbank3_b_level          14148 non-null  float64\n",
            " 76  secondary_cleaner.state.floatbank4_a_air            14143 non-null  float64\n",
            " 77  secondary_cleaner.state.floatbank4_a_level          14148 non-null  float64\n",
            " 78  secondary_cleaner.state.floatbank4_b_air            14148 non-null  float64\n",
            " 79  secondary_cleaner.state.floatbank4_b_level          14148 non-null  float64\n",
            " 80  secondary_cleaner.state.floatbank5_a_air            14148 non-null  float64\n",
            " 81  secondary_cleaner.state.floatbank5_a_level          14148 non-null  float64\n",
            " 82  secondary_cleaner.state.floatbank5_b_air            14148 non-null  float64\n",
            " 83  secondary_cleaner.state.floatbank5_b_level          14148 non-null  float64\n",
            " 84  secondary_cleaner.state.floatbank6_a_air            14147 non-null  float64\n",
            " 85  secondary_cleaner.state.floatbank6_a_level          14148 non-null  float64\n",
            "dtypes: float64(86)\n",
            "memory usage: 9.4+ MB\n"
          ]
        }
      ],
      "source": [
        "data_train.info()"
      ]
    },
    {
      "cell_type": "code",
      "execution_count": 5,
      "metadata": {
        "colab": {
          "base_uri": "https://localhost:8080/",
          "height": 460
        },
        "id": "Zyc0JcGq-cQ0",
        "outputId": "7167cbd0-490b-471e-de2d-3bb18bd06430"
      },
      "outputs": [
        {
          "output_type": "execute_result",
          "data": {
            "text/plain": [
              "                     primary_cleaner.input.sulfate  \\\n",
              "date                                                 \n",
              "2016-09-01 00:59:59                     210.800909   \n",
              "2016-09-01 01:59:59                     215.392455   \n",
              "2016-09-01 02:59:59                     215.259946   \n",
              "2016-09-01 03:59:59                     215.336236   \n",
              "2016-09-01 04:59:59                     199.099327   \n",
              "\n",
              "                     primary_cleaner.input.depressant  \\\n",
              "date                                                    \n",
              "2016-09-01 00:59:59                         14.993118   \n",
              "2016-09-01 01:59:59                         14.987471   \n",
              "2016-09-01 02:59:59                         12.884934   \n",
              "2016-09-01 03:59:59                         12.006805   \n",
              "2016-09-01 04:59:59                         10.682530   \n",
              "\n",
              "                     primary_cleaner.input.feed_size  \\\n",
              "date                                                   \n",
              "2016-09-01 00:59:59                         8.080000   \n",
              "2016-09-01 01:59:59                         8.080000   \n",
              "2016-09-01 02:59:59                         7.786667   \n",
              "2016-09-01 03:59:59                         7.640000   \n",
              "2016-09-01 04:59:59                         7.530000   \n",
              "\n",
              "                     primary_cleaner.input.xanthate  \\\n",
              "date                                                  \n",
              "2016-09-01 00:59:59                        1.005021   \n",
              "2016-09-01 01:59:59                        0.990469   \n",
              "2016-09-01 02:59:59                        0.996043   \n",
              "2016-09-01 03:59:59                        0.863514   \n",
              "2016-09-01 04:59:59                        0.805575   \n",
              "\n",
              "                     primary_cleaner.state.floatbank8_a_air  \\\n",
              "date                                                          \n",
              "2016-09-01 00:59:59                             1398.981301   \n",
              "2016-09-01 01:59:59                             1398.777912   \n",
              "2016-09-01 02:59:59                             1398.493666   \n",
              "2016-09-01 03:59:59                             1399.618111   \n",
              "2016-09-01 04:59:59                             1401.268123   \n",
              "\n",
              "                     primary_cleaner.state.floatbank8_a_level  \\\n",
              "date                                                            \n",
              "2016-09-01 00:59:59                               -500.225577   \n",
              "2016-09-01 01:59:59                               -500.057435   \n",
              "2016-09-01 02:59:59                               -500.868360   \n",
              "2016-09-01 03:59:59                               -498.863574   \n",
              "2016-09-01 04:59:59                               -500.808305   \n",
              "\n",
              "                     primary_cleaner.state.floatbank8_b_air  \\\n",
              "date                                                          \n",
              "2016-09-01 00:59:59                             1399.144926   \n",
              "2016-09-01 01:59:59                             1398.055362   \n",
              "2016-09-01 02:59:59                             1398.860436   \n",
              "2016-09-01 03:59:59                             1397.440120   \n",
              "2016-09-01 04:59:59                             1398.128818   \n",
              "\n",
              "                     primary_cleaner.state.floatbank8_b_level  \\\n",
              "date                                                            \n",
              "2016-09-01 00:59:59                               -499.919735   \n",
              "2016-09-01 01:59:59                               -499.778182   \n",
              "2016-09-01 02:59:59                               -499.764529   \n",
              "2016-09-01 03:59:59                               -499.211024   \n",
              "2016-09-01 04:59:59                               -499.504543   \n",
              "\n",
              "                     primary_cleaner.state.floatbank8_c_air  \\\n",
              "date                                                          \n",
              "2016-09-01 00:59:59                             1400.102998   \n",
              "2016-09-01 01:59:59                             1396.151033   \n",
              "2016-09-01 02:59:59                             1398.075709   \n",
              "2016-09-01 03:59:59                             1400.129303   \n",
              "2016-09-01 04:59:59                             1402.172226   \n",
              "\n",
              "                     primary_cleaner.state.floatbank8_c_level  ...  \\\n",
              "date                                                           ...   \n",
              "2016-09-01 00:59:59                               -500.704369  ...   \n",
              "2016-09-01 01:59:59                               -499.240168  ...   \n",
              "2016-09-01 02:59:59                               -502.151509  ...   \n",
              "2016-09-01 03:59:59                               -498.355873  ...   \n",
              "2016-09-01 04:59:59                               -500.810606  ...   \n",
              "\n",
              "                     secondary_cleaner.state.floatbank4_a_air  \\\n",
              "date                                                            \n",
              "2016-09-01 00:59:59                                 12.023554   \n",
              "2016-09-01 01:59:59                                 12.058140   \n",
              "2016-09-01 02:59:59                                 11.962366   \n",
              "2016-09-01 03:59:59                                 12.033091   \n",
              "2016-09-01 04:59:59                                 12.025367   \n",
              "\n",
              "                     secondary_cleaner.state.floatbank4_a_level  \\\n",
              "date                                                              \n",
              "2016-09-01 00:59:59                                 -497.795834   \n",
              "2016-09-01 01:59:59                                 -498.695773   \n",
              "2016-09-01 02:59:59                                 -498.767484   \n",
              "2016-09-01 03:59:59                                 -498.350935   \n",
              "2016-09-01 04:59:59                                 -500.786497   \n",
              "\n",
              "                     secondary_cleaner.state.floatbank4_b_air  \\\n",
              "date                                                            \n",
              "2016-09-01 00:59:59                                  8.016656   \n",
              "2016-09-01 01:59:59                                  8.130979   \n",
              "2016-09-01 02:59:59                                  8.096893   \n",
              "2016-09-01 03:59:59                                  8.074946   \n",
              "2016-09-01 04:59:59                                  8.054678   \n",
              "\n",
              "                     secondary_cleaner.state.floatbank4_b_level  \\\n",
              "date                                                              \n",
              "2016-09-01 00:59:59                                 -501.289139   \n",
              "2016-09-01 01:59:59                                 -499.634209   \n",
              "2016-09-01 02:59:59                                 -500.827423   \n",
              "2016-09-01 03:59:59                                 -499.474407   \n",
              "2016-09-01 04:59:59                                 -500.397500   \n",
              "\n",
              "                     secondary_cleaner.state.floatbank5_a_air  \\\n",
              "date                                                            \n",
              "2016-09-01 00:59:59                                  7.946562   \n",
              "2016-09-01 01:59:59                                  7.958270   \n",
              "2016-09-01 02:59:59                                  8.071056   \n",
              "2016-09-01 03:59:59                                  7.897085   \n",
              "2016-09-01 04:59:59                                  8.107890   \n",
              "\n",
              "                     secondary_cleaner.state.floatbank5_a_level  \\\n",
              "date                                                              \n",
              "2016-09-01 00:59:59                                 -432.317850   \n",
              "2016-09-01 01:59:59                                 -525.839648   \n",
              "2016-09-01 02:59:59                                 -500.801673   \n",
              "2016-09-01 03:59:59                                 -500.868509   \n",
              "2016-09-01 04:59:59                                 -509.526725   \n",
              "\n",
              "                     secondary_cleaner.state.floatbank5_b_air  \\\n",
              "date                                                            \n",
              "2016-09-01 00:59:59                                  4.872511   \n",
              "2016-09-01 01:59:59                                  4.878850   \n",
              "2016-09-01 02:59:59                                  4.905125   \n",
              "2016-09-01 03:59:59                                  4.931400   \n",
              "2016-09-01 04:59:59                                  4.957674   \n",
              "\n",
              "                     secondary_cleaner.state.floatbank5_b_level  \\\n",
              "date                                                              \n",
              "2016-09-01 00:59:59                                 -500.037437   \n",
              "2016-09-01 01:59:59                                 -500.162375   \n",
              "2016-09-01 02:59:59                                 -499.828510   \n",
              "2016-09-01 03:59:59                                 -499.963623   \n",
              "2016-09-01 04:59:59                                 -500.360026   \n",
              "\n",
              "                     secondary_cleaner.state.floatbank6_a_air  \\\n",
              "date                                                            \n",
              "2016-09-01 00:59:59                                 26.705889   \n",
              "2016-09-01 01:59:59                                 25.019940   \n",
              "2016-09-01 02:59:59                                 24.994862   \n",
              "2016-09-01 03:59:59                                 24.948919   \n",
              "2016-09-01 04:59:59                                 25.003331   \n",
              "\n",
              "                     secondary_cleaner.state.floatbank6_a_level  \n",
              "date                                                             \n",
              "2016-09-01 00:59:59                                 -499.709414  \n",
              "2016-09-01 01:59:59                                 -499.819438  \n",
              "2016-09-01 02:59:59                                 -500.622559  \n",
              "2016-09-01 03:59:59                                 -498.709987  \n",
              "2016-09-01 04:59:59                                 -500.856333  \n",
              "\n",
              "[5 rows x 52 columns]"
            ],
            "text/html": [
              "\n",
              "  <div id=\"df-610dd2b2-1313-4cea-8fed-9be89117ad54\" class=\"colab-df-container\">\n",
              "    <div>\n",
              "<style scoped>\n",
              "    .dataframe tbody tr th:only-of-type {\n",
              "        vertical-align: middle;\n",
              "    }\n",
              "\n",
              "    .dataframe tbody tr th {\n",
              "        vertical-align: top;\n",
              "    }\n",
              "\n",
              "    .dataframe thead th {\n",
              "        text-align: right;\n",
              "    }\n",
              "</style>\n",
              "<table border=\"1\" class=\"dataframe\">\n",
              "  <thead>\n",
              "    <tr style=\"text-align: right;\">\n",
              "      <th></th>\n",
              "      <th>primary_cleaner.input.sulfate</th>\n",
              "      <th>primary_cleaner.input.depressant</th>\n",
              "      <th>primary_cleaner.input.feed_size</th>\n",
              "      <th>primary_cleaner.input.xanthate</th>\n",
              "      <th>primary_cleaner.state.floatbank8_a_air</th>\n",
              "      <th>primary_cleaner.state.floatbank8_a_level</th>\n",
              "      <th>primary_cleaner.state.floatbank8_b_air</th>\n",
              "      <th>primary_cleaner.state.floatbank8_b_level</th>\n",
              "      <th>primary_cleaner.state.floatbank8_c_air</th>\n",
              "      <th>primary_cleaner.state.floatbank8_c_level</th>\n",
              "      <th>...</th>\n",
              "      <th>secondary_cleaner.state.floatbank4_a_air</th>\n",
              "      <th>secondary_cleaner.state.floatbank4_a_level</th>\n",
              "      <th>secondary_cleaner.state.floatbank4_b_air</th>\n",
              "      <th>secondary_cleaner.state.floatbank4_b_level</th>\n",
              "      <th>secondary_cleaner.state.floatbank5_a_air</th>\n",
              "      <th>secondary_cleaner.state.floatbank5_a_level</th>\n",
              "      <th>secondary_cleaner.state.floatbank5_b_air</th>\n",
              "      <th>secondary_cleaner.state.floatbank5_b_level</th>\n",
              "      <th>secondary_cleaner.state.floatbank6_a_air</th>\n",
              "      <th>secondary_cleaner.state.floatbank6_a_level</th>\n",
              "    </tr>\n",
              "    <tr>\n",
              "      <th>date</th>\n",
              "      <th></th>\n",
              "      <th></th>\n",
              "      <th></th>\n",
              "      <th></th>\n",
              "      <th></th>\n",
              "      <th></th>\n",
              "      <th></th>\n",
              "      <th></th>\n",
              "      <th></th>\n",
              "      <th></th>\n",
              "      <th></th>\n",
              "      <th></th>\n",
              "      <th></th>\n",
              "      <th></th>\n",
              "      <th></th>\n",
              "      <th></th>\n",
              "      <th></th>\n",
              "      <th></th>\n",
              "      <th></th>\n",
              "      <th></th>\n",
              "      <th></th>\n",
              "    </tr>\n",
              "  </thead>\n",
              "  <tbody>\n",
              "    <tr>\n",
              "      <th>2016-09-01 00:59:59</th>\n",
              "      <td>210.800909</td>\n",
              "      <td>14.993118</td>\n",
              "      <td>8.080000</td>\n",
              "      <td>1.005021</td>\n",
              "      <td>1398.981301</td>\n",
              "      <td>-500.225577</td>\n",
              "      <td>1399.144926</td>\n",
              "      <td>-499.919735</td>\n",
              "      <td>1400.102998</td>\n",
              "      <td>-500.704369</td>\n",
              "      <td>...</td>\n",
              "      <td>12.023554</td>\n",
              "      <td>-497.795834</td>\n",
              "      <td>8.016656</td>\n",
              "      <td>-501.289139</td>\n",
              "      <td>7.946562</td>\n",
              "      <td>-432.317850</td>\n",
              "      <td>4.872511</td>\n",
              "      <td>-500.037437</td>\n",
              "      <td>26.705889</td>\n",
              "      <td>-499.709414</td>\n",
              "    </tr>\n",
              "    <tr>\n",
              "      <th>2016-09-01 01:59:59</th>\n",
              "      <td>215.392455</td>\n",
              "      <td>14.987471</td>\n",
              "      <td>8.080000</td>\n",
              "      <td>0.990469</td>\n",
              "      <td>1398.777912</td>\n",
              "      <td>-500.057435</td>\n",
              "      <td>1398.055362</td>\n",
              "      <td>-499.778182</td>\n",
              "      <td>1396.151033</td>\n",
              "      <td>-499.240168</td>\n",
              "      <td>...</td>\n",
              "      <td>12.058140</td>\n",
              "      <td>-498.695773</td>\n",
              "      <td>8.130979</td>\n",
              "      <td>-499.634209</td>\n",
              "      <td>7.958270</td>\n",
              "      <td>-525.839648</td>\n",
              "      <td>4.878850</td>\n",
              "      <td>-500.162375</td>\n",
              "      <td>25.019940</td>\n",
              "      <td>-499.819438</td>\n",
              "    </tr>\n",
              "    <tr>\n",
              "      <th>2016-09-01 02:59:59</th>\n",
              "      <td>215.259946</td>\n",
              "      <td>12.884934</td>\n",
              "      <td>7.786667</td>\n",
              "      <td>0.996043</td>\n",
              "      <td>1398.493666</td>\n",
              "      <td>-500.868360</td>\n",
              "      <td>1398.860436</td>\n",
              "      <td>-499.764529</td>\n",
              "      <td>1398.075709</td>\n",
              "      <td>-502.151509</td>\n",
              "      <td>...</td>\n",
              "      <td>11.962366</td>\n",
              "      <td>-498.767484</td>\n",
              "      <td>8.096893</td>\n",
              "      <td>-500.827423</td>\n",
              "      <td>8.071056</td>\n",
              "      <td>-500.801673</td>\n",
              "      <td>4.905125</td>\n",
              "      <td>-499.828510</td>\n",
              "      <td>24.994862</td>\n",
              "      <td>-500.622559</td>\n",
              "    </tr>\n",
              "    <tr>\n",
              "      <th>2016-09-01 03:59:59</th>\n",
              "      <td>215.336236</td>\n",
              "      <td>12.006805</td>\n",
              "      <td>7.640000</td>\n",
              "      <td>0.863514</td>\n",
              "      <td>1399.618111</td>\n",
              "      <td>-498.863574</td>\n",
              "      <td>1397.440120</td>\n",
              "      <td>-499.211024</td>\n",
              "      <td>1400.129303</td>\n",
              "      <td>-498.355873</td>\n",
              "      <td>...</td>\n",
              "      <td>12.033091</td>\n",
              "      <td>-498.350935</td>\n",
              "      <td>8.074946</td>\n",
              "      <td>-499.474407</td>\n",
              "      <td>7.897085</td>\n",
              "      <td>-500.868509</td>\n",
              "      <td>4.931400</td>\n",
              "      <td>-499.963623</td>\n",
              "      <td>24.948919</td>\n",
              "      <td>-498.709987</td>\n",
              "    </tr>\n",
              "    <tr>\n",
              "      <th>2016-09-01 04:59:59</th>\n",
              "      <td>199.099327</td>\n",
              "      <td>10.682530</td>\n",
              "      <td>7.530000</td>\n",
              "      <td>0.805575</td>\n",
              "      <td>1401.268123</td>\n",
              "      <td>-500.808305</td>\n",
              "      <td>1398.128818</td>\n",
              "      <td>-499.504543</td>\n",
              "      <td>1402.172226</td>\n",
              "      <td>-500.810606</td>\n",
              "      <td>...</td>\n",
              "      <td>12.025367</td>\n",
              "      <td>-500.786497</td>\n",
              "      <td>8.054678</td>\n",
              "      <td>-500.397500</td>\n",
              "      <td>8.107890</td>\n",
              "      <td>-509.526725</td>\n",
              "      <td>4.957674</td>\n",
              "      <td>-500.360026</td>\n",
              "      <td>25.003331</td>\n",
              "      <td>-500.856333</td>\n",
              "    </tr>\n",
              "  </tbody>\n",
              "</table>\n",
              "<p>5 rows × 52 columns</p>\n",
              "</div>\n",
              "    <div class=\"colab-df-buttons\">\n",
              "\n",
              "  <div class=\"colab-df-container\">\n",
              "    <button class=\"colab-df-convert\" onclick=\"convertToInteractive('df-610dd2b2-1313-4cea-8fed-9be89117ad54')\"\n",
              "            title=\"Convert this dataframe to an interactive table.\"\n",
              "            style=\"display:none;\">\n",
              "\n",
              "  <svg xmlns=\"http://www.w3.org/2000/svg\" height=\"24px\" viewBox=\"0 -960 960 960\">\n",
              "    <path d=\"M120-120v-720h720v720H120Zm60-500h600v-160H180v160Zm220 220h160v-160H400v160Zm0 220h160v-160H400v160ZM180-400h160v-160H180v160Zm440 0h160v-160H620v160ZM180-180h160v-160H180v160Zm440 0h160v-160H620v160Z\"/>\n",
              "  </svg>\n",
              "    </button>\n",
              "\n",
              "  <style>\n",
              "    .colab-df-container {\n",
              "      display:flex;\n",
              "      gap: 12px;\n",
              "    }\n",
              "\n",
              "    .colab-df-convert {\n",
              "      background-color: #E8F0FE;\n",
              "      border: none;\n",
              "      border-radius: 50%;\n",
              "      cursor: pointer;\n",
              "      display: none;\n",
              "      fill: #1967D2;\n",
              "      height: 32px;\n",
              "      padding: 0 0 0 0;\n",
              "      width: 32px;\n",
              "    }\n",
              "\n",
              "    .colab-df-convert:hover {\n",
              "      background-color: #E2EBFA;\n",
              "      box-shadow: 0px 1px 2px rgba(60, 64, 67, 0.3), 0px 1px 3px 1px rgba(60, 64, 67, 0.15);\n",
              "      fill: #174EA6;\n",
              "    }\n",
              "\n",
              "    .colab-df-buttons div {\n",
              "      margin-bottom: 4px;\n",
              "    }\n",
              "\n",
              "    [theme=dark] .colab-df-convert {\n",
              "      background-color: #3B4455;\n",
              "      fill: #D2E3FC;\n",
              "    }\n",
              "\n",
              "    [theme=dark] .colab-df-convert:hover {\n",
              "      background-color: #434B5C;\n",
              "      box-shadow: 0px 1px 3px 1px rgba(0, 0, 0, 0.15);\n",
              "      filter: drop-shadow(0px 1px 2px rgba(0, 0, 0, 0.3));\n",
              "      fill: #FFFFFF;\n",
              "    }\n",
              "  </style>\n",
              "\n",
              "    <script>\n",
              "      const buttonEl =\n",
              "        document.querySelector('#df-610dd2b2-1313-4cea-8fed-9be89117ad54 button.colab-df-convert');\n",
              "      buttonEl.style.display =\n",
              "        google.colab.kernel.accessAllowed ? 'block' : 'none';\n",
              "\n",
              "      async function convertToInteractive(key) {\n",
              "        const element = document.querySelector('#df-610dd2b2-1313-4cea-8fed-9be89117ad54');\n",
              "        const dataTable =\n",
              "          await google.colab.kernel.invokeFunction('convertToInteractive',\n",
              "                                                    [key], {});\n",
              "        if (!dataTable) return;\n",
              "\n",
              "        const docLinkHtml = 'Like what you see? Visit the ' +\n",
              "          '<a target=\"_blank\" href=https://colab.research.google.com/notebooks/data_table.ipynb>data table notebook</a>'\n",
              "          + ' to learn more about interactive tables.';\n",
              "        element.innerHTML = '';\n",
              "        dataTable['output_type'] = 'display_data';\n",
              "        await google.colab.output.renderOutput(dataTable, element);\n",
              "        const docLink = document.createElement('div');\n",
              "        docLink.innerHTML = docLinkHtml;\n",
              "        element.appendChild(docLink);\n",
              "      }\n",
              "    </script>\n",
              "  </div>\n",
              "\n",
              "\n",
              "<div id=\"df-2ba564d2-e60f-4430-93d5-97678ff863b8\">\n",
              "  <button class=\"colab-df-quickchart\" onclick=\"quickchart('df-2ba564d2-e60f-4430-93d5-97678ff863b8')\"\n",
              "            title=\"Suggest charts.\"\n",
              "            style=\"display:none;\">\n",
              "\n",
              "<svg xmlns=\"http://www.w3.org/2000/svg\" height=\"24px\"viewBox=\"0 0 24 24\"\n",
              "     width=\"24px\">\n",
              "    <g>\n",
              "        <path d=\"M19 3H5c-1.1 0-2 .9-2 2v14c0 1.1.9 2 2 2h14c1.1 0 2-.9 2-2V5c0-1.1-.9-2-2-2zM9 17H7v-7h2v7zm4 0h-2V7h2v10zm4 0h-2v-4h2v4z\"/>\n",
              "    </g>\n",
              "</svg>\n",
              "  </button>\n",
              "\n",
              "<style>\n",
              "  .colab-df-quickchart {\n",
              "      --bg-color: #E8F0FE;\n",
              "      --fill-color: #1967D2;\n",
              "      --hover-bg-color: #E2EBFA;\n",
              "      --hover-fill-color: #174EA6;\n",
              "      --disabled-fill-color: #AAA;\n",
              "      --disabled-bg-color: #DDD;\n",
              "  }\n",
              "\n",
              "  [theme=dark] .colab-df-quickchart {\n",
              "      --bg-color: #3B4455;\n",
              "      --fill-color: #D2E3FC;\n",
              "      --hover-bg-color: #434B5C;\n",
              "      --hover-fill-color: #FFFFFF;\n",
              "      --disabled-bg-color: #3B4455;\n",
              "      --disabled-fill-color: #666;\n",
              "  }\n",
              "\n",
              "  .colab-df-quickchart {\n",
              "    background-color: var(--bg-color);\n",
              "    border: none;\n",
              "    border-radius: 50%;\n",
              "    cursor: pointer;\n",
              "    display: none;\n",
              "    fill: var(--fill-color);\n",
              "    height: 32px;\n",
              "    padding: 0;\n",
              "    width: 32px;\n",
              "  }\n",
              "\n",
              "  .colab-df-quickchart:hover {\n",
              "    background-color: var(--hover-bg-color);\n",
              "    box-shadow: 0 1px 2px rgba(60, 64, 67, 0.3), 0 1px 3px 1px rgba(60, 64, 67, 0.15);\n",
              "    fill: var(--button-hover-fill-color);\n",
              "  }\n",
              "\n",
              "  .colab-df-quickchart-complete:disabled,\n",
              "  .colab-df-quickchart-complete:disabled:hover {\n",
              "    background-color: var(--disabled-bg-color);\n",
              "    fill: var(--disabled-fill-color);\n",
              "    box-shadow: none;\n",
              "  }\n",
              "\n",
              "  .colab-df-spinner {\n",
              "    border: 2px solid var(--fill-color);\n",
              "    border-color: transparent;\n",
              "    border-bottom-color: var(--fill-color);\n",
              "    animation:\n",
              "      spin 1s steps(1) infinite;\n",
              "  }\n",
              "\n",
              "  @keyframes spin {\n",
              "    0% {\n",
              "      border-color: transparent;\n",
              "      border-bottom-color: var(--fill-color);\n",
              "      border-left-color: var(--fill-color);\n",
              "    }\n",
              "    20% {\n",
              "      border-color: transparent;\n",
              "      border-left-color: var(--fill-color);\n",
              "      border-top-color: var(--fill-color);\n",
              "    }\n",
              "    30% {\n",
              "      border-color: transparent;\n",
              "      border-left-color: var(--fill-color);\n",
              "      border-top-color: var(--fill-color);\n",
              "      border-right-color: var(--fill-color);\n",
              "    }\n",
              "    40% {\n",
              "      border-color: transparent;\n",
              "      border-right-color: var(--fill-color);\n",
              "      border-top-color: var(--fill-color);\n",
              "    }\n",
              "    60% {\n",
              "      border-color: transparent;\n",
              "      border-right-color: var(--fill-color);\n",
              "    }\n",
              "    80% {\n",
              "      border-color: transparent;\n",
              "      border-right-color: var(--fill-color);\n",
              "      border-bottom-color: var(--fill-color);\n",
              "    }\n",
              "    90% {\n",
              "      border-color: transparent;\n",
              "      border-bottom-color: var(--fill-color);\n",
              "    }\n",
              "  }\n",
              "</style>\n",
              "\n",
              "  <script>\n",
              "    async function quickchart(key) {\n",
              "      const quickchartButtonEl =\n",
              "        document.querySelector('#' + key + ' button');\n",
              "      quickchartButtonEl.disabled = true;  // To prevent multiple clicks.\n",
              "      quickchartButtonEl.classList.add('colab-df-spinner');\n",
              "      try {\n",
              "        const charts = await google.colab.kernel.invokeFunction(\n",
              "            'suggestCharts', [key], {});\n",
              "      } catch (error) {\n",
              "        console.error('Error during call to suggestCharts:', error);\n",
              "      }\n",
              "      quickchartButtonEl.classList.remove('colab-df-spinner');\n",
              "      quickchartButtonEl.classList.add('colab-df-quickchart-complete');\n",
              "    }\n",
              "    (() => {\n",
              "      let quickchartButtonEl =\n",
              "        document.querySelector('#df-2ba564d2-e60f-4430-93d5-97678ff863b8 button');\n",
              "      quickchartButtonEl.style.display =\n",
              "        google.colab.kernel.accessAllowed ? 'block' : 'none';\n",
              "    })();\n",
              "  </script>\n",
              "</div>\n",
              "    </div>\n",
              "  </div>\n"
            ]
          },
          "metadata": {},
          "execution_count": 5
        }
      ],
      "source": [
        "data_test.head()"
      ]
    },
    {
      "cell_type": "code",
      "execution_count": 6,
      "metadata": {
        "colab": {
          "base_uri": "https://localhost:8080/"
        },
        "id": "HeF8tB9C-iKE",
        "outputId": "2cbe27a1-5183-4230-f1ec-a1b2558daf6a"
      },
      "outputs": [
        {
          "output_type": "stream",
          "name": "stdout",
          "text": [
            "<class 'pandas.core.frame.DataFrame'>\n",
            "Index: 5290 entries, 2016-09-01 00:59:59 to 2017-12-31 23:59:59\n",
            "Data columns (total 52 columns):\n",
            " #   Column                                      Non-Null Count  Dtype  \n",
            "---  ------                                      --------------  -----  \n",
            " 0   primary_cleaner.input.sulfate               5286 non-null   float64\n",
            " 1   primary_cleaner.input.depressant            5285 non-null   float64\n",
            " 2   primary_cleaner.input.feed_size             5290 non-null   float64\n",
            " 3   primary_cleaner.input.xanthate              5286 non-null   float64\n",
            " 4   primary_cleaner.state.floatbank8_a_air      5290 non-null   float64\n",
            " 5   primary_cleaner.state.floatbank8_a_level    5290 non-null   float64\n",
            " 6   primary_cleaner.state.floatbank8_b_air      5290 non-null   float64\n",
            " 7   primary_cleaner.state.floatbank8_b_level    5290 non-null   float64\n",
            " 8   primary_cleaner.state.floatbank8_c_air      5290 non-null   float64\n",
            " 9   primary_cleaner.state.floatbank8_c_level    5290 non-null   float64\n",
            " 10  primary_cleaner.state.floatbank8_d_air      5290 non-null   float64\n",
            " 11  primary_cleaner.state.floatbank8_d_level    5290 non-null   float64\n",
            " 12  rougher.input.feed_ag                       5290 non-null   float64\n",
            " 13  rougher.input.feed_pb                       5290 non-null   float64\n",
            " 14  rougher.input.feed_rate                     5287 non-null   float64\n",
            " 15  rougher.input.feed_size                     5289 non-null   float64\n",
            " 16  rougher.input.feed_sol                      5269 non-null   float64\n",
            " 17  rougher.input.feed_au                       5290 non-null   float64\n",
            " 18  rougher.input.floatbank10_sulfate           5285 non-null   float64\n",
            " 19  rougher.input.floatbank10_xanthate          5290 non-null   float64\n",
            " 20  rougher.input.floatbank11_sulfate           5282 non-null   float64\n",
            " 21  rougher.input.floatbank11_xanthate          5265 non-null   float64\n",
            " 22  rougher.state.floatbank10_a_air             5290 non-null   float64\n",
            " 23  rougher.state.floatbank10_a_level           5290 non-null   float64\n",
            " 24  rougher.state.floatbank10_b_air             5290 non-null   float64\n",
            " 25  rougher.state.floatbank10_b_level           5290 non-null   float64\n",
            " 26  rougher.state.floatbank10_c_air             5290 non-null   float64\n",
            " 27  rougher.state.floatbank10_c_level           5290 non-null   float64\n",
            " 28  rougher.state.floatbank10_d_air             5290 non-null   float64\n",
            " 29  rougher.state.floatbank10_d_level           5290 non-null   float64\n",
            " 30  rougher.state.floatbank10_e_air             5290 non-null   float64\n",
            " 31  rougher.state.floatbank10_e_level           5290 non-null   float64\n",
            " 32  rougher.state.floatbank10_f_air             5290 non-null   float64\n",
            " 33  rougher.state.floatbank10_f_level           5290 non-null   float64\n",
            " 34  secondary_cleaner.state.floatbank2_a_air    5287 non-null   float64\n",
            " 35  secondary_cleaner.state.floatbank2_a_level  5290 non-null   float64\n",
            " 36  secondary_cleaner.state.floatbank2_b_air    5288 non-null   float64\n",
            " 37  secondary_cleaner.state.floatbank2_b_level  5290 non-null   float64\n",
            " 38  secondary_cleaner.state.floatbank3_a_air    5281 non-null   float64\n",
            " 39  secondary_cleaner.state.floatbank3_a_level  5290 non-null   float64\n",
            " 40  secondary_cleaner.state.floatbank3_b_air    5290 non-null   float64\n",
            " 41  secondary_cleaner.state.floatbank3_b_level  5290 non-null   float64\n",
            " 42  secondary_cleaner.state.floatbank4_a_air    5290 non-null   float64\n",
            " 43  secondary_cleaner.state.floatbank4_a_level  5290 non-null   float64\n",
            " 44  secondary_cleaner.state.floatbank4_b_air    5290 non-null   float64\n",
            " 45  secondary_cleaner.state.floatbank4_b_level  5290 non-null   float64\n",
            " 46  secondary_cleaner.state.floatbank5_a_air    5290 non-null   float64\n",
            " 47  secondary_cleaner.state.floatbank5_a_level  5290 non-null   float64\n",
            " 48  secondary_cleaner.state.floatbank5_b_air    5290 non-null   float64\n",
            " 49  secondary_cleaner.state.floatbank5_b_level  5290 non-null   float64\n",
            " 50  secondary_cleaner.state.floatbank6_a_air    5290 non-null   float64\n",
            " 51  secondary_cleaner.state.floatbank6_a_level  5290 non-null   float64\n",
            "dtypes: float64(52)\n",
            "memory usage: 2.1+ MB\n"
          ]
        }
      ],
      "source": [
        "data_test.info()"
      ]
    },
    {
      "cell_type": "code",
      "execution_count": 7,
      "metadata": {
        "colab": {
          "base_uri": "https://localhost:8080/",
          "height": 460
        },
        "id": "bzihT7k1-mFk",
        "outputId": "a68d2b54-5291-4cfc-c204-d3e87f9ee624"
      },
      "outputs": [
        {
          "output_type": "execute_result",
          "data": {
            "text/plain": [
              "                     final.output.concentrate_ag  final.output.concentrate_pb  \\\n",
              "date                                                                            \n",
              "2016-01-15 00:00:00                     6.055403                     9.889648   \n",
              "2016-01-15 01:00:00                     6.029369                     9.968944   \n",
              "2016-01-15 02:00:00                     6.055926                    10.213995   \n",
              "2016-01-15 03:00:00                     6.047977                     9.977019   \n",
              "2016-01-15 04:00:00                     6.148599                    10.142511   \n",
              "\n",
              "                     final.output.concentrate_sol  \\\n",
              "date                                                \n",
              "2016-01-15 00:00:00                      5.507324   \n",
              "2016-01-15 01:00:00                      5.257781   \n",
              "2016-01-15 02:00:00                      5.383759   \n",
              "2016-01-15 03:00:00                      4.858634   \n",
              "2016-01-15 04:00:00                      4.939416   \n",
              "\n",
              "                     final.output.concentrate_au  final.output.recovery  \\\n",
              "date                                                                      \n",
              "2016-01-15 00:00:00                    42.192020              70.541216   \n",
              "2016-01-15 01:00:00                    42.701629              69.266198   \n",
              "2016-01-15 02:00:00                    42.657501              68.116445   \n",
              "2016-01-15 03:00:00                    42.689819              68.347543   \n",
              "2016-01-15 04:00:00                    42.774141              66.927016   \n",
              "\n",
              "                     final.output.tail_ag  final.output.tail_pb  \\\n",
              "date                                                              \n",
              "2016-01-15 00:00:00             10.411962              0.895447   \n",
              "2016-01-15 01:00:00             10.462676              0.927452   \n",
              "2016-01-15 02:00:00             10.507046              0.953716   \n",
              "2016-01-15 03:00:00             10.422762              0.883763   \n",
              "2016-01-15 04:00:00             10.360302              0.792826   \n",
              "\n",
              "                     final.output.tail_sol  final.output.tail_au  \\\n",
              "date                                                               \n",
              "2016-01-15 00:00:00              16.904297              2.143149   \n",
              "2016-01-15 01:00:00              16.634514              2.224930   \n",
              "2016-01-15 02:00:00              16.208849              2.257889   \n",
              "2016-01-15 03:00:00              16.532835              2.146849   \n",
              "2016-01-15 04:00:00              16.525686              2.055292   \n",
              "\n",
              "                     primary_cleaner.input.sulfate  ...  \\\n",
              "date                                                ...   \n",
              "2016-01-15 00:00:00                     127.092003  ...   \n",
              "2016-01-15 01:00:00                     125.629232  ...   \n",
              "2016-01-15 02:00:00                     123.819808  ...   \n",
              "2016-01-15 03:00:00                     122.270188  ...   \n",
              "2016-01-15 04:00:00                     117.988169  ...   \n",
              "\n",
              "                     secondary_cleaner.state.floatbank4_a_air  \\\n",
              "date                                                            \n",
              "2016-01-15 00:00:00                                 14.016835   \n",
              "2016-01-15 01:00:00                                 13.992281   \n",
              "2016-01-15 02:00:00                                 14.015015   \n",
              "2016-01-15 03:00:00                                 14.036510   \n",
              "2016-01-15 04:00:00                                 14.027298   \n",
              "\n",
              "                     secondary_cleaner.state.floatbank4_a_level  \\\n",
              "date                                                              \n",
              "2016-01-15 00:00:00                                 -502.488007   \n",
              "2016-01-15 01:00:00                                 -505.503262   \n",
              "2016-01-15 02:00:00                                 -502.520901   \n",
              "2016-01-15 03:00:00                                 -500.857308   \n",
              "2016-01-15 04:00:00                                 -499.838632   \n",
              "\n",
              "                     secondary_cleaner.state.floatbank4_b_air  \\\n",
              "date                                                            \n",
              "2016-01-15 00:00:00                                 12.099931   \n",
              "2016-01-15 01:00:00                                 11.950531   \n",
              "2016-01-15 02:00:00                                 11.912783   \n",
              "2016-01-15 03:00:00                                 11.999550   \n",
              "2016-01-15 04:00:00                                 11.953070   \n",
              "\n",
              "                     secondary_cleaner.state.floatbank4_b_level  \\\n",
              "date                                                              \n",
              "2016-01-15 00:00:00                                 -504.715942   \n",
              "2016-01-15 01:00:00                                 -501.331529   \n",
              "2016-01-15 02:00:00                                 -501.133383   \n",
              "2016-01-15 03:00:00                                 -501.193686   \n",
              "2016-01-15 04:00:00                                 -501.053894   \n",
              "\n",
              "                     secondary_cleaner.state.floatbank5_a_air  \\\n",
              "date                                                            \n",
              "2016-01-15 00:00:00                                  9.925633   \n",
              "2016-01-15 01:00:00                                 10.039245   \n",
              "2016-01-15 02:00:00                                 10.070913   \n",
              "2016-01-15 03:00:00                                  9.970366   \n",
              "2016-01-15 04:00:00                                  9.925709   \n",
              "\n",
              "                     secondary_cleaner.state.floatbank5_a_level  \\\n",
              "date                                                              \n",
              "2016-01-15 00:00:00                                 -498.310211   \n",
              "2016-01-15 01:00:00                                 -500.169983   \n",
              "2016-01-15 02:00:00                                 -500.129135   \n",
              "2016-01-15 03:00:00                                 -499.201640   \n",
              "2016-01-15 04:00:00                                 -501.686727   \n",
              "\n",
              "                     secondary_cleaner.state.floatbank5_b_air  \\\n",
              "date                                                            \n",
              "2016-01-15 00:00:00                                  8.079666   \n",
              "2016-01-15 01:00:00                                  7.984757   \n",
              "2016-01-15 02:00:00                                  8.013877   \n",
              "2016-01-15 03:00:00                                  7.977324   \n",
              "2016-01-15 04:00:00                                  7.894242   \n",
              "\n",
              "                     secondary_cleaner.state.floatbank5_b_level  \\\n",
              "date                                                              \n",
              "2016-01-15 00:00:00                                 -500.470978   \n",
              "2016-01-15 01:00:00                                 -500.582168   \n",
              "2016-01-15 02:00:00                                 -500.517572   \n",
              "2016-01-15 03:00:00                                 -500.255908   \n",
              "2016-01-15 04:00:00                                 -500.356035   \n",
              "\n",
              "                     secondary_cleaner.state.floatbank6_a_air  \\\n",
              "date                                                            \n",
              "2016-01-15 00:00:00                                 14.151341   \n",
              "2016-01-15 01:00:00                                 13.998353   \n",
              "2016-01-15 02:00:00                                 14.028663   \n",
              "2016-01-15 03:00:00                                 14.005551   \n",
              "2016-01-15 04:00:00                                 13.996647   \n",
              "\n",
              "                     secondary_cleaner.state.floatbank6_a_level  \n",
              "date                                                             \n",
              "2016-01-15 00:00:00                                 -605.841980  \n",
              "2016-01-15 01:00:00                                 -599.787184  \n",
              "2016-01-15 02:00:00                                 -601.427363  \n",
              "2016-01-15 03:00:00                                 -599.996129  \n",
              "2016-01-15 04:00:00                                 -601.496691  \n",
              "\n",
              "[5 rows x 86 columns]"
            ],
            "text/html": [
              "\n",
              "  <div id=\"df-7115f660-e73d-459d-8887-21b91d0217ea\" class=\"colab-df-container\">\n",
              "    <div>\n",
              "<style scoped>\n",
              "    .dataframe tbody tr th:only-of-type {\n",
              "        vertical-align: middle;\n",
              "    }\n",
              "\n",
              "    .dataframe tbody tr th {\n",
              "        vertical-align: top;\n",
              "    }\n",
              "\n",
              "    .dataframe thead th {\n",
              "        text-align: right;\n",
              "    }\n",
              "</style>\n",
              "<table border=\"1\" class=\"dataframe\">\n",
              "  <thead>\n",
              "    <tr style=\"text-align: right;\">\n",
              "      <th></th>\n",
              "      <th>final.output.concentrate_ag</th>\n",
              "      <th>final.output.concentrate_pb</th>\n",
              "      <th>final.output.concentrate_sol</th>\n",
              "      <th>final.output.concentrate_au</th>\n",
              "      <th>final.output.recovery</th>\n",
              "      <th>final.output.tail_ag</th>\n",
              "      <th>final.output.tail_pb</th>\n",
              "      <th>final.output.tail_sol</th>\n",
              "      <th>final.output.tail_au</th>\n",
              "      <th>primary_cleaner.input.sulfate</th>\n",
              "      <th>...</th>\n",
              "      <th>secondary_cleaner.state.floatbank4_a_air</th>\n",
              "      <th>secondary_cleaner.state.floatbank4_a_level</th>\n",
              "      <th>secondary_cleaner.state.floatbank4_b_air</th>\n",
              "      <th>secondary_cleaner.state.floatbank4_b_level</th>\n",
              "      <th>secondary_cleaner.state.floatbank5_a_air</th>\n",
              "      <th>secondary_cleaner.state.floatbank5_a_level</th>\n",
              "      <th>secondary_cleaner.state.floatbank5_b_air</th>\n",
              "      <th>secondary_cleaner.state.floatbank5_b_level</th>\n",
              "      <th>secondary_cleaner.state.floatbank6_a_air</th>\n",
              "      <th>secondary_cleaner.state.floatbank6_a_level</th>\n",
              "    </tr>\n",
              "    <tr>\n",
              "      <th>date</th>\n",
              "      <th></th>\n",
              "      <th></th>\n",
              "      <th></th>\n",
              "      <th></th>\n",
              "      <th></th>\n",
              "      <th></th>\n",
              "      <th></th>\n",
              "      <th></th>\n",
              "      <th></th>\n",
              "      <th></th>\n",
              "      <th></th>\n",
              "      <th></th>\n",
              "      <th></th>\n",
              "      <th></th>\n",
              "      <th></th>\n",
              "      <th></th>\n",
              "      <th></th>\n",
              "      <th></th>\n",
              "      <th></th>\n",
              "      <th></th>\n",
              "      <th></th>\n",
              "    </tr>\n",
              "  </thead>\n",
              "  <tbody>\n",
              "    <tr>\n",
              "      <th>2016-01-15 00:00:00</th>\n",
              "      <td>6.055403</td>\n",
              "      <td>9.889648</td>\n",
              "      <td>5.507324</td>\n",
              "      <td>42.192020</td>\n",
              "      <td>70.541216</td>\n",
              "      <td>10.411962</td>\n",
              "      <td>0.895447</td>\n",
              "      <td>16.904297</td>\n",
              "      <td>2.143149</td>\n",
              "      <td>127.092003</td>\n",
              "      <td>...</td>\n",
              "      <td>14.016835</td>\n",
              "      <td>-502.488007</td>\n",
              "      <td>12.099931</td>\n",
              "      <td>-504.715942</td>\n",
              "      <td>9.925633</td>\n",
              "      <td>-498.310211</td>\n",
              "      <td>8.079666</td>\n",
              "      <td>-500.470978</td>\n",
              "      <td>14.151341</td>\n",
              "      <td>-605.841980</td>\n",
              "    </tr>\n",
              "    <tr>\n",
              "      <th>2016-01-15 01:00:00</th>\n",
              "      <td>6.029369</td>\n",
              "      <td>9.968944</td>\n",
              "      <td>5.257781</td>\n",
              "      <td>42.701629</td>\n",
              "      <td>69.266198</td>\n",
              "      <td>10.462676</td>\n",
              "      <td>0.927452</td>\n",
              "      <td>16.634514</td>\n",
              "      <td>2.224930</td>\n",
              "      <td>125.629232</td>\n",
              "      <td>...</td>\n",
              "      <td>13.992281</td>\n",
              "      <td>-505.503262</td>\n",
              "      <td>11.950531</td>\n",
              "      <td>-501.331529</td>\n",
              "      <td>10.039245</td>\n",
              "      <td>-500.169983</td>\n",
              "      <td>7.984757</td>\n",
              "      <td>-500.582168</td>\n",
              "      <td>13.998353</td>\n",
              "      <td>-599.787184</td>\n",
              "    </tr>\n",
              "    <tr>\n",
              "      <th>2016-01-15 02:00:00</th>\n",
              "      <td>6.055926</td>\n",
              "      <td>10.213995</td>\n",
              "      <td>5.383759</td>\n",
              "      <td>42.657501</td>\n",
              "      <td>68.116445</td>\n",
              "      <td>10.507046</td>\n",
              "      <td>0.953716</td>\n",
              "      <td>16.208849</td>\n",
              "      <td>2.257889</td>\n",
              "      <td>123.819808</td>\n",
              "      <td>...</td>\n",
              "      <td>14.015015</td>\n",
              "      <td>-502.520901</td>\n",
              "      <td>11.912783</td>\n",
              "      <td>-501.133383</td>\n",
              "      <td>10.070913</td>\n",
              "      <td>-500.129135</td>\n",
              "      <td>8.013877</td>\n",
              "      <td>-500.517572</td>\n",
              "      <td>14.028663</td>\n",
              "      <td>-601.427363</td>\n",
              "    </tr>\n",
              "    <tr>\n",
              "      <th>2016-01-15 03:00:00</th>\n",
              "      <td>6.047977</td>\n",
              "      <td>9.977019</td>\n",
              "      <td>4.858634</td>\n",
              "      <td>42.689819</td>\n",
              "      <td>68.347543</td>\n",
              "      <td>10.422762</td>\n",
              "      <td>0.883763</td>\n",
              "      <td>16.532835</td>\n",
              "      <td>2.146849</td>\n",
              "      <td>122.270188</td>\n",
              "      <td>...</td>\n",
              "      <td>14.036510</td>\n",
              "      <td>-500.857308</td>\n",
              "      <td>11.999550</td>\n",
              "      <td>-501.193686</td>\n",
              "      <td>9.970366</td>\n",
              "      <td>-499.201640</td>\n",
              "      <td>7.977324</td>\n",
              "      <td>-500.255908</td>\n",
              "      <td>14.005551</td>\n",
              "      <td>-599.996129</td>\n",
              "    </tr>\n",
              "    <tr>\n",
              "      <th>2016-01-15 04:00:00</th>\n",
              "      <td>6.148599</td>\n",
              "      <td>10.142511</td>\n",
              "      <td>4.939416</td>\n",
              "      <td>42.774141</td>\n",
              "      <td>66.927016</td>\n",
              "      <td>10.360302</td>\n",
              "      <td>0.792826</td>\n",
              "      <td>16.525686</td>\n",
              "      <td>2.055292</td>\n",
              "      <td>117.988169</td>\n",
              "      <td>...</td>\n",
              "      <td>14.027298</td>\n",
              "      <td>-499.838632</td>\n",
              "      <td>11.953070</td>\n",
              "      <td>-501.053894</td>\n",
              "      <td>9.925709</td>\n",
              "      <td>-501.686727</td>\n",
              "      <td>7.894242</td>\n",
              "      <td>-500.356035</td>\n",
              "      <td>13.996647</td>\n",
              "      <td>-601.496691</td>\n",
              "    </tr>\n",
              "  </tbody>\n",
              "</table>\n",
              "<p>5 rows × 86 columns</p>\n",
              "</div>\n",
              "    <div class=\"colab-df-buttons\">\n",
              "\n",
              "  <div class=\"colab-df-container\">\n",
              "    <button class=\"colab-df-convert\" onclick=\"convertToInteractive('df-7115f660-e73d-459d-8887-21b91d0217ea')\"\n",
              "            title=\"Convert this dataframe to an interactive table.\"\n",
              "            style=\"display:none;\">\n",
              "\n",
              "  <svg xmlns=\"http://www.w3.org/2000/svg\" height=\"24px\" viewBox=\"0 -960 960 960\">\n",
              "    <path d=\"M120-120v-720h720v720H120Zm60-500h600v-160H180v160Zm220 220h160v-160H400v160Zm0 220h160v-160H400v160ZM180-400h160v-160H180v160Zm440 0h160v-160H620v160ZM180-180h160v-160H180v160Zm440 0h160v-160H620v160Z\"/>\n",
              "  </svg>\n",
              "    </button>\n",
              "\n",
              "  <style>\n",
              "    .colab-df-container {\n",
              "      display:flex;\n",
              "      gap: 12px;\n",
              "    }\n",
              "\n",
              "    .colab-df-convert {\n",
              "      background-color: #E8F0FE;\n",
              "      border: none;\n",
              "      border-radius: 50%;\n",
              "      cursor: pointer;\n",
              "      display: none;\n",
              "      fill: #1967D2;\n",
              "      height: 32px;\n",
              "      padding: 0 0 0 0;\n",
              "      width: 32px;\n",
              "    }\n",
              "\n",
              "    .colab-df-convert:hover {\n",
              "      background-color: #E2EBFA;\n",
              "      box-shadow: 0px 1px 2px rgba(60, 64, 67, 0.3), 0px 1px 3px 1px rgba(60, 64, 67, 0.15);\n",
              "      fill: #174EA6;\n",
              "    }\n",
              "\n",
              "    .colab-df-buttons div {\n",
              "      margin-bottom: 4px;\n",
              "    }\n",
              "\n",
              "    [theme=dark] .colab-df-convert {\n",
              "      background-color: #3B4455;\n",
              "      fill: #D2E3FC;\n",
              "    }\n",
              "\n",
              "    [theme=dark] .colab-df-convert:hover {\n",
              "      background-color: #434B5C;\n",
              "      box-shadow: 0px 1px 3px 1px rgba(0, 0, 0, 0.15);\n",
              "      filter: drop-shadow(0px 1px 2px rgba(0, 0, 0, 0.3));\n",
              "      fill: #FFFFFF;\n",
              "    }\n",
              "  </style>\n",
              "\n",
              "    <script>\n",
              "      const buttonEl =\n",
              "        document.querySelector('#df-7115f660-e73d-459d-8887-21b91d0217ea button.colab-df-convert');\n",
              "      buttonEl.style.display =\n",
              "        google.colab.kernel.accessAllowed ? 'block' : 'none';\n",
              "\n",
              "      async function convertToInteractive(key) {\n",
              "        const element = document.querySelector('#df-7115f660-e73d-459d-8887-21b91d0217ea');\n",
              "        const dataTable =\n",
              "          await google.colab.kernel.invokeFunction('convertToInteractive',\n",
              "                                                    [key], {});\n",
              "        if (!dataTable) return;\n",
              "\n",
              "        const docLinkHtml = 'Like what you see? Visit the ' +\n",
              "          '<a target=\"_blank\" href=https://colab.research.google.com/notebooks/data_table.ipynb>data table notebook</a>'\n",
              "          + ' to learn more about interactive tables.';\n",
              "        element.innerHTML = '';\n",
              "        dataTable['output_type'] = 'display_data';\n",
              "        await google.colab.output.renderOutput(dataTable, element);\n",
              "        const docLink = document.createElement('div');\n",
              "        docLink.innerHTML = docLinkHtml;\n",
              "        element.appendChild(docLink);\n",
              "      }\n",
              "    </script>\n",
              "  </div>\n",
              "\n",
              "\n",
              "<div id=\"df-8ede5155-77dd-4969-aa3d-30155e55575b\">\n",
              "  <button class=\"colab-df-quickchart\" onclick=\"quickchart('df-8ede5155-77dd-4969-aa3d-30155e55575b')\"\n",
              "            title=\"Suggest charts.\"\n",
              "            style=\"display:none;\">\n",
              "\n",
              "<svg xmlns=\"http://www.w3.org/2000/svg\" height=\"24px\"viewBox=\"0 0 24 24\"\n",
              "     width=\"24px\">\n",
              "    <g>\n",
              "        <path d=\"M19 3H5c-1.1 0-2 .9-2 2v14c0 1.1.9 2 2 2h14c1.1 0 2-.9 2-2V5c0-1.1-.9-2-2-2zM9 17H7v-7h2v7zm4 0h-2V7h2v10zm4 0h-2v-4h2v4z\"/>\n",
              "    </g>\n",
              "</svg>\n",
              "  </button>\n",
              "\n",
              "<style>\n",
              "  .colab-df-quickchart {\n",
              "      --bg-color: #E8F0FE;\n",
              "      --fill-color: #1967D2;\n",
              "      --hover-bg-color: #E2EBFA;\n",
              "      --hover-fill-color: #174EA6;\n",
              "      --disabled-fill-color: #AAA;\n",
              "      --disabled-bg-color: #DDD;\n",
              "  }\n",
              "\n",
              "  [theme=dark] .colab-df-quickchart {\n",
              "      --bg-color: #3B4455;\n",
              "      --fill-color: #D2E3FC;\n",
              "      --hover-bg-color: #434B5C;\n",
              "      --hover-fill-color: #FFFFFF;\n",
              "      --disabled-bg-color: #3B4455;\n",
              "      --disabled-fill-color: #666;\n",
              "  }\n",
              "\n",
              "  .colab-df-quickchart {\n",
              "    background-color: var(--bg-color);\n",
              "    border: none;\n",
              "    border-radius: 50%;\n",
              "    cursor: pointer;\n",
              "    display: none;\n",
              "    fill: var(--fill-color);\n",
              "    height: 32px;\n",
              "    padding: 0;\n",
              "    width: 32px;\n",
              "  }\n",
              "\n",
              "  .colab-df-quickchart:hover {\n",
              "    background-color: var(--hover-bg-color);\n",
              "    box-shadow: 0 1px 2px rgba(60, 64, 67, 0.3), 0 1px 3px 1px rgba(60, 64, 67, 0.15);\n",
              "    fill: var(--button-hover-fill-color);\n",
              "  }\n",
              "\n",
              "  .colab-df-quickchart-complete:disabled,\n",
              "  .colab-df-quickchart-complete:disabled:hover {\n",
              "    background-color: var(--disabled-bg-color);\n",
              "    fill: var(--disabled-fill-color);\n",
              "    box-shadow: none;\n",
              "  }\n",
              "\n",
              "  .colab-df-spinner {\n",
              "    border: 2px solid var(--fill-color);\n",
              "    border-color: transparent;\n",
              "    border-bottom-color: var(--fill-color);\n",
              "    animation:\n",
              "      spin 1s steps(1) infinite;\n",
              "  }\n",
              "\n",
              "  @keyframes spin {\n",
              "    0% {\n",
              "      border-color: transparent;\n",
              "      border-bottom-color: var(--fill-color);\n",
              "      border-left-color: var(--fill-color);\n",
              "    }\n",
              "    20% {\n",
              "      border-color: transparent;\n",
              "      border-left-color: var(--fill-color);\n",
              "      border-top-color: var(--fill-color);\n",
              "    }\n",
              "    30% {\n",
              "      border-color: transparent;\n",
              "      border-left-color: var(--fill-color);\n",
              "      border-top-color: var(--fill-color);\n",
              "      border-right-color: var(--fill-color);\n",
              "    }\n",
              "    40% {\n",
              "      border-color: transparent;\n",
              "      border-right-color: var(--fill-color);\n",
              "      border-top-color: var(--fill-color);\n",
              "    }\n",
              "    60% {\n",
              "      border-color: transparent;\n",
              "      border-right-color: var(--fill-color);\n",
              "    }\n",
              "    80% {\n",
              "      border-color: transparent;\n",
              "      border-right-color: var(--fill-color);\n",
              "      border-bottom-color: var(--fill-color);\n",
              "    }\n",
              "    90% {\n",
              "      border-color: transparent;\n",
              "      border-bottom-color: var(--fill-color);\n",
              "    }\n",
              "  }\n",
              "</style>\n",
              "\n",
              "  <script>\n",
              "    async function quickchart(key) {\n",
              "      const quickchartButtonEl =\n",
              "        document.querySelector('#' + key + ' button');\n",
              "      quickchartButtonEl.disabled = true;  // To prevent multiple clicks.\n",
              "      quickchartButtonEl.classList.add('colab-df-spinner');\n",
              "      try {\n",
              "        const charts = await google.colab.kernel.invokeFunction(\n",
              "            'suggestCharts', [key], {});\n",
              "      } catch (error) {\n",
              "        console.error('Error during call to suggestCharts:', error);\n",
              "      }\n",
              "      quickchartButtonEl.classList.remove('colab-df-spinner');\n",
              "      quickchartButtonEl.classList.add('colab-df-quickchart-complete');\n",
              "    }\n",
              "    (() => {\n",
              "      let quickchartButtonEl =\n",
              "        document.querySelector('#df-8ede5155-77dd-4969-aa3d-30155e55575b button');\n",
              "      quickchartButtonEl.style.display =\n",
              "        google.colab.kernel.accessAllowed ? 'block' : 'none';\n",
              "    })();\n",
              "  </script>\n",
              "</div>\n",
              "    </div>\n",
              "  </div>\n"
            ]
          },
          "metadata": {},
          "execution_count": 7
        }
      ],
      "source": [
        "data_full.head()"
      ]
    },
    {
      "cell_type": "code",
      "execution_count": 8,
      "metadata": {
        "colab": {
          "base_uri": "https://localhost:8080/"
        },
        "id": "otwFSonW-sO8",
        "outputId": "3ebfe0c5-dd75-45f3-b40f-fc27e33e712a"
      },
      "outputs": [
        {
          "output_type": "stream",
          "name": "stdout",
          "text": [
            "<class 'pandas.core.frame.DataFrame'>\n",
            "Index: 19439 entries, 2016-01-15 00:00:00 to 2018-08-18 10:59:59\n",
            "Data columns (total 86 columns):\n",
            " #   Column                                              Non-Null Count  Dtype  \n",
            "---  ------                                              --------------  -----  \n",
            " 0   final.output.concentrate_ag                         19438 non-null  float64\n",
            " 1   final.output.concentrate_pb                         19438 non-null  float64\n",
            " 2   final.output.concentrate_sol                        19228 non-null  float64\n",
            " 3   final.output.concentrate_au                         19439 non-null  float64\n",
            " 4   final.output.recovery                               19439 non-null  float64\n",
            " 5   final.output.tail_ag                                19438 non-null  float64\n",
            " 6   final.output.tail_pb                                19338 non-null  float64\n",
            " 7   final.output.tail_sol                               19433 non-null  float64\n",
            " 8   final.output.tail_au                                19439 non-null  float64\n",
            " 9   primary_cleaner.input.sulfate                       19415 non-null  float64\n",
            " 10  primary_cleaner.input.depressant                    19402 non-null  float64\n",
            " 11  primary_cleaner.input.feed_size                     19439 non-null  float64\n",
            " 12  primary_cleaner.input.xanthate                      19335 non-null  float64\n",
            " 13  primary_cleaner.output.concentrate_ag               19439 non-null  float64\n",
            " 14  primary_cleaner.output.concentrate_pb               19323 non-null  float64\n",
            " 15  primary_cleaner.output.concentrate_sol              19069 non-null  float64\n",
            " 16  primary_cleaner.output.concentrate_au               19439 non-null  float64\n",
            " 17  primary_cleaner.output.tail_ag                      19435 non-null  float64\n",
            " 18  primary_cleaner.output.tail_pb                      19418 non-null  float64\n",
            " 19  primary_cleaner.output.tail_sol                     19377 non-null  float64\n",
            " 20  primary_cleaner.output.tail_au                      19439 non-null  float64\n",
            " 21  primary_cleaner.state.floatbank8_a_air              19435 non-null  float64\n",
            " 22  primary_cleaner.state.floatbank8_a_level            19438 non-null  float64\n",
            " 23  primary_cleaner.state.floatbank8_b_air              19435 non-null  float64\n",
            " 24  primary_cleaner.state.floatbank8_b_level            19438 non-null  float64\n",
            " 25  primary_cleaner.state.floatbank8_c_air              19437 non-null  float64\n",
            " 26  primary_cleaner.state.floatbank8_c_level            19438 non-null  float64\n",
            " 27  primary_cleaner.state.floatbank8_d_air              19436 non-null  float64\n",
            " 28  primary_cleaner.state.floatbank8_d_level            19438 non-null  float64\n",
            " 29  rougher.calculation.sulfate_to_au_concentrate       19437 non-null  float64\n",
            " 30  rougher.calculation.floatbank10_sulfate_to_au_feed  19437 non-null  float64\n",
            " 31  rougher.calculation.floatbank11_sulfate_to_au_feed  19437 non-null  float64\n",
            " 32  rougher.calculation.au_pb_ratio                     19439 non-null  float64\n",
            " 33  rougher.input.feed_ag                               19439 non-null  float64\n",
            " 34  rougher.input.feed_pb                               19339 non-null  float64\n",
            " 35  rougher.input.feed_rate                             19428 non-null  float64\n",
            " 36  rougher.input.feed_size                             19294 non-null  float64\n",
            " 37  rougher.input.feed_sol                              19340 non-null  float64\n",
            " 38  rougher.input.feed_au                               19439 non-null  float64\n",
            " 39  rougher.input.floatbank10_sulfate                   19405 non-null  float64\n",
            " 40  rougher.input.floatbank10_xanthate                  19431 non-null  float64\n",
            " 41  rougher.input.floatbank11_sulfate                   19395 non-null  float64\n",
            " 42  rougher.input.floatbank11_xanthate                  18986 non-null  float64\n",
            " 43  rougher.output.concentrate_ag                       19439 non-null  float64\n",
            " 44  rougher.output.concentrate_pb                       19439 non-null  float64\n",
            " 45  rougher.output.concentrate_sol                      19416 non-null  float64\n",
            " 46  rougher.output.concentrate_au                       19439 non-null  float64\n",
            " 47  rougher.output.recovery                             19439 non-null  float64\n",
            " 48  rougher.output.tail_ag                              19438 non-null  float64\n",
            " 49  rougher.output.tail_pb                              19439 non-null  float64\n",
            " 50  rougher.output.tail_sol                             19439 non-null  float64\n",
            " 51  rougher.output.tail_au                              19439 non-null  float64\n",
            " 52  rougher.state.floatbank10_a_air                     19438 non-null  float64\n",
            " 53  rougher.state.floatbank10_a_level                   19438 non-null  float64\n",
            " 54  rougher.state.floatbank10_b_air                     19438 non-null  float64\n",
            " 55  rougher.state.floatbank10_b_level                   19438 non-null  float64\n",
            " 56  rougher.state.floatbank10_c_air                     19438 non-null  float64\n",
            " 57  rougher.state.floatbank10_c_level                   19438 non-null  float64\n",
            " 58  rougher.state.floatbank10_d_air                     19439 non-null  float64\n",
            " 59  rougher.state.floatbank10_d_level                   19439 non-null  float64\n",
            " 60  rougher.state.floatbank10_e_air                     19003 non-null  float64\n",
            " 61  rougher.state.floatbank10_e_level                   19439 non-null  float64\n",
            " 62  rougher.state.floatbank10_f_air                     19439 non-null  float64\n",
            " 63  rougher.state.floatbank10_f_level                   19439 non-null  float64\n",
            " 64  secondary_cleaner.output.tail_ag                    19437 non-null  float64\n",
            " 65  secondary_cleaner.output.tail_pb                    19427 non-null  float64\n",
            " 66  secondary_cleaner.output.tail_sol                   17691 non-null  float64\n",
            " 67  secondary_cleaner.output.tail_au                    19439 non-null  float64\n",
            " 68  secondary_cleaner.state.floatbank2_a_air            19219 non-null  float64\n",
            " 69  secondary_cleaner.state.floatbank2_a_level          19438 non-null  float64\n",
            " 70  secondary_cleaner.state.floatbank2_b_air            19416 non-null  float64\n",
            " 71  secondary_cleaner.state.floatbank2_b_level          19438 non-null  float64\n",
            " 72  secondary_cleaner.state.floatbank3_a_air            19426 non-null  float64\n",
            " 73  secondary_cleaner.state.floatbank3_a_level          19438 non-null  float64\n",
            " 74  secondary_cleaner.state.floatbank3_b_air            19438 non-null  float64\n",
            " 75  secondary_cleaner.state.floatbank3_b_level          19438 non-null  float64\n",
            " 76  secondary_cleaner.state.floatbank4_a_air            19433 non-null  float64\n",
            " 77  secondary_cleaner.state.floatbank4_a_level          19438 non-null  float64\n",
            " 78  secondary_cleaner.state.floatbank4_b_air            19438 non-null  float64\n",
            " 79  secondary_cleaner.state.floatbank4_b_level          19438 non-null  float64\n",
            " 80  secondary_cleaner.state.floatbank5_a_air            19438 non-null  float64\n",
            " 81  secondary_cleaner.state.floatbank5_a_level          19438 non-null  float64\n",
            " 82  secondary_cleaner.state.floatbank5_b_air            19438 non-null  float64\n",
            " 83  secondary_cleaner.state.floatbank5_b_level          19438 non-null  float64\n",
            " 84  secondary_cleaner.state.floatbank6_a_air            19437 non-null  float64\n",
            " 85  secondary_cleaner.state.floatbank6_a_level          19438 non-null  float64\n",
            "dtypes: float64(86)\n",
            "memory usage: 12.9+ MB\n"
          ]
        }
      ],
      "source": [
        "data_full.info()"
      ]
    },
    {
      "cell_type": "markdown",
      "metadata": {
        "id": "q2fnl72bv69u"
      },
      "source": [
        "**1.2 Проверка расчета эффективности обогащения**"
      ]
    },
    {
      "cell_type": "code",
      "execution_count": 9,
      "metadata": {
        "id": "HbWqjSIOilpS"
      },
      "outputs": [],
      "source": [
        "# Рассчитаем эффективность обогащения чернового концентрата:\n",
        "\n",
        "data_train['rougher.output.recovery.check'] = ((data_train['rougher.output.concentrate_au'] * \\\n",
        "                                               (data_train['rougher.input.feed_au'] - data_train['rougher.output.tail_au'])) / \\\n",
        "                                               (data_train['rougher.input.feed_au'] * (data_train['rougher.output.concentrate_au'] - \\\n",
        "                                                                         data_train['rougher.output.tail_au']))) * 100"
      ]
    },
    {
      "cell_type": "code",
      "execution_count": 10,
      "metadata": {
        "colab": {
          "base_uri": "https://localhost:8080/"
        },
        "id": "mUSi9P-efonP",
        "outputId": "b8638dc6-ab1d-44e4-9184-2eec9c80f9a3"
      },
      "outputs": [
        {
          "output_type": "stream",
          "name": "stdout",
          "text": [
            "MAE:  9.735e-15\n"
          ]
        }
      ],
      "source": [
        "# Определим среднюю абсолютную ошибку между фактическим значением данных\n",
        "# и расчетным и выведем ее на экран:\n",
        "\n",
        "print(\"MAE: \", round(mean_absolute_error(data_train['rougher.output.recovery.check'], data_train['rougher.output.recovery']), 18))"
      ]
    },
    {
      "cell_type": "markdown",
      "metadata": {
        "id": "YT6_k5DKdsit"
      },
      "source": [
        "**Вывод:** Средняя абсолютная ошибка между фактическим значением данных и расчетным, крайне мала (9,735 x 10 в −15-ой степени). Из этого можно сделать вывод, что эффективность обогащения в данных рассчитана правильно."
      ]
    },
    {
      "cell_type": "markdown",
      "metadata": {
        "id": "rBupRHonV4bh"
      },
      "source": [
        "**1.3 Рассмотрим признаки, которые отсутствуют в тестовой выборке**"
      ]
    },
    {
      "cell_type": "code",
      "execution_count": 11,
      "metadata": {
        "colab": {
          "base_uri": "https://localhost:8080/"
        },
        "id": "VSqKwBA985gU",
        "outputId": "b179c955-dabb-4b88-f18b-1072a835fb4f"
      },
      "outputs": [
        {
          "output_type": "stream",
          "name": "stdout",
          "text": [
            "Index(['final.output.concentrate_ag', 'final.output.concentrate_au',\n",
            "       'final.output.concentrate_pb', 'final.output.concentrate_sol',\n",
            "       'final.output.recovery', 'final.output.tail_ag', 'final.output.tail_au',\n",
            "       'final.output.tail_pb', 'final.output.tail_sol',\n",
            "       'primary_cleaner.output.concentrate_ag',\n",
            "       'primary_cleaner.output.concentrate_au',\n",
            "       'primary_cleaner.output.concentrate_pb',\n",
            "       'primary_cleaner.output.concentrate_sol',\n",
            "       'primary_cleaner.output.tail_ag', 'primary_cleaner.output.tail_au',\n",
            "       'primary_cleaner.output.tail_pb', 'primary_cleaner.output.tail_sol',\n",
            "       'rougher.calculation.au_pb_ratio',\n",
            "       'rougher.calculation.floatbank10_sulfate_to_au_feed',\n",
            "       'rougher.calculation.floatbank11_sulfate_to_au_feed',\n",
            "       'rougher.calculation.sulfate_to_au_concentrate',\n",
            "       'rougher.output.concentrate_ag', 'rougher.output.concentrate_au',\n",
            "       'rougher.output.concentrate_pb', 'rougher.output.concentrate_sol',\n",
            "       'rougher.output.recovery', 'rougher.output.recovery.check',\n",
            "       'rougher.output.tail_ag', 'rougher.output.tail_au',\n",
            "       'rougher.output.tail_pb', 'rougher.output.tail_sol',\n",
            "       'secondary_cleaner.output.tail_ag', 'secondary_cleaner.output.tail_au',\n",
            "       'secondary_cleaner.output.tail_pb',\n",
            "       'secondary_cleaner.output.tail_sol'],\n",
            "      dtype='object')\n"
          ]
        }
      ],
      "source": [
        "print(data_train.columns.difference(data_test.columns))"
      ]
    },
    {
      "cell_type": "markdown",
      "metadata": {
        "id": "Zz6T0-mwfIHE"
      },
      "source": [
        "**Вывод:** В тестовой выборке отсутствуют признаки, относящиеся к финальному концентрату, параметры продукта после первичной очистки, расчетные характеристики флотации и параметры продукта после нее, а также, параметры продукта после вторичной очистки. Их отсутствие можно объяснить тем, что модель должна делать именно прогноз, то есть ей логично получать на вход только признаки на момент начала очистки."
      ]
    },
    {
      "cell_type": "markdown",
      "metadata": {
        "id": "9IkTwFIsvp6g"
      },
      "source": [
        "**1.4 Предобработка данных**"
      ]
    },
    {
      "cell_type": "code",
      "execution_count": 12,
      "metadata": {
        "colab": {
          "base_uri": "https://localhost:8080/"
        },
        "id": "yDOTC4JZaYNY",
        "outputId": "11a72c08-0886-43d6-93d0-90545d6cb617"
      },
      "outputs": [
        {
          "output_type": "execute_result",
          "data": {
            "text/plain": [
              "0"
            ]
          },
          "metadata": {},
          "execution_count": 12
        }
      ],
      "source": [
        "# Проверим датасеты на наличие дубликатов:\n",
        "\n",
        "data_train.duplicated().sum()"
      ]
    },
    {
      "cell_type": "code",
      "execution_count": 13,
      "metadata": {
        "colab": {
          "base_uri": "https://localhost:8080/"
        },
        "id": "MVYl7eGtadUY",
        "outputId": "820104c4-218f-4e7a-8f72-6be260619a8a"
      },
      "outputs": [
        {
          "output_type": "execute_result",
          "data": {
            "text/plain": [
              "0"
            ]
          },
          "metadata": {},
          "execution_count": 13
        }
      ],
      "source": [
        "data_test.duplicated().sum()"
      ]
    },
    {
      "cell_type": "code",
      "execution_count": 14,
      "metadata": {
        "colab": {
          "base_uri": "https://localhost:8080/"
        },
        "id": "tP_pRMd_APQc",
        "outputId": "ba977f3c-ea92-4d5b-d5e7-b6c8d42d9f30"
      },
      "outputs": [
        {
          "output_type": "execute_result",
          "data": {
            "text/plain": [
              "0"
            ]
          },
          "metadata": {},
          "execution_count": 14
        }
      ],
      "source": [
        "data_full.duplicated().sum()"
      ]
    },
    {
      "cell_type": "code",
      "execution_count": 15,
      "metadata": {
        "id": "uxhYfXHdamMZ"
      },
      "outputs": [],
      "source": [
        "# Заменим все пропущенные значения в датасетах медианными:\n",
        "\n",
        "for i in data_train:\n",
        "    data_train[i] = data_train[i].fillna(data_train[i].median())"
      ]
    },
    {
      "cell_type": "code",
      "execution_count": 16,
      "metadata": {
        "id": "f7TCdSRganfg"
      },
      "outputs": [],
      "source": [
        "for i in data_test:\n",
        "    data_test[i] = data_test[i].fillna(data_test[i].median())"
      ]
    },
    {
      "cell_type": "code",
      "execution_count": 17,
      "metadata": {
        "id": "gt3tnyNqHnPf"
      },
      "outputs": [],
      "source": [
        "for i in data_full:\n",
        "    data_full[i] = data_full[i].fillna(data_full[i].median())"
      ]
    },
    {
      "cell_type": "code",
      "execution_count": 18,
      "metadata": {
        "id": "2nLsil2pZKCz"
      },
      "outputs": [],
      "source": [
        "# Создадим вспомогательный датасет data_full_1, в котором оставим только\n",
        "# целевые признаки:\n",
        "\n",
        "data_full_1 = data_full[['rougher.output.recovery', 'final.output.recovery']]"
      ]
    },
    {
      "cell_type": "code",
      "execution_count": 19,
      "metadata": {
        "colab": {
          "base_uri": "https://localhost:8080/",
          "height": 460
        },
        "id": "ECIyIxhTVM0X",
        "outputId": "944cd577-f693-4703-b48b-b3310920cca8"
      },
      "outputs": [
        {
          "output_type": "execute_result",
          "data": {
            "text/plain": [
              "                     primary_cleaner.input.sulfate  \\\n",
              "date                                                 \n",
              "2016-09-01 00:59:59                     210.800909   \n",
              "2016-09-01 01:59:59                     215.392455   \n",
              "2016-09-01 02:59:59                     215.259946   \n",
              "2016-09-01 03:59:59                     215.336236   \n",
              "2016-09-01 04:59:59                     199.099327   \n",
              "\n",
              "                     primary_cleaner.input.depressant  \\\n",
              "date                                                    \n",
              "2016-09-01 00:59:59                         14.993118   \n",
              "2016-09-01 01:59:59                         14.987471   \n",
              "2016-09-01 02:59:59                         12.884934   \n",
              "2016-09-01 03:59:59                         12.006805   \n",
              "2016-09-01 04:59:59                         10.682530   \n",
              "\n",
              "                     primary_cleaner.input.feed_size  \\\n",
              "date                                                   \n",
              "2016-09-01 00:59:59                         8.080000   \n",
              "2016-09-01 01:59:59                         8.080000   \n",
              "2016-09-01 02:59:59                         7.786667   \n",
              "2016-09-01 03:59:59                         7.640000   \n",
              "2016-09-01 04:59:59                         7.530000   \n",
              "\n",
              "                     primary_cleaner.input.xanthate  \\\n",
              "date                                                  \n",
              "2016-09-01 00:59:59                        1.005021   \n",
              "2016-09-01 01:59:59                        0.990469   \n",
              "2016-09-01 02:59:59                        0.996043   \n",
              "2016-09-01 03:59:59                        0.863514   \n",
              "2016-09-01 04:59:59                        0.805575   \n",
              "\n",
              "                     primary_cleaner.state.floatbank8_a_air  \\\n",
              "date                                                          \n",
              "2016-09-01 00:59:59                             1398.981301   \n",
              "2016-09-01 01:59:59                             1398.777912   \n",
              "2016-09-01 02:59:59                             1398.493666   \n",
              "2016-09-01 03:59:59                             1399.618111   \n",
              "2016-09-01 04:59:59                             1401.268123   \n",
              "\n",
              "                     primary_cleaner.state.floatbank8_a_level  \\\n",
              "date                                                            \n",
              "2016-09-01 00:59:59                               -500.225577   \n",
              "2016-09-01 01:59:59                               -500.057435   \n",
              "2016-09-01 02:59:59                               -500.868360   \n",
              "2016-09-01 03:59:59                               -498.863574   \n",
              "2016-09-01 04:59:59                               -500.808305   \n",
              "\n",
              "                     primary_cleaner.state.floatbank8_b_air  \\\n",
              "date                                                          \n",
              "2016-09-01 00:59:59                             1399.144926   \n",
              "2016-09-01 01:59:59                             1398.055362   \n",
              "2016-09-01 02:59:59                             1398.860436   \n",
              "2016-09-01 03:59:59                             1397.440120   \n",
              "2016-09-01 04:59:59                             1398.128818   \n",
              "\n",
              "                     primary_cleaner.state.floatbank8_b_level  \\\n",
              "date                                                            \n",
              "2016-09-01 00:59:59                               -499.919735   \n",
              "2016-09-01 01:59:59                               -499.778182   \n",
              "2016-09-01 02:59:59                               -499.764529   \n",
              "2016-09-01 03:59:59                               -499.211024   \n",
              "2016-09-01 04:59:59                               -499.504543   \n",
              "\n",
              "                     primary_cleaner.state.floatbank8_c_air  \\\n",
              "date                                                          \n",
              "2016-09-01 00:59:59                             1400.102998   \n",
              "2016-09-01 01:59:59                             1396.151033   \n",
              "2016-09-01 02:59:59                             1398.075709   \n",
              "2016-09-01 03:59:59                             1400.129303   \n",
              "2016-09-01 04:59:59                             1402.172226   \n",
              "\n",
              "                     primary_cleaner.state.floatbank8_c_level  ...  \\\n",
              "date                                                           ...   \n",
              "2016-09-01 00:59:59                               -500.704369  ...   \n",
              "2016-09-01 01:59:59                               -499.240168  ...   \n",
              "2016-09-01 02:59:59                               -502.151509  ...   \n",
              "2016-09-01 03:59:59                               -498.355873  ...   \n",
              "2016-09-01 04:59:59                               -500.810606  ...   \n",
              "\n",
              "                     secondary_cleaner.state.floatbank4_b_air  \\\n",
              "date                                                            \n",
              "2016-09-01 00:59:59                                  8.016656   \n",
              "2016-09-01 01:59:59                                  8.130979   \n",
              "2016-09-01 02:59:59                                  8.096893   \n",
              "2016-09-01 03:59:59                                  8.074946   \n",
              "2016-09-01 04:59:59                                  8.054678   \n",
              "\n",
              "                     secondary_cleaner.state.floatbank4_b_level  \\\n",
              "date                                                              \n",
              "2016-09-01 00:59:59                                 -501.289139   \n",
              "2016-09-01 01:59:59                                 -499.634209   \n",
              "2016-09-01 02:59:59                                 -500.827423   \n",
              "2016-09-01 03:59:59                                 -499.474407   \n",
              "2016-09-01 04:59:59                                 -500.397500   \n",
              "\n",
              "                     secondary_cleaner.state.floatbank5_a_air  \\\n",
              "date                                                            \n",
              "2016-09-01 00:59:59                                  7.946562   \n",
              "2016-09-01 01:59:59                                  7.958270   \n",
              "2016-09-01 02:59:59                                  8.071056   \n",
              "2016-09-01 03:59:59                                  7.897085   \n",
              "2016-09-01 04:59:59                                  8.107890   \n",
              "\n",
              "                     secondary_cleaner.state.floatbank5_a_level  \\\n",
              "date                                                              \n",
              "2016-09-01 00:59:59                                 -432.317850   \n",
              "2016-09-01 01:59:59                                 -525.839648   \n",
              "2016-09-01 02:59:59                                 -500.801673   \n",
              "2016-09-01 03:59:59                                 -500.868509   \n",
              "2016-09-01 04:59:59                                 -509.526725   \n",
              "\n",
              "                     secondary_cleaner.state.floatbank5_b_air  \\\n",
              "date                                                            \n",
              "2016-09-01 00:59:59                                  4.872511   \n",
              "2016-09-01 01:59:59                                  4.878850   \n",
              "2016-09-01 02:59:59                                  4.905125   \n",
              "2016-09-01 03:59:59                                  4.931400   \n",
              "2016-09-01 04:59:59                                  4.957674   \n",
              "\n",
              "                     secondary_cleaner.state.floatbank5_b_level  \\\n",
              "date                                                              \n",
              "2016-09-01 00:59:59                                 -500.037437   \n",
              "2016-09-01 01:59:59                                 -500.162375   \n",
              "2016-09-01 02:59:59                                 -499.828510   \n",
              "2016-09-01 03:59:59                                 -499.963623   \n",
              "2016-09-01 04:59:59                                 -500.360026   \n",
              "\n",
              "                     secondary_cleaner.state.floatbank6_a_air  \\\n",
              "date                                                            \n",
              "2016-09-01 00:59:59                                 26.705889   \n",
              "2016-09-01 01:59:59                                 25.019940   \n",
              "2016-09-01 02:59:59                                 24.994862   \n",
              "2016-09-01 03:59:59                                 24.948919   \n",
              "2016-09-01 04:59:59                                 25.003331   \n",
              "\n",
              "                     secondary_cleaner.state.floatbank6_a_level  \\\n",
              "date                                                              \n",
              "2016-09-01 00:59:59                                 -499.709414   \n",
              "2016-09-01 01:59:59                                 -499.819438   \n",
              "2016-09-01 02:59:59                                 -500.622559   \n",
              "2016-09-01 03:59:59                                 -498.709987   \n",
              "2016-09-01 04:59:59                                 -500.856333   \n",
              "\n",
              "                     rougher.output.recovery  final.output.recovery  \n",
              "date                                                                 \n",
              "2016-09-01 00:59:59                89.993421              70.273583  \n",
              "2016-09-01 01:59:59                88.089657              68.910432  \n",
              "2016-09-01 02:59:59                88.412756              68.143213  \n",
              "2016-09-01 03:59:59                87.360133              67.776393  \n",
              "2016-09-01 04:59:59                83.236367              61.467078  \n",
              "\n",
              "[5 rows x 54 columns]"
            ],
            "text/html": [
              "\n",
              "  <div id=\"df-40a4feaf-d318-4a1c-ba7e-75390ffc4187\" class=\"colab-df-container\">\n",
              "    <div>\n",
              "<style scoped>\n",
              "    .dataframe tbody tr th:only-of-type {\n",
              "        vertical-align: middle;\n",
              "    }\n",
              "\n",
              "    .dataframe tbody tr th {\n",
              "        vertical-align: top;\n",
              "    }\n",
              "\n",
              "    .dataframe thead th {\n",
              "        text-align: right;\n",
              "    }\n",
              "</style>\n",
              "<table border=\"1\" class=\"dataframe\">\n",
              "  <thead>\n",
              "    <tr style=\"text-align: right;\">\n",
              "      <th></th>\n",
              "      <th>primary_cleaner.input.sulfate</th>\n",
              "      <th>primary_cleaner.input.depressant</th>\n",
              "      <th>primary_cleaner.input.feed_size</th>\n",
              "      <th>primary_cleaner.input.xanthate</th>\n",
              "      <th>primary_cleaner.state.floatbank8_a_air</th>\n",
              "      <th>primary_cleaner.state.floatbank8_a_level</th>\n",
              "      <th>primary_cleaner.state.floatbank8_b_air</th>\n",
              "      <th>primary_cleaner.state.floatbank8_b_level</th>\n",
              "      <th>primary_cleaner.state.floatbank8_c_air</th>\n",
              "      <th>primary_cleaner.state.floatbank8_c_level</th>\n",
              "      <th>...</th>\n",
              "      <th>secondary_cleaner.state.floatbank4_b_air</th>\n",
              "      <th>secondary_cleaner.state.floatbank4_b_level</th>\n",
              "      <th>secondary_cleaner.state.floatbank5_a_air</th>\n",
              "      <th>secondary_cleaner.state.floatbank5_a_level</th>\n",
              "      <th>secondary_cleaner.state.floatbank5_b_air</th>\n",
              "      <th>secondary_cleaner.state.floatbank5_b_level</th>\n",
              "      <th>secondary_cleaner.state.floatbank6_a_air</th>\n",
              "      <th>secondary_cleaner.state.floatbank6_a_level</th>\n",
              "      <th>rougher.output.recovery</th>\n",
              "      <th>final.output.recovery</th>\n",
              "    </tr>\n",
              "    <tr>\n",
              "      <th>date</th>\n",
              "      <th></th>\n",
              "      <th></th>\n",
              "      <th></th>\n",
              "      <th></th>\n",
              "      <th></th>\n",
              "      <th></th>\n",
              "      <th></th>\n",
              "      <th></th>\n",
              "      <th></th>\n",
              "      <th></th>\n",
              "      <th></th>\n",
              "      <th></th>\n",
              "      <th></th>\n",
              "      <th></th>\n",
              "      <th></th>\n",
              "      <th></th>\n",
              "      <th></th>\n",
              "      <th></th>\n",
              "      <th></th>\n",
              "      <th></th>\n",
              "      <th></th>\n",
              "    </tr>\n",
              "  </thead>\n",
              "  <tbody>\n",
              "    <tr>\n",
              "      <th>2016-09-01 00:59:59</th>\n",
              "      <td>210.800909</td>\n",
              "      <td>14.993118</td>\n",
              "      <td>8.080000</td>\n",
              "      <td>1.005021</td>\n",
              "      <td>1398.981301</td>\n",
              "      <td>-500.225577</td>\n",
              "      <td>1399.144926</td>\n",
              "      <td>-499.919735</td>\n",
              "      <td>1400.102998</td>\n",
              "      <td>-500.704369</td>\n",
              "      <td>...</td>\n",
              "      <td>8.016656</td>\n",
              "      <td>-501.289139</td>\n",
              "      <td>7.946562</td>\n",
              "      <td>-432.317850</td>\n",
              "      <td>4.872511</td>\n",
              "      <td>-500.037437</td>\n",
              "      <td>26.705889</td>\n",
              "      <td>-499.709414</td>\n",
              "      <td>89.993421</td>\n",
              "      <td>70.273583</td>\n",
              "    </tr>\n",
              "    <tr>\n",
              "      <th>2016-09-01 01:59:59</th>\n",
              "      <td>215.392455</td>\n",
              "      <td>14.987471</td>\n",
              "      <td>8.080000</td>\n",
              "      <td>0.990469</td>\n",
              "      <td>1398.777912</td>\n",
              "      <td>-500.057435</td>\n",
              "      <td>1398.055362</td>\n",
              "      <td>-499.778182</td>\n",
              "      <td>1396.151033</td>\n",
              "      <td>-499.240168</td>\n",
              "      <td>...</td>\n",
              "      <td>8.130979</td>\n",
              "      <td>-499.634209</td>\n",
              "      <td>7.958270</td>\n",
              "      <td>-525.839648</td>\n",
              "      <td>4.878850</td>\n",
              "      <td>-500.162375</td>\n",
              "      <td>25.019940</td>\n",
              "      <td>-499.819438</td>\n",
              "      <td>88.089657</td>\n",
              "      <td>68.910432</td>\n",
              "    </tr>\n",
              "    <tr>\n",
              "      <th>2016-09-01 02:59:59</th>\n",
              "      <td>215.259946</td>\n",
              "      <td>12.884934</td>\n",
              "      <td>7.786667</td>\n",
              "      <td>0.996043</td>\n",
              "      <td>1398.493666</td>\n",
              "      <td>-500.868360</td>\n",
              "      <td>1398.860436</td>\n",
              "      <td>-499.764529</td>\n",
              "      <td>1398.075709</td>\n",
              "      <td>-502.151509</td>\n",
              "      <td>...</td>\n",
              "      <td>8.096893</td>\n",
              "      <td>-500.827423</td>\n",
              "      <td>8.071056</td>\n",
              "      <td>-500.801673</td>\n",
              "      <td>4.905125</td>\n",
              "      <td>-499.828510</td>\n",
              "      <td>24.994862</td>\n",
              "      <td>-500.622559</td>\n",
              "      <td>88.412756</td>\n",
              "      <td>68.143213</td>\n",
              "    </tr>\n",
              "    <tr>\n",
              "      <th>2016-09-01 03:59:59</th>\n",
              "      <td>215.336236</td>\n",
              "      <td>12.006805</td>\n",
              "      <td>7.640000</td>\n",
              "      <td>0.863514</td>\n",
              "      <td>1399.618111</td>\n",
              "      <td>-498.863574</td>\n",
              "      <td>1397.440120</td>\n",
              "      <td>-499.211024</td>\n",
              "      <td>1400.129303</td>\n",
              "      <td>-498.355873</td>\n",
              "      <td>...</td>\n",
              "      <td>8.074946</td>\n",
              "      <td>-499.474407</td>\n",
              "      <td>7.897085</td>\n",
              "      <td>-500.868509</td>\n",
              "      <td>4.931400</td>\n",
              "      <td>-499.963623</td>\n",
              "      <td>24.948919</td>\n",
              "      <td>-498.709987</td>\n",
              "      <td>87.360133</td>\n",
              "      <td>67.776393</td>\n",
              "    </tr>\n",
              "    <tr>\n",
              "      <th>2016-09-01 04:59:59</th>\n",
              "      <td>199.099327</td>\n",
              "      <td>10.682530</td>\n",
              "      <td>7.530000</td>\n",
              "      <td>0.805575</td>\n",
              "      <td>1401.268123</td>\n",
              "      <td>-500.808305</td>\n",
              "      <td>1398.128818</td>\n",
              "      <td>-499.504543</td>\n",
              "      <td>1402.172226</td>\n",
              "      <td>-500.810606</td>\n",
              "      <td>...</td>\n",
              "      <td>8.054678</td>\n",
              "      <td>-500.397500</td>\n",
              "      <td>8.107890</td>\n",
              "      <td>-509.526725</td>\n",
              "      <td>4.957674</td>\n",
              "      <td>-500.360026</td>\n",
              "      <td>25.003331</td>\n",
              "      <td>-500.856333</td>\n",
              "      <td>83.236367</td>\n",
              "      <td>61.467078</td>\n",
              "    </tr>\n",
              "  </tbody>\n",
              "</table>\n",
              "<p>5 rows × 54 columns</p>\n",
              "</div>\n",
              "    <div class=\"colab-df-buttons\">\n",
              "\n",
              "  <div class=\"colab-df-container\">\n",
              "    <button class=\"colab-df-convert\" onclick=\"convertToInteractive('df-40a4feaf-d318-4a1c-ba7e-75390ffc4187')\"\n",
              "            title=\"Convert this dataframe to an interactive table.\"\n",
              "            style=\"display:none;\">\n",
              "\n",
              "  <svg xmlns=\"http://www.w3.org/2000/svg\" height=\"24px\" viewBox=\"0 -960 960 960\">\n",
              "    <path d=\"M120-120v-720h720v720H120Zm60-500h600v-160H180v160Zm220 220h160v-160H400v160Zm0 220h160v-160H400v160ZM180-400h160v-160H180v160Zm440 0h160v-160H620v160ZM180-180h160v-160H180v160Zm440 0h160v-160H620v160Z\"/>\n",
              "  </svg>\n",
              "    </button>\n",
              "\n",
              "  <style>\n",
              "    .colab-df-container {\n",
              "      display:flex;\n",
              "      gap: 12px;\n",
              "    }\n",
              "\n",
              "    .colab-df-convert {\n",
              "      background-color: #E8F0FE;\n",
              "      border: none;\n",
              "      border-radius: 50%;\n",
              "      cursor: pointer;\n",
              "      display: none;\n",
              "      fill: #1967D2;\n",
              "      height: 32px;\n",
              "      padding: 0 0 0 0;\n",
              "      width: 32px;\n",
              "    }\n",
              "\n",
              "    .colab-df-convert:hover {\n",
              "      background-color: #E2EBFA;\n",
              "      box-shadow: 0px 1px 2px rgba(60, 64, 67, 0.3), 0px 1px 3px 1px rgba(60, 64, 67, 0.15);\n",
              "      fill: #174EA6;\n",
              "    }\n",
              "\n",
              "    .colab-df-buttons div {\n",
              "      margin-bottom: 4px;\n",
              "    }\n",
              "\n",
              "    [theme=dark] .colab-df-convert {\n",
              "      background-color: #3B4455;\n",
              "      fill: #D2E3FC;\n",
              "    }\n",
              "\n",
              "    [theme=dark] .colab-df-convert:hover {\n",
              "      background-color: #434B5C;\n",
              "      box-shadow: 0px 1px 3px 1px rgba(0, 0, 0, 0.15);\n",
              "      filter: drop-shadow(0px 1px 2px rgba(0, 0, 0, 0.3));\n",
              "      fill: #FFFFFF;\n",
              "    }\n",
              "  </style>\n",
              "\n",
              "    <script>\n",
              "      const buttonEl =\n",
              "        document.querySelector('#df-40a4feaf-d318-4a1c-ba7e-75390ffc4187 button.colab-df-convert');\n",
              "      buttonEl.style.display =\n",
              "        google.colab.kernel.accessAllowed ? 'block' : 'none';\n",
              "\n",
              "      async function convertToInteractive(key) {\n",
              "        const element = document.querySelector('#df-40a4feaf-d318-4a1c-ba7e-75390ffc4187');\n",
              "        const dataTable =\n",
              "          await google.colab.kernel.invokeFunction('convertToInteractive',\n",
              "                                                    [key], {});\n",
              "        if (!dataTable) return;\n",
              "\n",
              "        const docLinkHtml = 'Like what you see? Visit the ' +\n",
              "          '<a target=\"_blank\" href=https://colab.research.google.com/notebooks/data_table.ipynb>data table notebook</a>'\n",
              "          + ' to learn more about interactive tables.';\n",
              "        element.innerHTML = '';\n",
              "        dataTable['output_type'] = 'display_data';\n",
              "        await google.colab.output.renderOutput(dataTable, element);\n",
              "        const docLink = document.createElement('div');\n",
              "        docLink.innerHTML = docLinkHtml;\n",
              "        element.appendChild(docLink);\n",
              "      }\n",
              "    </script>\n",
              "  </div>\n",
              "\n",
              "\n",
              "<div id=\"df-07acf6f5-f6cc-4252-98db-2fe058d4f6f4\">\n",
              "  <button class=\"colab-df-quickchart\" onclick=\"quickchart('df-07acf6f5-f6cc-4252-98db-2fe058d4f6f4')\"\n",
              "            title=\"Suggest charts.\"\n",
              "            style=\"display:none;\">\n",
              "\n",
              "<svg xmlns=\"http://www.w3.org/2000/svg\" height=\"24px\"viewBox=\"0 0 24 24\"\n",
              "     width=\"24px\">\n",
              "    <g>\n",
              "        <path d=\"M19 3H5c-1.1 0-2 .9-2 2v14c0 1.1.9 2 2 2h14c1.1 0 2-.9 2-2V5c0-1.1-.9-2-2-2zM9 17H7v-7h2v7zm4 0h-2V7h2v10zm4 0h-2v-4h2v4z\"/>\n",
              "    </g>\n",
              "</svg>\n",
              "  </button>\n",
              "\n",
              "<style>\n",
              "  .colab-df-quickchart {\n",
              "      --bg-color: #E8F0FE;\n",
              "      --fill-color: #1967D2;\n",
              "      --hover-bg-color: #E2EBFA;\n",
              "      --hover-fill-color: #174EA6;\n",
              "      --disabled-fill-color: #AAA;\n",
              "      --disabled-bg-color: #DDD;\n",
              "  }\n",
              "\n",
              "  [theme=dark] .colab-df-quickchart {\n",
              "      --bg-color: #3B4455;\n",
              "      --fill-color: #D2E3FC;\n",
              "      --hover-bg-color: #434B5C;\n",
              "      --hover-fill-color: #FFFFFF;\n",
              "      --disabled-bg-color: #3B4455;\n",
              "      --disabled-fill-color: #666;\n",
              "  }\n",
              "\n",
              "  .colab-df-quickchart {\n",
              "    background-color: var(--bg-color);\n",
              "    border: none;\n",
              "    border-radius: 50%;\n",
              "    cursor: pointer;\n",
              "    display: none;\n",
              "    fill: var(--fill-color);\n",
              "    height: 32px;\n",
              "    padding: 0;\n",
              "    width: 32px;\n",
              "  }\n",
              "\n",
              "  .colab-df-quickchart:hover {\n",
              "    background-color: var(--hover-bg-color);\n",
              "    box-shadow: 0 1px 2px rgba(60, 64, 67, 0.3), 0 1px 3px 1px rgba(60, 64, 67, 0.15);\n",
              "    fill: var(--button-hover-fill-color);\n",
              "  }\n",
              "\n",
              "  .colab-df-quickchart-complete:disabled,\n",
              "  .colab-df-quickchart-complete:disabled:hover {\n",
              "    background-color: var(--disabled-bg-color);\n",
              "    fill: var(--disabled-fill-color);\n",
              "    box-shadow: none;\n",
              "  }\n",
              "\n",
              "  .colab-df-spinner {\n",
              "    border: 2px solid var(--fill-color);\n",
              "    border-color: transparent;\n",
              "    border-bottom-color: var(--fill-color);\n",
              "    animation:\n",
              "      spin 1s steps(1) infinite;\n",
              "  }\n",
              "\n",
              "  @keyframes spin {\n",
              "    0% {\n",
              "      border-color: transparent;\n",
              "      border-bottom-color: var(--fill-color);\n",
              "      border-left-color: var(--fill-color);\n",
              "    }\n",
              "    20% {\n",
              "      border-color: transparent;\n",
              "      border-left-color: var(--fill-color);\n",
              "      border-top-color: var(--fill-color);\n",
              "    }\n",
              "    30% {\n",
              "      border-color: transparent;\n",
              "      border-left-color: var(--fill-color);\n",
              "      border-top-color: var(--fill-color);\n",
              "      border-right-color: var(--fill-color);\n",
              "    }\n",
              "    40% {\n",
              "      border-color: transparent;\n",
              "      border-right-color: var(--fill-color);\n",
              "      border-top-color: var(--fill-color);\n",
              "    }\n",
              "    60% {\n",
              "      border-color: transparent;\n",
              "      border-right-color: var(--fill-color);\n",
              "    }\n",
              "    80% {\n",
              "      border-color: transparent;\n",
              "      border-right-color: var(--fill-color);\n",
              "      border-bottom-color: var(--fill-color);\n",
              "    }\n",
              "    90% {\n",
              "      border-color: transparent;\n",
              "      border-bottom-color: var(--fill-color);\n",
              "    }\n",
              "  }\n",
              "</style>\n",
              "\n",
              "  <script>\n",
              "    async function quickchart(key) {\n",
              "      const quickchartButtonEl =\n",
              "        document.querySelector('#' + key + ' button');\n",
              "      quickchartButtonEl.disabled = true;  // To prevent multiple clicks.\n",
              "      quickchartButtonEl.classList.add('colab-df-spinner');\n",
              "      try {\n",
              "        const charts = await google.colab.kernel.invokeFunction(\n",
              "            'suggestCharts', [key], {});\n",
              "      } catch (error) {\n",
              "        console.error('Error during call to suggestCharts:', error);\n",
              "      }\n",
              "      quickchartButtonEl.classList.remove('colab-df-spinner');\n",
              "      quickchartButtonEl.classList.add('colab-df-quickchart-complete');\n",
              "    }\n",
              "    (() => {\n",
              "      let quickchartButtonEl =\n",
              "        document.querySelector('#df-07acf6f5-f6cc-4252-98db-2fe058d4f6f4 button');\n",
              "      quickchartButtonEl.style.display =\n",
              "        google.colab.kernel.accessAllowed ? 'block' : 'none';\n",
              "    })();\n",
              "  </script>\n",
              "</div>\n",
              "    </div>\n",
              "  </div>\n"
            ]
          },
          "metadata": {},
          "execution_count": 19
        }
      ],
      "source": [
        "# Объеденим тестовую выборку с вспомогательным датасетом, чтобы добавить\n",
        "# целевые признаки и в нее и выведем на экран:\n",
        "\n",
        "data_test = data_test.merge(data_full_1, how = 'left', left_on='date', right_on='date')\n",
        "data_test.head()"
      ]
    },
    {
      "cell_type": "code",
      "execution_count": 20,
      "metadata": {
        "id": "Q9GJbNOkbHgx"
      },
      "outputs": [],
      "source": [
        "# Удалим из датасетов строки показателя recovery с нулевым значением, чтобы исключить\n",
        "# вероятность деления ноля на ноль при последующем вычислении sMAPE:\n",
        "\n",
        "data_train = data_train[(data_train['rougher.output.recovery'] != 0)]\n",
        "data_train = data_train[(data_train['final.output.recovery'] != 0)]"
      ]
    },
    {
      "cell_type": "code",
      "execution_count": 21,
      "metadata": {
        "id": "QYMrnCUIgGps"
      },
      "outputs": [],
      "source": [
        "data_test = data_test[(data_test['rougher.output.recovery'] != 0)]\n",
        "data_test = data_test[(data_test['final.output.recovery'] != 0)]"
      ]
    },
    {
      "cell_type": "code",
      "execution_count": 22,
      "metadata": {
        "id": "ECoRWERqaICQ"
      },
      "outputs": [],
      "source": [
        "data_full = data_full[(data_full['rougher.output.recovery'] != 0)]\n",
        "data_full = data_full[(data_full['final.output.recovery'] != 0)]"
      ]
    },
    {
      "cell_type": "code",
      "execution_count": 23,
      "metadata": {
        "id": "lK85QFqO-05t"
      },
      "outputs": [],
      "source": [
        "# Удалим из обучающей выборки выбросы показателей концентрации:\n",
        "\n",
        "data_train = data_train[((data_train['rougher.input.feed_ag'] + data_train['rougher.input.feed_au'] + \\\n",
        "                         data_train['rougher.input.feed_pb'] + data_train['rougher.input.feed_sol']) != 0)]\n",
        "data_train = data_train[((data_train['rougher.output.concentrate_ag'] + data_train['rougher.output.concentrate_au'] + \\\n",
        "                         data_train['rougher.output.concentrate_pb'] + data_train['rougher.output.concentrate_sol']) != 0)]\n",
        "data_train = data_train[((data_train['primary_cleaner.output.concentrate_ag'] + data_train['primary_cleaner.output.concentrate_au'] + \\\n",
        "                         data_train['primary_cleaner.output.concentrate_pb'] + data_train['primary_cleaner.output.concentrate_sol']) != 0)]\n",
        "data_train = data_train[((data_train['final.output.concentrate_ag'] + data_train['final.output.concentrate_au'] + \\\n",
        "                         data_train['final.output.concentrate_pb'] + data_train['final.output.concentrate_sol']) != 0)]"
      ]
    },
    {
      "cell_type": "code",
      "execution_count": 24,
      "metadata": {
        "id": "6g3tzx_G3p9r"
      },
      "outputs": [],
      "source": [
        "# Изменим последовательность столбцов в тестовой выборке, чтобы привести ее в полное\n",
        "# соответствие с обучающей:\n",
        "\n",
        "data_test = data_test[['final.output.recovery', 'primary_cleaner.input.sulfate', 'primary_cleaner.input.depressant', \\\n",
        "           'primary_cleaner.input.feed_size', 'primary_cleaner.input.xanthate', \\\n",
        "           'primary_cleaner.state.floatbank8_a_air', 'primary_cleaner.state.floatbank8_a_level', \\\n",
        "           'primary_cleaner.state.floatbank8_b_air', 'primary_cleaner.state.floatbank8_b_level', \\\n",
        "           'primary_cleaner.state.floatbank8_c_air', 'primary_cleaner.state.floatbank8_c_level', \\\n",
        "           'primary_cleaner.state.floatbank8_d_air', 'primary_cleaner.state.floatbank8_d_level', \\\n",
        "           'rougher.input.feed_ag', 'rougher.input.feed_pb', 'rougher.input.feed_rate', 'rougher.input.feed_size', \\\n",
        "           'rougher.input.feed_sol', 'rougher.input.feed_au', 'rougher.input.floatbank10_sulfate', \\\n",
        "           'rougher.input.floatbank10_xanthate', 'rougher.input.floatbank11_sulfate', 'rougher.input.floatbank11_xanthate', \\\n",
        "           'rougher.output.recovery', 'rougher.state.floatbank10_a_air', 'rougher.state.floatbank10_a_level', \\\n",
        "           'rougher.state.floatbank10_b_air', 'rougher.state.floatbank10_b_level', 'rougher.state.floatbank10_c_air', \\\n",
        "           'rougher.state.floatbank10_c_level', 'rougher.state.floatbank10_d_air', 'rougher.state.floatbank10_d_level', \\\n",
        "           'rougher.state.floatbank10_e_air', 'rougher.state.floatbank10_e_level', 'rougher.state.floatbank10_f_air', \\\n",
        "           'rougher.state.floatbank10_f_level', 'secondary_cleaner.state.floatbank2_a_air',\n",
        "           'secondary_cleaner.state.floatbank2_a_level', 'secondary_cleaner.state.floatbank2_b_air', \\\n",
        "           'secondary_cleaner.state.floatbank2_b_level', 'secondary_cleaner.state.floatbank3_a_air', \\\n",
        "           'secondary_cleaner.state.floatbank3_a_level', 'secondary_cleaner.state.floatbank3_b_air', \\\n",
        "           'secondary_cleaner.state.floatbank3_b_level', 'secondary_cleaner.state.floatbank4_a_air', \\\n",
        "           'secondary_cleaner.state.floatbank4_a_level', 'secondary_cleaner.state.floatbank4_b_air', \\\n",
        "           'secondary_cleaner.state.floatbank4_b_level', 'secondary_cleaner.state.floatbank5_a_air', \\\n",
        "           'secondary_cleaner.state.floatbank5_a_level', 'secondary_cleaner.state.floatbank5_b_air', \\\n",
        "           'secondary_cleaner.state.floatbank5_b_level', 'secondary_cleaner.state.floatbank6_a_air', \\\n",
        "           'secondary_cleaner.state.floatbank6_a_level']]"
      ]
    },
    {
      "cell_type": "code",
      "execution_count": 25,
      "metadata": {
        "id": "UCT7ZxfQZwMq"
      },
      "outputs": [],
      "source": [
        "# Удалим из обучающей выборки лишние признаки, чтобы привести ее в полное\n",
        "# соответствие с тестовой:\n",
        "\n",
        "data_train = data_train.drop(['final.output.concentrate_ag', 'final.output.concentrate_au',\n",
        "       'final.output.concentrate_pb', 'final.output.concentrate_sol', 'final.output.tail_ag', 'final.output.tail_au',\n",
        "       'final.output.tail_pb', 'final.output.tail_sol',\n",
        "       'primary_cleaner.output.concentrate_ag', 'rougher.output.recovery.check',\n",
        "       'primary_cleaner.output.concentrate_au',\n",
        "       'primary_cleaner.output.concentrate_pb',\n",
        "       'primary_cleaner.output.concentrate_sol',\n",
        "       'primary_cleaner.output.tail_ag', 'primary_cleaner.output.tail_au',\n",
        "       'primary_cleaner.output.tail_pb', 'primary_cleaner.output.tail_sol',\n",
        "       'rougher.calculation.au_pb_ratio',\n",
        "       'rougher.calculation.floatbank10_sulfate_to_au_feed',\n",
        "       'rougher.calculation.floatbank11_sulfate_to_au_feed',\n",
        "       'rougher.calculation.sulfate_to_au_concentrate',\n",
        "       'rougher.output.concentrate_ag', 'rougher.output.concentrate_au',\n",
        "       'rougher.output.concentrate_pb', 'rougher.output.concentrate_sol', 'rougher.output.tail_ag',\n",
        "       'rougher.output.tail_au', 'rougher.output.tail_pb',\n",
        "       'rougher.output.tail_sol', 'secondary_cleaner.output.tail_ag',\n",
        "       'secondary_cleaner.output.tail_au', 'secondary_cleaner.output.tail_pb',\n",
        "       'secondary_cleaner.output.tail_sol'], axis=1)"
      ]
    },
    {
      "cell_type": "code",
      "execution_count": 26,
      "metadata": {
        "id": "5SS4WxUMiu25"
      },
      "outputs": [],
      "source": [
        "# Выделим из обучающей и тестовой выборок признаки и целевые признаки, как для\n",
        "# чернового, так и для финального концентрата:\n",
        "\n",
        "target_train_rougher = data_train['rougher.output.recovery']\n",
        "features_train_rougher = data_train.drop(['rougher.output.recovery'] , axis=1)"
      ]
    },
    {
      "cell_type": "code",
      "execution_count": 27,
      "metadata": {
        "id": "VJH--tZokaZB"
      },
      "outputs": [],
      "source": [
        "target_train_final = data_train['final.output.recovery']\n",
        "features_train_final = data_train.drop(['final.output.recovery'] , axis=1)"
      ]
    },
    {
      "cell_type": "code",
      "execution_count": 28,
      "metadata": {
        "id": "7SuKsubYaP7O"
      },
      "outputs": [],
      "source": [
        "target_test_rougher = data_test['rougher.output.recovery']\n",
        "features_test_rougher = data_test.drop(['rougher.output.recovery'] , axis=1)"
      ]
    },
    {
      "cell_type": "code",
      "execution_count": 29,
      "metadata": {
        "id": "uAouhyTiaiF0"
      },
      "outputs": [],
      "source": [
        "target_test_final = data_test['final.output.recovery']\n",
        "features_test_final = data_test.drop(['final.output.recovery'] , axis=1)"
      ]
    },
    {
      "cell_type": "markdown",
      "metadata": {
        "id": "djKP9skp1cmE"
      },
      "source": [
        "**Вывод:** Проведена проверка датасетов на наличие дубликатов. Пропущенные значения заменены медианными. В тестовый датасет добавлены целевые признаки. Удалены строки показателя эффективности с нулевыми значениями и выбросы показателей концентрации в тренировочной выборке: общая потеря данных не превысила 3-х процентов. Также, из тренировочной удалены столбцы, которые отсутствуют в тестовой выборке. Из них выделены признаки и целевые признаки как для чернового, так и для финального концентратов."
      ]
    },
    {
      "cell_type": "markdown",
      "metadata": {
        "id": "ODStD6Ifb3zQ"
      },
      "source": [
        "**Промежуточные выводы:**\n",
        "\n",
        "Средняя абсолютная ошибка между фактическим значением данных и значением, предсказанным моделью, крайне мала (9,735 x 10 в −15-ой степени). Из этого можно сделать вывод, что эффективность обогащения в данных рассчитана правильно.\n",
        "\n",
        "Отсутствие в тестовой выборке ряда признаков можно объяснить тем, что модель должна делать именно прогноз, то есть ей логично получать на вход только признаки на момент начала очистки.\n",
        "\n",
        "В ходе предобработки данных проведена проверка датасетов на наличие дубликатов. Пропущенные значения заменены медианными. В тестовый датасет добавлены целевые признаки. Удалены строки показателя эффективности с нулевыми значениями и выбросы показателей концентрации в тренировочной выборке. Также, из тренировочной удалены столбцы, которые отсутствуют в тестовой выборке. Из них выделены признаки и целевые признаки как для чернового, так и для финального концентратов."
      ]
    },
    {
      "cell_type": "markdown",
      "metadata": {
        "id": "yt-f1vcb8PzS"
      },
      "source": [
        "## Анализ данных"
      ]
    },
    {
      "cell_type": "markdown",
      "metadata": {
        "id": "RSnY-UAGwsQC"
      },
      "source": [
        "**2.1 Исследование изменения концентрации металлов на различных этапах очистки**"
      ]
    },
    {
      "cell_type": "code",
      "execution_count": 30,
      "metadata": {
        "colab": {
          "base_uri": "https://localhost:8080/",
          "height": 486
        },
        "id": "oqjKjcYv2c5d",
        "outputId": "ec2e4e92-52b9-4246-8249-15e8d168615d"
      },
      "outputs": [
        {
          "output_type": "display_data",
          "data": {
            "text/plain": [
              "<Figure size 1500x500 with 1 Axes>"
            ],
            "image/png": "[encoded data removed]"
          },
          "metadata": {}
        }
      ],
      "source": [
        "# Создадим гистограммы изменения концентрации металлов на различных этапах очистки:\n",
        "\n",
        "plt.figure(figsize=(15,5))\n",
        "sns.histplot(data_full[['rougher.input.feed_ag', 'rougher.output.concentrate_ag', \\\n",
        "                        'primary_cleaner.output.concentrate_ag', 'final.output.concentrate_ag']]). \\\n",
        "                        set(title='Концентрация серебра на различных этапах очистки')\n",
        "\n",
        "plt.xlabel('этап очистки')\n",
        "plt.ylabel('концентрация')\n",
        "plt.show()"
      ]
    },
    {
      "cell_type": "markdown",
      "metadata": {
        "id": "lcIqcqLwhVE0"
      },
      "source": [
        "**Вывод:** Концентрация серебра возрастает после флотации. Затем немного снижается после первичной очистки. И вновь возрастает после вторичной очистки."
      ]
    },
    {
      "cell_type": "code",
      "execution_count": 31,
      "metadata": {
        "colab": {
          "base_uri": "https://localhost:8080/",
          "height": 486
        },
        "id": "KVnoQxLo8-Lz",
        "outputId": "9d52da0e-5e2d-4f5c-f5f6-e5c1fea4154c"
      },
      "outputs": [
        {
          "output_type": "display_data",
          "data": {
            "text/plain": [
              "<Figure size 1500x500 with 1 Axes>"
            ],
            "image/png": "[encoded data removed]"
          },
          "metadata": {}
        }
      ],
      "source": [
        "plt.figure(figsize=(15,5))\n",
        "sns.histplot(data_full[['rougher.input.feed_au', 'rougher.output.concentrate_au', \\\n",
        "                        'primary_cleaner.output.concentrate_au', 'final.output.concentrate_au']]). \\\n",
        "                        set(title='Концентрация золота на различных этапах очистки')\n",
        "\n",
        "plt.xlabel('этап очистки')\n",
        "plt.ylabel('концентрация')\n",
        "plt.show()"
      ]
    },
    {
      "cell_type": "markdown",
      "metadata": {
        "id": "V-xOyGPFjSzg"
      },
      "source": [
        "**Вывод:** Концентрация золота заметно увеличивается с каждым следующим этапом очистки."
      ]
    },
    {
      "cell_type": "code",
      "execution_count": 32,
      "metadata": {
        "colab": {
          "base_uri": "https://localhost:8080/",
          "height": 486
        },
        "id": "v_TogTRH9YTU",
        "outputId": "33171dbe-74eb-4ea1-9a17-dd24efac4a62"
      },
      "outputs": [
        {
          "output_type": "display_data",
          "data": {
            "text/plain": [
              "<Figure size 1500x500 with 1 Axes>"
            ],
            "image/png": "[encoded data removed]"
          },
          "metadata": {}
        }
      ],
      "source": [
        "plt.figure(figsize=(15,5))\n",
        "sns.histplot(data_full[['rougher.input.feed_pb', 'rougher.output.concentrate_pb', \\\n",
        "                        'primary_cleaner.output.concentrate_pb', 'final.output.concentrate_pb']]). \\\n",
        "                        set(title='Концентрация свинца на различных этапах очистки')\n",
        "\n",
        "plt.xlabel('этап очистки')\n",
        "plt.ylabel('концентрация')\n",
        "plt.show()"
      ]
    },
    {
      "cell_type": "markdown",
      "metadata": {
        "id": "MDLfucwkkX5_"
      },
      "source": [
        "**Вывод:** Концентрация свинца заметно увеличивается после флотации. И остается приблизительно на одном уровне на последующих этапах очистки."
      ]
    },
    {
      "cell_type": "markdown",
      "metadata": {
        "id": "CSGsj60hw6cf"
      },
      "source": [
        "**2.2 Сравнение распределения размеров гранул сырья на обучающей и тестовой выборках**"
      ]
    },
    {
      "cell_type": "code",
      "execution_count": 33,
      "metadata": {
        "colab": {
          "base_uri": "https://localhost:8080/",
          "height": 472
        },
        "id": "V4qobucI_muD",
        "outputId": "65636f03-3ea9-49c7-eef5-d9db61907d49"
      },
      "outputs": [
        {
          "output_type": "display_data",
          "data": {
            "text/plain": [
              "<Figure size 640x480 with 1 Axes>"
            ],
            "image/png": "[encoded data removed]"
          },
          "metadata": {}
        }
      ],
      "source": [
        "# Построим графики распределения плотности гранул сырья на обучающей и\n",
        "# тестовой выборках:\n",
        "\n",
        "sns.kdeplot(data_train['primary_cleaner.input.feed_size'], label='train')\n",
        "sns.kdeplot(data_test['primary_cleaner.input.feed_size'], label='test')\n",
        "plt.legend()\n",
        "plt.xlabel('Размер гранул сырья')\n",
        "plt.ylabel('Плотность распределения')\n",
        "plt.title('Распределение размеров гранул сырья на этапе primary_cleaner');"
      ]
    },
    {
      "cell_type": "code",
      "execution_count": 34,
      "metadata": {
        "colab": {
          "base_uri": "https://localhost:8080/",
          "height": 472
        },
        "id": "pfb5oaWWBL8E",
        "outputId": "8195ba3a-252e-4405-a117-2e6fe562f8d5"
      },
      "outputs": [
        {
          "output_type": "display_data",
          "data": {
            "text/plain": [
              "<Figure size 640x480 with 1 Axes>"
            ],
            "image/png": "[encoded data removed]"
          },
          "metadata": {}
        }
      ],
      "source": [
        "sns.kdeplot(data_train['rougher.input.feed_size'], label='train')\n",
        "sns.kdeplot(data_test['rougher.input.feed_size'], label='test')\n",
        "plt.legend()\n",
        "plt.xlabel('Размер гранул сырья')\n",
        "plt.ylabel('Плотность распределения')\n",
        "plt.title('Распределение размеров гранул сырья на этапе rougher');"
      ]
    },
    {
      "cell_type": "markdown",
      "metadata": {
        "id": "-k4Ra_0PnGPS"
      },
      "source": [
        "**Вывод:** Распределения гранул сырья на обучающей и тестовой выборках выглядят схожим образом. Можно предположить, что оценка модели будет верной."
      ]
    },
    {
      "cell_type": "markdown",
      "metadata": {
        "id": "D1s5tsALxGfA"
      },
      "source": [
        "**2.3 Исследование суммарной концентрации всех веществ на разных стадиях**"
      ]
    },
    {
      "cell_type": "code",
      "execution_count": 35,
      "metadata": {
        "id": "0KI7Qz1RoouQ"
      },
      "outputs": [],
      "source": [
        "# Определим суммарную концентрацию всех веществ на различных этапах очистки:\n",
        "\n",
        "data_full['rougher.input.feed'] = data_full['rougher.input.feed_ag'] + data_full['rougher.input.feed_au'] + \\\n",
        " data_full['rougher.input.feed_pb'] + data_full['rougher.input.feed_sol']"
      ]
    },
    {
      "cell_type": "code",
      "execution_count": 36,
      "metadata": {
        "colab": {
          "base_uri": "https://localhost:8080/",
          "height": 333
        },
        "id": "evpuxtje4Itw",
        "outputId": "20b80645-849f-40e9-db35-076d7d9675db"
      },
      "outputs": [
        {
          "output_type": "display_data",
          "data": {
            "text/plain": [
              "<Figure size 1500x300 with 1 Axes>"
            ],
            "image/png": "[encoded data removed]"
          },
          "metadata": {}
        }
      ],
      "source": [
        "# Создадим гистограммы суммарной концентрации всех веществ на различных этапах очистки:\n",
        "\n",
        "plt.figure(figsize=(15,3))\n",
        "sns.histplot(data_full['rougher.input.feed']).set(title='Суммарная концентрация веществ перед флотацией')\n",
        "\n",
        "plt.xlabel('rougher.input.feed')\n",
        "plt.ylabel('концентрация')\n",
        "plt.show()"
      ]
    },
    {
      "cell_type": "code",
      "execution_count": 37,
      "metadata": {
        "id": "Spl9btJA9y_h"
      },
      "outputs": [],
      "source": [
        "data_full['rougher.output.concentrate'] = data_full['rougher.output.concentrate_ag'] + data_full['rougher.output.concentrate_au'] + \\\n",
        " data_full['rougher.output.concentrate_pb'] + data_full['rougher.output.concentrate_sol']"
      ]
    },
    {
      "cell_type": "code",
      "execution_count": 38,
      "metadata": {
        "colab": {
          "base_uri": "https://localhost:8080/",
          "height": 333
        },
        "id": "b12lC_KO-8bp",
        "outputId": "8da8d1ca-251a-47da-a21b-400e3c075f7a"
      },
      "outputs": [
        {
          "output_type": "display_data",
          "data": {
            "text/plain": [
              "<Figure size 1500x300 with 1 Axes>"
            ],
            "image/png": "[encoded data removed]"
          },
          "metadata": {}
        }
      ],
      "source": [
        "plt.figure(figsize=(15,3))\n",
        "sns.histplot(data_full['rougher.output.concentrate']).set(title='Суммарная концентрация веществ в черновом концентрате')\n",
        "\n",
        "plt.xlabel('rougher.output.concentrate')\n",
        "plt.ylabel('концентрация')\n",
        "plt.show()"
      ]
    },
    {
      "cell_type": "code",
      "execution_count": 39,
      "metadata": {
        "id": "hO-ZGI2F9yl5"
      },
      "outputs": [],
      "source": [
        "data_full['primary_cleaner.output.concentrate'] = data_full['primary_cleaner.output.concentrate_ag'] + \\\n",
        " data_full['primary_cleaner.output.concentrate_au'] + data_full['primary_cleaner.output.concentrate_pb'] + \\\n",
        "  data_full['primary_cleaner.output.concentrate_sol']"
      ]
    },
    {
      "cell_type": "code",
      "execution_count": 40,
      "metadata": {
        "colab": {
          "base_uri": "https://localhost:8080/",
          "height": 333
        },
        "id": "bECiBdGU-78R",
        "outputId": "c0994a7f-0215-4654-a0cd-035a76b59612"
      },
      "outputs": [
        {
          "output_type": "display_data",
          "data": {
            "text/plain": [
              "<Figure size 1500x300 with 1 Axes>"
            ],
            "image/png": "[encoded data removed]"
          },
          "metadata": {}
        }
      ],
      "source": [
        "plt.figure(figsize=(15,3))\n",
        "sns.histplot(data_full['primary_cleaner.output.concentrate']).set(title='Суммарная концентрация веществ после первого этапа очистки')\n",
        "\n",
        "plt.xlabel('primary_cleaner.output.concentrate')\n",
        "plt.ylabel('концентрация')\n",
        "plt.show()"
      ]
    },
    {
      "cell_type": "code",
      "execution_count": 41,
      "metadata": {
        "id": "7NiDPFZY9cX5"
      },
      "outputs": [],
      "source": [
        "data_full['final.output.concentrate'] = data_full['final.output.concentrate_ag'] + \\\n",
        " data_full['final.output.concentrate_au'] + data_full['final.output.concentrate_pb'] + \\\n",
        "  data_full['final.output.concentrate_sol']"
      ]
    },
    {
      "cell_type": "code",
      "execution_count": 42,
      "metadata": {
        "colab": {
          "base_uri": "https://localhost:8080/",
          "height": 333
        },
        "id": "V-CaodiL-7Op",
        "outputId": "dc658ec0-6256-4dbf-87ab-dc173da1aba8"
      },
      "outputs": [
        {
          "output_type": "display_data",
          "data": {
            "text/plain": [
              "<Figure size 1500x300 with 1 Axes>"
            ],
            "image/png": "[encoded data removed]"
          },
          "metadata": {}
        }
      ],
      "source": [
        "plt.figure(figsize=(15,3))\n",
        "sns.histplot(data_full['final.output.concentrate']).set(title='Суммарная концентрация веществ в финальном концентрате')\n",
        "\n",
        "plt.xlabel('final.output.concentrate')\n",
        "plt.ylabel('концентрация')\n",
        "plt.show()"
      ]
    },
    {
      "cell_type": "markdown",
      "metadata": {
        "id": "rpVV-z3vn_Kh"
      },
      "source": [
        "**Вывод:** Суммарная концентрация всех веществ постепенно нарастает с каждым следующим этапом очистки. Со значительным приростом на финальной стадии."
      ]
    },
    {
      "cell_type": "markdown",
      "metadata": {
        "id": "QxhQs8aqdBJ1"
      },
      "source": [
        "**Промежуточные выводы:**\n",
        "\n",
        "1) Концентрация серебра возрастает после флотации. Затем немного снижается после первичной очистки. И вновь возрастает после вторичной очистки.\n",
        "\n",
        "Концентрация золота заметно увеличивается с каждым следующим этапом очистки.\n",
        "\n",
        "Концентрация свинца заметно увеличивается после флотации. И остается приблизительно на одном уровне на последующих этапах очистки.\n",
        "\n",
        "2) Распределения гранул сырья на обучающей и тестовой выборках выглядят схожим образом. Можно предположить, что оценка модели будет верной.\n",
        "\n",
        "3) Суммарная концентрация всех веществ постепенно нарастает с каждым следующим этапом очистки. Со значительным приростом на финальной стадии."
      ]
    },
    {
      "cell_type": "markdown",
      "metadata": {
        "id": "7rT7Nz0F8PzS"
      },
      "source": [
        "## Модель"
      ]
    },
    {
      "cell_type": "markdown",
      "metadata": {
        "id": "4Q1SaAIxxU3A"
      },
      "source": [
        "**3.1 Напишем функцию для вычисления sMAPE**"
      ]
    },
    {
      "cell_type": "code",
      "execution_count": 43,
      "metadata": {
        "id": "sh_4erUZ8PzT"
      },
      "outputs": [],
      "source": [
        "def smape(target, pred):\n",
        "\n",
        "    target, pred = np.array(target), np.array(pred)\n",
        "    smape = np.mean(np.abs(target - pred) / ((np.abs(target) + np.abs(pred)) / 2))\n",
        "\n",
        "    return smape"
      ]
    },
    {
      "cell_type": "markdown",
      "metadata": {
        "id": "bhRI6mb1xk3M"
      },
      "source": [
        "**3.2 Обучение моделей**"
      ]
    },
    {
      "cell_type": "code",
      "execution_count": 44,
      "metadata": {
        "id": "zogf3hir3Rsu"
      },
      "outputs": [],
      "source": [
        "# Создадим скоринг для оценки модели по метрике sMAPE:\n",
        "\n",
        "smape_score = make_scorer(smape, greater_is_better = False)"
      ]
    },
    {
      "cell_type": "code",
      "execution_count": 45,
      "metadata": {
        "id": "kON9Mov7fxoB"
      },
      "outputs": [],
      "source": [
        "# Обучим модель методом линейной регрессии и получим предсказания для чернового концентрата:\n",
        "\n",
        "model = LinearRegression()\n",
        "\n",
        "model.fit(features_train_rougher, target_train_rougher)\n",
        "predicted_train_rougher = model.predict(features_train_rougher)"
      ]
    },
    {
      "cell_type": "code",
      "execution_count": 46,
      "metadata": {
        "colab": {
          "base_uri": "https://localhost:8080/"
        },
        "id": "wLB3uMapF3HZ",
        "outputId": "71e11235-ea5d-4b65-b9ba-8849501c3f48"
      },
      "outputs": [
        {
          "output_type": "stream",
          "name": "stdout",
          "text": [
            "Средняя оценка качества модели: 5.837495576382867\n"
          ]
        }
      ],
      "source": [
        "# Определим среднюю оценку качества модели методом кросс-валидации\n",
        "# для чернового концентрата:\n",
        "\n",
        "scores = cross_val_score(model, features_train_rougher, target_train_rougher, cv=5, scoring=smape_score)\n",
        "smape_rougher = sum(scores)/len(scores)\n",
        "print('Средняя оценка качества модели:' , smape_rougher * -100)"
      ]
    },
    {
      "cell_type": "code",
      "execution_count": 47,
      "metadata": {
        "id": "fPrrBA65ia-w"
      },
      "outputs": [],
      "source": [
        "# Обучим модель и получим предсказания для финального концентрата:\n",
        "\n",
        "model.fit(features_train_final, target_train_final)\n",
        "predicted_train_final = model.predict(features_train_final)"
      ]
    },
    {
      "cell_type": "code",
      "execution_count": 48,
      "metadata": {
        "colab": {
          "base_uri": "https://localhost:8080/"
        },
        "id": "aWyvQ7-dJzUY",
        "outputId": "6131ffc4-37d9-4fb9-d716-c03022056598"
      },
      "outputs": [
        {
          "output_type": "stream",
          "name": "stdout",
          "text": [
            "Средняя оценка качества модели: 8.384296382461264\n"
          ]
        }
      ],
      "source": [
        "# Определим для него среднюю оценку качества модели методом кросс-валидации:\n",
        "\n",
        "scores = cross_val_score(model, features_train_final, target_train_final, cv=5, scoring=smape_score)\n",
        "smape_final = sum(scores)/len(scores)\n",
        "print('Средняя оценка качества модели:' , smape_final * -100)"
      ]
    },
    {
      "cell_type": "code",
      "execution_count": 49,
      "metadata": {
        "colab": {
          "base_uri": "https://localhost:8080/"
        },
        "id": "Spud94_Xgtdk",
        "outputId": "f7fc0004-c99a-4182-e320-339cb358332a"
      },
      "outputs": [
        {
          "output_type": "execute_result",
          "data": {
            "text/plain": [
              "7.747596180941664"
            ]
          },
          "metadata": {},
          "execution_count": 49
        }
      ],
      "source": [
        "# Рассчитаем итоговое sMAPE:\n",
        "\n",
        "smape_total = -25 * smape_rougher - 75 * smape_final\n",
        "smape_total"
      ]
    },
    {
      "cell_type": "code",
      "execution_count": 50,
      "metadata": {
        "colab": {
          "base_uri": "https://localhost:8080/"
        },
        "id": "d9-yHsMgbWXg",
        "outputId": "f27daf14-2360-4c81-f3ab-ae80e9b4c2e3"
      },
      "outputs": [
        {
          "output_type": "stream",
          "name": "stdout",
          "text": [
            "sMAPE наилучшей модели: 7.649941024566731 Количество узлов листьев: 5 Глубина дерева: 3\n"
          ]
        }
      ],
      "source": [
        "# Создадим вложенный цикл и определим глубину дерева и количество узлов листьев\n",
        "# для DecisionTreeRegressor при наилучшем значении sMAPE:\n",
        "\n",
        "best_model = None\n",
        "best_result = 10000\n",
        "best_leaf_nodes = 0\n",
        "best_depth = 0\n",
        "\n",
        "for nodes in range(2, 11):\n",
        "    for depth in range(2, 11):\n",
        "\n",
        "        model = DecisionTreeRegressor(random_state=12345, max_depth=depth, max_leaf_nodes=nodes)\n",
        "\n",
        "        model.fit(features_train_rougher, target_train_rougher)\n",
        "        predicted_train_rougher = model.predict(features_train_rougher)\n",
        "        scores = cross_val_score(model, features_train_rougher, target_train_rougher, cv=5, scoring=smape_score)\n",
        "        smape_rougher = sum(scores)/len(scores)\n",
        "\n",
        "        model.fit(features_train_final, target_train_final)\n",
        "        predicted_train_final = model.predict(features_train_final)\n",
        "        scores = cross_val_score(model, features_train_final, target_train_final, cv=5, scoring=smape_score)\n",
        "        smape_final = sum(scores)/len(scores)\n",
        "\n",
        "        result = -25 * smape_rougher - 75 * smape_final\n",
        "\n",
        "        if result < best_result:\n",
        "            best_model = model\n",
        "            best_result = result\n",
        "            best_leaf_nodes = nodes\n",
        "            best_depth = depth\n",
        "\n",
        "print(\"sMAPE наилучшей модели:\", best_result, \"Количество узлов листьев:\", best_leaf_nodes, \"Глубина дерева:\", best_depth)"
      ]
    },
    {
      "cell_type": "markdown",
      "metadata": {
        "id": "HAm6xyVTaTtW"
      },
      "source": [
        "**Вывод:** Наилучшим образом себя показала модель, обученная на основе решающего дерева количеством узлов листьев, равным 5-ти, и глубиной дерева, равной 3-м. Значение симметричного среднего абсолютного процентного отклонения на по результату кросс-валидации для нее составило 7,65."
      ]
    },
    {
      "cell_type": "markdown",
      "metadata": {
        "id": "9CxcqsxZxwZ6"
      },
      "source": [
        "**3.3 Проверка модели на тестовой выборке**"
      ]
    },
    {
      "cell_type": "code",
      "execution_count": 51,
      "metadata": {
        "colab": {
          "base_uri": "https://localhost:8080/"
        },
        "id": "4PT-1e6uawlB",
        "outputId": "659f767f-f738-4e07-a1eb-bdf812debacc"
      },
      "outputs": [
        {
          "output_type": "stream",
          "name": "stdout",
          "text": [
            "sMAPE: 0.06258978442728952\n"
          ]
        }
      ],
      "source": [
        "# Проверим наилучшую модель на тестовой выборке:\n",
        "\n",
        "model = DecisionTreeRegressor(random_state=12345, max_depth=3, max_leaf_nodes=5)\n",
        "\n",
        "model.fit(features_train_rougher, target_train_rougher)\n",
        "predicted_test_rougher = model.predict(features_test_rougher)\n",
        "smape_rougher = smape(target_test_rougher, predicted_test_rougher)\n",
        "\n",
        "model.fit(features_train_final, target_train_final)\n",
        "predicted_test_final = model.predict(features_test_final)\n",
        "smape_final = smape(target_test_final, predicted_test_final)\n",
        "\n",
        "smape_total = 0.25 * smape_rougher + 0.75 * smape_final\n",
        "\n",
        "print(\"sMAPE:\", smape_total)"
      ]
    },
    {
      "cell_type": "code",
      "execution_count": 52,
      "metadata": {
        "colab": {
          "base_uri": "https://localhost:8080/"
        },
        "id": "HiQMAaTrbmUy",
        "outputId": "ea00a359-5db2-4d25-bbbf-763fb1d1db2e"
      },
      "outputs": [
        {
          "output_type": "stream",
          "name": "stdout",
          "text": [
            "sMAPE: 0.09486609457738228\n"
          ]
        }
      ],
      "source": [
        "# Спрогнозируем значение sMAPE на константной модели:\n",
        "\n",
        "model = DummyRegressor(strategy=\"mean\")\n",
        "\n",
        "model.fit(features_train_rougher, target_train_rougher)\n",
        "predicted_train_rougher = model.predict(features_train_rougher)\n",
        "smape_rougher = smape(target_train_rougher, predicted_train_rougher)\n",
        "\n",
        "model.fit(features_train_final, target_train_final)\n",
        "predicted_train_final = model.predict(features_train_final)\n",
        "smape_final = smape(target_train_final, predicted_train_final)\n",
        "\n",
        "smape_total = 0.25 * smape_rougher + 0.75 * smape_final\n",
        "\n",
        "print(\"sMAPE:\", smape_total)"
      ]
    },
    {
      "cell_type": "markdown",
      "metadata": {
        "id": "LWidb3WgeGMr"
      },
      "source": [
        "**Вывод:** Качество предсказаний для тестовой выборки на выбранной модели заметно лучше, чем на модели, предсказывающей константу: 6,26 против 9,49-ти."
      ]
    },
    {
      "cell_type": "markdown",
      "metadata": {
        "id": "-ao_9GROr_9u"
      },
      "source": [
        "## Общий вывод"
      ]
    },
    {
      "cell_type": "markdown",
      "metadata": {
        "id": "tVSZnJobsExa"
      },
      "source": [
        "Средняя абсолютная ошибка между фактическим значением данных и значением, предсказанным моделью, крайне мала (9,735 x 10 в −15-ой степени). Из этого можно сделать вывод, что эффективность обогащения в данных рассчитана правильно.\n",
        "\n",
        "Отсутствие в тестовой выборке ряда признаков можно объяснить тем, что модель должна делать именно прогноз, то есть ей логично получать на вход только признаки на момент начала очистки.\n",
        "\n",
        "В ходе предобработки данных проведена проверка датасетов на наличие дубликатов. Пропущенные значения заменены медианными. В тестовый датасет добавлены целевые признаки. Удалены строки показателя эффективности с нулевыми значениями и выбросы показателей концентрации в тренировочной выборке. Также, из тренировочной удалены столбцы, которые отсутствуют в тестовой выборке. Из них выделены признаки и целевые признаки как для чернового, так и для финального концентратов.\n",
        "\n",
        "В ходе исследования получены следующие выводы:\n",
        "\n",
        "1) Концентрация серебра возрастает после флотации. Затем немного снижается после первичной очистки. И вновь возрастает после вторичной очистки. Концентрация золота заметно увеличивается с каждым следующим этапом очистки. Концентрация свинца заметно увеличивается после флотации. И остается приблизительно на одном уровне на последующих этапах очистки.\n",
        "\n",
        "2) Распределения гранул сырья на обучающей и тестовой выборках выглядят схожим образом. Можно предположить, что оценка модели будет верной.\n",
        "\n",
        "3) Суммарная концентрация всех веществ постепенно нарастает с каждым следующим этапом очистки. Со значительным приростом на финальной стадии.\n",
        "\n",
        "4) Наилучшим образом себя показала модель, обученная на основе решающего дерева количеством узлов листьев, равным 5-ти, и глубиной дерева, равной 3-м. Значение симметричного среднего абсолютного процентного отклонения на по результату кросс-валидации для нее составило 7,65.\n",
        "\n",
        "5) Качество предсказаний для тестовой выборки на выбранной модели заметно лучше, чем на модели, предсказывающей константу: 6,26 против 9,49-ти."
      ]
    }
  ],
  "metadata": {
    "ExecuteTimeLog": [
      {
        "duration": 2143,
        "start_time": "2023-04-13T23:20:33.945Z"
      },
      {
        "duration": 2510,
        "start_time": "2023-04-13T23:20:36.090Z"
      },
      {
        "duration": 25,
        "start_time": "2023-04-13T23:20:38.601Z"
      },
      {
        "duration": 16,
        "start_time": "2023-04-13T23:20:38.628Z"
      },
      {
        "duration": 20,
        "start_time": "2023-04-13T23:20:38.646Z"
      },
      {
        "duration": 13,
        "start_time": "2023-04-13T23:20:38.688Z"
      },
      {
        "duration": 20,
        "start_time": "2023-04-13T23:20:38.702Z"
      },
      {
        "duration": 25,
        "start_time": "2023-04-13T23:20:38.724Z"
      },
      {
        "duration": 124,
        "start_time": "2023-04-13T23:20:38.750Z"
      },
      {
        "duration": 12,
        "start_time": "2023-04-13T23:20:38.877Z"
      },
      {
        "duration": 87,
        "start_time": "2023-04-13T23:20:38.891Z"
      },
      {
        "duration": 20,
        "start_time": "2023-04-13T23:20:38.980Z"
      },
      {
        "duration": 16,
        "start_time": "2023-04-13T23:20:39.001Z"
      },
      {
        "duration": 12,
        "start_time": "2023-04-13T23:20:39.018Z"
      },
      {
        "duration": 11,
        "start_time": "2023-04-13T23:20:39.031Z"
      },
      {
        "duration": 7,
        "start_time": "2023-04-13T23:20:39.043Z"
      },
      {
        "duration": 10,
        "start_time": "2023-04-13T23:20:39.051Z"
      },
      {
        "duration": 4,
        "start_time": "2023-04-13T23:20:39.087Z"
      },
      {
        "duration": 9,
        "start_time": "2023-04-13T23:20:39.093Z"
      },
      {
        "duration": 13,
        "start_time": "2023-04-13T23:20:39.103Z"
      },
      {
        "duration": 8,
        "start_time": "2023-04-13T23:20:39.118Z"
      },
      {
        "duration": 166,
        "start_time": "2023-04-13T23:20:39.127Z"
      },
      {
        "duration": 199,
        "start_time": "2023-04-13T23:20:39.295Z"
      },
      {
        "duration": 511,
        "start_time": "2023-04-13T23:20:39.496Z"
      },
      {
        "duration": 405,
        "start_time": "2023-04-13T23:20:40.009Z"
      },
      {
        "duration": 350,
        "start_time": "2023-04-13T23:20:40.418Z"
      },
      {
        "duration": 331,
        "start_time": "2023-04-13T23:20:40.770Z"
      },
      {
        "duration": 334,
        "start_time": "2023-04-13T23:20:41.104Z"
      },
      {
        "duration": 308,
        "start_time": "2023-04-13T23:20:41.439Z"
      },
      {
        "duration": 408,
        "start_time": "2023-04-13T23:20:41.748Z"
      },
      {
        "duration": 303,
        "start_time": "2023-04-13T23:20:42.158Z"
      },
      {
        "duration": 309,
        "start_time": "2023-04-13T23:20:42.463Z"
      },
      {
        "duration": 332,
        "start_time": "2023-04-13T23:20:42.774Z"
      },
      {
        "duration": 421,
        "start_time": "2023-04-13T23:20:43.108Z"
      },
      {
        "duration": 330,
        "start_time": "2023-04-13T23:20:43.531Z"
      },
      {
        "duration": 311,
        "start_time": "2023-04-13T23:20:43.864Z"
      },
      {
        "duration": 317,
        "start_time": "2023-04-13T23:20:44.177Z"
      },
      {
        "duration": 448,
        "start_time": "2023-04-13T23:20:44.496Z"
      },
      {
        "duration": 317,
        "start_time": "2023-04-13T23:20:44.945Z"
      },
      {
        "duration": 5,
        "start_time": "2023-04-13T23:20:45.265Z"
      },
      {
        "duration": 354,
        "start_time": "2023-04-13T23:20:45.271Z"
      },
      {
        "duration": 5,
        "start_time": "2023-04-13T23:20:45.627Z"
      },
      {
        "duration": 308,
        "start_time": "2023-04-13T23:20:45.633Z"
      },
      {
        "duration": 6,
        "start_time": "2023-04-13T23:20:45.942Z"
      },
      {
        "duration": 332,
        "start_time": "2023-04-13T23:20:45.949Z"
      },
      {
        "duration": 5,
        "start_time": "2023-04-13T23:20:46.286Z"
      },
      {
        "duration": 479,
        "start_time": "2023-04-13T23:20:46.293Z"
      },
      {
        "duration": 5,
        "start_time": "2023-04-13T23:20:46.775Z"
      },
      {
        "duration": 25,
        "start_time": "2023-04-13T23:20:52.327Z"
      },
      {
        "duration": 2406,
        "start_time": "2023-04-16T18:09:45.323Z"
      },
      {
        "duration": 2034,
        "start_time": "2023-04-16T18:09:47.731Z"
      },
      {
        "duration": 33,
        "start_time": "2023-04-16T18:09:49.767Z"
      },
      {
        "duration": 20,
        "start_time": "2023-04-16T18:09:49.802Z"
      },
      {
        "duration": 45,
        "start_time": "2023-04-16T18:09:49.824Z"
      },
      {
        "duration": 21,
        "start_time": "2023-04-16T18:09:49.871Z"
      },
      {
        "duration": 54,
        "start_time": "2023-04-16T18:09:49.894Z"
      },
      {
        "duration": 30,
        "start_time": "2023-04-16T18:09:49.950Z"
      },
      {
        "duration": 9,
        "start_time": "2023-04-16T18:09:49.982Z"
      },
      {
        "duration": 17,
        "start_time": "2023-04-16T18:09:49.994Z"
      },
      {
        "duration": 35,
        "start_time": "2023-04-16T18:09:50.013Z"
      },
      {
        "duration": 185,
        "start_time": "2023-04-16T18:09:50.050Z"
      },
      {
        "duration": 36,
        "start_time": "2023-04-16T18:09:50.241Z"
      },
      {
        "duration": 120,
        "start_time": "2023-04-16T18:09:50.279Z"
      },
      {
        "duration": 78,
        "start_time": "2023-04-16T18:09:50.402Z"
      },
      {
        "duration": 33,
        "start_time": "2023-04-16T18:09:50.482Z"
      },
      {
        "duration": 96,
        "start_time": "2023-04-16T18:09:50.516Z"
      },
      {
        "duration": 4,
        "start_time": "2023-04-16T18:09:50.614Z"
      },
      {
        "duration": 57,
        "start_time": "2023-04-16T18:09:50.619Z"
      },
      {
        "duration": 23,
        "start_time": "2023-04-16T18:09:50.678Z"
      },
      {
        "duration": 7,
        "start_time": "2023-04-16T18:09:50.703Z"
      },
      {
        "duration": 50,
        "start_time": "2023-04-16T18:09:50.712Z"
      },
      {
        "duration": 31,
        "start_time": "2023-04-16T18:09:50.765Z"
      },
      {
        "duration": 6,
        "start_time": "2023-04-16T18:09:50.798Z"
      },
      {
        "duration": 16,
        "start_time": "2023-04-16T18:09:50.808Z"
      },
      {
        "duration": 41,
        "start_time": "2023-04-16T18:09:50.826Z"
      },
      {
        "duration": 24,
        "start_time": "2023-04-16T18:09:50.870Z"
      },
      {
        "duration": 26,
        "start_time": "2023-04-16T18:09:50.899Z"
      },
      {
        "duration": 45,
        "start_time": "2023-04-16T18:09:50.928Z"
      },
      {
        "duration": 1319,
        "start_time": "2023-04-16T18:09:51.824Z"
      },
      {
        "duration": 847,
        "start_time": "2023-04-16T18:09:53.145Z"
      },
      {
        "duration": 957,
        "start_time": "2023-04-16T18:09:53.994Z"
      },
      {
        "duration": 754,
        "start_time": "2023-04-16T18:09:54.953Z"
      },
      {
        "duration": 439,
        "start_time": "2023-04-16T18:09:55.710Z"
      },
      {
        "duration": 496,
        "start_time": "2023-04-16T18:10:09.784Z"
      }
    ],
    "colab": {
      "provenance": []
    },
    "kernelspec": {
      "display_name": "Python 3 (ipykernel)",
      "language": "python",
      "name": "python3"
    },
    "language_info": {
      "codemirror_mode": {
        "name": "ipython",
        "version": 3
      },
      "file_extension": ".py",
      "mimetype": "text/x-python",
      "name": "python",
      "nbconvert_exporter": "python",
      "pygments_lexer": "ipython3",
      "version": "3.9.5"
    },
    "toc": {
      "base_numbering": 1,
      "nav_menu": {},
      "number_sections": true,
      "sideBar": true,
      "skip_h1_title": true,
      "title_cell": "Содержание",
      "title_sidebar": "Contents",
      "toc_cell": true,
      "toc_position": {
        "height": "calc(100% - 180px)",
        "left": "10px",
        "top": "150px",
        "width": "165px"
      },
      "toc_section_display": true,
      "toc_window_display": true
    }
  },
  "nbformat": 4,
  "nbformat_minor": 0
}